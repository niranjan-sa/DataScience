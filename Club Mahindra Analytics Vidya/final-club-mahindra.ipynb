{
 "cells": [
  {
   "cell_type": "code",
   "execution_count": 1,
   "metadata": {
    "_cell_guid": "b1076dfc-b9ad-4769-8c92-a6c4dae69d19",
    "_uuid": "8f2839f25d086af736a60e9eeb907d3b93b6e0e5"
   },
   "outputs": [],
   "source": [
    "import numpy as np # linear algebra\n",
    "import pandas as pd # data processing, CSV file I/O (e.g. pd.read_csv)\n",
    "import os\n",
    "import seaborn as sns\n",
    "from sklearn.metrics import mean_squared_error, r2_score\n",
    "import matplotlib.pyplot as plt"
   ]
  },
  {
   "cell_type": "code",
   "execution_count": 2,
   "metadata": {
    "_cell_guid": "79c7e3d0-c299-4dcb-8224-4455121ee9b0",
    "_uuid": "d629ff2d2480ee46fbb7e2d37f6b5fab8052498a"
   },
   "outputs": [],
   "source": [
    "train = pd.read_csv('../input/train.csv', index_col='reservation_id', parse_dates=True)\n",
    "test = pd.read_csv('../input/test.csv', index_col='reservation_id', parse_dates=True)"
   ]
  },
  {
   "cell_type": "code",
   "execution_count": 3,
   "metadata": {},
   "outputs": [
    {
     "name": "stdout",
     "output_type": "stream",
     "text": [
      "(341424, 23)\n",
      "(146765, 22)\n"
     ]
    }
   ],
   "source": [
    "print (train.shape)\n",
    "print (test.shape)"
   ]
  },
  {
   "cell_type": "code",
   "execution_count": 4,
   "metadata": {},
   "outputs": [
    {
     "name": "stdout",
     "output_type": "stream",
     "text": [
      "booking_date                          0.000000\n",
      "checkin_date                          0.000000\n",
      "checkout_date                         0.000000\n",
      "channel_code                          0.000000\n",
      "main_product_code                     0.000000\n",
      "numberofadults                        0.000000\n",
      "numberofchildren                      0.000000\n",
      "persontravellingid                    0.000000\n",
      "resort_region_code                    0.000000\n",
      "resort_type_code                      0.000000\n",
      "room_type_booked_code                 0.000000\n",
      "roomnights                            0.000000\n",
      "season_holidayed_code                 0.033390\n",
      "state_code_residence                  1.395332\n",
      "state_code_resort                     0.000000\n",
      "total_pax                             0.000000\n",
      "member_age_buckets                    0.000000\n",
      "booking_type_code                     0.000000\n",
      "memberid                              0.000000\n",
      "cluster_code                          0.000000\n",
      "reservationstatusid_code              0.000000\n",
      "resort_id                             0.000000\n",
      "amount_spent_per_room_night_scaled    0.000000\n",
      "dtype: float64\n",
      "booking_date                0.000000\n",
      "checkin_date                0.000000\n",
      "checkout_date               0.000000\n",
      "channel_code                0.000000\n",
      "main_product_code           0.000000\n",
      "numberofadults              0.000000\n",
      "numberofchildren            0.000000\n",
      "persontravellingid          0.000000\n",
      "resort_region_code          0.000000\n",
      "resort_type_code            0.000000\n",
      "room_type_booked_code       0.000000\n",
      "roomnights                  0.000000\n",
      "season_holidayed_code       0.023848\n",
      "state_code_residence        1.539877\n",
      "state_code_resort           0.000000\n",
      "total_pax                   0.000000\n",
      "member_age_buckets          0.000000\n",
      "booking_type_code           0.000000\n",
      "memberid                    0.000000\n",
      "cluster_code                0.000000\n",
      "reservationstatusid_code    0.000000\n",
      "resort_id                   0.000000\n",
      "dtype: float64\n"
     ]
    }
   ],
   "source": [
    "print (train.isnull().sum()*100/train.shape[0])\n",
    "print (test.isnull().sum()*100/test.shape[0])"
   ]
  },
  {
   "cell_type": "code",
   "execution_count": 5,
   "metadata": {},
   "outputs": [],
   "source": [
    "def convert_year(x):\n",
    "    temp = x.split('/')\n",
    "    temp[2] = '20'+temp[2]\n",
    "    return '-'.join(temp)\n",
    "\n",
    "train['checkin_date'] = train['checkin_date'].astype('str').apply(lambda x: convert_year(x))\n",
    "train['checkout_date'] = train['checkout_date'].astype('str').apply(lambda x: convert_year(x))\n",
    "train['booking_date'] = train['booking_date'].astype('str').apply(lambda x: convert_year(x))\n",
    "\n",
    "test['checkin_date'] = test['checkin_date'].astype('str').apply(lambda x: convert_year(x))\n",
    "test['checkout_date'] = test['checkout_date'].astype('str').apply(lambda x: convert_year(x))\n",
    "test['booking_date'] = test['booking_date'].astype('str').apply(lambda x: convert_year(x))\n",
    "\n",
    "train['checkin_date'] = pd.to_datetime(train['checkin_date'])\n",
    "train['checkout_date'] = pd.to_datetime(train['checkout_date'])\n",
    "train['booking_date'] = pd.to_datetime(train['booking_date'])\n",
    "\n",
    "test['checkin_date'] = pd.to_datetime(test['checkin_date'])\n",
    "test['checkout_date'] = pd.to_datetime(test['checkout_date'])\n",
    "test['booking_date'] = pd.to_datetime(test['booking_date'])"
   ]
  },
  {
   "cell_type": "code",
   "execution_count": 6,
   "metadata": {},
   "outputs": [],
   "source": [
    "train['chkout_chkin_diff'] = (train['checkout_date']-train['checkin_date']).dt.days\n",
    "train['chkin_book_diff'] = (train['checkin_date']-train['booking_date']).dt.days\n",
    "\n",
    "test['chkout_chkin_diff'] = (test['checkout_date']-test['checkin_date']).dt.days\n",
    "test['chkin_book_diff'] = (test['checkin_date']-test['booking_date']).dt.days\n"
   ]
  },
  {
   "cell_type": "code",
   "execution_count": 7,
   "metadata": {},
   "outputs": [],
   "source": [
    "import datetime\n",
    "import pandas as pd\n",
    "from pandas_datareader import data\n",
    "import re\n",
    "\n",
    "def add_datepart(df, fldname, drop=True):\n",
    "    fld = df[fldname]\n",
    "    if not np.issubdtype(fld.dtype, np.datetime64):\n",
    "        df[fldname] = fld = pd.to_datetime(fld, infer_datetime_format=True)\n",
    "    targ_pre = re.sub('[Dd]ate$', '', fldname)\n",
    "    for n in ('Year', 'Month', 'Week', 'Day', 'Dayofweek', 'Dayofyear',\n",
    "            'Is_month_end', 'Is_month_start', 'Is_quarter_end', 'Is_quarter_start', 'Is_year_end', 'Is_year_start'):\n",
    "        df[targ_pre+n] = getattr(fld.dt,n.lower())\n",
    "    df[targ_pre+'Elapsed'] = fld.astype(np.int64) // 10**9\n",
    "    if drop: df.drop(fldname, axis=1, inplace=True)\n"
   ]
  },
  {
   "cell_type": "code",
   "execution_count": 8,
   "metadata": {},
   "outputs": [],
   "source": [
    "add_datepart(train, 'booking_date')\n",
    "add_datepart(test, 'booking_date')\n",
    "add_datepart(train, 'checkin_date')\n",
    "add_datepart(test, 'checkin_date')\n",
    "add_datepart(train, 'checkout_date')\n",
    "add_datepart(test, 'checkout_date')"
   ]
  },
  {
   "cell_type": "code",
   "execution_count": 9,
   "metadata": {},
   "outputs": [],
   "source": [
    "train['total_people'] = train['numberofadults'] + train['numberofchildren']\n",
    "test['total_people'] = test['numberofadults'] + test['numberofchildren']\n",
    "\n",
    "train['not_travelling'] = train['total_people'] - train['total_pax']\n",
    "test['not_travelling'] = test['total_people'] - test['total_pax']"
   ]
  },
  {
   "cell_type": "code",
   "execution_count": 10,
   "metadata": {},
   "outputs": [
    {
     "data": {
      "text/plain": [
       "<matplotlib.axes._subplots.AxesSubplot at 0x7f6b53e91780>"
      ]
     },
     "execution_count": 10,
     "metadata": {},
     "output_type": "execute_result"
    },
    {
     "data": {
      "image/png": "[encoded data removed]",
      "text/plain": [
       "<Figure size 432x288 with 2 Axes>"
      ]
     },
     "metadata": {},
     "output_type": "display_data"
    }
   ],
   "source": [
    "fig, axs = plt.subplots(ncols=2)\n",
    "sns.boxplot(x=train['chkout_chkin_diff'], orient='v', ax=axs[0])\n",
    "sns.boxplot(x=train['chkin_book_diff'], orient='v', ax=axs[1])"
   ]
  },
  {
   "cell_type": "code",
   "execution_count": 11,
   "metadata": {},
   "outputs": [],
   "source": [
    "train.loc[train.chkout_chkin_diff < 0, 'chkout_chkin_diff'] = 0\n",
    "train.loc[train.chkin_book_diff < 0, 'chkin_book_diff'] = 0\n",
    "test.loc[test.chkout_chkin_diff < 0, 'chkout_chkin_diff'] = 0\n",
    "test.loc[test.chkin_book_diff < 0, 'chkin_book_diff'] = 0"
   ]
  },
  {
   "cell_type": "code",
   "execution_count": 12,
   "metadata": {},
   "outputs": [
    {
     "data": {
      "text/plain": [
       "<matplotlib.axes._subplots.AxesSubplot at 0x7f6b5a00fda0>"
      ]
     },
     "execution_count": 12,
     "metadata": {},
     "output_type": "execute_result"
    },
    {
     "data": {
      "image/png": "[encoded data removed]",
      "text/plain": [
       "<Figure size 432x288 with 2 Axes>"
      ]
     },
     "metadata": {},
     "output_type": "display_data"
    }
   ],
   "source": [
    "fig, axs = plt.subplots(ncols=2)\n",
    "sns.boxplot(x=train['chkout_chkin_diff'], orient='v', ax=axs[0])\n",
    "sns.boxplot(x=train['chkin_book_diff'], orient='v', ax=axs[1])"
   ]
  },
  {
   "cell_type": "code",
   "execution_count": 13,
   "metadata": {},
   "outputs": [
    {
     "data": {
      "text/plain": [
       "<matplotlib.axes._subplots.AxesSubplot at 0x7f6b59afbf28>"
      ]
     },
     "execution_count": 13,
     "metadata": {},
     "output_type": "execute_result"
    },
    {
     "data": {
      "image/png": "[encoded data removed]",
      "text/plain": [
       "<Figure size 432x288 with 1 Axes>"
      ]
     },
     "metadata": {},
     "output_type": "display_data"
    }
   ],
   "source": [
    "sns.boxplot(x='not_travelling', data=train)"
   ]
  },
  {
   "cell_type": "code",
   "execution_count": 14,
   "metadata": {},
   "outputs": [],
   "source": [
    "train.loc[train.not_travelling < 0, 'not_travelling'] = 0\n",
    "train.loc[train.not_travelling < 0, 'not_travelling'] = 0\n",
    "test.loc[test.not_travelling < 0, 'not_travelling'] = 0\n",
    "test.loc[test.not_travelling < 0, 'not_travelling'] = 0"
   ]
  },
  {
   "cell_type": "code",
   "execution_count": 15,
   "metadata": {},
   "outputs": [
    {
     "data": {
      "text/plain": [
       "<matplotlib.axes._subplots.AxesSubplot at 0x7f6b59afbf60>"
      ]
     },
     "execution_count": 15,
     "metadata": {},
     "output_type": "execute_result"
    },
    {
     "data": {
      "image/png": "[encoded data removed]",
      "text/plain": [
       "<Figure size 432x288 with 1 Axes>"
      ]
     },
     "metadata": {},
     "output_type": "display_data"
    }
   ],
   "source": [
    "sns.boxplot(x='not_travelling', data=train)"
   ]
  },
  {
   "cell_type": "code",
   "execution_count": 16,
   "metadata": {},
   "outputs": [
    {
     "data": {
      "text/plain": [
       "<matplotlib.axes._subplots.AxesSubplot at 0x7f6b5d0af940>"
      ]
     },
     "execution_count": 16,
     "metadata": {},
     "output_type": "execute_result"
    },
    {
     "data": {
      "image/png": "[encoded data removed]",
      "text/plain": [
       "<Figure size 432x288 with 2 Axes>"
      ]
     },
     "metadata": {},
     "output_type": "display_data"
    }
   ],
   "source": [
    "fig, axs = plt.subplots(ncols=2)\n",
    "sns.boxplot(x=train['total_people'], orient='v', ax=axs[0])\n",
    "sns.boxplot(x=test['total_people'], orient='v', ax=axs[1])"
   ]
  },
  {
   "cell_type": "code",
   "execution_count": 17,
   "metadata": {},
   "outputs": [
    {
     "data": {
      "text/plain": [
       "<matplotlib.axes._subplots.AxesSubplot at 0x7f6b484e37b8>"
      ]
     },
     "execution_count": 17,
     "metadata": {},
     "output_type": "execute_result"
    },
    {
     "data": {
      "image/png": "[encoded data removed]",
      "text/plain": [
       "<Figure size 432x288 with 1 Axes>"
      ]
     },
     "metadata": {},
     "output_type": "display_data"
    }
   ],
   "source": [
    "sns.scatterplot(x='total_people', y='amount_spent_per_room_night_scaled', data=train)"
   ]
  },
  {
   "cell_type": "code",
   "execution_count": 18,
   "metadata": {},
   "outputs": [
    {
     "data": {
      "text/plain": [
       "<matplotlib.axes._subplots.AxesSubplot at 0x7f6b48db5978>"
      ]
     },
     "execution_count": 18,
     "metadata": {},
     "output_type": "execute_result"
    },
    {
     "data": {
      "image/png": "[encoded data removed]",
      "text/plain": [
       "<Figure size 432x288 with 1 Axes>"
      ]
     },
     "metadata": {},
     "output_type": "display_data"
    }
   ],
   "source": [
    "sns.boxplot(x='numberofadults', orient='h',data=train)"
   ]
  },
  {
   "cell_type": "code",
   "execution_count": 19,
   "metadata": {},
   "outputs": [
    {
     "data": {
      "text/plain": [
       "<matplotlib.axes._subplots.AxesSubplot at 0x7f6b47c294e0>"
      ]
     },
     "execution_count": 19,
     "metadata": {},
     "output_type": "execute_result"
    },
    {
     "data": {
      "image/png": "[encoded data removed]",
      "text/plain": [
       "<Figure size 432x288 with 1 Axes>"
      ]
     },
     "metadata": {},
     "output_type": "display_data"
    }
   ],
   "source": [
    "sns.scatterplot(x='numberofadults', y='amount_spent_per_room_night_scaled', data=train)"
   ]
  },
  {
   "cell_type": "code",
   "execution_count": 20,
   "metadata": {},
   "outputs": [
    {
     "data": {
      "text/plain": [
       "<matplotlib.axes._subplots.AxesSubplot at 0x7f6b4aa33710>"
      ]
     },
     "execution_count": 20,
     "metadata": {},
     "output_type": "execute_result"
    },
    {
     "data": {
      "image/png": "[encoded data removed]",
      "text/plain": [
       "<Figure size 432x288 with 1 Axes>"
      ]
     },
     "metadata": {},
     "output_type": "display_data"
    }
   ],
   "source": [
    "sns.boxplot(x='numberofchildren', orient='h',data=train)"
   ]
  },
  {
   "cell_type": "code",
   "execution_count": 21,
   "metadata": {},
   "outputs": [
    {
     "data": {
      "text/plain": [
       "<matplotlib.axes._subplots.AxesSubplot at 0x7f6b495d7898>"
      ]
     },
     "execution_count": 21,
     "metadata": {},
     "output_type": "execute_result"
    },
    {
     "data": {
      "image/png": "[encoded data removed]",
      "text/plain": [
       "<Figure size 432x288 with 1 Axes>"
      ]
     },
     "metadata": {},
     "output_type": "display_data"
    }
   ],
   "source": [
    "sns.scatterplot(x='numberofchildren', y='amount_spent_per_room_night_scaled', data=train)"
   ]
  },
  {
   "cell_type": "code",
   "execution_count": 22,
   "metadata": {},
   "outputs": [
    {
     "name": "stdout",
     "output_type": "stream",
     "text": [
      "Processing  channel_code\n",
      "Train uniques (3,)\n",
      "Test uniques (3,)\n",
      "Processing  main_product_code\n",
      "Train uniques (5,)\n",
      "Test uniques (5,)\n",
      "Processing  resort_region_code\n",
      "Train uniques (3,)\n",
      "Test uniques (3,)\n",
      "Processing  resort_type_code\n",
      "Train uniques (7,)\n",
      "Test uniques (7,)\n",
      "Processing  room_type_booked_code\n",
      "Train uniques (6,)\n",
      "Test uniques (6,)\n",
      "Processing  season_holidayed_code\n",
      "Train uniques (5,)\n",
      "Test uniques (5,)\n",
      "Processing  state_code_residence\n",
      "Train uniques (38,)\n",
      "Test uniques (38,)\n",
      "Processing  state_code_resort\n",
      "Train uniques (11,)\n",
      "Test uniques (11,)\n",
      "Processing  member_age_buckets\n",
      "Train uniques (10,)\n",
      "Test uniques (10,)\n",
      "Processing  booking_type_code\n",
      "Train uniques (2,)\n",
      "Test uniques (2,)\n",
      "Processing  cluster_code\n",
      "Train uniques (6,)\n",
      "Test uniques (6,)\n",
      "Processing  reservationstatusid_code\n",
      "Train uniques (4,)\n",
      "Test uniques (3,)\n",
      "Processing  resort_id\n",
      "Train uniques (32,)\n",
      "Test uniques (32,)\n",
      "Processing  persontravellingid\n",
      "Train uniques (6,)\n",
      "Test uniques (6,)\n",
      "Processing  channel_code\n",
      "Processing  main_product_code\n",
      "Processing  resort_region_code\n",
      "Processing  resort_type_code\n",
      "Processing  room_type_booked_code\n",
      "Processing  season_holidayed_code\n",
      "Processing  state_code_residence\n",
      "Processing  state_code_resort\n",
      "Processing  member_age_buckets\n",
      "Processing  booking_type_code\n",
      "Processing  cluster_code\n",
      "Processing  reservationstatusid_code\n",
      "Processing  resort_id\n",
      "Processing  persontravellingid\n"
     ]
    }
   ],
   "source": [
    "cat_vars = ['channel_code','main_product_code','resort_region_code','resort_type_code','room_type_booked_code','season_holidayed_code','state_code_residence','state_code_resort','member_age_buckets','booking_type_code','cluster_code','reservationstatusid_code',\n",
    "            'resort_id', 'persontravellingid']\n",
    "for col in cat_vars:\n",
    "    print ('Processing ', col)\n",
    "    print ('Train uniques', train[col].unique().shape)\n",
    "    print ('Test uniques', test[col].unique().shape)\n",
    "    train[col] = train[col].astype('str')\n",
    "    test[col] = test[col].astype('str')\n",
    "    \n",
    "from sklearn.preprocessing import LabelEncoder\n",
    "encoder = {}\n",
    "for col in cat_vars:\n",
    "    print ('Processing ', col)\n",
    "    le = LabelEncoder()\n",
    "    le.fit(train[col])\n",
    "    train[col] = le.transform(train[col])\n",
    "    for attr in test[col].unique().tolist():\n",
    "        if attr not in le.classes_:\n",
    "            le.classes_ = np.append(le.classes_, values=attr)\n",
    "    encoder[col] = le\n",
    "    test[col] = le.transform(test[col])\n",
    "    \n",
    "coe_train = train['checkout_Elapsed'][0]\n",
    "cie_train = train['checkin_Elapsed'][0]\n",
    "boe_train = train['booking_Elapsed'][0]\n",
    "train['checkout_Elapsed'] = train['checkout_Elapsed'] / coe_train\n",
    "test['checkout_Elapsed'] = test['checkout_Elapsed'] / coe_train\n",
    "train['checkin_Elapsed'] = train['checkin_Elapsed'] / cie_train\n",
    "test['checkin_Elapsed'] = test['checkin_Elapsed'] / cie_train\n",
    "train['booking_Elapsed'] = train['booking_Elapsed'] / boe_train\n",
    "test['booking_Elapsed'] = test['booking_Elapsed'] / boe_train"
   ]
  },
  {
   "cell_type": "code",
   "execution_count": 23,
   "metadata": {},
   "outputs": [],
   "source": [
    "train_params = ['channel_code',\n",
    "'main_product_code', \n",
    "'numberofadults', \n",
    "'numberofchildren', \n",
    "'persontravellingid', \n",
    "'resort_region_code', \n",
    "'resort_type_code', \n",
    "'room_type_booked_code', \n",
    "'roomnights', \n",
    "'season_holidayed_code', \n",
    "'state_code_residence', \n",
    "'state_code_resort', \n",
    "'total_pax', \n",
    "'member_age_buckets', \n",
    "'booking_type_code', \n",
    "'cluster_code', \n",
    "'reservationstatusid_code', \n",
    "'resort_id', \n",
    "'booking_Year', \n",
    "'booking_Month', \n",
    "'booking_Week', \n",
    "'booking_Day', \n",
    "'booking_Dayofweek', \n",
    "'booking_Dayofyear', \n",
    "'booking_Is_month_end', \n",
    "'booking_Is_month_start', \n",
    "'booking_Is_quarter_end', \n",
    "'booking_Is_quarter_start', \n",
    "'booking_Is_year_end', \n",
    "'booking_Is_year_start', \n",
    "'booking_Elapsed', \n",
    "'checkin_Year', \n",
    "'checkin_Month', \n",
    "'checkin_Week', \n",
    "'checkin_Day', \n",
    "'checkin_Dayofweek', \n",
    "'checkin_Dayofyear', \n",
    "'checkin_Is_month_end', \n",
    "'checkin_Is_month_start', \n",
    "'checkin_Is_quarter_end', \n",
    "'checkin_Is_quarter_start', \n",
    "'checkin_Is_year_end', \n",
    "'checkin_Is_year_start', \n",
    "'checkin_Elapsed', \n",
    "'checkout_Year', \n",
    "'checkout_Month', \n",
    "'checkout_Week', \n",
    "'checkout_Day', \n",
    "'checkout_Dayofweek', \n",
    "'checkout_Dayofyear', \n",
    "'checkout_Is_month_end', \n",
    "'checkout_Is_month_start', \n",
    "'checkout_Is_quarter_end', \n",
    "'checkout_Is_quarter_start', \n",
    "'checkout_Is_year_end', \n",
    "'checkout_Is_year_start', \n",
    "'checkout_Elapsed', \n",
    "'total_people',\n",
    "'not_travelling',\n",
    "'chkout_chkin_diff',\n",
    "'chkin_book_diff']\n",
    "\n",
    "from sklearn.model_selection import train_test_split\n",
    "\n",
    "X_train, X_test, y_train, y_test = train_test_split(train[train_params], train['amount_spent_per_room_night_scaled'], test_size = 0.20, random_state = 0)\n",
    "X_val, X_test, y_val, y_test = train_test_split(X_test, y_test, test_size = 0.5, random_state = 0)"
   ]
  },
  {
   "cell_type": "code",
   "execution_count": 24,
   "metadata": {},
   "outputs": [
    {
     "name": "stdout",
     "output_type": "stream",
     "text": [
      "Training and making predictions\n"
     ]
    }
   ],
   "source": [
    "import lightgbm as lgb\n",
    "\n",
    "print('Training and making predictions')\n",
    "params = {\n",
    "    'boosting_type': 'gbdt',\n",
    "    'objective': 'regression',\n",
    "    'metric': 'rmse',\n",
    "    'max_depth': 6, \n",
    "    'learning_rate': 0.05,\n",
    "    'verbose': 1, \n",
    "    'early_stopping_round': 2}\n",
    "n_estimators = 1000\n",
    "\n",
    "dtrain = lgb.Dataset(X_train, label=y_train)\n",
    "dvalid = lgb.Dataset(X_val, label=y_val)"
   ]
  },
  {
   "cell_type": "code",
   "execution_count": 25,
   "metadata": {},
   "outputs": [
    {
     "name": "stderr",
     "output_type": "stream",
     "text": [
      "/opt/conda/lib/python3.6/site-packages/lightgbm/engine.py:123: UserWarning: Found `early_stopping_round` in params. Will use it instead of argument\n",
      "  warnings.warn(\"Found `{}` in params. Will use it instead of argument\".format(alias))\n"
     ]
    },
    {
     "name": "stdout",
     "output_type": "stream",
     "text": [
      "[1]\tvalid_0's rmse: 1.09055\n",
      "Training until validation scores don't improve for 2 rounds.\n",
      "[2]\tvalid_0's rmse: 1.08626\n",
      "[3]\tvalid_0's rmse: 1.08241\n",
      "[4]\tvalid_0's rmse: 1.07901\n",
      "[5]\tvalid_0's rmse: 1.07611\n",
      "[6]\tvalid_0's rmse: 1.07346\n",
      "[7]\tvalid_0's rmse: 1.071\n",
      "[8]\tvalid_0's rmse: 1.06811\n",
      "[9]\tvalid_0's rmse: 1.0655\n",
      "[10]\tvalid_0's rmse: 1.06332\n",
      "[11]\tvalid_0's rmse: 1.06088\n",
      "[12]\tvalid_0's rmse: 1.05881\n",
      "[13]\tvalid_0's rmse: 1.05698\n",
      "[14]\tvalid_0's rmse: 1.0553\n",
      "[15]\tvalid_0's rmse: 1.05388\n",
      "[16]\tvalid_0's rmse: 1.05231\n",
      "[17]\tvalid_0's rmse: 1.05054\n",
      "[18]\tvalid_0's rmse: 1.04878\n",
      "[19]\tvalid_0's rmse: 1.04735\n",
      "[20]\tvalid_0's rmse: 1.04605\n",
      "[21]\tvalid_0's rmse: 1.04447\n",
      "[22]\tvalid_0's rmse: 1.04302\n",
      "[23]\tvalid_0's rmse: 1.04171\n",
      "[24]\tvalid_0's rmse: 1.04051\n",
      "[25]\tvalid_0's rmse: 1.0393\n",
      "[26]\tvalid_0's rmse: 1.0381\n",
      "[27]\tvalid_0's rmse: 1.03679\n",
      "[28]\tvalid_0's rmse: 1.03548\n",
      "[29]\tvalid_0's rmse: 1.03464\n",
      "[30]\tvalid_0's rmse: 1.03368\n",
      "[31]\tvalid_0's rmse: 1.03225\n",
      "[32]\tvalid_0's rmse: 1.03132\n",
      "[33]\tvalid_0's rmse: 1.02994\n",
      "[34]\tvalid_0's rmse: 1.02913\n",
      "[35]\tvalid_0's rmse: 1.0283\n",
      "[36]\tvalid_0's rmse: 1.02746\n",
      "[37]\tvalid_0's rmse: 1.02681\n",
      "[38]\tvalid_0's rmse: 1.02539\n",
      "[39]\tvalid_0's rmse: 1.02468\n",
      "[40]\tvalid_0's rmse: 1.02365\n",
      "[41]\tvalid_0's rmse: 1.02276\n",
      "[42]\tvalid_0's rmse: 1.02179\n",
      "[43]\tvalid_0's rmse: 1.02138\n",
      "[44]\tvalid_0's rmse: 1.02044\n",
      "[45]\tvalid_0's rmse: 1.0199\n",
      "[46]\tvalid_0's rmse: 1.01933\n",
      "[47]\tvalid_0's rmse: 1.01811\n",
      "[48]\tvalid_0's rmse: 1.01751\n",
      "[49]\tvalid_0's rmse: 1.01671\n",
      "[50]\tvalid_0's rmse: 1.0162\n",
      "[51]\tvalid_0's rmse: 1.01569\n",
      "[52]\tvalid_0's rmse: 1.01523\n",
      "[53]\tvalid_0's rmse: 1.0148\n",
      "[54]\tvalid_0's rmse: 1.01428\n",
      "[55]\tvalid_0's rmse: 1.01354\n",
      "[56]\tvalid_0's rmse: 1.01322\n",
      "[57]\tvalid_0's rmse: 1.01289\n",
      "[58]\tvalid_0's rmse: 1.01244\n",
      "[59]\tvalid_0's rmse: 1.01174\n",
      "[60]\tvalid_0's rmse: 1.01128\n",
      "[61]\tvalid_0's rmse: 1.01089\n",
      "[62]\tvalid_0's rmse: 1.01052\n",
      "[63]\tvalid_0's rmse: 1.01023\n",
      "[64]\tvalid_0's rmse: 1.00978\n",
      "[65]\tvalid_0's rmse: 1.00953\n",
      "[66]\tvalid_0's rmse: 1.00914\n",
      "[67]\tvalid_0's rmse: 1.0084\n",
      "[68]\tvalid_0's rmse: 1.0081\n",
      "[69]\tvalid_0's rmse: 1.00781\n",
      "[70]\tvalid_0's rmse: 1.00756\n",
      "[71]\tvalid_0's rmse: 1.00711\n",
      "[72]\tvalid_0's rmse: 1.00688\n",
      "[73]\tvalid_0's rmse: 1.00628\n",
      "[74]\tvalid_0's rmse: 1.006\n",
      "[75]\tvalid_0's rmse: 1.0057\n",
      "[76]\tvalid_0's rmse: 1.00515\n",
      "[77]\tvalid_0's rmse: 1.00491\n",
      "[78]\tvalid_0's rmse: 1.00466\n",
      "[79]\tvalid_0's rmse: 1.00439\n",
      "[80]\tvalid_0's rmse: 1.00424\n",
      "[81]\tvalid_0's rmse: 1.00376\n",
      "[82]\tvalid_0's rmse: 1.00356\n",
      "[83]\tvalid_0's rmse: 1.00336\n",
      "[84]\tvalid_0's rmse: 1.00321\n",
      "[85]\tvalid_0's rmse: 1.00288\n",
      "[86]\tvalid_0's rmse: 1.00273\n",
      "[87]\tvalid_0's rmse: 1.00234\n",
      "[88]\tvalid_0's rmse: 1.00222\n",
      "[89]\tvalid_0's rmse: 1.00207\n",
      "[90]\tvalid_0's rmse: 1.00179\n",
      "[91]\tvalid_0's rmse: 1.00156\n",
      "[92]\tvalid_0's rmse: 1.00136\n",
      "[93]\tvalid_0's rmse: 1.00091\n",
      "[94]\tvalid_0's rmse: 1.00078\n",
      "[95]\tvalid_0's rmse: 1.00043\n",
      "[96]\tvalid_0's rmse: 1.0003\n",
      "[97]\tvalid_0's rmse: 1.00013\n",
      "[98]\tvalid_0's rmse: 1.00003\n",
      "[99]\tvalid_0's rmse: 0.999679\n",
      "[100]\tvalid_0's rmse: 0.99958\n",
      "[101]\tvalid_0's rmse: 0.999409\n",
      "[102]\tvalid_0's rmse: 0.999259\n",
      "[103]\tvalid_0's rmse: 0.998964\n",
      "[104]\tvalid_0's rmse: 0.998857\n",
      "[105]\tvalid_0's rmse: 0.998722\n",
      "[106]\tvalid_0's rmse: 0.998666\n",
      "[107]\tvalid_0's rmse: 0.99856\n",
      "[108]\tvalid_0's rmse: 0.998394\n",
      "[109]\tvalid_0's rmse: 0.998133\n",
      "[110]\tvalid_0's rmse: 0.998025\n",
      "[111]\tvalid_0's rmse: 0.997886\n",
      "[112]\tvalid_0's rmse: 0.997749\n",
      "[113]\tvalid_0's rmse: 0.997576\n",
      "[114]\tvalid_0's rmse: 0.997486\n",
      "[115]\tvalid_0's rmse: 0.997382\n",
      "[116]\tvalid_0's rmse: 0.997143\n",
      "[117]\tvalid_0's rmse: 0.996964\n",
      "[118]\tvalid_0's rmse: 0.996895\n",
      "[119]\tvalid_0's rmse: 0.996642\n",
      "[120]\tvalid_0's rmse: 0.996592\n",
      "[121]\tvalid_0's rmse: 0.996511\n",
      "[122]\tvalid_0's rmse: 0.996433\n",
      "[123]\tvalid_0's rmse: 0.996348\n",
      "[124]\tvalid_0's rmse: 0.99617\n",
      "[125]\tvalid_0's rmse: 0.996034\n",
      "[126]\tvalid_0's rmse: 0.995942\n",
      "[127]\tvalid_0's rmse: 0.995824\n",
      "[128]\tvalid_0's rmse: 0.995759\n",
      "[129]\tvalid_0's rmse: 0.995656\n",
      "[130]\tvalid_0's rmse: 0.995442\n",
      "[131]\tvalid_0's rmse: 0.995351\n",
      "[132]\tvalid_0's rmse: 0.995256\n",
      "[133]\tvalid_0's rmse: 0.995213\n",
      "[134]\tvalid_0's rmse: 0.995116\n",
      "[135]\tvalid_0's rmse: 0.995063\n",
      "[136]\tvalid_0's rmse: 0.994964\n",
      "[137]\tvalid_0's rmse: 0.994785\n",
      "[138]\tvalid_0's rmse: 0.994698\n",
      "[139]\tvalid_0's rmse: 0.994635\n",
      "[140]\tvalid_0's rmse: 0.994452\n",
      "[141]\tvalid_0's rmse: 0.994194\n",
      "[142]\tvalid_0's rmse: 0.994163\n",
      "[143]\tvalid_0's rmse: 0.994026\n",
      "[144]\tvalid_0's rmse: 0.993953\n",
      "[145]\tvalid_0's rmse: 0.993784\n",
      "[146]\tvalid_0's rmse: 0.993693\n",
      "[147]\tvalid_0's rmse: 0.993571\n",
      "[148]\tvalid_0's rmse: 0.9934\n",
      "[149]\tvalid_0's rmse: 0.993355\n",
      "[150]\tvalid_0's rmse: 0.993252\n",
      "[151]\tvalid_0's rmse: 0.9932\n",
      "[152]\tvalid_0's rmse: 0.993174\n",
      "[153]\tvalid_0's rmse: 0.993045\n",
      "[154]\tvalid_0's rmse: 0.99302\n",
      "[155]\tvalid_0's rmse: 0.992948\n",
      "[156]\tvalid_0's rmse: 0.992879\n",
      "[157]\tvalid_0's rmse: 0.992775\n",
      "[158]\tvalid_0's rmse: 0.992719\n",
      "[159]\tvalid_0's rmse: 0.992578\n",
      "[160]\tvalid_0's rmse: 0.992521\n",
      "[161]\tvalid_0's rmse: 0.992471\n",
      "[162]\tvalid_0's rmse: 0.992455\n",
      "[163]\tvalid_0's rmse: 0.99243\n",
      "[164]\tvalid_0's rmse: 0.992316\n",
      "[165]\tvalid_0's rmse: 0.992147\n",
      "[166]\tvalid_0's rmse: 0.992018\n",
      "[167]\tvalid_0's rmse: 0.991908\n",
      "[168]\tvalid_0's rmse: 0.991855\n",
      "[169]\tvalid_0's rmse: 0.991746\n",
      "[170]\tvalid_0's rmse: 0.991699\n",
      "[171]\tvalid_0's rmse: 0.991627\n",
      "[172]\tvalid_0's rmse: 0.991524\n",
      "[173]\tvalid_0's rmse: 0.991482\n",
      "[174]\tvalid_0's rmse: 0.991363\n",
      "[175]\tvalid_0's rmse: 0.991303\n",
      "[176]\tvalid_0's rmse: 0.991279\n",
      "[177]\tvalid_0's rmse: 0.991263\n",
      "[178]\tvalid_0's rmse: 0.991248\n",
      "[179]\tvalid_0's rmse: 0.991173\n",
      "[180]\tvalid_0's rmse: 0.991021\n",
      "[181]\tvalid_0's rmse: 0.990947\n",
      "[182]\tvalid_0's rmse: 0.99087\n",
      "[183]\tvalid_0's rmse: 0.990855\n",
      "[184]\tvalid_0's rmse: 0.990812\n",
      "[185]\tvalid_0's rmse: 0.990741\n",
      "[186]\tvalid_0's rmse: 0.990656\n",
      "[187]\tvalid_0's rmse: 0.990626\n",
      "[188]\tvalid_0's rmse: 0.990607\n",
      "[189]\tvalid_0's rmse: 0.990533\n",
      "[190]\tvalid_0's rmse: 0.990517\n",
      "[191]\tvalid_0's rmse: 0.990461\n",
      "[192]\tvalid_0's rmse: 0.990442\n",
      "[193]\tvalid_0's rmse: 0.990391\n",
      "[194]\tvalid_0's rmse: 0.990359\n",
      "[195]\tvalid_0's rmse: 0.990246\n",
      "[196]\tvalid_0's rmse: 0.990204\n",
      "[197]\tvalid_0's rmse: 0.990204\n",
      "[198]\tvalid_0's rmse: 0.990121\n",
      "[199]\tvalid_0's rmse: 0.990078\n",
      "[200]\tvalid_0's rmse: 0.990032\n",
      "[201]\tvalid_0's rmse: 0.989934\n",
      "[202]\tvalid_0's rmse: 0.989866\n",
      "[203]\tvalid_0's rmse: 0.989838\n",
      "[204]\tvalid_0's rmse: 0.989849\n",
      "[205]\tvalid_0's rmse: 0.989814\n",
      "[206]\tvalid_0's rmse: 0.989732\n",
      "[207]\tvalid_0's rmse: 0.989713\n",
      "[208]\tvalid_0's rmse: 0.989693\n",
      "[209]\tvalid_0's rmse: 0.989654\n",
      "[210]\tvalid_0's rmse: 0.989634\n",
      "[211]\tvalid_0's rmse: 0.989594\n",
      "[212]\tvalid_0's rmse: 0.989542\n",
      "[213]\tvalid_0's rmse: 0.989502\n",
      "[214]\tvalid_0's rmse: 0.98947\n",
      "[215]\tvalid_0's rmse: 0.989427\n",
      "[216]\tvalid_0's rmse: 0.989392\n",
      "[217]\tvalid_0's rmse: 0.989317\n",
      "[218]\tvalid_0's rmse: 0.989308\n",
      "[219]\tvalid_0's rmse: 0.989271\n",
      "[220]\tvalid_0's rmse: 0.989245\n",
      "[221]\tvalid_0's rmse: 0.989222\n",
      "[222]\tvalid_0's rmse: 0.989217\n",
      "[223]\tvalid_0's rmse: 0.989157\n",
      "[224]\tvalid_0's rmse: 0.989155\n",
      "[225]\tvalid_0's rmse: 0.989102\n",
      "[226]\tvalid_0's rmse: 0.989053\n",
      "[227]\tvalid_0's rmse: 0.989033\n",
      "[228]\tvalid_0's rmse: 0.989036\n",
      "[229]\tvalid_0's rmse: 0.988989\n",
      "[230]\tvalid_0's rmse: 0.988977\n",
      "[231]\tvalid_0's rmse: 0.988936\n",
      "[232]\tvalid_0's rmse: 0.988912\n",
      "[233]\tvalid_0's rmse: 0.988911\n",
      "[234]\tvalid_0's rmse: 0.98891\n",
      "[235]\tvalid_0's rmse: 0.988874\n",
      "[236]\tvalid_0's rmse: 0.98883\n",
      "[237]\tvalid_0's rmse: 0.988805\n",
      "[238]\tvalid_0's rmse: 0.988781\n",
      "[239]\tvalid_0's rmse: 0.988737\n",
      "[240]\tvalid_0's rmse: 0.988697\n",
      "[241]\tvalid_0's rmse: 0.988672\n",
      "[242]\tvalid_0's rmse: 0.988668\n",
      "[243]\tvalid_0's rmse: 0.988642\n",
      "[244]\tvalid_0's rmse: 0.988637\n",
      "[245]\tvalid_0's rmse: 0.988629\n",
      "[246]\tvalid_0's rmse: 0.988617\n",
      "[247]\tvalid_0's rmse: 0.988609\n",
      "[248]\tvalid_0's rmse: 0.988589\n",
      "[249]\tvalid_0's rmse: 0.988587\n",
      "[250]\tvalid_0's rmse: 0.988532\n",
      "[251]\tvalid_0's rmse: 0.988502\n",
      "[252]\tvalid_0's rmse: 0.988468\n",
      "[253]\tvalid_0's rmse: 0.988447\n",
      "[254]\tvalid_0's rmse: 0.988424\n",
      "[255]\tvalid_0's rmse: 0.988426\n",
      "[256]\tvalid_0's rmse: 0.988414\n",
      "[257]\tvalid_0's rmse: 0.988399\n",
      "[258]\tvalid_0's rmse: 0.988374\n",
      "[259]\tvalid_0's rmse: 0.988338\n",
      "[260]\tvalid_0's rmse: 0.988321\n",
      "[261]\tvalid_0's rmse: 0.988305\n",
      "[262]\tvalid_0's rmse: 0.988291\n",
      "[263]\tvalid_0's rmse: 0.98829\n",
      "[264]\tvalid_0's rmse: 0.988283\n",
      "[265]\tvalid_0's rmse: 0.98824\n",
      "[266]\tvalid_0's rmse: 0.988214\n",
      "[267]\tvalid_0's rmse: 0.98821\n",
      "[268]\tvalid_0's rmse: 0.988192\n",
      "[269]\tvalid_0's rmse: 0.988176\n",
      "[270]\tvalid_0's rmse: 0.988168\n",
      "[271]\tvalid_0's rmse: 0.988112\n",
      "[272]\tvalid_0's rmse: 0.988104\n",
      "[273]\tvalid_0's rmse: 0.988089\n",
      "[274]\tvalid_0's rmse: 0.988069\n",
      "[275]\tvalid_0's rmse: 0.988061\n",
      "[276]\tvalid_0's rmse: 0.988062\n",
      "[277]\tvalid_0's rmse: 0.98805\n",
      "[278]\tvalid_0's rmse: 0.98802\n",
      "[279]\tvalid_0's rmse: 0.987999\n",
      "[280]\tvalid_0's rmse: 0.987939\n",
      "[281]\tvalid_0's rmse: 0.987936\n",
      "[282]\tvalid_0's rmse: 0.987912\n",
      "[283]\tvalid_0's rmse: 0.987887\n",
      "[284]\tvalid_0's rmse: 0.987855\n",
      "[285]\tvalid_0's rmse: 0.987831\n",
      "[286]\tvalid_0's rmse: 0.987812\n",
      "[287]\tvalid_0's rmse: 0.987789\n",
      "[288]\tvalid_0's rmse: 0.987768\n",
      "[289]\tvalid_0's rmse: 0.987762\n",
      "[290]\tvalid_0's rmse: 0.98776\n",
      "[291]\tvalid_0's rmse: 0.987744\n",
      "[292]\tvalid_0's rmse: 0.987718\n",
      "[293]\tvalid_0's rmse: 0.987711\n",
      "[294]\tvalid_0's rmse: 0.9877\n",
      "[295]\tvalid_0's rmse: 0.987672\n",
      "[296]\tvalid_0's rmse: 0.987671\n",
      "[297]\tvalid_0's rmse: 0.987671\n",
      "[298]\tvalid_0's rmse: 0.987652\n",
      "[299]\tvalid_0's rmse: 0.987658\n",
      "[300]\tvalid_0's rmse: 0.987608\n",
      "[301]\tvalid_0's rmse: 0.98758\n",
      "[302]\tvalid_0's rmse: 0.987541\n",
      "[303]\tvalid_0's rmse: 0.987549\n",
      "[304]\tvalid_0's rmse: 0.987524\n",
      "[305]\tvalid_0's rmse: 0.987516\n",
      "[306]\tvalid_0's rmse: 0.987519\n",
      "[307]\tvalid_0's rmse: 0.987503\n",
      "[308]\tvalid_0's rmse: 0.98749\n",
      "[309]\tvalid_0's rmse: 0.987484\n",
      "[310]\tvalid_0's rmse: 0.987447\n",
      "[311]\tvalid_0's rmse: 0.987417\n",
      "[312]\tvalid_0's rmse: 0.987409\n",
      "[313]\tvalid_0's rmse: 0.987369\n",
      "[314]\tvalid_0's rmse: 0.987364\n",
      "[315]\tvalid_0's rmse: 0.987356\n",
      "[316]\tvalid_0's rmse: 0.98734\n",
      "[317]\tvalid_0's rmse: 0.987295\n",
      "[318]\tvalid_0's rmse: 0.987278\n",
      "[319]\tvalid_0's rmse: 0.987286\n",
      "[320]\tvalid_0's rmse: 0.987269\n",
      "[321]\tvalid_0's rmse: 0.987254\n",
      "[322]\tvalid_0's rmse: 0.98723\n",
      "[323]\tvalid_0's rmse: 0.987221\n",
      "[324]\tvalid_0's rmse: 0.987217\n",
      "[325]\tvalid_0's rmse: 0.987216\n",
      "[326]\tvalid_0's rmse: 0.987213\n",
      "[327]\tvalid_0's rmse: 0.987206\n",
      "[328]\tvalid_0's rmse: 0.987177\n",
      "[329]\tvalid_0's rmse: 0.987159\n",
      "[330]\tvalid_0's rmse: 0.987111\n",
      "[331]\tvalid_0's rmse: 0.987092\n",
      "[332]\tvalid_0's rmse: 0.987104\n",
      "[333]\tvalid_0's rmse: 0.987064\n",
      "[334]\tvalid_0's rmse: 0.987051\n",
      "[335]\tvalid_0's rmse: 0.987005\n",
      "[336]\tvalid_0's rmse: 0.987012\n",
      "[337]\tvalid_0's rmse: 0.986992\n",
      "[338]\tvalid_0's rmse: 0.986986\n",
      "[339]\tvalid_0's rmse: 0.986973\n",
      "[340]\tvalid_0's rmse: 0.986954\n",
      "[341]\tvalid_0's rmse: 0.986967\n",
      "[342]\tvalid_0's rmse: 0.986932\n",
      "[343]\tvalid_0's rmse: 0.986888\n",
      "[344]\tvalid_0's rmse: 0.986869\n",
      "[345]\tvalid_0's rmse: 0.986854\n",
      "[346]\tvalid_0's rmse: 0.986848\n",
      "[347]\tvalid_0's rmse: 0.986839\n",
      "[348]\tvalid_0's rmse: 0.986837\n",
      "[349]\tvalid_0's rmse: 0.986828\n",
      "[350]\tvalid_0's rmse: 0.986812\n",
      "[351]\tvalid_0's rmse: 0.98681\n",
      "[352]\tvalid_0's rmse: 0.986805\n",
      "[353]\tvalid_0's rmse: 0.986772\n",
      "[354]\tvalid_0's rmse: 0.986751\n",
      "[355]\tvalid_0's rmse: 0.986733\n",
      "[356]\tvalid_0's rmse: 0.986738\n",
      "[357]\tvalid_0's rmse: 0.986743\n",
      "Early stopping, best iteration is:\n",
      "[355]\tvalid_0's rmse: 0.986733\n"
     ]
    }
   ],
   "source": [
    "watchlist = [dvalid]\n",
    "model_1 = lgb.train(params, dtrain, n_estimators, watchlist, verbose_eval=1)"
   ]
  },
  {
   "cell_type": "code",
   "execution_count": 26,
   "metadata": {},
   "outputs": [
    {
     "ename": "NameError",
     "evalue": "name 'test_model' is not defined",
     "output_type": "error",
     "traceback": [
      "\u001b[0;31m---------------------------------------------------------------------------\u001b[0m",
      "\u001b[0;31mNameError\u001b[0m                                 Traceback (most recent call last)",
      "\u001b[0;32m<ipython-input-26-e2b49203acec>\u001b[0m in \u001b[0;36m<module>\u001b[0;34m()\u001b[0m\n\u001b[0;32m----> 1\u001b[0;31m \u001b[0mtest_model\u001b[0m\u001b[0;34m(\u001b[0m\u001b[0mmodel_1\u001b[0m\u001b[0;34m)\u001b[0m\u001b[0;34m\u001b[0m\u001b[0m\n\u001b[0m",
      "\u001b[0;31mNameError\u001b[0m: name 'test_model' is not defined"
     ]
    }
   ],
   "source": [
    "test_model(model_1)"
   ]
  },
  {
   "cell_type": "code",
   "execution_count": 27,
   "metadata": {},
   "outputs": [
    {
     "name": "stderr",
     "output_type": "stream",
     "text": [
      "/opt/conda/lib/python3.6/site-packages/lightgbm/engine.py:123: UserWarning: Found `early_stopping_round` in params. Will use it instead of argument\n",
      "  warnings.warn(\"Found `{}` in params. Will use it instead of argument\".format(alias))\n"
     ]
    },
    {
     "name": "stdout",
     "output_type": "stream",
     "text": [
      "[1]\tvalid_0's rmse: 1.07644\n",
      "Training until validation scores don't improve for 2 rounds.\n",
      "[2]\tvalid_0's rmse: 1.07218\n",
      "[3]\tvalid_0's rmse: 1.06869\n",
      "[4]\tvalid_0's rmse: 1.06535\n",
      "[5]\tvalid_0's rmse: 1.06197\n",
      "[6]\tvalid_0's rmse: 1.05914\n",
      "[7]\tvalid_0's rmse: 1.05666\n",
      "[8]\tvalid_0's rmse: 1.0543\n",
      "[9]\tvalid_0's rmse: 1.05175\n",
      "[10]\tvalid_0's rmse: 1.04938\n",
      "[11]\tvalid_0's rmse: 1.04729\n",
      "[12]\tvalid_0's rmse: 1.04498\n",
      "[13]\tvalid_0's rmse: 1.04285\n",
      "[14]\tvalid_0's rmse: 1.04112\n",
      "[15]\tvalid_0's rmse: 1.03924\n",
      "[16]\tvalid_0's rmse: 1.03757\n",
      "[17]\tvalid_0's rmse: 1.0361\n",
      "[18]\tvalid_0's rmse: 1.03472\n",
      "[19]\tvalid_0's rmse: 1.03348\n",
      "[20]\tvalid_0's rmse: 1.03199\n",
      "[21]\tvalid_0's rmse: 1.03039\n",
      "[22]\tvalid_0's rmse: 1.02919\n",
      "[23]\tvalid_0's rmse: 1.02795\n",
      "[24]\tvalid_0's rmse: 1.02643\n",
      "[25]\tvalid_0's rmse: 1.02526\n",
      "[26]\tvalid_0's rmse: 1.02367\n",
      "[27]\tvalid_0's rmse: 1.02228\n",
      "[28]\tvalid_0's rmse: 1.02112\n",
      "[29]\tvalid_0's rmse: 1.01999\n",
      "[30]\tvalid_0's rmse: 1.01895\n",
      "[31]\tvalid_0's rmse: 1.01791\n",
      "[32]\tvalid_0's rmse: 1.01716\n",
      "[33]\tvalid_0's rmse: 1.0163\n",
      "[34]\tvalid_0's rmse: 1.01562\n",
      "[35]\tvalid_0's rmse: 1.01432\n",
      "[36]\tvalid_0's rmse: 1.01362\n",
      "[37]\tvalid_0's rmse: 1.01284\n",
      "[38]\tvalid_0's rmse: 1.01213\n",
      "[39]\tvalid_0's rmse: 1.01108\n",
      "[40]\tvalid_0's rmse: 1.01026\n",
      "[41]\tvalid_0's rmse: 1.00961\n",
      "[42]\tvalid_0's rmse: 1.00852\n",
      "[43]\tvalid_0's rmse: 1.00771\n",
      "[44]\tvalid_0's rmse: 1.00712\n",
      "[45]\tvalid_0's rmse: 1.00649\n",
      "[46]\tvalid_0's rmse: 1.00598\n",
      "[47]\tvalid_0's rmse: 1.0047\n",
      "[48]\tvalid_0's rmse: 1.00393\n",
      "[49]\tvalid_0's rmse: 1.00352\n",
      "[50]\tvalid_0's rmse: 1.0031\n",
      "[51]\tvalid_0's rmse: 1.00235\n",
      "[52]\tvalid_0's rmse: 1.00205\n",
      "[53]\tvalid_0's rmse: 1.00139\n",
      "[54]\tvalid_0's rmse: 1.00102\n",
      "[55]\tvalid_0's rmse: 1.00054\n",
      "[56]\tvalid_0's rmse: 1.00026\n",
      "[57]\tvalid_0's rmse: 0.999616\n",
      "[58]\tvalid_0's rmse: 0.999027\n",
      "[59]\tvalid_0's rmse: 0.998581\n",
      "[60]\tvalid_0's rmse: 0.997852\n",
      "[61]\tvalid_0's rmse: 0.997534\n",
      "[62]\tvalid_0's rmse: 0.997134\n",
      "[63]\tvalid_0's rmse: 0.996853\n",
      "[64]\tvalid_0's rmse: 0.996186\n",
      "[65]\tvalid_0's rmse: 0.995867\n",
      "[66]\tvalid_0's rmse: 0.995509\n",
      "[67]\tvalid_0's rmse: 0.995314\n",
      "[68]\tvalid_0's rmse: 0.994792\n",
      "[69]\tvalid_0's rmse: 0.994041\n",
      "[70]\tvalid_0's rmse: 0.993816\n",
      "[71]\tvalid_0's rmse: 0.993553\n",
      "[72]\tvalid_0's rmse: 0.993334\n",
      "[73]\tvalid_0's rmse: 0.992644\n",
      "[74]\tvalid_0's rmse: 0.992452\n",
      "[75]\tvalid_0's rmse: 0.992139\n",
      "[76]\tvalid_0's rmse: 0.991736\n",
      "[77]\tvalid_0's rmse: 0.991523\n",
      "[78]\tvalid_0's rmse: 0.990954\n",
      "[79]\tvalid_0's rmse: 0.990783\n",
      "[80]\tvalid_0's rmse: 0.990587\n",
      "[81]\tvalid_0's rmse: 0.99031\n",
      "[82]\tvalid_0's rmse: 0.990091\n",
      "[83]\tvalid_0's rmse: 0.989968\n",
      "[84]\tvalid_0's rmse: 0.989717\n",
      "[85]\tvalid_0's rmse: 0.989462\n",
      "[86]\tvalid_0's rmse: 0.989298\n",
      "[87]\tvalid_0's rmse: 0.989151\n",
      "[88]\tvalid_0's rmse: 0.988837\n",
      "[89]\tvalid_0's rmse: 0.988511\n",
      "[90]\tvalid_0's rmse: 0.988367\n",
      "[91]\tvalid_0's rmse: 0.988274\n",
      "[92]\tvalid_0's rmse: 0.9878\n",
      "[93]\tvalid_0's rmse: 0.987651\n",
      "[94]\tvalid_0's rmse: 0.98747\n",
      "[95]\tvalid_0's rmse: 0.987359\n",
      "[96]\tvalid_0's rmse: 0.986923\n",
      "[97]\tvalid_0's rmse: 0.986832\n",
      "[98]\tvalid_0's rmse: 0.986725\n",
      "[99]\tvalid_0's rmse: 0.986567\n",
      "[100]\tvalid_0's rmse: 0.986249\n",
      "[101]\tvalid_0's rmse: 0.985967\n",
      "[102]\tvalid_0's rmse: 0.98586\n",
      "[103]\tvalid_0's rmse: 0.985736\n",
      "[104]\tvalid_0's rmse: 0.985631\n",
      "[105]\tvalid_0's rmse: 0.985553\n",
      "[106]\tvalid_0's rmse: 0.985278\n",
      "[107]\tvalid_0's rmse: 0.984998\n",
      "[108]\tvalid_0's rmse: 0.984886\n",
      "[109]\tvalid_0's rmse: 0.984773\n",
      "[110]\tvalid_0's rmse: 0.984635\n",
      "[111]\tvalid_0's rmse: 0.984425\n",
      "[112]\tvalid_0's rmse: 0.984366\n",
      "[113]\tvalid_0's rmse: 0.984114\n",
      "[114]\tvalid_0's rmse: 0.983987\n",
      "[115]\tvalid_0's rmse: 0.983884\n",
      "[116]\tvalid_0's rmse: 0.983749\n",
      "[117]\tvalid_0's rmse: 0.983643\n",
      "[118]\tvalid_0's rmse: 0.983563\n",
      "[119]\tvalid_0's rmse: 0.983342\n",
      "[120]\tvalid_0's rmse: 0.983213\n",
      "[121]\tvalid_0's rmse: 0.983097\n",
      "[122]\tvalid_0's rmse: 0.983017\n",
      "[123]\tvalid_0's rmse: 0.982915\n",
      "[124]\tvalid_0's rmse: 0.982731\n",
      "[125]\tvalid_0's rmse: 0.982554\n",
      "[126]\tvalid_0's rmse: 0.98249\n",
      "[127]\tvalid_0's rmse: 0.982444\n",
      "[128]\tvalid_0's rmse: 0.982208\n",
      "[129]\tvalid_0's rmse: 0.982112\n",
      "[130]\tvalid_0's rmse: 0.982053\n",
      "[131]\tvalid_0's rmse: 0.982019\n",
      "[132]\tvalid_0's rmse: 0.981919\n",
      "[133]\tvalid_0's rmse: 0.981843\n",
      "[134]\tvalid_0's rmse: 0.98178\n",
      "[135]\tvalid_0's rmse: 0.981711\n",
      "[136]\tvalid_0's rmse: 0.981505\n",
      "[137]\tvalid_0's rmse: 0.981452\n",
      "[138]\tvalid_0's rmse: 0.981433\n",
      "[139]\tvalid_0's rmse: 0.981243\n",
      "[140]\tvalid_0's rmse: 0.981088\n",
      "[141]\tvalid_0's rmse: 0.98092\n",
      "[142]\tvalid_0's rmse: 0.980796\n",
      "[143]\tvalid_0's rmse: 0.980737\n",
      "[144]\tvalid_0's rmse: 0.980581\n",
      "[145]\tvalid_0's rmse: 0.980565\n",
      "[146]\tvalid_0's rmse: 0.980448\n",
      "[147]\tvalid_0's rmse: 0.980365\n",
      "[148]\tvalid_0's rmse: 0.980341\n",
      "[149]\tvalid_0's rmse: 0.980173\n",
      "[150]\tvalid_0's rmse: 0.98013\n",
      "[151]\tvalid_0's rmse: 0.98008\n",
      "[152]\tvalid_0's rmse: 0.980034\n",
      "[153]\tvalid_0's rmse: 0.979892\n",
      "[154]\tvalid_0's rmse: 0.979849\n",
      "[155]\tvalid_0's rmse: 0.979825\n",
      "[156]\tvalid_0's rmse: 0.979673\n",
      "[157]\tvalid_0's rmse: 0.979624\n",
      "[158]\tvalid_0's rmse: 0.979588\n",
      "[159]\tvalid_0's rmse: 0.979458\n",
      "[160]\tvalid_0's rmse: 0.979388\n",
      "[161]\tvalid_0's rmse: 0.97934\n",
      "[162]\tvalid_0's rmse: 0.979298\n",
      "[163]\tvalid_0's rmse: 0.97928\n",
      "[164]\tvalid_0's rmse: 0.979188\n",
      "[165]\tvalid_0's rmse: 0.979065\n",
      "[166]\tvalid_0's rmse: 0.979022\n",
      "[167]\tvalid_0's rmse: 0.978891\n",
      "[168]\tvalid_0's rmse: 0.978868\n",
      "[169]\tvalid_0's rmse: 0.978774\n",
      "[170]\tvalid_0's rmse: 0.978759\n",
      "[171]\tvalid_0's rmse: 0.978743\n",
      "[172]\tvalid_0's rmse: 0.978724\n",
      "[173]\tvalid_0's rmse: 0.978644\n",
      "[174]\tvalid_0's rmse: 0.978613\n",
      "[175]\tvalid_0's rmse: 0.978563\n",
      "[176]\tvalid_0's rmse: 0.978471\n",
      "[177]\tvalid_0's rmse: 0.978448\n",
      "[178]\tvalid_0's rmse: 0.978404\n",
      "[179]\tvalid_0's rmse: 0.97839\n",
      "[180]\tvalid_0's rmse: 0.978367\n",
      "[181]\tvalid_0's rmse: 0.97829\n",
      "[182]\tvalid_0's rmse: 0.97823\n",
      "[183]\tvalid_0's rmse: 0.978161\n",
      "[184]\tvalid_0's rmse: 0.978093\n",
      "[185]\tvalid_0's rmse: 0.978052\n",
      "[186]\tvalid_0's rmse: 0.97805\n",
      "[187]\tvalid_0's rmse: 0.977936\n",
      "[188]\tvalid_0's rmse: 0.977878\n",
      "[189]\tvalid_0's rmse: 0.977866\n",
      "[190]\tvalid_0's rmse: 0.977825\n",
      "[191]\tvalid_0's rmse: 0.977812\n",
      "[192]\tvalid_0's rmse: 0.977778\n",
      "[193]\tvalid_0's rmse: 0.97775\n",
      "[194]\tvalid_0's rmse: 0.977708\n",
      "[195]\tvalid_0's rmse: 0.977674\n",
      "[196]\tvalid_0's rmse: 0.977562\n",
      "[197]\tvalid_0's rmse: 0.977511\n",
      "[198]\tvalid_0's rmse: 0.977438\n",
      "[199]\tvalid_0's rmse: 0.977414\n",
      "[200]\tvalid_0's rmse: 0.977392\n",
      "[201]\tvalid_0's rmse: 0.977326\n",
      "[202]\tvalid_0's rmse: 0.977287\n",
      "[203]\tvalid_0's rmse: 0.977289\n",
      "[204]\tvalid_0's rmse: 0.977275\n",
      "[205]\tvalid_0's rmse: 0.977168\n",
      "[206]\tvalid_0's rmse: 0.977147\n",
      "[207]\tvalid_0's rmse: 0.977132\n",
      "[208]\tvalid_0's rmse: 0.977091\n",
      "[209]\tvalid_0's rmse: 0.977056\n",
      "[210]\tvalid_0's rmse: 0.977036\n",
      "[211]\tvalid_0's rmse: 0.977049\n",
      "[212]\tvalid_0's rmse: 0.977028\n",
      "[213]\tvalid_0's rmse: 0.976952\n",
      "[214]\tvalid_0's rmse: 0.97693\n",
      "[215]\tvalid_0's rmse: 0.976902\n",
      "[216]\tvalid_0's rmse: 0.976836\n",
      "[217]\tvalid_0's rmse: 0.97684\n",
      "[218]\tvalid_0's rmse: 0.97681\n",
      "[219]\tvalid_0's rmse: 0.976802\n",
      "[220]\tvalid_0's rmse: 0.976799\n",
      "[221]\tvalid_0's rmse: 0.976774\n",
      "[222]\tvalid_0's rmse: 0.976756\n",
      "[223]\tvalid_0's rmse: 0.976688\n",
      "[224]\tvalid_0's rmse: 0.97667\n",
      "[225]\tvalid_0's rmse: 0.976597\n",
      "[226]\tvalid_0's rmse: 0.976564\n",
      "[227]\tvalid_0's rmse: 0.976542\n",
      "[228]\tvalid_0's rmse: 0.976493\n",
      "[229]\tvalid_0's rmse: 0.976494\n",
      "[230]\tvalid_0's rmse: 0.976468\n",
      "[231]\tvalid_0's rmse: 0.976451\n",
      "[232]\tvalid_0's rmse: 0.976419\n",
      "[233]\tvalid_0's rmse: 0.97638\n",
      "[234]\tvalid_0's rmse: 0.976358\n",
      "[235]\tvalid_0's rmse: 0.976332\n",
      "[236]\tvalid_0's rmse: 0.976299\n",
      "[237]\tvalid_0's rmse: 0.976284\n",
      "[238]\tvalid_0's rmse: 0.976247\n",
      "[239]\tvalid_0's rmse: 0.976261\n",
      "[240]\tvalid_0's rmse: 0.976244\n",
      "[241]\tvalid_0's rmse: 0.976209\n",
      "[242]\tvalid_0's rmse: 0.976172\n",
      "[243]\tvalid_0's rmse: 0.976152\n",
      "[244]\tvalid_0's rmse: 0.976154\n",
      "[245]\tvalid_0's rmse: 0.976127\n",
      "[246]\tvalid_0's rmse: 0.976101\n",
      "[247]\tvalid_0's rmse: 0.976094\n",
      "[248]\tvalid_0's rmse: 0.976085\n",
      "[249]\tvalid_0's rmse: 0.976098\n",
      "[250]\tvalid_0's rmse: 0.976108\n",
      "Early stopping, best iteration is:\n",
      "[248]\tvalid_0's rmse: 0.976085\n"
     ]
    },
    {
     "ename": "NameError",
     "evalue": "name 'test_model' is not defined",
     "output_type": "error",
     "traceback": [
      "\u001b[0;31m---------------------------------------------------------------------------\u001b[0m",
      "\u001b[0;31mNameError\u001b[0m                                 Traceback (most recent call last)",
      "\u001b[0;32m<ipython-input-27-3de158959634>\u001b[0m in \u001b[0;36m<module>\u001b[0;34m()\u001b[0m\n\u001b[1;32m      8\u001b[0m \u001b[0;34m\u001b[0m\u001b[0m\n\u001b[1;32m      9\u001b[0m \u001b[0mmodel_2\u001b[0m \u001b[0;34m=\u001b[0m \u001b[0mlgb\u001b[0m\u001b[0;34m.\u001b[0m\u001b[0mtrain\u001b[0m\u001b[0;34m(\u001b[0m\u001b[0mparams\u001b[0m\u001b[0;34m,\u001b[0m \u001b[0mdtrain\u001b[0m\u001b[0;34m,\u001b[0m \u001b[0mn_estimators\u001b[0m\u001b[0;34m,\u001b[0m \u001b[0mwatchlist\u001b[0m\u001b[0;34m,\u001b[0m \u001b[0mverbose_eval\u001b[0m\u001b[0;34m=\u001b[0m\u001b[0;36m1\u001b[0m\u001b[0;34m)\u001b[0m\u001b[0;34m\u001b[0m\u001b[0m\n\u001b[0;32m---> 10\u001b[0;31m \u001b[0mtest_model\u001b[0m\u001b[0;34m(\u001b[0m\u001b[0mmodel_2\u001b[0m\u001b[0;34m)\u001b[0m\u001b[0;34m\u001b[0m\u001b[0m\n\u001b[0m",
      "\u001b[0;31mNameError\u001b[0m: name 'test_model' is not defined"
     ]
    }
   ],
   "source": [
    "X_train, X_test, y_train, y_test = train_test_split(train[train_params], train['amount_spent_per_room_night_scaled'], test_size = 0.2, random_state = 9)\n",
    "X_val, X_test, y_val, y_test = train_test_split(X_test, y_test, test_size = 0.5, random_state = 9)\n",
    "\n",
    "dtrain = lgb.Dataset(X_train, label=y_train, free_raw_data=False)\n",
    "dvalid = lgb.Dataset(X_val, label=y_val,free_raw_data=False)\n",
    "\n",
    "watchlist = [dvalid]\n",
    "\n",
    "model_2 = lgb.train(params, dtrain, n_estimators, watchlist, verbose_eval=1)\n",
    "test_model(model_2)"
   ]
  },
  {
   "cell_type": "code",
   "execution_count": 28,
   "metadata": {},
   "outputs": [
    {
     "name": "stderr",
     "output_type": "stream",
     "text": [
      "/opt/conda/lib/python3.6/site-packages/lightgbm/engine.py:123: UserWarning: Found `early_stopping_round` in params. Will use it instead of argument\n",
      "  warnings.warn(\"Found `{}` in params. Will use it instead of argument\".format(alias))\n"
     ]
    },
    {
     "name": "stdout",
     "output_type": "stream",
     "text": [
      "[1]\tvalid_0's rmse: 1.08681\n",
      "Training until validation scores don't improve for 2 rounds.\n",
      "[2]\tvalid_0's rmse: 1.0824\n",
      "[3]\tvalid_0's rmse: 1.0788\n",
      "[4]\tvalid_0's rmse: 1.0754\n",
      "[5]\tvalid_0's rmse: 1.07224\n",
      "[6]\tvalid_0's rmse: 1.06925\n",
      "[7]\tvalid_0's rmse: 1.06605\n",
      "[8]\tvalid_0's rmse: 1.0636\n",
      "[9]\tvalid_0's rmse: 1.06114\n",
      "[10]\tvalid_0's rmse: 1.05869\n",
      "[11]\tvalid_0's rmse: 1.05627\n",
      "[12]\tvalid_0's rmse: 1.05407\n",
      "[13]\tvalid_0's rmse: 1.05212\n",
      "[14]\tvalid_0's rmse: 1.05043\n",
      "[15]\tvalid_0's rmse: 1.04851\n",
      "[16]\tvalid_0's rmse: 1.04665\n",
      "[17]\tvalid_0's rmse: 1.04497\n",
      "[18]\tvalid_0's rmse: 1.04319\n",
      "[19]\tvalid_0's rmse: 1.04153\n",
      "[20]\tvalid_0's rmse: 1.04016\n",
      "[21]\tvalid_0's rmse: 1.03882\n",
      "[22]\tvalid_0's rmse: 1.03737\n",
      "[23]\tvalid_0's rmse: 1.0361\n",
      "[24]\tvalid_0's rmse: 1.03482\n",
      "[25]\tvalid_0's rmse: 1.03364\n",
      "[26]\tvalid_0's rmse: 1.03203\n",
      "[27]\tvalid_0's rmse: 1.03072\n",
      "[28]\tvalid_0's rmse: 1.0297\n",
      "[29]\tvalid_0's rmse: 1.02877\n",
      "[30]\tvalid_0's rmse: 1.02711\n",
      "[31]\tvalid_0's rmse: 1.02627\n",
      "[32]\tvalid_0's rmse: 1.02531\n",
      "[33]\tvalid_0's rmse: 1.02452\n",
      "[34]\tvalid_0's rmse: 1.02352\n",
      "[35]\tvalid_0's rmse: 1.02262\n",
      "[36]\tvalid_0's rmse: 1.02179\n",
      "[37]\tvalid_0's rmse: 1.0206\n",
      "[38]\tvalid_0's rmse: 1.01993\n",
      "[39]\tvalid_0's rmse: 1.01908\n",
      "[40]\tvalid_0's rmse: 1.01827\n",
      "[41]\tvalid_0's rmse: 1.01718\n",
      "[42]\tvalid_0's rmse: 1.01616\n",
      "[43]\tvalid_0's rmse: 1.01553\n",
      "[44]\tvalid_0's rmse: 1.01493\n",
      "[45]\tvalid_0's rmse: 1.01422\n",
      "[46]\tvalid_0's rmse: 1.01374\n",
      "[47]\tvalid_0's rmse: 1.01321\n",
      "[48]\tvalid_0's rmse: 1.0124\n",
      "[49]\tvalid_0's rmse: 1.01124\n",
      "[50]\tvalid_0's rmse: 1.01025\n",
      "[51]\tvalid_0's rmse: 1.00955\n",
      "[52]\tvalid_0's rmse: 1.00913\n",
      "[53]\tvalid_0's rmse: 1.00874\n",
      "[54]\tvalid_0's rmse: 1.00829\n",
      "[55]\tvalid_0's rmse: 1.00764\n",
      "[56]\tvalid_0's rmse: 1.0071\n",
      "[57]\tvalid_0's rmse: 1.00678\n",
      "[58]\tvalid_0's rmse: 1.00638\n",
      "[59]\tvalid_0's rmse: 1.00611\n",
      "[60]\tvalid_0's rmse: 1.00585\n",
      "[61]\tvalid_0's rmse: 1.00517\n",
      "[62]\tvalid_0's rmse: 1.0046\n",
      "[63]\tvalid_0's rmse: 1.00396\n",
      "[64]\tvalid_0's rmse: 1.00349\n",
      "[65]\tvalid_0's rmse: 1.00326\n",
      "[66]\tvalid_0's rmse: 1.00299\n",
      "[67]\tvalid_0's rmse: 1.00257\n",
      "[68]\tvalid_0's rmse: 1.0023\n",
      "[69]\tvalid_0's rmse: 1.00194\n",
      "[70]\tvalid_0's rmse: 1.00156\n",
      "[71]\tvalid_0's rmse: 1.00118\n",
      "[72]\tvalid_0's rmse: 1.00084\n",
      "[73]\tvalid_0's rmse: 1.00045\n",
      "[74]\tvalid_0's rmse: 1.00023\n",
      "[75]\tvalid_0's rmse: 0.999959\n",
      "[76]\tvalid_0's rmse: 0.999461\n",
      "[77]\tvalid_0's rmse: 0.999213\n",
      "[78]\tvalid_0's rmse: 0.998859\n",
      "[79]\tvalid_0's rmse: 0.998669\n",
      "[80]\tvalid_0's rmse: 0.998487\n",
      "[81]\tvalid_0's rmse: 0.998247\n",
      "[82]\tvalid_0's rmse: 0.997816\n",
      "[83]\tvalid_0's rmse: 0.997643\n",
      "[84]\tvalid_0's rmse: 0.997465\n",
      "[85]\tvalid_0's rmse: 0.9972\n",
      "[86]\tvalid_0's rmse: 0.997016\n",
      "[87]\tvalid_0's rmse: 0.996869\n",
      "[88]\tvalid_0's rmse: 0.996465\n",
      "[89]\tvalid_0's rmse: 0.99631\n",
      "[90]\tvalid_0's rmse: 0.996035\n",
      "[91]\tvalid_0's rmse: 0.995612\n",
      "[92]\tvalid_0's rmse: 0.995473\n",
      "[93]\tvalid_0's rmse: 0.995331\n",
      "[94]\tvalid_0's rmse: 0.995194\n",
      "[95]\tvalid_0's rmse: 0.994775\n",
      "[96]\tvalid_0's rmse: 0.994653\n",
      "[97]\tvalid_0's rmse: 0.994388\n",
      "[98]\tvalid_0's rmse: 0.994098\n",
      "[99]\tvalid_0's rmse: 0.993908\n",
      "[100]\tvalid_0's rmse: 0.993787\n",
      "[101]\tvalid_0's rmse: 0.993617\n",
      "[102]\tvalid_0's rmse: 0.993493\n",
      "[103]\tvalid_0's rmse: 0.993126\n",
      "[104]\tvalid_0's rmse: 0.993035\n",
      "[105]\tvalid_0's rmse: 0.992934\n",
      "[106]\tvalid_0's rmse: 0.992642\n",
      "[107]\tvalid_0's rmse: 0.99256\n",
      "[108]\tvalid_0's rmse: 0.992414\n",
      "[109]\tvalid_0's rmse: 0.99231\n",
      "[110]\tvalid_0's rmse: 0.9921\n",
      "[111]\tvalid_0's rmse: 0.992002\n",
      "[112]\tvalid_0's rmse: 0.991909\n",
      "[113]\tvalid_0's rmse: 0.991719\n",
      "[114]\tvalid_0's rmse: 0.991644\n",
      "[115]\tvalid_0's rmse: 0.991467\n",
      "[116]\tvalid_0's rmse: 0.991233\n",
      "[117]\tvalid_0's rmse: 0.991135\n",
      "[118]\tvalid_0's rmse: 0.991047\n",
      "[119]\tvalid_0's rmse: 0.990956\n",
      "[120]\tvalid_0's rmse: 0.990828\n",
      "[121]\tvalid_0's rmse: 0.990708\n",
      "[122]\tvalid_0's rmse: 0.990553\n",
      "[123]\tvalid_0's rmse: 0.990451\n",
      "[124]\tvalid_0's rmse: 0.99038\n",
      "[125]\tvalid_0's rmse: 0.990287\n",
      "[126]\tvalid_0's rmse: 0.990197\n",
      "[127]\tvalid_0's rmse: 0.99015\n",
      "[128]\tvalid_0's rmse: 0.989911\n",
      "[129]\tvalid_0's rmse: 0.989835\n",
      "[130]\tvalid_0's rmse: 0.989721\n",
      "[131]\tvalid_0's rmse: 0.989485\n",
      "[132]\tvalid_0's rmse: 0.989348\n",
      "[133]\tvalid_0's rmse: 0.989132\n",
      "[134]\tvalid_0's rmse: 0.989055\n",
      "[135]\tvalid_0's rmse: 0.988986\n",
      "[136]\tvalid_0's rmse: 0.988934\n",
      "[137]\tvalid_0's rmse: 0.988845\n",
      "[138]\tvalid_0's rmse: 0.98874\n",
      "[139]\tvalid_0's rmse: 0.988661\n",
      "[140]\tvalid_0's rmse: 0.988503\n",
      "[141]\tvalid_0's rmse: 0.988462\n",
      "[142]\tvalid_0's rmse: 0.988377\n",
      "[143]\tvalid_0's rmse: 0.988174\n",
      "[144]\tvalid_0's rmse: 0.98806\n",
      "[145]\tvalid_0's rmse: 0.987917\n",
      "[146]\tvalid_0's rmse: 0.987853\n",
      "[147]\tvalid_0's rmse: 0.987804\n",
      "[148]\tvalid_0's rmse: 0.987773\n",
      "[149]\tvalid_0's rmse: 0.987702\n",
      "[150]\tvalid_0's rmse: 0.987608\n",
      "[151]\tvalid_0's rmse: 0.987522\n",
      "[152]\tvalid_0's rmse: 0.987388\n",
      "[153]\tvalid_0's rmse: 0.98724\n",
      "[154]\tvalid_0's rmse: 0.987179\n",
      "[155]\tvalid_0's rmse: 0.987117\n",
      "[156]\tvalid_0's rmse: 0.987038\n",
      "[157]\tvalid_0's rmse: 0.987008\n",
      "[158]\tvalid_0's rmse: 0.986908\n",
      "[159]\tvalid_0's rmse: 0.98687\n",
      "[160]\tvalid_0's rmse: 0.986795\n",
      "[161]\tvalid_0's rmse: 0.986748\n",
      "[162]\tvalid_0's rmse: 0.986714\n",
      "[163]\tvalid_0's rmse: 0.986675\n",
      "[164]\tvalid_0's rmse: 0.986626\n",
      "[165]\tvalid_0's rmse: 0.986509\n",
      "[166]\tvalid_0's rmse: 0.986418\n",
      "[167]\tvalid_0's rmse: 0.986354\n",
      "[168]\tvalid_0's rmse: 0.986235\n",
      "[169]\tvalid_0's rmse: 0.986172\n",
      "[170]\tvalid_0's rmse: 0.986133\n",
      "[171]\tvalid_0's rmse: 0.986072\n",
      "[172]\tvalid_0's rmse: 0.98601\n",
      "[173]\tvalid_0's rmse: 0.985928\n",
      "[174]\tvalid_0's rmse: 0.985794\n",
      "[175]\tvalid_0's rmse: 0.985717\n",
      "[176]\tvalid_0's rmse: 0.985609\n",
      "[177]\tvalid_0's rmse: 0.985574\n",
      "[178]\tvalid_0's rmse: 0.985496\n",
      "[179]\tvalid_0's rmse: 0.985453\n",
      "[180]\tvalid_0's rmse: 0.985411\n",
      "[181]\tvalid_0's rmse: 0.985383\n",
      "[182]\tvalid_0's rmse: 0.985371\n",
      "[183]\tvalid_0's rmse: 0.985333\n",
      "[184]\tvalid_0's rmse: 0.985292\n",
      "[185]\tvalid_0's rmse: 0.985236\n",
      "[186]\tvalid_0's rmse: 0.98519\n",
      "[187]\tvalid_0's rmse: 0.985181\n",
      "[188]\tvalid_0's rmse: 0.98515\n",
      "[189]\tvalid_0's rmse: 0.985131\n",
      "[190]\tvalid_0's rmse: 0.985096\n",
      "[191]\tvalid_0's rmse: 0.985079\n",
      "[192]\tvalid_0's rmse: 0.985061\n",
      "[193]\tvalid_0's rmse: 0.985024\n",
      "[194]\tvalid_0's rmse: 0.98502\n",
      "[195]\tvalid_0's rmse: 0.984993\n",
      "[196]\tvalid_0's rmse: 0.984952\n",
      "[197]\tvalid_0's rmse: 0.984918\n",
      "[198]\tvalid_0's rmse: 0.984865\n",
      "[199]\tvalid_0's rmse: 0.984835\n",
      "[200]\tvalid_0's rmse: 0.984786\n",
      "[201]\tvalid_0's rmse: 0.984755\n",
      "[202]\tvalid_0's rmse: 0.984699\n",
      "[203]\tvalid_0's rmse: 0.984679\n",
      "[204]\tvalid_0's rmse: 0.984661\n",
      "[205]\tvalid_0's rmse: 0.984639\n",
      "[206]\tvalid_0's rmse: 0.984622\n",
      "[207]\tvalid_0's rmse: 0.984569\n",
      "[208]\tvalid_0's rmse: 0.984483\n",
      "[209]\tvalid_0's rmse: 0.984477\n",
      "[210]\tvalid_0's rmse: 0.984451\n",
      "[211]\tvalid_0's rmse: 0.984427\n",
      "[212]\tvalid_0's rmse: 0.984399\n",
      "[213]\tvalid_0's rmse: 0.984362\n",
      "[214]\tvalid_0's rmse: 0.984286\n",
      "[215]\tvalid_0's rmse: 0.984265\n",
      "[216]\tvalid_0's rmse: 0.984261\n",
      "[217]\tvalid_0's rmse: 0.984233\n",
      "[218]\tvalid_0's rmse: 0.984222\n",
      "[219]\tvalid_0's rmse: 0.984213\n",
      "[220]\tvalid_0's rmse: 0.984166\n",
      "[221]\tvalid_0's rmse: 0.984148\n",
      "[222]\tvalid_0's rmse: 0.984132\n",
      "[223]\tvalid_0's rmse: 0.984054\n",
      "[224]\tvalid_0's rmse: 0.984043\n",
      "[225]\tvalid_0's rmse: 0.98403\n",
      "[226]\tvalid_0's rmse: 0.984009\n",
      "[227]\tvalid_0's rmse: 0.983956\n",
      "[228]\tvalid_0's rmse: 0.983959\n",
      "[229]\tvalid_0's rmse: 0.983927\n",
      "[230]\tvalid_0's rmse: 0.983897\n",
      "[231]\tvalid_0's rmse: 0.983898\n",
      "[232]\tvalid_0's rmse: 0.983877\n",
      "[233]\tvalid_0's rmse: 0.983848\n",
      "[234]\tvalid_0's rmse: 0.983818\n",
      "[235]\tvalid_0's rmse: 0.983753\n",
      "[236]\tvalid_0's rmse: 0.983738\n",
      "[237]\tvalid_0's rmse: 0.983731\n",
      "[238]\tvalid_0's rmse: 0.983737\n",
      "[239]\tvalid_0's rmse: 0.983725\n",
      "[240]\tvalid_0's rmse: 0.9837\n",
      "[241]\tvalid_0's rmse: 0.983694\n",
      "[242]\tvalid_0's rmse: 0.983705\n",
      "[243]\tvalid_0's rmse: 0.983641\n",
      "[244]\tvalid_0's rmse: 0.983568\n",
      "[245]\tvalid_0's rmse: 0.983543\n",
      "[246]\tvalid_0's rmse: 0.983545\n",
      "[247]\tvalid_0's rmse: 0.983534\n",
      "[248]\tvalid_0's rmse: 0.983525\n",
      "[249]\tvalid_0's rmse: 0.983482\n",
      "[250]\tvalid_0's rmse: 0.983442\n",
      "[251]\tvalid_0's rmse: 0.983438\n",
      "[252]\tvalid_0's rmse: 0.983409\n",
      "[253]\tvalid_0's rmse: 0.983395\n",
      "[254]\tvalid_0's rmse: 0.983378\n",
      "[255]\tvalid_0's rmse: 0.983354\n",
      "[256]\tvalid_0's rmse: 0.98335\n",
      "[257]\tvalid_0's rmse: 0.983363\n",
      "[258]\tvalid_0's rmse: 0.98334\n",
      "[259]\tvalid_0's rmse: 0.983322\n",
      "[260]\tvalid_0's rmse: 0.983298\n",
      "[261]\tvalid_0's rmse: 0.98324\n",
      "[262]\tvalid_0's rmse: 0.983214\n",
      "[263]\tvalid_0's rmse: 0.983191\n",
      "[264]\tvalid_0's rmse: 0.983152\n",
      "[265]\tvalid_0's rmse: 0.98314\n",
      "[266]\tvalid_0's rmse: 0.983117\n",
      "[267]\tvalid_0's rmse: 0.983133\n",
      "[268]\tvalid_0's rmse: 0.983145\n",
      "Early stopping, best iteration is:\n",
      "[266]\tvalid_0's rmse: 0.983117\n"
     ]
    },
    {
     "ename": "NameError",
     "evalue": "name 'test_model' is not defined",
     "output_type": "error",
     "traceback": [
      "\u001b[0;31m---------------------------------------------------------------------------\u001b[0m",
      "\u001b[0;31mNameError\u001b[0m                                 Traceback (most recent call last)",
      "\u001b[0;32m<ipython-input-28-312db6a7e01e>\u001b[0m in \u001b[0;36m<module>\u001b[0;34m()\u001b[0m\n\u001b[1;32m      8\u001b[0m \u001b[0;34m\u001b[0m\u001b[0m\n\u001b[1;32m      9\u001b[0m \u001b[0mmodel_3\u001b[0m \u001b[0;34m=\u001b[0m \u001b[0mlgb\u001b[0m\u001b[0;34m.\u001b[0m\u001b[0mtrain\u001b[0m\u001b[0;34m(\u001b[0m\u001b[0mparams\u001b[0m\u001b[0;34m,\u001b[0m \u001b[0mdtrain\u001b[0m\u001b[0;34m,\u001b[0m \u001b[0mn_estimators\u001b[0m\u001b[0;34m,\u001b[0m \u001b[0mwatchlist\u001b[0m\u001b[0;34m,\u001b[0m \u001b[0mverbose_eval\u001b[0m\u001b[0;34m=\u001b[0m\u001b[0;36m1\u001b[0m\u001b[0;34m)\u001b[0m\u001b[0;34m\u001b[0m\u001b[0m\n\u001b[0;32m---> 10\u001b[0;31m \u001b[0mtest_model\u001b[0m\u001b[0;34m(\u001b[0m\u001b[0mmodel_2\u001b[0m\u001b[0;34m)\u001b[0m\u001b[0;34m\u001b[0m\u001b[0m\n\u001b[0m",
      "\u001b[0;31mNameError\u001b[0m: name 'test_model' is not defined"
     ]
    }
   ],
   "source": [
    "X_train, X_test, y_train, y_test = train_test_split(train[train_params], train['amount_spent_per_room_night_scaled'], test_size = 0.2, random_state = 89)\n",
    "X_val, X_test, y_val, y_test = train_test_split(X_test, y_test, test_size = 0.5, random_state = 18)\n",
    "\n",
    "dtrain = lgb.Dataset(X_train, label=y_train, free_raw_data=False)\n",
    "dvalid = lgb.Dataset(X_val, label=y_val, free_raw_data=False)\n",
    "\n",
    "watchlist = [dvalid]\n",
    "\n",
    "model_3 = lgb.train(params, dtrain, n_estimators, watchlist, verbose_eval=1)\n",
    "test_model(model_2)"
   ]
  },
  {
   "cell_type": "code",
   "execution_count": 29,
   "metadata": {},
   "outputs": [],
   "source": [
    "X_train, X_test, y_train, y_test = train_test_split(train[train_params], train['amount_spent_per_room_night_scaled'], test_size = 0.2, random_state = 9)\n",
    "X_val, X_test, y_val, y_test = train_test_split(X_test, y_test, test_size = 0.8, random_state = 9)"
   ]
  },
  {
   "cell_type": "code",
   "execution_count": 30,
   "metadata": {},
   "outputs": [],
   "source": [
    "y_m1_test = model_1.predict(X_test)\n",
    "y_m2_test = model_2.predict(X_test)\n",
    "y_m3_test = model_3.predict(X_test)"
   ]
  },
  {
   "cell_type": "code",
   "execution_count": 31,
   "metadata": {},
   "outputs": [],
   "source": [
    "def test_modl(model, X, y):\n",
    "    y_pred5 = model.predict(X)\n",
    "    print('Test r2 score: ', r2_score(y, y_pred5))\n",
    "    test_mse5 = mean_squared_error(y_pred5, y)\n",
    "    test_rmse5 = np.sqrt(test_mse5)\n",
    "    print('Test RMSE: %.4f' % test_rmse5)"
   ]
  },
  {
   "cell_type": "code",
   "execution_count": 32,
   "metadata": {},
   "outputs": [
    {
     "name": "stdout",
     "output_type": "stream",
     "text": [
      "Test r2 score:  0.1938686498479083\n",
      "Test RMSE: 0.9665\n",
      "None\n",
      "Test r2 score:  0.17487935494899043\n",
      "Test RMSE: 0.9778\n",
      "None\n",
      "Test r2 score:  0.18786749243629353\n",
      "Test RMSE: 0.9700\n",
      "None\n"
     ]
    }
   ],
   "source": [
    "print(test_modl(model_1, X_val, y_val))\n",
    "print(test_modl(model_2, X_val, y_val))\n",
    "print(test_modl(model_3, X_val, y_val))"
   ]
  },
  {
   "cell_type": "code",
   "execution_count": 33,
   "metadata": {},
   "outputs": [],
   "source": [
    "y1 = model_1.predict(test[train_params])\n",
    "y2 = model_2.predict(test[train_params])\n",
    "y3 = model_3.predict(test[train_params])"
   ]
  },
  {
   "cell_type": "code",
   "execution_count": 34,
   "metadata": {},
   "outputs": [],
   "source": [
    "final = (y1 + y2 + y3)/3"
   ]
  },
  {
   "cell_type": "code",
   "execution_count": 35,
   "metadata": {},
   "outputs": [],
   "source": [
    "sub = pd.read_csv('../input/sample_submission.csv')\n",
    "sub['amount_spent_per_room_night_scaled'] = final\n",
    "sub.to_csv('sub4.csv', index=False)"
   ]
  },
  {
   "cell_type": "code",
   "execution_count": 36,
   "metadata": {},
   "outputs": [
    {
     "data": {
      "text/plain": [
       "array([8.18016338, 7.40444734, 7.59736099, ..., 8.39937203, 7.95638813,\n",
       "       7.32403265])"
      ]
     },
     "execution_count": 36,
     "metadata": {},
     "output_type": "execute_result"
    }
   ],
   "source": [
    "final"
   ]
  },
  {
   "cell_type": "code",
   "execution_count": 37,
   "metadata": {},
   "outputs": [],
   "source": [
    "def test_model(model):\n",
    "    y_train_pred5 = model.predict(X_train)\n",
    "    y_pred5 = model.predict(X_test)\n",
    "\n",
    "    print('Train r2 score: ', r2_score(y_train_pred5, y_train))\n",
    "    print('Test r2 score: ', r2_score(y_test, y_pred5))\n",
    "    train_mse5 = mean_squared_error(y_train_pred5, y_train)\n",
    "    test_mse5 = mean_squared_error(y_pred5, y_test)\n",
    "    train_rmse5 = np.sqrt(train_mse5)\n",
    "    test_rmse5 = np.sqrt(test_mse5)\n",
    "    print('Train RMSE: %.4f' % train_rmse5)\n",
    "    print('Test RMSE: %.4f' % test_rmse5)"
   ]
  },
  {
   "cell_type": "code",
   "execution_count": 38,
   "metadata": {},
   "outputs": [],
   "source": [
    "#test_model(model)"
   ]
  },
  {
   "cell_type": "code",
   "execution_count": 39,
   "metadata": {},
   "outputs": [],
   "source": [
    "def submit(model):\n",
    "    sub = pd.read_csv('../input/sample_submission.csv')\n",
    "    sub['amount_spent_per_room_night_scaled'] = model.predict(test[train_params])\n",
    "    sub.to_csv('sub3.csv', index=False)"
   ]
  },
  {
   "cell_type": "code",
   "execution_count": 40,
   "metadata": {},
   "outputs": [],
   "source": [
    "#submit(model)"
   ]
  },
  {
   "cell_type": "code",
   "execution_count": 41,
   "metadata": {},
   "outputs": [],
   "source": []
  }
 ],
 "metadata": {
  "kernelspec": {
   "display_name": "Python 3",
   "language": "python",
   "name": "python3"
  },
  "language_info": {
   "codemirror_mode": {
    "name": "ipython",
    "version": 3
   },
   "file_extension": ".py",
   "mimetype": "text/x-python",
   "name": "python",
   "nbconvert_exporter": "python",
   "pygments_lexer": "ipython3",
   "version": "3.6.4"
  }
 },
 "nbformat": 4,
 "nbformat_minor": 1
}
