{
 "cells": [
  {
   "cell_type": "code",
   "execution_count": 1,
   "metadata": {
    "_cell_guid": "b1076dfc-b9ad-4769-8c92-a6c4dae69d19",
    "_uuid": "8f2839f25d086af736a60e9eeb907d3b93b6e0e5"
   },
   "outputs": [],
   "source": [
    "import pandas as pd\n",
    "import numpy as np\n",
    "import matplotlib.pyplot as plt\n",
    "from sklearn.preprocessing import LabelEncoder"
   ]
  },
  {
   "cell_type": "code",
   "execution_count": 2,
   "metadata": {
    "_uuid": "4d5962ce73375da4629bbe8c380430266c0c596a"
   },
   "outputs": [],
   "source": [
    "%load_ext autoreload\n",
    "%autoreload 2\n",
    "\n",
    "%matplotlib inline"
   ]
  },
  {
   "cell_type": "code",
   "execution_count": 3,
   "metadata": {
    "_cell_guid": "79c7e3d0-c299-4dcb-8224-4455121ee9b0",
    "_uuid": "d629ff2d2480ee46fbb7e2d37f6b5fab8052498a"
   },
   "outputs": [],
   "source": [
    "dtypes = {\n",
    "        'ProductName':                                          'category',\n",
    "        'EngineVersion':                                        'category',\n",
    "        'AppVersion':                                           'category',\n",
    "        'AvSigVersion':                                         'category',\n",
    "        'IsBeta':                                               'int8',\n",
    "        'RtpStateBitfield':                                     'float16',\n",
    "        'IsSxsPassiveMode':                                     'int8',\n",
    "        'DefaultBrowsersIdentifier':                            'float16',\n",
    "        'AVProductStatesIdentifier':                            'float32',\n",
    "        'AVProductsInstalled':                                  'float16',\n",
    "        'AVProductsEnabled':                                    'float16',\n",
    "        'HasTpm':                                               'int8',\n",
    "        'CountryIdentifier':                                    'int16',\n",
    "        'CityIdentifier':                                       'float32',\n",
    "        'OrganizationIdentifier':                               'float16',\n",
    "        'GeoNameIdentifier':                                    'float16',\n",
    "        'LocaleEnglishNameIdentifier':                          'int8',\n",
    "        'Platform':                                             'category',\n",
    "        'Processor':                                            'category',\n",
    "        'OsVer':                                                'category',\n",
    "        'OsBuild':                                              'int16',\n",
    "        'OsSuite':                                              'int16',\n",
    "        'OsPlatformSubRelease':                                 'category',\n",
    "        'OsBuildLab':                                           'category',\n",
    "        'SkuEdition':                                           'category',\n",
    "        'IsProtected':                                          'float16',\n",
    "        'AutoSampleOptIn':                                      'int8',\n",
    "        'PuaMode':                                              'category',\n",
    "        'SMode':                                                'float16',\n",
    "        'IeVerIdentifier':                                      'float16',\n",
    "        'SmartScreen':                                          'category',\n",
    "        'Firewall':                                             'float16',\n",
    "        'UacLuaenable':                                         'float32',\n",
    "        'Census_MDC2FormFactor':                                'category',\n",
    "        'Census_DeviceFamily':                                  'category',\n",
    "        'Census_OEMNameIdentifier':                             'float16',\n",
    "        'Census_OEMModelIdentifier':                            'float32',\n",
    "        'Census_ProcessorCoreCount':                            'float16',\n",
    "        'Census_ProcessorManufacturerIdentifier':               'float16',\n",
    "        'Census_ProcessorModelIdentifier':                      'float16',\n",
    "        'Census_ProcessorClass':                                'category',\n",
    "        'Census_PrimaryDiskTotalCapacity':                      'float32',\n",
    "        'Census_PrimaryDiskTypeName':                           'category',\n",
    "        'Census_SystemVolumeTotalCapacity':                     'float32',\n",
    "        'Census_HasOpticalDiskDrive':                           'int8',\n",
    "        'Census_TotalPhysicalRAM':                              'float32',\n",
    "        'Census_ChassisTypeName':                               'category',\n",
    "        'Census_InternalPrimaryDiagonalDisplaySizeInInches':    'float16',\n",
    "        'Census_InternalPrimaryDisplayResolutionHorizontal':    'float16',\n",
    "        'Census_InternalPrimaryDisplayResolutionVertical':      'float16',\n",
    "        'Census_PowerPlatformRoleName':                         'category',\n",
    "        'Census_InternalBatteryType':                           'category',\n",
    "        'Census_InternalBatteryNumberOfCharges':                'float32',\n",
    "        'Census_OSVersion':                                     'category',\n",
    "        'Census_OSArchitecture':                                'category',\n",
    "        'Census_OSBranch':                                      'category',\n",
    "        'Census_OSBuildNumber':                                 'int16',\n",
    "        'Census_OSBuildRevision':                               'int32',\n",
    "        'Census_OSEdition':                                     'category',\n",
    "        'Census_OSSkuName':                                     'category',\n",
    "        'Census_OSInstallTypeName':                             'category',\n",
    "        'Census_OSInstallLanguageIdentifier':                   'float16',\n",
    "        'Census_OSUILocaleIdentifier':                          'int16',\n",
    "        'Census_OSWUAutoUpdateOptionsName':                     'category',\n",
    "        'Census_IsPortableOperatingSystem':                     'int8',\n",
    "        'Census_GenuineStateName':                              'category',\n",
    "        'Census_ActivationChannel':                             'category',\n",
    "        'Census_IsFlightingInternal':                           'float16',\n",
    "        'Census_IsFlightsDisabled':                             'float16',\n",
    "        'Census_FlightRing':                                    'category',\n",
    "        'Census_ThresholdOptIn':                                'float16',\n",
    "        'Census_FirmwareManufacturerIdentifier':                'float16',\n",
    "        'Census_FirmwareVersionIdentifier':                     'float32',\n",
    "        'Census_IsSecureBootEnabled':                           'int8',\n",
    "        'Census_IsWIMBootEnabled':                              'float16',\n",
    "        'Census_IsVirtualDevice':                               'float16',\n",
    "        'Census_IsTouchEnabled':                                'int8',\n",
    "        'Census_IsPenCapable':                                  'int8',\n",
    "        'Census_IsAlwaysOnAlwaysConnectedCapable':              'float16',\n",
    "        'Wdft_IsGamer':                                         'float16',\n",
    "        'Wdft_RegionIdentifier':                                'float16',\n",
    "        'HasDetections':                                        'int8'\n",
    "        }"
   ]
  },
  {
   "cell_type": "code",
   "execution_count": 4,
   "metadata": {
    "_uuid": "57e46d6985c1c009df51009b07c82f3705126cd4"
   },
   "outputs": [
    {
     "name": "stdout",
     "output_type": "stream",
     "text": [
      "24\n"
     ]
    }
   ],
   "source": [
    "proc = ['Wdft_RegionIdentifier', 'Wdft_IsGamer', 'UacLuaenable', 'SMode', 'RtpStateBitfield', 'OsBuildLab', 'IsProtected', 'IeVerIdentifier','GeoNameIdentifier', 'OsBuildLab','IsProtected','Firewall','CityIdentifier','Census_ProcessorModelIdentifier','Census_ProcessorManufacturerIdentifier','Census_OSInstallLanguageIdentifier','Census_OEMNameIdentifier','Census_IsVirtualDevice','Census_OEMModelIdentifier','Census_IsFlightsDisabled','Census_IsAlwaysOnAlwaysConnectedCapable','Census_FirmwareVersionIdentifier','Census_FirmwareManufacturerIdentifier','AVProductStatesIdentifier','AVProductsEnabled','AVProductsInstalled']\n",
    "proc = list(set(proc))\n",
    "print (len(proc))"
   ]
  },
  {
   "cell_type": "code",
   "execution_count": 5,
   "metadata": {
    "_uuid": "0cbfa2243c6a3d9a8a178486d3ceb1cd2bdf2138"
   },
   "outputs": [
    {
     "name": "stdout",
     "output_type": "stream",
     "text": [
      "CPU times: user 2min 33s, sys: 12.1 s, total: 2min 45s\n",
      "Wall time: 2min 45s\n"
     ]
    }
   ],
   "source": [
    "%%time\n",
    "temp = pd.read_csv('../input/train.csv', nrows=2)\n",
    "columns = temp.columns.tolist()\n",
    "columns.remove('MachineIdentifier')\n",
    "train = pd.read_csv('../input/train.csv', dtype=dtypes, usecols=columns)"
   ]
  },
  {
   "cell_type": "code",
   "execution_count": 6,
   "metadata": {
    "_uuid": "38d1d79c2796323c78bf79a3badf6b358e65b338"
   },
   "outputs": [],
   "source": [
    "def display_all(df):\n",
    "    with pd.option_context(\"display.max_rows\", 1000, \"display.max_columns\", 1000): \n",
    "        display(df)"
   ]
  },
  {
   "cell_type": "code",
   "execution_count": 7,
   "metadata": {
    "_uuid": "e477412d5577b675c043a4654be322367c537ff7"
   },
   "outputs": [
    {
     "name": "stdout",
     "output_type": "stream",
     "text": [
      "Processing Census_IsFlightsDisabled\n",
      "Uniques before transformation (3,)\n",
      "Uniques after transformation (3,)\n",
      "Processed Census_IsFlightsDisabled\n",
      "Processing IsProtected\n",
      "Uniques before transformation (3,)\n",
      "Uniques after transformation (3,)\n",
      "Processed IsProtected\n",
      "Processing Firewall\n",
      "Uniques before transformation (3,)\n",
      "Uniques after transformation (3,)\n",
      "Processed Firewall\n",
      "Processing Wdft_IsGamer\n",
      "Uniques before transformation (3,)\n",
      "Uniques after transformation (3,)\n",
      "Processed Wdft_IsGamer\n",
      "Processing Census_OEMModelIdentifier\n",
      "Uniques before transformation (175366,)\n",
      "Uniques after transformation (175366,)\n",
      "Processed Census_OEMModelIdentifier\n",
      "Processing Census_OEMNameIdentifier\n",
      "Uniques before transformation (2565,)\n",
      "Uniques after transformation (2565,)\n",
      "Processed Census_OEMNameIdentifier\n",
      "Processing OsBuildLab\n",
      "Uniques before transformation (664,)\n",
      "Uniques after transformation (664,)\n",
      "Processed OsBuildLab\n",
      "Processing Census_FirmwareManufacturerIdentifier\n",
      "Uniques before transformation (713,)\n",
      "Uniques after transformation (713,)\n",
      "Processed Census_FirmwareManufacturerIdentifier\n",
      "Processing Census_ProcessorManufacturerIdentifier\n",
      "Uniques before transformation (8,)\n",
      "Uniques after transformation (8,)\n",
      "Processed Census_ProcessorManufacturerIdentifier\n",
      "Processing Census_IsVirtualDevice\n",
      "Uniques before transformation (3,)\n",
      "Uniques after transformation (3,)\n",
      "Processed Census_IsVirtualDevice\n",
      "Processing IeVerIdentifier\n",
      "Uniques before transformation (304,)\n",
      "Uniques after transformation (304,)\n",
      "Processed IeVerIdentifier\n",
      "Processing AVProductsInstalled\n",
      "Uniques before transformation (9,)\n",
      "Uniques after transformation (9,)\n",
      "Processed AVProductsInstalled\n",
      "Processing Wdft_RegionIdentifier\n",
      "Uniques before transformation (16,)\n",
      "Uniques after transformation (16,)\n",
      "Processed Wdft_RegionIdentifier\n",
      "Processing RtpStateBitfield\n",
      "Uniques before transformation (8,)\n",
      "Uniques after transformation (8,)\n",
      "Processed RtpStateBitfield\n",
      "Processing UacLuaenable\n",
      "Uniques before transformation (12,)\n",
      "Uniques after transformation (12,)\n",
      "Processed UacLuaenable\n",
      "Processing SMode\n",
      "Uniques before transformation (3,)\n",
      "Uniques after transformation (3,)\n",
      "Processed SMode\n",
      "Processing Census_IsAlwaysOnAlwaysConnectedCapable\n",
      "Uniques before transformation (3,)\n",
      "Uniques after transformation (3,)\n",
      "Processed Census_IsAlwaysOnAlwaysConnectedCapable\n",
      "Processing AVProductsEnabled\n",
      "Uniques before transformation (7,)\n",
      "Uniques after transformation (7,)\n",
      "Processed AVProductsEnabled\n",
      "Processing GeoNameIdentifier\n",
      "Uniques before transformation (293,)\n",
      "Uniques after transformation (293,)\n",
      "Processed GeoNameIdentifier\n",
      "Processing Census_ProcessorModelIdentifier\n",
      "Uniques before transformation (2584,)\n",
      "Uniques after transformation (2584,)\n",
      "Processed Census_ProcessorModelIdentifier\n",
      "Processing CityIdentifier\n",
      "Uniques before transformation (107367,)\n",
      "Uniques after transformation (107367,)\n",
      "Processed CityIdentifier\n",
      "Processing Census_OSInstallLanguageIdentifier\n",
      "Uniques before transformation (40,)\n",
      "Uniques after transformation (40,)\n",
      "Processed Census_OSInstallLanguageIdentifier\n",
      "Processing Census_FirmwareVersionIdentifier\n",
      "Uniques before transformation (50495,)\n",
      "Uniques after transformation (50495,)\n",
      "Processed Census_FirmwareVersionIdentifier\n",
      "Processing AVProductStatesIdentifier\n",
      "Uniques before transformation (28971,)\n",
      "Uniques after transformation (28971,)\n",
      "Processed AVProductStatesIdentifier\n",
      "CPU times: user 2min 13s, sys: 13.7 s, total: 2min 27s\n",
      "Wall time: 2min 26s\n"
     ]
    }
   ],
   "source": [
    "%%time\n",
    "#aux = train.copy()\n",
    "#train = aux.copy()\n",
    "encoders = {}\n",
    "for col in proc:\n",
    "    print (f'Processing {col}')\n",
    "    le = LabelEncoder()\n",
    "    train[col] = train[col].astype('str')\n",
    "    u_bef = train[col].unique().shape\n",
    "    print (f'Uniques before transformation {u_bef}')\n",
    "    le.fit(train[col])\n",
    "    encoders[col] = le\n",
    "    train[col] = le.transform(train[col])\n",
    "    u_aft = train[col].unique().shape\n",
    "    print (f'Uniques after transformation {u_aft}')\n",
    "    print (f'Processed {col}')"
   ]
  },
  {
   "cell_type": "code",
   "execution_count": 8,
   "metadata": {
    "_uuid": "fc39ee4f16a8f2ead53d041efeb047c00fac4525"
   },
   "outputs": [
    {
     "data": {
      "text/plain": [
       "221144"
      ]
     },
     "execution_count": 8,
     "metadata": {},
     "output_type": "execute_result"
    }
   ],
   "source": [
    "import gc\n",
    "gc.collect()"
   ]
  },
  {
   "cell_type": "code",
   "execution_count": 9,
   "metadata": {
    "_uuid": "19d58a6f127b058287041ff059cdf2fd9a057626",
    "scrolled": true
   },
   "outputs": [
    {
     "name": "stdout",
     "output_type": "stream",
     "text": [
      "Processing Census_IsFlightsDisabled\n",
      "Uniques before transformation (3,)\n",
      "Uniques after transformation (3,)\n",
      "Processed Census_IsFlightsDisabled\n",
      "Processing IsProtected\n",
      "Uniques before transformation (3,)\n",
      "Uniques after transformation (3,)\n",
      "Processed IsProtected\n",
      "Processing Firewall\n",
      "Uniques before transformation (3,)\n",
      "Uniques after transformation (3,)\n",
      "Processed Firewall\n",
      "Processing Wdft_IsGamer\n",
      "Uniques before transformation (3,)\n",
      "Uniques after transformation (3,)\n",
      "Processed Wdft_IsGamer\n",
      "Processing Census_OEMModelIdentifier\n",
      "Uniques before transformation (175366,)\n",
      "Uniques after transformation (175366,)\n",
      "Processed Census_OEMModelIdentifier\n",
      "Processing Census_OEMNameIdentifier\n",
      "Uniques before transformation (2565,)\n",
      "Uniques after transformation (2565,)\n",
      "Processed Census_OEMNameIdentifier\n",
      "Processing OsBuildLab\n",
      "Uniques before transformation (664,)\n",
      "Uniques after transformation (664,)\n",
      "Processed OsBuildLab\n",
      "Processing Census_FirmwareManufacturerIdentifier\n",
      "Uniques before transformation (713,)\n",
      "Uniques after transformation (713,)\n",
      "Processed Census_FirmwareManufacturerIdentifier\n",
      "Processing Census_ProcessorManufacturerIdentifier\n",
      "Uniques before transformation (8,)\n",
      "Uniques after transformation (8,)\n",
      "Processed Census_ProcessorManufacturerIdentifier\n",
      "Processing Census_IsVirtualDevice\n",
      "Uniques before transformation (3,)\n",
      "Uniques after transformation (3,)\n",
      "Processed Census_IsVirtualDevice\n",
      "Processing IeVerIdentifier\n",
      "Uniques before transformation (304,)\n",
      "Uniques after transformation (304,)\n",
      "Processed IeVerIdentifier\n",
      "Processing AVProductsInstalled\n",
      "Uniques before transformation (9,)\n",
      "Uniques after transformation (9,)\n",
      "Processed AVProductsInstalled\n",
      "Processing Wdft_RegionIdentifier\n",
      "Uniques before transformation (16,)\n",
      "Uniques after transformation (16,)\n",
      "Processed Wdft_RegionIdentifier\n",
      "Processing RtpStateBitfield\n",
      "Uniques before transformation (8,)\n",
      "Uniques after transformation (8,)\n",
      "Processed RtpStateBitfield\n",
      "Processing UacLuaenable\n",
      "Uniques before transformation (12,)\n",
      "Uniques after transformation (12,)\n",
      "Processed UacLuaenable\n",
      "Processing SMode\n",
      "Uniques before transformation (3,)\n",
      "Uniques after transformation (3,)\n",
      "Processed SMode\n",
      "Processing Census_IsAlwaysOnAlwaysConnectedCapable\n",
      "Uniques before transformation (3,)\n",
      "Uniques after transformation (3,)\n",
      "Processed Census_IsAlwaysOnAlwaysConnectedCapable\n",
      "Processing AVProductsEnabled\n",
      "Uniques before transformation (7,)\n",
      "Uniques after transformation (7,)\n",
      "Processed AVProductsEnabled\n",
      "Processing GeoNameIdentifier\n",
      "Uniques before transformation (293,)\n",
      "Uniques after transformation (293,)\n",
      "Processed GeoNameIdentifier\n",
      "Processing Census_ProcessorModelIdentifier\n",
      "Uniques before transformation (2584,)\n",
      "Uniques after transformation (2584,)\n",
      "Processed Census_ProcessorModelIdentifier\n",
      "Processing CityIdentifier\n",
      "Uniques before transformation (107367,)\n",
      "Uniques after transformation (107367,)\n",
      "Processed CityIdentifier\n",
      "Processing Census_OSInstallLanguageIdentifier\n",
      "Uniques before transformation (40,)\n",
      "Uniques after transformation (40,)\n",
      "Processed Census_OSInstallLanguageIdentifier\n",
      "Processing Census_FirmwareVersionIdentifier\n",
      "Uniques before transformation (50495,)\n",
      "Uniques after transformation (50495,)\n",
      "Processed Census_FirmwareVersionIdentifier\n",
      "Processing AVProductStatesIdentifier\n",
      "Uniques before transformation (28971,)\n",
      "Uniques after transformation (28971,)\n",
      "Processed AVProductStatesIdentifier\n",
      "CPU times: user 3.22 s, sys: 1.35 s, total: 4.57 s\n",
      "Wall time: 4.53 s\n"
     ]
    }
   ],
   "source": [
    "%%time\n",
    "for col in proc:\n",
    "    print (f'Processing {col}')\n",
    "    u_bef = train[col].unique().shape\n",
    "    print (f'Uniques before transformation {u_bef}')\n",
    "    ## Data types converstion\n",
    "    if u_bef[0] < np.iinfo('int8').max:\n",
    "        train[col] = train[col].astype('int8')\n",
    "    elif u_bef[0] < np.iinfo('int16').max:\n",
    "        train[col] = train[col].astype('int16')\n",
    "    elif u_bef[0] < np.iinfo('int32').max:\n",
    "        train[col] = train[col].astype('int32')\n",
    "    else:\n",
    "        train[col] = train[col].astype('int64')\n",
    "    u_aft = train[col].unique().shape\n",
    "    print (f'Uniques after transformation {u_aft}')\n",
    "    print (f'Processed {col}')"
   ]
  },
  {
   "cell_type": "code",
   "execution_count": 10,
   "metadata": {
    "_uuid": "1ec6ae95b5b6334464efaa27ad89eee8da0e8f2c"
   },
   "outputs": [],
   "source": [
    "train.drop(axis=1, columns=[\"Census_IsWIMBootEnabled\",\"Census_InternalBatteryType\",\"Census_IsFlightingInternal\",\"Census_ProcessorClass\",\"Census_ThresholdOptIn\",\"DefaultBrowsersIdentifier\",\"OrganizationIdentifier\",\"PuaMode\",\"SmartScreen\", \"IsBeta\"], inplace=True)"
   ]
  },
  {
   "cell_type": "code",
   "execution_count": 11,
   "metadata": {
    "_uuid": "667e8eecb800c85b102b4aad0a5098772f035a3c"
   },
   "outputs": [
    {
     "name": "stdout",
     "output_type": "stream",
     "text": [
      "Before (3,)\n",
      "After (3,)\n",
      "Before (9,)\n",
      "After (9,)\n",
      "Before (32,)\n",
      "After (32,)\n"
     ]
    }
   ],
   "source": [
    "other = {}\n",
    "\n",
    "train[\"Census_PrimaryDiskTypeName\"] = train.Census_PrimaryDiskTypeName.str.replace('Unspecified', 'UNKNOWN')\n",
    "train.Census_PrimaryDiskTypeName.fillna(\"UNKNOWN\", inplace=True)\n",
    "le = LabelEncoder()\n",
    "train['Census_PrimaryDiskTypeName'] = train.Census_PrimaryDiskTypeName.astype('str')\n",
    "u_bfr = train['Census_PrimaryDiskTypeName'].unique().shape\n",
    "print (f'Before {u_bfr}')\n",
    "le.fit(train['Census_PrimaryDiskTypeName'])\n",
    "train['Census_PrimaryDiskTypeName'] = le.transform(train['Census_PrimaryDiskTypeName'])\n",
    "train['Census_PrimaryDiskTypeName'] = train.Census_PrimaryDiskTypeName.astype('int8')\n",
    "u_aftr = train['Census_PrimaryDiskTypeName'].unique().shape\n",
    "print (f'After {u_aftr}')\n",
    "other['Census_PrimaryDiskTypeName'] = le\n",
    "\n",
    "train[\"Census_PowerPlatformRoleName\"] = train.Census_PowerPlatformRoleName.str.replace('Unspecified', 'UNKNOWN')\n",
    "train.Census_PowerPlatformRoleName.fillna(\"UNKNOWN\", inplace=True)\n",
    "le = LabelEncoder()\n",
    "train['Census_PowerPlatformRoleName'] = train.Census_PowerPlatformRoleName.astype('str')\n",
    "u_bfr = train['Census_PowerPlatformRoleName'].unique().shape\n",
    "print (f'Before {u_bfr}')\n",
    "le.fit(train['Census_PowerPlatformRoleName'])\n",
    "train['Census_PowerPlatformRoleName'] = le.transform(train['Census_PowerPlatformRoleName'])\n",
    "train['Census_PowerPlatformRoleName'] = train.Census_PowerPlatformRoleName.astype('int8')\n",
    "u_aftr = train['Census_PowerPlatformRoleName'].unique().shape\n",
    "print (f'After {u_aftr}')\n",
    "other['Census_PowerPlatformRoleName'] = le\n",
    "\n",
    "import re\n",
    "exp = re.compile('[0-9]+')\n",
    "\n",
    "train[\"Census_ChassisTypeName\"] = train.Census_ChassisTypeName.str.replace(exp, 'Unknown')\n",
    "train[\"Census_ChassisTypeName\"] = train.Census_ChassisTypeName.str.replace('Other', 'Unknown')\n",
    "train[\"Census_ChassisTypeName\"] = train.Census_ChassisTypeName.str.replace('UNKNOWN', 'Unknown')\n",
    "train.Census_ChassisTypeName.fillna('Unknown', inplace=True)\n",
    "\n",
    "le = LabelEncoder()\n",
    "train['Census_ChassisTypeName'] = train.Census_ChassisTypeName.astype('str')\n",
    "u_bfr = train['Census_ChassisTypeName'].unique().shape\n",
    "print (f'Before {u_bfr}')\n",
    "le.fit(train['Census_ChassisTypeName'])\n",
    "train['Census_ChassisTypeName'] = le.transform(train['Census_ChassisTypeName'])\n",
    "train['Census_ChassisTypeName'] = train.Census_ChassisTypeName.astype('int8')\n",
    "u_aftr = train['Census_ChassisTypeName'].unique().shape\n",
    "print (f'After {u_aftr}')\n",
    "other['Census_ChassisTypeName'] = le"
   ]
  },
  {
   "cell_type": "code",
   "execution_count": 12,
   "metadata": {
    "_uuid": "47dea752c1ac4547b6b87f45821363ba6963b3b5"
   },
   "outputs": [],
   "source": [
    "true_numerical_columns = [\n",
    "    'Census_ProcessorCoreCount',\n",
    "    'Census_PrimaryDiskTotalCapacity',\n",
    "    'Census_SystemVolumeTotalCapacity',\n",
    "    'Census_TotalPhysicalRAM',\n",
    "    'Census_InternalPrimaryDiagonalDisplaySizeInInches',\n",
    "    'Census_InternalPrimaryDisplayResolutionHorizontal',\n",
    "    'Census_InternalPrimaryDisplayResolutionVertical',\n",
    "    'Census_InternalBatteryNumberOfCharges'\n",
    "]"
   ]
  },
  {
   "cell_type": "code",
   "execution_count": 13,
   "metadata": {
    "_uuid": "8d487ccc2fdc84a67334aafdbc1a0e6822b3ae7c"
   },
   "outputs": [],
   "source": [
    "train.Census_PrimaryDiskTotalCapacity.fillna(3089054.5, inplace=True)\n",
    "train.Census_SystemVolumeTotalCapacity.fillna(377368.25, inplace=True)\n",
    "train.Census_TotalPhysicalRAM.fillna(6115.266, inplace=True)\n",
    "train.Census_InternalPrimaryDisplayResolutionVertical.fillna(897.5707, inplace=True)\n",
    "train.Census_InternalPrimaryDiagonalDisplaySizeInInches.fillna(16.6760, inplace=True)\n",
    "train.Census_InternalPrimaryDisplayResolutionHorizontal.fillna(1547.716, inplace=True)\n",
    "train.Census_InternalBatteryNumberOfCharges.fillna(0.0, inplace=True)"
   ]
  },
  {
   "cell_type": "code",
   "execution_count": 14,
   "metadata": {
    "_uuid": "3bd998f990fe38f1fb3b21b00e40fd29f257d4c2"
   },
   "outputs": [
    {
     "name": "stdout",
     "output_type": "stream",
     "text": [
      "Before (46,)\n",
      "After (46,)\n"
     ]
    }
   ],
   "source": [
    "le = LabelEncoder()\n",
    "train['Census_ProcessorCoreCount'] = train.Census_ProcessorCoreCount.astype('str')\n",
    "u_bfr = train['Census_ProcessorCoreCount'].unique().shape\n",
    "print (f'Before {u_bfr}')\n",
    "le.fit(train['Census_ProcessorCoreCount'])\n",
    "train['Census_ProcessorCoreCount'] = le.transform(train['Census_ProcessorCoreCount'])\n",
    "u_aftr = train['Census_ProcessorCoreCount'].unique().shape\n",
    "print (f'After {u_aftr}')\n",
    "other['Census_ProcessorCoreCount'] = le"
   ]
  },
  {
   "cell_type": "code",
   "execution_count": 15,
   "metadata": {
    "_uuid": "e751854a7013a3c8e9850afed6603ac51842e356"
   },
   "outputs": [],
   "source": [
    "train['Census_ProcessorCoreCount'] = train['Census_ProcessorCoreCount'].astype('int8') "
   ]
  },
  {
   "cell_type": "code",
   "execution_count": 16,
   "metadata": {
    "_uuid": "df5248f7c748b5dc207cb0f5cef4002af40c4c5a"
   },
   "outputs": [
    {
     "name": "stdout",
     "output_type": "stream",
     "text": [
      "10\n"
     ]
    }
   ],
   "source": [
    "dropped_cols=[\"Census_IsWIMBootEnabled\",\"Census_InternalBatteryType\",\"Census_IsFlightingInternal\",\"Census_ProcessorClass\",\"Census_ThresholdOptIn\",\"DefaultBrowsersIdentifier\",\"OrganizationIdentifier\",\"PuaMode\",\"SmartScreen\", \"IsBeta\"]\n",
    "dropped_cols = list(set(dropped_cols))\n",
    "print (len(dropped_cols))"
   ]
  },
  {
   "cell_type": "code",
   "execution_count": 17,
   "metadata": {
    "_uuid": "327347d2890fcf807d2f92da8f394607ccb9a5cf"
   },
   "outputs": [
    {
     "name": "stdout",
     "output_type": "stream",
     "text": [
      "35\n"
     ]
    }
   ],
   "source": [
    "all_processed =  list(proc) + list(other.keys()) + true_numerical_columns\n",
    "all_processed = list (set (all_processed))\n",
    "print (len(all_processed))"
   ]
  },
  {
   "cell_type": "code",
   "execution_count": 18,
   "metadata": {
    "_uuid": "0cb38227d3795f18bfe9cb226a972f077f5fd0b1"
   },
   "outputs": [
    {
     "name": "stdout",
     "output_type": "stream",
     "text": [
      "37\n"
     ]
    }
   ],
   "source": [
    "rest = list(set(train.columns.tolist()).difference(set(all_processed)))\n",
    "rest = list (set (rest))\n",
    "print (len (rest))"
   ]
  },
  {
   "cell_type": "code",
   "execution_count": 19,
   "metadata": {
    "_uuid": "5de97bcb36717cfb9155cba2a8daef8bea68329b",
    "scrolled": true
   },
   "outputs": [
    {
     "data": {
      "text/plain": [
       "LocaleEnglishNameIdentifier             int8\n",
       "Census_OSEdition                    category\n",
       "AutoSampleOptIn                         int8\n",
       "Census_OSVersion                    category\n",
       "Census_OSArchitecture               category\n",
       "ProductName                         category\n",
       "Census_DeviceFamily                 category\n",
       "Census_GenuineStateName             category\n",
       "Census_OSBranch                     category\n",
       "Census_IsPortableOperatingSystem        int8\n",
       "Processor                           category\n",
       "Census_IsPenCapable                     int8\n",
       "HasDetections                           int8\n",
       "Census_IsTouchEnabled                   int8\n",
       "Census_MDC2FormFactor               category\n",
       "Census_HasOpticalDiskDrive              int8\n",
       "OsBuild                                int16\n",
       "Platform                            category\n",
       "CountryIdentifier                      int16\n",
       "Census_ActivationChannel            category\n",
       "Census_OSSkuName                    category\n",
       "Census_OSBuildNumber                   int16\n",
       "EngineVersion                       category\n",
       "OsSuite                                int16\n",
       "Census_OSWUAutoUpdateOptionsName    category\n",
       "Census_OSUILocaleIdentifier            int16\n",
       "SkuEdition                          category\n",
       "AppVersion                          category\n",
       "AvSigVersion                        category\n",
       "IsSxsPassiveMode                        int8\n",
       "Census_IsSecureBootEnabled              int8\n",
       "OsVer                               category\n",
       "Census_FlightRing                   category\n",
       "Census_OSBuildRevision                 int32\n",
       "OsPlatformSubRelease                category\n",
       "Census_OSInstallTypeName            category\n",
       "HasTpm                                  int8\n",
       "dtype: object"
      ]
     },
     "metadata": {},
     "output_type": "display_data"
    }
   ],
   "source": [
    "display_all(train[rest].dtypes)"
   ]
  },
  {
   "cell_type": "code",
   "execution_count": 20,
   "metadata": {
    "_uuid": "f7101dcd3661c6147c946718b8f4915342606267"
   },
   "outputs": [],
   "source": [
    "rest_categories = train[rest].select_dtypes(include=['category']).columns.tolist()\n",
    "rest_numbers = train[rest].select_dtypes(exclude=['category']).columns.tolist()"
   ]
  },
  {
   "cell_type": "code",
   "execution_count": 21,
   "metadata": {
    "_uuid": "d4fac3e336f9b335bc999c35fcd3a700d32df4ad"
   },
   "outputs": [
    {
     "name": "stdout",
     "output_type": "stream",
     "text": [
      "21\n",
      "16\n"
     ]
    }
   ],
   "source": [
    "print (len(rest_categories))\n",
    "print (len(rest_numbers))"
   ]
  },
  {
   "cell_type": "code",
   "execution_count": 22,
   "metadata": {
    "_uuid": "7fca5babcdb4158c9d1ff18b3127bd17bda4d025",
    "scrolled": true
   },
   "outputs": [
    {
     "name": "stdout",
     "output_type": "stream",
     "text": [
      "Processing Census_OSEdition\n",
      "Uniques before transformation (33,)\n",
      "Uniques after transformation (33,)\n",
      "Processed Census_OSEdition\n",
      "Processing Census_OSVersion\n",
      "Uniques before transformation (469,)\n",
      "Uniques after transformation (469,)\n",
      "Processed Census_OSVersion\n",
      "Processing Census_OSArchitecture\n",
      "Uniques before transformation (3,)\n",
      "Uniques after transformation (3,)\n",
      "Processed Census_OSArchitecture\n",
      "Processing ProductName\n",
      "Uniques before transformation (6,)\n",
      "Uniques after transformation (6,)\n",
      "Processed ProductName\n",
      "Processing Census_DeviceFamily\n",
      "Uniques before transformation (3,)\n",
      "Uniques after transformation (3,)\n",
      "Processed Census_DeviceFamily\n",
      "Processing Census_GenuineStateName\n",
      "Uniques before transformation (5,)\n",
      "Uniques after transformation (5,)\n",
      "Processed Census_GenuineStateName\n",
      "Processing Census_OSBranch\n",
      "Uniques before transformation (32,)\n",
      "Uniques after transformation (32,)\n",
      "Processed Census_OSBranch\n",
      "Processing Processor\n",
      "Uniques before transformation (3,)\n",
      "Uniques after transformation (3,)\n",
      "Processed Processor\n",
      "Processing Census_MDC2FormFactor\n",
      "Uniques before transformation (13,)\n",
      "Uniques after transformation (13,)\n",
      "Processed Census_MDC2FormFactor\n",
      "Processing Platform\n",
      "Uniques before transformation (4,)\n",
      "Uniques after transformation (4,)\n",
      "Processed Platform\n",
      "Processing Census_ActivationChannel\n",
      "Uniques before transformation (6,)\n",
      "Uniques after transformation (6,)\n",
      "Processed Census_ActivationChannel\n",
      "Processing Census_OSSkuName\n",
      "Uniques before transformation (30,)\n",
      "Uniques after transformation (30,)\n",
      "Processed Census_OSSkuName\n",
      "Processing EngineVersion\n",
      "Uniques before transformation (70,)\n",
      "Uniques after transformation (70,)\n",
      "Processed EngineVersion\n",
      "Processing Census_OSWUAutoUpdateOptionsName\n",
      "Uniques before transformation (6,)\n",
      "Uniques after transformation (6,)\n",
      "Processed Census_OSWUAutoUpdateOptionsName\n",
      "Processing SkuEdition\n",
      "Uniques before transformation (8,)\n",
      "Uniques after transformation (8,)\n",
      "Processed SkuEdition\n",
      "Processing AppVersion\n",
      "Uniques before transformation (110,)\n",
      "Uniques after transformation (110,)\n",
      "Processed AppVersion\n",
      "Processing AvSigVersion\n",
      "Uniques before transformation (8531,)\n",
      "Uniques after transformation (8531,)\n",
      "Processed AvSigVersion\n",
      "Processing OsVer\n",
      "Uniques before transformation (58,)\n",
      "Uniques after transformation (58,)\n",
      "Processed OsVer\n",
      "Processing Census_FlightRing\n",
      "Uniques before transformation (10,)\n",
      "Uniques after transformation (10,)\n",
      "Processed Census_FlightRing\n",
      "Processing OsPlatformSubRelease\n",
      "Uniques before transformation (9,)\n",
      "Uniques after transformation (9,)\n",
      "Processed OsPlatformSubRelease\n",
      "Processing Census_OSInstallTypeName\n",
      "Uniques before transformation (9,)\n",
      "Uniques after transformation (9,)\n",
      "Processed Census_OSInstallTypeName\n",
      "CPU times: user 46.3 s, sys: 6.71 s, total: 53 s\n",
      "Wall time: 52.8 s\n"
     ]
    }
   ],
   "source": [
    "%%time\n",
    "rest_categories_encoders = {}\n",
    "\n",
    "for col in rest_categories:\n",
    "    print (f'Processing {col}') \n",
    "    le = LabelEncoder()\n",
    "    train[col] = train[col].astype('str')\n",
    "    u_bef = train[col].unique().shape    \n",
    "    print (f'Uniques before transformation {u_bef}')\n",
    "    le.fit(train[col])\n",
    "    rest_categories_encoders[col] = le\n",
    "    train[col] = le.transform(train[col])\n",
    "    u_aft = train[col].unique().shape\n",
    "    print (f'Uniques after transformation {u_aft}')\n",
    "    print (f'Processed {col}')"
   ]
  },
  {
   "cell_type": "code",
   "execution_count": 23,
   "metadata": {
    "_uuid": "2e944f31bcb15905dc1df6b953b8a27abcb2b380",
    "scrolled": false
   },
   "outputs": [
    {
     "name": "stdout",
     "output_type": "stream",
     "text": [
      "Processing Census_OSEdition\n",
      "Uniques before transformation (33,)\n",
      "Uniques after transformation (33,)\n",
      "Processed Census_OSEdition\n",
      "Processing Census_OSVersion\n",
      "Uniques before transformation (469,)\n",
      "Uniques after transformation (469,)\n",
      "Processed Census_OSVersion\n",
      "Processing Census_OSArchitecture\n",
      "Uniques before transformation (3,)\n",
      "Uniques after transformation (3,)\n",
      "Processed Census_OSArchitecture\n",
      "Processing ProductName\n",
      "Uniques before transformation (6,)\n",
      "Uniques after transformation (6,)\n",
      "Processed ProductName\n",
      "Processing Census_DeviceFamily\n",
      "Uniques before transformation (3,)\n",
      "Uniques after transformation (3,)\n",
      "Processed Census_DeviceFamily\n",
      "Processing Census_GenuineStateName\n",
      "Uniques before transformation (5,)\n",
      "Uniques after transformation (5,)\n",
      "Processed Census_GenuineStateName\n",
      "Processing Census_OSBranch\n",
      "Uniques before transformation (32,)\n",
      "Uniques after transformation (32,)\n",
      "Processed Census_OSBranch\n",
      "Processing Processor\n",
      "Uniques before transformation (3,)\n",
      "Uniques after transformation (3,)\n",
      "Processed Processor\n",
      "Processing Census_MDC2FormFactor\n",
      "Uniques before transformation (13,)\n",
      "Uniques after transformation (13,)\n",
      "Processed Census_MDC2FormFactor\n",
      "Processing Platform\n",
      "Uniques before transformation (4,)\n",
      "Uniques after transformation (4,)\n",
      "Processed Platform\n",
      "Processing Census_ActivationChannel\n",
      "Uniques before transformation (6,)\n",
      "Uniques after transformation (6,)\n",
      "Processed Census_ActivationChannel\n",
      "Processing Census_OSSkuName\n",
      "Uniques before transformation (30,)\n",
      "Uniques after transformation (30,)\n",
      "Processed Census_OSSkuName\n",
      "Processing EngineVersion\n",
      "Uniques before transformation (70,)\n",
      "Uniques after transformation (70,)\n",
      "Processed EngineVersion\n",
      "Processing Census_OSWUAutoUpdateOptionsName\n",
      "Uniques before transformation (6,)\n",
      "Uniques after transformation (6,)\n",
      "Processed Census_OSWUAutoUpdateOptionsName\n",
      "Processing SkuEdition\n",
      "Uniques before transformation (8,)\n",
      "Uniques after transformation (8,)\n",
      "Processed SkuEdition\n",
      "Processing AppVersion\n",
      "Uniques before transformation (110,)\n",
      "Uniques after transformation (110,)\n",
      "Processed AppVersion\n",
      "Processing AvSigVersion\n",
      "Uniques before transformation (8531,)\n",
      "Uniques after transformation (8531,)\n",
      "Processed AvSigVersion\n",
      "Processing OsVer\n",
      "Uniques before transformation (58,)\n",
      "Uniques after transformation (58,)\n",
      "Processed OsVer\n",
      "Processing Census_FlightRing\n",
      "Uniques before transformation (10,)\n",
      "Uniques after transformation (10,)\n",
      "Processed Census_FlightRing\n",
      "Processing OsPlatformSubRelease\n",
      "Uniques before transformation (9,)\n",
      "Uniques after transformation (9,)\n",
      "Processed OsPlatformSubRelease\n",
      "Processing Census_OSInstallTypeName\n",
      "Uniques before transformation (9,)\n",
      "Uniques after transformation (9,)\n",
      "Processed Census_OSInstallTypeName\n",
      "CPU times: user 2.14 s, sys: 328 ms, total: 2.47 s\n",
      "Wall time: 2.44 s\n"
     ]
    }
   ],
   "source": [
    "%%time\n",
    "for col in rest_categories:\n",
    "    print (f'Processing {col}')\n",
    "    u_bef = train[col].unique().shape\n",
    "    print (f'Uniques before transformation {u_bef}')\n",
    "    ## Data types converstion\n",
    "    if u_bef[0] < np.iinfo('int8').max:\n",
    "        train[col] = train[col].astype('int8')\n",
    "    elif u_bef[0] < np.iinfo('int16').max:\n",
    "        train[col] = train[col].astype('int16')\n",
    "    elif u_bef[0] < np.iinfo('int32').max:\n",
    "        train[col] = train[col].astype('int32')\n",
    "    else:\n",
    "        train[col] = train[col].astype('int64')\n",
    "    u_aft = train[col].unique().shape\n",
    "    print (f'Uniques after transformation {u_aft}')\n",
    "    print (f'Processed {col}')"
   ]
  },
  {
   "cell_type": "code",
   "execution_count": 24,
   "metadata": {
    "_uuid": "308f588dd5650364f46fc58bfdae345845800b3a"
   },
   "outputs": [
    {
     "data": {
      "text/plain": [
       "217"
      ]
     },
     "execution_count": 24,
     "metadata": {},
     "output_type": "execute_result"
    }
   ],
   "source": [
    "gc.collect()"
   ]
  },
  {
   "cell_type": "code",
   "execution_count": 25,
   "metadata": {
    "_uuid": "6a3360349dbb0fd33d3473ffa7ee12f6328f0246"
   },
   "outputs": [
    {
     "name": "stdout",
     "output_type": "stream",
     "text": [
      "['AutoSampleOptIn', 'Census_IsPortableOperatingSystem', 'Census_IsPenCapable', 'HasDetections', 'Census_IsTouchEnabled', 'Census_HasOpticalDiskDrive', 'IsSxsPassiveMode', 'Census_IsSecureBootEnabled', 'HasTpm']\n",
      "CPU times: user 1.12 s, sys: 1.23 s, total: 2.34 s\n",
      "Wall time: 2.34 s\n"
     ]
    }
   ],
   "source": [
    "%%time\n",
    "binary_columns = []\n",
    "for col in rest_numbers:\n",
    "    if train[col].unique().shape[0] ==2:\n",
    "        binary_columns.append(col)\n",
    "        train[col] = train[col]==1\n",
    "            \n",
    "print (binary_columns)"
   ]
  },
  {
   "cell_type": "code",
   "execution_count": 26,
   "metadata": {
    "_uuid": "6d4226f92359a56175f589946aaf5950c79d0bc6",
    "scrolled": true
   },
   "outputs": [
    {
     "name": "stdout",
     "output_type": "stream",
     "text": [
      "Processing LocaleEnglishNameIdentifier\n",
      "Uniques before transformation (252,)\n",
      "Uniques after transformation (252,)\n",
      "Processed LocaleEnglishNameIdentifier\n",
      "Processing OsBuild\n",
      "Uniques before transformation (76,)\n",
      "Uniques after transformation (76,)\n",
      "Processed OsBuild\n",
      "Processing CountryIdentifier\n",
      "Uniques before transformation (222,)\n",
      "Uniques after transformation (222,)\n",
      "Processed CountryIdentifier\n",
      "Processing Census_OSBuildNumber\n",
      "Uniques before transformation (165,)\n",
      "Uniques after transformation (165,)\n",
      "Processed Census_OSBuildNumber\n",
      "Processing OsSuite\n",
      "Uniques before transformation (14,)\n",
      "Uniques after transformation (14,)\n",
      "Processed OsSuite\n",
      "Processing Census_OSUILocaleIdentifier\n",
      "Uniques before transformation (147,)\n",
      "Uniques after transformation (147,)\n",
      "Processed Census_OSUILocaleIdentifier\n",
      "Processing Census_OSBuildRevision\n",
      "Uniques before transformation (285,)\n",
      "Uniques after transformation (285,)\n",
      "Processed Census_OSBuildRevision\n",
      "{'LocaleEnglishNameIdentifier': LabelEncoder(), 'OsBuild': LabelEncoder(), 'CountryIdentifier': LabelEncoder(), 'Census_OSBuildNumber': LabelEncoder(), 'OsSuite': LabelEncoder(), 'Census_OSUILocaleIdentifier': LabelEncoder(), 'Census_OSBuildRevision': LabelEncoder()}\n",
      "CPU times: user 58.2 s, sys: 1.91 s, total: 1min\n",
      "Wall time: 59.7 s\n"
     ]
    }
   ],
   "source": [
    "%%time\n",
    "rest_encoders = {}\n",
    "\n",
    "other_nonbin_cols = []\n",
    "for col in rest_numbers:\n",
    "    \n",
    "    if train[col].unique().shape[0] > 2:\n",
    "        other_nonbin_cols.append(col)\n",
    "        le = LabelEncoder()\n",
    "        train[col] = train[col].astype('str')\n",
    "        \n",
    "        print (f'Processing {col}')\n",
    "        u_bef = train[col].unique().shape\n",
    "        print (f'Uniques before transformation {u_bef}')\n",
    "        \n",
    "        le.fit(train[col])\n",
    "        train[col] = le.transform(train[col])\n",
    "        rest_encoders[col] = le\n",
    "             \n",
    "        ## Data types converstion\n",
    "        if u_bef[0] < np.iinfo('int8').max:\n",
    "            train[col] = train[col].astype('int8')\n",
    "        elif u_bef[0] < np.iinfo('int16').max:\n",
    "            train[col] = train[col].astype('int16')\n",
    "        elif u_bef[0] < np.iinfo('int32').max:\n",
    "            train[col] = train[col].astype('int32')\n",
    "        else:\n",
    "            train[col] = train[col].astype('int64')\n",
    "        \n",
    "        u_aft = train[col].unique().shape\n",
    "        print (f'Uniques after transformation {u_aft}')\n",
    "        print (f'Processed {col}')\n",
    "    \n",
    "        \n",
    "print (rest_encoders)"
   ]
  },
  {
   "cell_type": "code",
   "execution_count": 27,
   "metadata": {
    "_uuid": "4da1ef25dab91163e4ad34e8e931bceb04a7a5c5",
    "scrolled": true
   },
   "outputs": [
    {
     "name": "stdout",
     "output_type": "stream",
     "text": [
      "(8921483, 72)\n"
     ]
    },
    {
     "data": {
      "text/plain": [
       "ProductName                                             int8\n",
       "EngineVersion                                           int8\n",
       "AppVersion                                              int8\n",
       "AvSigVersion                                           int16\n",
       "RtpStateBitfield                                        int8\n",
       "IsSxsPassiveMode                                        bool\n",
       "AVProductStatesIdentifier                              int16\n",
       "AVProductsInstalled                                     int8\n",
       "AVProductsEnabled                                       int8\n",
       "HasTpm                                                  bool\n",
       "CountryIdentifier                                      int16\n",
       "CityIdentifier                                         int32\n",
       "GeoNameIdentifier                                      int16\n",
       "LocaleEnglishNameIdentifier                            int16\n",
       "Platform                                                int8\n",
       "Processor                                               int8\n",
       "OsVer                                                   int8\n",
       "OsBuild                                                 int8\n",
       "OsSuite                                                 int8\n",
       "OsPlatformSubRelease                                    int8\n",
       "OsBuildLab                                             int16\n",
       "SkuEdition                                              int8\n",
       "IsProtected                                             int8\n",
       "AutoSampleOptIn                                         bool\n",
       "SMode                                                   int8\n",
       "IeVerIdentifier                                        int16\n",
       "Firewall                                                int8\n",
       "UacLuaenable                                            int8\n",
       "Census_MDC2FormFactor                                   int8\n",
       "Census_DeviceFamily                                     int8\n",
       "Census_OEMNameIdentifier                               int16\n",
       "Census_OEMModelIdentifier                              int32\n",
       "Census_ProcessorCoreCount                               int8\n",
       "Census_ProcessorManufacturerIdentifier                  int8\n",
       "Census_ProcessorModelIdentifier                        int16\n",
       "Census_PrimaryDiskTotalCapacity                      float32\n",
       "Census_PrimaryDiskTypeName                              int8\n",
       "Census_SystemVolumeTotalCapacity                     float32\n",
       "Census_HasOpticalDiskDrive                              bool\n",
       "Census_TotalPhysicalRAM                              float32\n",
       "Census_ChassisTypeName                                  int8\n",
       "Census_InternalPrimaryDiagonalDisplaySizeInInches    float16\n",
       "Census_InternalPrimaryDisplayResolutionHorizontal    float16\n",
       "Census_InternalPrimaryDisplayResolutionVertical      float16\n",
       "Census_PowerPlatformRoleName                            int8\n",
       "Census_InternalBatteryNumberOfCharges                float32\n",
       "Census_OSVersion                                       int16\n",
       "Census_OSArchitecture                                   int8\n",
       "Census_OSBranch                                         int8\n",
       "Census_OSBuildNumber                                   int16\n",
       "Census_OSBuildRevision                                 int16\n",
       "Census_OSEdition                                        int8\n",
       "Census_OSSkuName                                        int8\n",
       "Census_OSInstallTypeName                                int8\n",
       "Census_OSInstallLanguageIdentifier                      int8\n",
       "Census_OSUILocaleIdentifier                            int16\n",
       "Census_OSWUAutoUpdateOptionsName                        int8\n",
       "Census_IsPortableOperatingSystem                        bool\n",
       "Census_GenuineStateName                                 int8\n",
       "Census_ActivationChannel                                int8\n",
       "Census_IsFlightsDisabled                                int8\n",
       "Census_FlightRing                                       int8\n",
       "Census_FirmwareManufacturerIdentifier                  int16\n",
       "Census_FirmwareVersionIdentifier                       int32\n",
       "Census_IsSecureBootEnabled                              bool\n",
       "Census_IsVirtualDevice                                  int8\n",
       "Census_IsTouchEnabled                                   bool\n",
       "Census_IsPenCapable                                     bool\n",
       "Census_IsAlwaysOnAlwaysConnectedCapable                 int8\n",
       "Wdft_IsGamer                                            int8\n",
       "Wdft_RegionIdentifier                                   int8\n",
       "HasDetections                                           bool\n",
       "dtype: object"
      ]
     },
     "metadata": {},
     "output_type": "display_data"
    }
   ],
   "source": [
    "print (train.shape)\n",
    "display_all(train.dtypes)"
   ]
  },
  {
   "cell_type": "code",
   "execution_count": 28,
   "metadata": {
    "_uuid": "8c920237aaf063feb95e547847d6f42ffff6448b"
   },
   "outputs": [],
   "source": [
    "train.dtypes.to_csv('train_proc_dtypes.csv')"
   ]
  },
  {
   "cell_type": "code",
   "execution_count": 29,
   "metadata": {
    "_uuid": "6bb5f98dd2bd223e75fb820b71a15b63526027ef"
   },
   "outputs": [
    {
     "name": "stdout",
     "output_type": "stream",
     "text": [
      "CPU times: user 17min 5s, sys: 1.41 s, total: 17min 7s\n",
      "Wall time: 17min 7s\n"
     ]
    }
   ],
   "source": [
    "%%time\n",
    "train.to_csv('train_proc.gz', compression='gzip', index=False)"
   ]
  },
  {
   "cell_type": "markdown",
   "metadata": {
    "_uuid": "69cc207f4ee55135569d4859481b0c3c210305b4"
   },
   "source": [
    "## Feature Importances"
   ]
  },
  {
   "cell_type": "markdown",
   "metadata": {
    "_uuid": "cf57fd910fbabc37d8a1496396f8cff478395cbc"
   },
   "source": [
    "from sklearn.model_selection import train_test_split\n",
    "from sklearn.ensemble import RandomForestClassifier\n",
    "\n",
    "train_X, val_X, train_y, val_y = train_test_split(train.iloc[:,:71], train.iloc[:,71], random_state=1)"
   ]
  },
  {
   "cell_type": "markdown",
   "metadata": {
    "_uuid": "47cf9b57476d4eb4c8c470e0f6943858c338c8fc"
   },
   "source": [
    "my_model = RandomForestClassifier(random_state=0).fit(train_X, train_y)"
   ]
  },
  {
   "cell_type": "markdown",
   "metadata": {
    "_uuid": "45ab8fb3e4a6d992220760fb8ca1c54cd825e6ec"
   },
   "source": [
    "from sklearn.metrics import accuracy_score\n",
    "\n",
    "print (accuracy_score(val_y, my_model.predict(val_X)))"
   ]
  },
  {
   "cell_type": "markdown",
   "metadata": {
    "_uuid": "bcfd35c57753fd3aca76fe9f97adbc1b9d07038d"
   },
   "source": [
    "import eli5\n",
    "from eli5.sklearn import PermutationImportance\n",
    "\n",
    "perm = PermutationImportance(my_model, random_state=1).fit(val_X, val_y)\n",
    "eli5.show_weights(perm, feature_names = val_X.columns.tolist())"
   ]
  },
  {
   "cell_type": "markdown",
   "metadata": {
    "_uuid": "523dd605921d8dea702c1b0a43e3e9c87962604d"
   },
   "source": [
    "### Processing the Test Data"
   ]
  },
  {
   "cell_type": "code",
   "execution_count": 30,
   "metadata": {
    "_uuid": "8c0d36e95de7c8370894222433d607a03470c1ff"
   },
   "outputs": [],
   "source": [
    "dtypes = {\n",
    "        'ProductName':                                          'category',\n",
    "        'EngineVersion':                                        'category',\n",
    "        'AppVersion':                                           'category',\n",
    "        'AvSigVersion':                                         'category',\n",
    "        'IsBeta':                                               'int8',\n",
    "        'RtpStateBitfield':                                     'float16',\n",
    "        'IsSxsPassiveMode':                                     'int8',\n",
    "        'DefaultBrowsersIdentifier':                            'float16',\n",
    "        'AVProductStatesIdentifier':                            'float32',\n",
    "        'AVProductsInstalled':                                  'float16',\n",
    "        'AVProductsEnabled':                                    'float16',\n",
    "        'HasTpm':                                               'int8',\n",
    "        'CountryIdentifier':                                    'int16',\n",
    "        'CityIdentifier':                                       'float32',\n",
    "        'OrganizationIdentifier':                               'float16',\n",
    "        'GeoNameIdentifier':                                    'float16',\n",
    "        'LocaleEnglishNameIdentifier':                          'int8',\n",
    "        'Platform':                                             'category',\n",
    "        'Processor':                                            'category',\n",
    "        'OsVer':                                                'category',\n",
    "        'OsBuild':                                              'int16',\n",
    "        'OsSuite':                                              'int16',\n",
    "        'OsPlatformSubRelease':                                 'category',\n",
    "        'OsBuildLab':                                           'category',\n",
    "        'SkuEdition':                                           'category',\n",
    "        'IsProtected':                                          'float16',\n",
    "        'AutoSampleOptIn':                                      'int8',\n",
    "        'PuaMode':                                              'category',\n",
    "        'SMode':                                                'float16',\n",
    "        'IeVerIdentifier':                                      'float16',\n",
    "        'SmartScreen':                                          'category',\n",
    "        'Firewall':                                             'float16',\n",
    "        'UacLuaenable':                                         'float32',\n",
    "        'Census_MDC2FormFactor':                                'category',\n",
    "        'Census_DeviceFamily':                                  'category',\n",
    "        'Census_OEMNameIdentifier':                             'float16',\n",
    "        'Census_OEMModelIdentifier':                            'float32',\n",
    "        'Census_ProcessorCoreCount':                            'float16',\n",
    "        'Census_ProcessorManufacturerIdentifier':               'float16',\n",
    "        'Census_ProcessorModelIdentifier':                      'float16',\n",
    "        'Census_ProcessorClass':                                'category',\n",
    "        'Census_PrimaryDiskTotalCapacity':                      'float32',\n",
    "        'Census_PrimaryDiskTypeName':                           'category',\n",
    "        'Census_SystemVolumeTotalCapacity':                     'float32',\n",
    "        'Census_HasOpticalDiskDrive':                           'int8',\n",
    "        'Census_TotalPhysicalRAM':                              'float32',\n",
    "        'Census_ChassisTypeName':                               'category',\n",
    "        'Census_InternalPrimaryDiagonalDisplaySizeInInches':    'float16',\n",
    "        'Census_InternalPrimaryDisplayResolutionHorizontal':    'float16',\n",
    "        'Census_InternalPrimaryDisplayResolutionVertical':      'float16',\n",
    "        'Census_PowerPlatformRoleName':                         'category',\n",
    "        'Census_InternalBatteryType':                           'category',\n",
    "        'Census_InternalBatteryNumberOfCharges':                'float32',\n",
    "        'Census_OSVersion':                                     'category',\n",
    "        'Census_OSArchitecture':                                'category',\n",
    "        'Census_OSBranch':                                      'category',\n",
    "        'Census_OSBuildNumber':                                 'int16',\n",
    "        'Census_OSBuildRevision':                               'int32',\n",
    "        'Census_OSEdition':                                     'category',\n",
    "        'Census_OSSkuName':                                     'category',\n",
    "        'Census_OSInstallTypeName':                             'category',\n",
    "        'Census_OSInstallLanguageIdentifier':                   'float16',\n",
    "        'Census_OSUILocaleIdentifier':                          'int16',\n",
    "        'Census_OSWUAutoUpdateOptionsName':                     'category',\n",
    "        'Census_IsPortableOperatingSystem':                     'int8',\n",
    "        'Census_GenuineStateName':                              'category',\n",
    "        'Census_ActivationChannel':                             'category',\n",
    "        'Census_IsFlightingInternal':                           'float16',\n",
    "        'Census_IsFlightsDisabled':                             'float16',\n",
    "        'Census_FlightRing':                                    'category',\n",
    "        'Census_ThresholdOptIn':                                'float16',\n",
    "        'Census_FirmwareManufacturerIdentifier':                'float16',\n",
    "        'Census_FirmwareVersionIdentifier':                     'float32',\n",
    "        'Census_IsSecureBootEnabled':                           'int8',\n",
    "        'Census_IsWIMBootEnabled':                              'float16',\n",
    "        'Census_IsVirtualDevice':                               'float16',\n",
    "        'Census_IsTouchEnabled':                                'int8',\n",
    "        'Census_IsPenCapable':                                  'int8',\n",
    "        'Census_IsAlwaysOnAlwaysConnectedCapable':              'float16',\n",
    "        'Wdft_IsGamer':                                         'float16',\n",
    "        'Wdft_RegionIdentifier':                                'float16'\n",
    "        }"
   ]
  },
  {
   "cell_type": "code",
   "execution_count": 31,
   "metadata": {
    "_uuid": "b47d869cbf0117edeb08925b095e82db666e56f4"
   },
   "outputs": [
    {
     "data": {
      "text/plain": [
       "7"
      ]
     },
     "execution_count": 31,
     "metadata": {},
     "output_type": "execute_result"
    }
   ],
   "source": [
    "train = None\n",
    "gc.collect()"
   ]
  },
  {
   "cell_type": "code",
   "execution_count": 32,
   "metadata": {
    "_uuid": "82b3a33d9405edbb311e29b87712ae42eafcbb08"
   },
   "outputs": [
    {
     "name": "stdout",
     "output_type": "stream",
     "text": [
      "CPU times: user 2min 8s, sys: 9.33 s, total: 2min 17s\n",
      "Wall time: 2min 17s\n"
     ]
    }
   ],
   "source": [
    "%%time\n",
    "temp = pd.read_csv('../input/test.csv', nrows=2)\n",
    "columns = temp.columns.tolist()\n",
    "columns.remove('MachineIdentifier')\n",
    "test = pd.read_csv('../input/test.csv', dtype=dtypes, usecols=columns)"
   ]
  },
  {
   "cell_type": "markdown",
   "metadata": {
    "_uuid": "db51d5bf7c7f3ae04fcb7cad49975d0fb4e9af1a"
   },
   "source": [
    "%%time\n",
    "train.to_csv('train_proc.gz', compression='gzip', index=False)"
   ]
  },
  {
   "cell_type": "code",
   "execution_count": 33,
   "metadata": {
    "_uuid": "6ee5c144821f0d7d07769d54fe5841e2f4c508bc"
   },
   "outputs": [
    {
     "data": {
      "text/plain": [
       "['LocaleEnglishNameIdentifier',\n",
       " 'AutoSampleOptIn',\n",
       " 'Census_IsPortableOperatingSystem',\n",
       " 'Census_IsPenCapable',\n",
       " 'HasDetections',\n",
       " 'Census_IsTouchEnabled',\n",
       " 'Census_HasOpticalDiskDrive',\n",
       " 'OsBuild',\n",
       " 'CountryIdentifier',\n",
       " 'Census_OSBuildNumber',\n",
       " 'OsSuite',\n",
       " 'Census_OSUILocaleIdentifier',\n",
       " 'IsSxsPassiveMode',\n",
       " 'Census_IsSecureBootEnabled',\n",
       " 'Census_OSBuildRevision',\n",
       " 'HasTpm']"
      ]
     },
     "execution_count": 33,
     "metadata": {},
     "output_type": "execute_result"
    }
   ],
   "source": [
    "rest_numbers"
   ]
  },
  {
   "cell_type": "code",
   "execution_count": 34,
   "metadata": {
    "_uuid": "35ebee39e45529bc216c8fb923eb881ba995e89b"
   },
   "outputs": [],
   "source": [
    "rest_numbers.remove('HasDetections')"
   ]
  },
  {
   "cell_type": "code",
   "execution_count": 35,
   "metadata": {
    "_uuid": "de0e39ff0529409275614c0eb3cc11ab2eaadad3"
   },
   "outputs": [],
   "source": [
    "binary_columns.remove('HasDetections')"
   ]
  },
  {
   "cell_type": "code",
   "execution_count": 36,
   "metadata": {
    "_uuid": "41dc53b2a469b186afa64d7f4fb72c46fc21baf2",
    "scrolled": true
   },
   "outputs": [],
   "source": [
    "missing = test.isnull().sum() * 100 / test.shape[0]"
   ]
  },
  {
   "cell_type": "code",
   "execution_count": 37,
   "metadata": {
    "_uuid": "1cc2b81743df82e96fafdbb61c6ef6d6ba3493f0",
    "scrolled": true
   },
   "outputs": [
    {
     "data": {
      "text/plain": [
       "ProductName                                           0.000000\n",
       "EngineVersion                                         0.000000\n",
       "AppVersion                                            0.000000\n",
       "AvSigVersion                                          0.000000\n",
       "IsBeta                                                0.000000\n",
       "RtpStateBitfield                                      0.410301\n",
       "IsSxsPassiveMode                                      0.000000\n",
       "DefaultBrowsersIdentifier                            96.089277\n",
       "AVProductStatesIdentifier                             0.302639\n",
       "AVProductsInstalled                                   0.302639\n",
       "AVProductsEnabled                                     0.302639\n",
       "HasTpm                                                0.000000\n",
       "CountryIdentifier                                     0.000000\n",
       "CityIdentifier                                        2.444363\n",
       "OrganizationIdentifier                               31.606380\n",
       "GeoNameIdentifier                                     0.001872\n",
       "LocaleEnglishNameIdentifier                           0.000000\n",
       "Platform                                              0.000000\n",
       "Processor                                             0.000000\n",
       "OsVer                                                 0.000000\n",
       "OsBuild                                               0.000000\n",
       "OsSuite                                               0.000000\n",
       "OsPlatformSubRelease                                  0.000000\n",
       "OsBuildLab                                            0.000216\n",
       "SkuEdition                                            0.000000\n",
       "IsProtected                                           0.301136\n",
       "AutoSampleOptIn                                       0.000000\n",
       "PuaMode                                              99.972139\n",
       "SMode                                                74.252950\n",
       "IeVerIdentifier                                       0.634081\n",
       "SmartScreen                                          44.547170\n",
       "Firewall                                              0.744558\n",
       "UacLuaenable                                          0.100150\n",
       "Census_MDC2FormFactor                                 0.000000\n",
       "Census_DeviceFamily                                   0.000000\n",
       "Census_OEMNameIdentifier                              1.140241\n",
       "Census_OEMModelIdentifier                             1.221596\n",
       "Census_ProcessorCoreCount                             0.780275\n",
       "Census_ProcessorManufacturerIdentifier                0.780326\n",
       "Census_ProcessorModelIdentifier                       0.780747\n",
       "Census_ProcessorClass                                99.767854\n",
       "Census_PrimaryDiskTotalCapacity                       0.951211\n",
       "Census_PrimaryDiskTypeName                            0.086677\n",
       "Census_SystemVolumeTotalCapacity                      0.951071\n",
       "Census_HasOpticalDiskDrive                            0.000000\n",
       "Census_TotalPhysicalRAM                               1.210339\n",
       "Census_ChassisTypeName                                0.004342\n",
       "Census_InternalPrimaryDiagonalDisplaySizeInInches     0.542578\n",
       "Census_InternalPrimaryDisplayResolutionHorizontal     0.541317\n",
       "Census_InternalPrimaryDisplayResolutionVertical       0.541317\n",
       "Census_PowerPlatformRoleName                          0.000331\n",
       "Census_InternalBatteryType                           76.144803\n",
       "Census_InternalBatteryNumberOfCharges                 3.046292\n",
       "Census_OSVersion                                      0.000000\n",
       "Census_OSArchitecture                                 0.000000\n",
       "Census_OSBranch                                       0.000000\n",
       "Census_OSBuildNumber                                  0.000000\n",
       "Census_OSBuildRevision                                0.000000\n",
       "Census_OSEdition                                      0.000064\n",
       "Census_OSSkuName                                      0.000000\n",
       "Census_OSInstallTypeName                              0.000000\n",
       "Census_OSInstallLanguageIdentifier                    0.748009\n",
       "Census_OSUILocaleIdentifier                           0.000000\n",
       "Census_OSWUAutoUpdateOptionsName                      0.000000\n",
       "Census_IsPortableOperatingSystem                      0.000000\n",
       "Census_GenuineStateName                               0.000013\n",
       "Census_ActivationChannel                              0.000000\n",
       "Census_IsFlightingInternal                           84.983408\n",
       "Census_IsFlightsDisabled                              1.601897\n",
       "Census_FlightRing                                     0.000000\n",
       "Census_ThresholdOptIn                                70.410504\n",
       "Census_FirmwareManufacturerIdentifier                 2.529321\n",
       "Census_FirmwareVersionIdentifier                      2.261789\n",
       "Census_IsSecureBootEnabled                            0.000000\n",
       "Census_IsWIMBootEnabled                              70.323814\n",
       "Census_IsVirtualDevice                                0.220176\n",
       "Census_IsTouchEnabled                                 0.000000\n",
       "Census_IsPenCapable                                   0.000000\n",
       "Census_IsAlwaysOnAlwaysConnectedCapable               1.147957\n",
       "Wdft_IsGamer                                          3.856453\n",
       "Wdft_RegionIdentifier                                 3.856453\n",
       "dtype: float64"
      ]
     },
     "metadata": {},
     "output_type": "display_data"
    }
   ],
   "source": [
    "display_all(missing)"
   ]
  },
  {
   "cell_type": "code",
   "execution_count": 38,
   "metadata": {
    "_uuid": "5b891bfe78e35d0ac90c72ae4cd79ef20ec4c891"
   },
   "outputs": [
    {
     "name": "stdout",
     "output_type": "stream",
     "text": [
      "Processing LocaleEnglishNameIdentifier\n",
      "Uniques before transformation (253,)\n",
      "Uniques after transformation (253,)\n",
      "Processed LocaleEnglishNameIdentifier\n",
      "Processing OsBuild\n",
      "Uniques before transformation (78,)\n",
      "Uniques after transformation (78,)\n",
      "Processed OsBuild\n",
      "Processing CountryIdentifier\n",
      "Uniques before transformation (222,)\n",
      "Uniques after transformation (222,)\n",
      "Processed CountryIdentifier\n",
      "Processing Census_OSBuildNumber\n",
      "Uniques before transformation (156,)\n",
      "Uniques after transformation (156,)\n",
      "Processed Census_OSBuildNumber\n",
      "Processing OsSuite\n",
      "Uniques before transformation (13,)\n",
      "Uniques after transformation (13,)\n",
      "Processed OsSuite\n",
      "Processing Census_OSUILocaleIdentifier\n",
      "Uniques before transformation (139,)\n",
      "Uniques after transformation (139,)\n",
      "Processed Census_OSUILocaleIdentifier\n",
      "Processing Census_OSBuildRevision\n",
      "Uniques before transformation (294,)\n",
      "Uniques after transformation (294,)\n",
      "Processed Census_OSBuildRevision\n",
      "CPU times: user 52.5 s, sys: 536 ms, total: 53.1 s\n",
      "Wall time: 52.7 s\n"
     ]
    }
   ],
   "source": [
    "%%time\n",
    "\n",
    "for col in rest_numbers: \n",
    "    if col != 'HasDetections':\n",
    "        if test[col].unique().shape[0] > 2:      \n",
    "            test[col] = test[col].astype('str')\n",
    "            print (f'Processing {col}')\n",
    "            u_bef = test[col].unique().shape\n",
    "            print (f'Uniques before transformation {u_bef}')      \n",
    "            \n",
    "            for attr in test[col].unique().tolist():\n",
    "                if attr not in rest_encoders[col].classes_:\n",
    "                    rest_encoders[col].classes_ = np.append(rest_encoders[col].classes_, values=attr)\n",
    "            \n",
    "            test[col] = rest_encoders[col].transform(test[col])\n",
    "            \n",
    "            ## Data types converstion\n",
    "            if u_bef[0] < np.iinfo('int8').max:\n",
    "                test[col] = test[col].astype('int8')\n",
    "            elif u_bef[0] < np.iinfo('int16').max:\n",
    "                test[col] = test[col].astype('int16')\n",
    "            elif u_bef[0] < np.iinfo('int32').max:\n",
    "                test[col] = test[col].astype('int32')\n",
    "            else:\n",
    "                test[col] = test[col].astype('int64')\n",
    "\n",
    "            u_aft = test[col].unique().shape\n",
    "            print (f'Uniques after transformation {u_aft}')\n",
    "            print (f'Processed {col}')\n",
    "    "
   ]
  },
  {
   "cell_type": "code",
   "execution_count": 39,
   "metadata": {
    "_uuid": "239dcc153b1ad7ed8d91340787a783af248d66cd"
   },
   "outputs": [
    {
     "name": "stdout",
     "output_type": "stream",
     "text": [
      "CPU times: user 452 ms, sys: 4 ms, total: 456 ms\n",
      "Wall time: 456 ms\n"
     ]
    }
   ],
   "source": [
    "%%time\n",
    "\n",
    "for col in binary_columns:\n",
    "    if test[col].unique().shape[0] == 2:\n",
    "        test[col] = test[col]==1"
   ]
  },
  {
   "cell_type": "code",
   "execution_count": 40,
   "metadata": {
    "_uuid": "0746f43be84702abb7c40fc14171c90eea811f92",
    "scrolled": true
   },
   "outputs": [
    {
     "name": "stdout",
     "output_type": "stream",
     "text": [
      "Processing Census_OSEdition\n",
      "Uniques before transformation (37,)\n",
      "Uniques after transformation (37,)\n",
      "Processed Census_OSEdition\n",
      "Processing Census_OSVersion\n",
      "Uniques before transformation (475,)\n",
      "Uniques after transformation (475,)\n",
      "Processed Census_OSVersion\n",
      "Processing Census_OSArchitecture\n",
      "Uniques before transformation (3,)\n",
      "Uniques after transformation (3,)\n",
      "Processed Census_OSArchitecture\n",
      "Processing ProductName\n",
      "Uniques before transformation (6,)\n",
      "Uniques after transformation (6,)\n",
      "Processed ProductName\n",
      "Processing Census_DeviceFamily\n",
      "Uniques before transformation (3,)\n",
      "Uniques after transformation (3,)\n",
      "Processed Census_DeviceFamily\n",
      "Processing Census_GenuineStateName\n",
      "Uniques before transformation (6,)\n",
      "Uniques after transformation (6,)\n",
      "Processed Census_GenuineStateName\n",
      "Processing Census_OSBranch\n",
      "Uniques before transformation (29,)\n",
      "Uniques after transformation (29,)\n",
      "Processed Census_OSBranch\n",
      "Processing Processor\n",
      "Uniques before transformation (3,)\n",
      "Uniques after transformation (3,)\n",
      "Processed Processor\n",
      "Processing Census_MDC2FormFactor\n",
      "Uniques before transformation (14,)\n",
      "Uniques after transformation (14,)\n",
      "Processed Census_MDC2FormFactor\n",
      "Processing Platform\n",
      "Uniques before transformation (4,)\n",
      "Uniques after transformation (4,)\n",
      "Processed Platform\n",
      "Processing Census_ActivationChannel\n",
      "Uniques before transformation (6,)\n",
      "Uniques after transformation (6,)\n",
      "Processed Census_ActivationChannel\n",
      "Processing Census_OSSkuName\n",
      "Uniques before transformation (31,)\n",
      "Uniques after transformation (31,)\n",
      "Processed Census_OSSkuName\n",
      "Processing EngineVersion\n",
      "Uniques before transformation (70,)\n",
      "Uniques after transformation (70,)\n",
      "Processed EngineVersion\n",
      "Processing Census_OSWUAutoUpdateOptionsName\n",
      "Uniques before transformation (6,)\n",
      "Uniques after transformation (6,)\n",
      "Processed Census_OSWUAutoUpdateOptionsName\n",
      "Processing SkuEdition\n",
      "Uniques before transformation (8,)\n",
      "Uniques after transformation (8,)\n",
      "Processed SkuEdition\n",
      "Processing AppVersion\n",
      "Uniques before transformation (120,)\n",
      "Uniques after transformation (120,)\n",
      "Processed AppVersion\n",
      "Processing AvSigVersion\n",
      "Uniques before transformation (9357,)\n",
      "Uniques after transformation (9357,)\n",
      "Processed AvSigVersion\n",
      "Processing OsVer\n",
      "Uniques before transformation (44,)\n",
      "Uniques after transformation (44,)\n",
      "Processed OsVer\n",
      "Processing Census_FlightRing\n",
      "Uniques before transformation (11,)\n",
      "Uniques after transformation (11,)\n",
      "Processed Census_FlightRing\n",
      "Processing OsPlatformSubRelease\n",
      "Uniques before transformation (9,)\n",
      "Uniques after transformation (9,)\n",
      "Processed OsPlatformSubRelease\n",
      "Processing Census_OSInstallTypeName\n",
      "Uniques before transformation (9,)\n",
      "Uniques after transformation (9,)\n",
      "Processed Census_OSInstallTypeName\n",
      "CPU times: user 49.5 s, sys: 1.07 s, total: 50.6 s\n",
      "Wall time: 50.4 s\n"
     ]
    }
   ],
   "source": [
    "%%time\n",
    "\n",
    "for col in rest_categories: \n",
    "    test[col] = test[col].astype('str')\n",
    "    print (f'Processing {col}')\n",
    "    u_bef = test[col].unique().shape\n",
    "    print (f'Uniques before transformation {u_bef}')      \n",
    "\n",
    "    for attr in test[col].unique().tolist():\n",
    "        if attr not in rest_categories_encoders[col].classes_:\n",
    "            rest_categories_encoders[col].classes_ = np.append(rest_categories_encoders[col].classes_, values=attr)\n",
    "\n",
    "    test[col] = rest_categories_encoders[col].transform(test[col])\n",
    "\n",
    "    ## Data types converstion\n",
    "    if u_bef[0] < np.iinfo('int8').max:\n",
    "        test[col] = test[col].astype('int8')\n",
    "    elif u_bef[0] < np.iinfo('int16').max:\n",
    "        test[col] = test[col].astype('int16')\n",
    "    elif u_bef[0] < np.iinfo('int32').max:\n",
    "        test[col] = test[col].astype('int32')\n",
    "    else:\n",
    "        test[col] = test[col].astype('int64')\n",
    "\n",
    "    u_aft = test[col].unique().shape\n",
    "    print (f'Uniques after transformation {u_aft}')\n",
    "    print (f'Processed {col}')"
   ]
  },
  {
   "cell_type": "code",
   "execution_count": 41,
   "metadata": {
    "_uuid": "b053a9fd0c64f7cb93043a594790d6c792328b0c"
   },
   "outputs": [],
   "source": [
    "test.Census_PrimaryDiskTotalCapacity.fillna(3089054.5, inplace=True)\n",
    "test.Census_SystemVolumeTotalCapacity.fillna(377368.25, inplace=True)\n",
    "test.Census_TotalPhysicalRAM.fillna(6115.266, inplace=True)\n",
    "test.Census_InternalPrimaryDisplayResolutionVertical.fillna(897.5707, inplace=True)\n",
    "test.Census_InternalPrimaryDiagonalDisplaySizeInInches.fillna(16.6760, inplace=True)\n",
    "test.Census_InternalPrimaryDisplayResolutionHorizontal.fillna(1547.716, inplace=True)\n",
    "test.Census_InternalBatteryNumberOfCharges.fillna(0.0, inplace=True)"
   ]
  },
  {
   "cell_type": "code",
   "execution_count": 42,
   "metadata": {
    "_uuid": "7a5d9e1d1fecd5cf5ee0dd26178ed99fd90812a1"
   },
   "outputs": [],
   "source": [
    "test.drop(axis=1, columns=[\"Census_IsWIMBootEnabled\",\"Census_InternalBatteryType\",\"Census_IsFlightingInternal\",\"Census_ProcessorClass\",\"Census_ThresholdOptIn\",\"DefaultBrowsersIdentifier\",\"OrganizationIdentifier\",\"PuaMode\",\"SmartScreen\", \"IsBeta\"], inplace=True)"
   ]
  },
  {
   "cell_type": "code",
   "execution_count": 43,
   "metadata": {
    "_uuid": "6281bb3ce5e39ad1cd902f0e27003a1d4fed1ede"
   },
   "outputs": [
    {
     "name": "stdout",
     "output_type": "stream",
     "text": [
      "hi\n"
     ]
    }
   ],
   "source": [
    "print ('hi')"
   ]
  },
  {
   "cell_type": "code",
   "execution_count": 44,
   "metadata": {
    "_uuid": "9234c8ccbe936c6f1ee3bee51151300f6854a132"
   },
   "outputs": [
    {
     "name": "stdout",
     "output_type": "stream",
     "text": [
      "Processing Census_IsFlightsDisabled\n",
      "Uniques before transformation (3,)\n",
      "Uniques after transformation (3,)\n",
      "Processed Census_IsFlightsDisabled\n",
      "Processing IsProtected\n",
      "Uniques before transformation (3,)\n",
      "Uniques after transformation (3,)\n",
      "Processed IsProtected\n",
      "Processing Firewall\n",
      "Uniques before transformation (3,)\n",
      "Uniques after transformation (3,)\n",
      "Processed Firewall\n",
      "Processing Wdft_IsGamer\n",
      "Uniques before transformation (3,)\n",
      "Uniques after transformation (3,)\n",
      "Processed Wdft_IsGamer\n",
      "Processing Census_OEMModelIdentifier\n",
      "Uniques before transformation (167777,)\n",
      "Uniques after transformation (167777,)\n",
      "Processed Census_OEMModelIdentifier\n",
      "Processing Census_OEMNameIdentifier\n",
      "Uniques before transformation (2501,)\n",
      "Uniques after transformation (2501,)\n",
      "Processed Census_OEMNameIdentifier\n",
      "Processing OsBuildLab\n",
      "Uniques before transformation (674,)\n",
      "Uniques after transformation (674,)\n",
      "Processed OsBuildLab\n",
      "Processing Census_FirmwareManufacturerIdentifier\n",
      "Uniques before transformation (723,)\n",
      "Uniques after transformation (723,)\n",
      "Processed Census_FirmwareManufacturerIdentifier\n",
      "Processing Census_ProcessorManufacturerIdentifier\n",
      "Uniques before transformation (8,)\n",
      "Uniques after transformation (8,)\n",
      "Processed Census_ProcessorManufacturerIdentifier\n",
      "Processing Census_IsVirtualDevice\n",
      "Uniques before transformation (3,)\n",
      "Uniques after transformation (3,)\n",
      "Processed Census_IsVirtualDevice\n",
      "Processing IeVerIdentifier\n",
      "Uniques before transformation (295,)\n",
      "Uniques after transformation (295,)\n",
      "Processed IeVerIdentifier\n",
      "Processing AVProductsInstalled\n",
      "Uniques before transformation (7,)\n",
      "Uniques after transformation (7,)\n",
      "Processed AVProductsInstalled\n",
      "Processing Wdft_RegionIdentifier\n",
      "Uniques before transformation (16,)\n",
      "Uniques after transformation (16,)\n",
      "Processed Wdft_RegionIdentifier\n",
      "Processing RtpStateBitfield\n",
      "Uniques before transformation (9,)\n",
      "Uniques after transformation (9,)\n",
      "Processed RtpStateBitfield\n",
      "Processing UacLuaenable\n",
      "Uniques before transformation (11,)\n",
      "Uniques after transformation (11,)\n",
      "Processed UacLuaenable\n",
      "Processing SMode\n",
      "Uniques before transformation (3,)\n",
      "Uniques after transformation (3,)\n",
      "Processed SMode\n",
      "Processing Census_IsAlwaysOnAlwaysConnectedCapable\n",
      "Uniques before transformation (3,)\n",
      "Uniques after transformation (3,)\n",
      "Processed Census_IsAlwaysOnAlwaysConnectedCapable\n",
      "Processing AVProductsEnabled\n",
      "Uniques before transformation (7,)\n",
      "Uniques after transformation (7,)\n",
      "Processed AVProductsEnabled\n",
      "Processing GeoNameIdentifier\n",
      "Uniques before transformation (290,)\n",
      "Uniques after transformation (290,)\n",
      "Processed GeoNameIdentifier\n",
      "Processing Census_ProcessorModelIdentifier\n",
      "Uniques before transformation (2592,)\n",
      "Uniques after transformation (2592,)\n",
      "Processed Census_ProcessorModelIdentifier\n",
      "Processing CityIdentifier\n",
      "Uniques before transformation (105818,)\n",
      "Uniques after transformation (105818,)\n",
      "Processed CityIdentifier\n",
      "Processing Census_OSInstallLanguageIdentifier\n",
      "Uniques before transformation (40,)\n",
      "Uniques after transformation (40,)\n",
      "Processed Census_OSInstallLanguageIdentifier\n",
      "Processing Census_FirmwareVersionIdentifier\n",
      "Uniques before transformation (49812,)\n",
      "Uniques after transformation (49812,)\n",
      "Processed Census_FirmwareVersionIdentifier\n",
      "Processing AVProductStatesIdentifier\n",
      "Uniques before transformation (23493,)\n",
      "Uniques after transformation (23493,)\n",
      "Processed AVProductStatesIdentifier\n",
      "CPU times: user 1h 50min 14s, sys: 5.72 s, total: 1h 50min 20s\n",
      "Wall time: 1h 50min 18s\n"
     ]
    }
   ],
   "source": [
    "%%time\n",
    "#aux = train.copy()\n",
    "#train = aux.copy()\n",
    "\n",
    "for col in proc:\n",
    "    test[col] = test[col].astype('str')\n",
    "    print (f'Processing {col}')\n",
    "    u_bef = test[col].unique().shape\n",
    "    print (f'Uniques before transformation {u_bef}')      \n",
    "\n",
    "    for attr in test[col].unique().tolist():\n",
    "        if attr not in encoders[col].classes_:\n",
    "            encoders[col].classes_ = np.append(encoders[col].classes_, values=attr)\n",
    "\n",
    "    test[col] = encoders[col].transform(test[col])\n",
    "    \n",
    "    ## Data types converstion\n",
    "    if u_bef[0] < np.iinfo('int8').max:\n",
    "        test[col] = test[col].astype('int8')\n",
    "    elif u_bef[0] < np.iinfo('int16').max:\n",
    "        test[col] = test[col].astype('int16')\n",
    "    elif u_bef[0] < np.iinfo('int32').max:\n",
    "        test[col] = test[col].astype('int32')\n",
    "    else:\n",
    "        test[col] = test[col].astype('int64')\n",
    "\n",
    "    u_aft = test[col].unique().shape\n",
    "    print (f'Uniques after transformation {u_aft}')\n",
    "    print (f'Processed {col}')"
   ]
  },
  {
   "cell_type": "code",
   "execution_count": 45,
   "metadata": {
    "_uuid": "f069380fefd0291dfd79f0cbf144b02b0d4c4d19"
   },
   "outputs": [
    {
     "name": "stdout",
     "output_type": "stream",
     "text": [
      "Before (3,)\n",
      "After (3,)\n"
     ]
    }
   ],
   "source": [
    "test[\"Census_PrimaryDiskTypeName\"] = test.Census_PrimaryDiskTypeName.str.replace('Unspecified', 'UNKNOWN')\n",
    "test.Census_PrimaryDiskTypeName.fillna(\"UNKNOWN\", inplace=True)\n",
    "test['Census_PrimaryDiskTypeName'] = test.Census_PrimaryDiskTypeName.astype('str')\n",
    "u_bfr = test['Census_PrimaryDiskTypeName'].unique().shape\n",
    "print (f'Before {u_bfr}')\n",
    "\n",
    "for attr in test[\"Census_PrimaryDiskTypeName\"].unique().tolist():\n",
    "        if attr not in other[\"Census_PrimaryDiskTypeName\"].classes_:\n",
    "            other[\"Census_PrimaryDiskTypeName\"].classes_ = np.append(other[\"Census_PrimaryDiskTypeName\"].classes_, values=attr)\n",
    "\n",
    "test['Census_PrimaryDiskTypeName'] = other[\"Census_PrimaryDiskTypeName\"].transform(test['Census_PrimaryDiskTypeName'])\n",
    "test['Census_PrimaryDiskTypeName'] = test.Census_PrimaryDiskTypeName.astype('int8')\n",
    "u_aftr = test['Census_PrimaryDiskTypeName'].unique().shape\n",
    "print (f'After {u_aftr}')"
   ]
  },
  {
   "cell_type": "code",
   "execution_count": 46,
   "metadata": {
    "_uuid": "f069380fefd0291dfd79f0cbf144b02b0d4c4d19"
   },
   "outputs": [
    {
     "name": "stdout",
     "output_type": "stream",
     "text": [
      "Before (9,)\n",
      "After (9,)\n",
      "Before (31,)\n",
      "After (31,)\n"
     ]
    }
   ],
   "source": [
    "test[\"Census_PowerPlatformRoleName\"] = test.Census_PowerPlatformRoleName.str.replace('Unspecified', 'UNKNOWN')\n",
    "test.Census_PowerPlatformRoleName.fillna(\"UNKNOWN\", inplace=True)\n",
    "test['Census_PowerPlatformRoleName'] = test.Census_PowerPlatformRoleName.astype('str')\n",
    "u_bfr = test['Census_PowerPlatformRoleName'].unique().shape\n",
    "print (f'Before {u_bfr}')\n",
    "\n",
    "for attr in test[\"Census_PowerPlatformRoleName\"].unique().tolist():\n",
    "        if attr not in other[\"Census_PowerPlatformRoleName\"].classes_:\n",
    "            other[\"Census_PowerPlatformRoleName\"].classes_ = np.append(other[\"Census_PowerPlatformRoleName\"].classes_, values=attr)\n",
    "\n",
    "test['Census_PowerPlatformRoleName'] = other[\"Census_PowerPlatformRoleName\"].transform(test['Census_PowerPlatformRoleName'])\n",
    "test['Census_PowerPlatformRoleName'] = test.Census_PowerPlatformRoleName.astype('int8')\n",
    "u_aftr = test['Census_PowerPlatformRoleName'].unique().shape\n",
    "print (f'After {u_aftr}')\n",
    "\n",
    "\n",
    "import re\n",
    "exp = re.compile('[0-9]+')\n",
    "\n",
    "test[\"Census_ChassisTypeName\"] = test.Census_ChassisTypeName.str.replace(exp, 'Unknown')\n",
    "test[\"Census_ChassisTypeName\"] = test.Census_ChassisTypeName.str.replace('Other', 'Unknown')\n",
    "test[\"Census_ChassisTypeName\"] = test.Census_ChassisTypeName.str.replace('UNKNOWN', 'Unknown')\n",
    "test.Census_ChassisTypeName.fillna('Unknown', inplace=True)\n",
    "test['Census_ChassisTypeName'] = test.Census_ChassisTypeName.astype('str')\n",
    "u_bfr = test['Census_ChassisTypeName'].unique().shape\n",
    "print (f'Before {u_bfr}')\n",
    "\n",
    "for attr in test[\"Census_ChassisTypeName\"].unique().tolist():\n",
    "        if attr not in other[\"Census_ChassisTypeName\"].classes_:\n",
    "            other[\"Census_ChassisTypeName\"].classes_ = np.append(other[\"Census_ChassisTypeName\"].classes_, values=attr)\n",
    "\n",
    "test['Census_ChassisTypeName'] = other[\"Census_ChassisTypeName\"].transform(test['Census_ChassisTypeName'])\n",
    "test['Census_ChassisTypeName'] = test.Census_ChassisTypeName.astype('int8')\n",
    "u_aftr = test['Census_ChassisTypeName'].unique().shape\n",
    "print (f'After {u_aftr}')"
   ]
  },
  {
   "cell_type": "code",
   "execution_count": 47,
   "metadata": {
    "_uuid": "e530c4543295de35c40939c1819027da24793d1a"
   },
   "outputs": [
    {
     "name": "stdout",
     "output_type": "stream",
     "text": [
      "Before (46,)\n",
      "After (46,)\n"
     ]
    }
   ],
   "source": [
    "\n",
    "test['Census_ProcessorCoreCount'] = test.Census_ProcessorCoreCount.astype('str')\n",
    "u_bfr = test['Census_ProcessorCoreCount'].unique().shape\n",
    "print (f'Before {u_bfr}')\n",
    "\n",
    "for attr in test[\"Census_ProcessorCoreCount\"].unique().tolist():\n",
    "        if attr not in other[\"Census_ProcessorCoreCount\"].classes_:\n",
    "            other[\"Census_ProcessorCoreCount\"].classes_ = np.append(other[\"Census_ProcessorCoreCount\"].classes_, values=attr)\n",
    "\n",
    "\n",
    "test['Census_ProcessorCoreCount'] = other['Census_ProcessorCoreCount'].transform(test['Census_ProcessorCoreCount'])\n",
    "u_aftr = test['Census_ProcessorCoreCount'].unique().shape\n",
    "print (f'After {u_aftr}')\n"
   ]
  },
  {
   "cell_type": "code",
   "execution_count": 48,
   "metadata": {
    "_uuid": "fb518d687899842406785ad2b6841b46ac710ea0"
   },
   "outputs": [],
   "source": [
    "test['Census_ProcessorCoreCount'] = test['Census_ProcessorCoreCount'].astype('int8')"
   ]
  },
  {
   "cell_type": "code",
   "execution_count": 49,
   "metadata": {
    "_uuid": "2bdcd284d732bb743c07860cffed2143335affdc"
   },
   "outputs": [
    {
     "data": {
      "text/plain": [
       "ProductName                                             int8\n",
       "EngineVersion                                           int8\n",
       "AppVersion                                              int8\n",
       "AvSigVersion                                           int16\n",
       "RtpStateBitfield                                        int8\n",
       "IsSxsPassiveMode                                        bool\n",
       "AVProductStatesIdentifier                              int16\n",
       "AVProductsInstalled                                     int8\n",
       "AVProductsEnabled                                       int8\n",
       "HasTpm                                                  bool\n",
       "CountryIdentifier                                      int16\n",
       "CityIdentifier                                         int32\n",
       "GeoNameIdentifier                                      int16\n",
       "LocaleEnglishNameIdentifier                            int16\n",
       "Platform                                                int8\n",
       "Processor                                               int8\n",
       "OsVer                                                   int8\n",
       "OsBuild                                                 int8\n",
       "OsSuite                                                 int8\n",
       "OsPlatformSubRelease                                    int8\n",
       "OsBuildLab                                             int16\n",
       "SkuEdition                                              int8\n",
       "IsProtected                                             int8\n",
       "AutoSampleOptIn                                         bool\n",
       "SMode                                                   int8\n",
       "IeVerIdentifier                                        int16\n",
       "Firewall                                                int8\n",
       "UacLuaenable                                            int8\n",
       "Census_MDC2FormFactor                                   int8\n",
       "Census_DeviceFamily                                     int8\n",
       "Census_OEMNameIdentifier                               int16\n",
       "Census_OEMModelIdentifier                              int32\n",
       "Census_ProcessorCoreCount                               int8\n",
       "Census_ProcessorManufacturerIdentifier                  int8\n",
       "Census_ProcessorModelIdentifier                        int16\n",
       "Census_PrimaryDiskTotalCapacity                      float32\n",
       "Census_PrimaryDiskTypeName                              int8\n",
       "Census_SystemVolumeTotalCapacity                     float32\n",
       "Census_HasOpticalDiskDrive                              bool\n",
       "Census_TotalPhysicalRAM                              float32\n",
       "Census_ChassisTypeName                                  int8\n",
       "Census_InternalPrimaryDiagonalDisplaySizeInInches    float16\n",
       "Census_InternalPrimaryDisplayResolutionHorizontal    float16\n",
       "Census_InternalPrimaryDisplayResolutionVertical      float16\n",
       "Census_PowerPlatformRoleName                            int8\n",
       "Census_InternalBatteryNumberOfCharges                float32\n",
       "Census_OSVersion                                       int16\n",
       "Census_OSArchitecture                                   int8\n",
       "Census_OSBranch                                         int8\n",
       "Census_OSBuildNumber                                   int16\n",
       "Census_OSBuildRevision                                 int16\n",
       "Census_OSEdition                                        int8\n",
       "Census_OSSkuName                                        int8\n",
       "Census_OSInstallTypeName                                int8\n",
       "Census_OSInstallLanguageIdentifier                      int8\n",
       "Census_OSUILocaleIdentifier                            int16\n",
       "Census_OSWUAutoUpdateOptionsName                        int8\n",
       "Census_IsPortableOperatingSystem                        bool\n",
       "Census_GenuineStateName                                 int8\n",
       "Census_ActivationChannel                                int8\n",
       "Census_IsFlightsDisabled                                int8\n",
       "Census_FlightRing                                       int8\n",
       "Census_FirmwareManufacturerIdentifier                  int16\n",
       "Census_FirmwareVersionIdentifier                       int32\n",
       "Census_IsSecureBootEnabled                              bool\n",
       "Census_IsVirtualDevice                                  int8\n",
       "Census_IsTouchEnabled                                   bool\n",
       "Census_IsPenCapable                                     bool\n",
       "Census_IsAlwaysOnAlwaysConnectedCapable                 int8\n",
       "Wdft_IsGamer                                            int8\n",
       "Wdft_RegionIdentifier                                   int8\n",
       "dtype: object"
      ]
     },
     "metadata": {},
     "output_type": "display_data"
    }
   ],
   "source": [
    "display_all(test.dtypes)"
   ]
  },
  {
   "cell_type": "code",
   "execution_count": 50,
   "metadata": {
    "_uuid": "cae153a88eae2ee1fba0b452991c71bb2da9abe3"
   },
   "outputs": [],
   "source": [
    "test.to_csv('test_proc.gz', compression='gzip', index=False)"
   ]
  },
  {
   "cell_type": "code",
   "execution_count": 51,
   "metadata": {
    "_uuid": "e4fec8a9933bc5ac8c21d2c9ca3d2e88f9abecae"
   },
   "outputs": [],
   "source": []
  }
 ],
 "metadata": {
  "kernelspec": {
   "display_name": "Python 3",
   "language": "python",
   "name": "python3"
  },
  "language_info": {
   "codemirror_mode": {
    "name": "ipython",
    "version": 3
   },
   "file_extension": ".py",
   "mimetype": "text/x-python",
   "name": "python",
   "nbconvert_exporter": "python",
   "pygments_lexer": "ipython3",
   "version": "3.6.6"
  }
 },
 "nbformat": 4,
 "nbformat_minor": 1
}
