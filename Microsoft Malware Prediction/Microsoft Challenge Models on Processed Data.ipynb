{
 "cells": [
  {
   "cell_type": "code",
   "execution_count": 5,
   "metadata": {},
   "outputs": [],
   "source": [
    "import pandas as pd\n",
    "import numpy as np\n",
    "import matplotlib.pyplot as plt"
   ]
  },
  {
   "cell_type": "code",
   "execution_count": 2,
   "metadata": {},
   "outputs": [],
   "source": [
    "train = pd.read_csv('train_processed.csv')"
   ]
  },
  {
   "cell_type": "code",
   "execution_count": 6,
   "metadata": {},
   "outputs": [],
   "source": [
    "def display_all(df):\n",
    "    with pd.option_context(\"display.max_rows\", 1000, \"display.max_columns\", 1000): \n",
    "        display(df)"
   ]
  },
  {
   "cell_type": "code",
   "execution_count": 8,
   "metadata": {},
   "outputs": [],
   "source": [
    "from sklearn.preprocessing import LabelEncoder\n",
    "\n",
    "le = LabelEncoder()\n",
    "train[\"Census_ChassisTypeName\"] = le.fit_transform(train.Census_ChassisTypeName)"
   ]
  },
  {
   "cell_type": "code",
   "execution_count": 10,
   "metadata": {},
   "outputs": [],
   "source": [
    "le = LabelEncoder()\n",
    "train[\"Census_PowerPlatformRoleName\"] = le.fit_transform(train.Census_PowerPlatformRoleName)\n",
    "le = LabelEncoder()\n",
    "train[\"Census_PrimaryDiskTypeName\"] = le.fit_transform(train.Census_PrimaryDiskTypeName)"
   ]
  },
  {
   "cell_type": "code",
   "execution_count": 16,
   "metadata": {},
   "outputs": [],
   "source": [
    "variance = train.var()"
   ]
  },
  {
   "cell_type": "code",
   "execution_count": 30,
   "metadata": {},
   "outputs": [],
   "source": [
    "subset_var = variance[variance>1.027555e+00].index"
   ]
  },
  {
   "cell_type": "code",
   "execution_count": 33,
   "metadata": {},
   "outputs": [
    {
     "data": {
      "text/plain": [
       "0.24999998502432877"
      ]
     },
     "execution_count": 33,
     "metadata": {},
     "output_type": "execute_result"
    }
   ],
   "source": [
    "train.HasDetections.var()"
   ]
  },
  {
   "cell_type": "code",
   "execution_count": 36,
   "metadata": {},
   "outputs": [
    {
     "data": {
      "text/plain": [
       "IsBeta                                               7.509907e-06\n",
       "AutoSampleOptIn                                      2.891813e-05\n",
       "Census_IsPortableOperatingSystem                     5.449037e-04\n",
       "Census_DeviceFamily                                  1.614843e-03\n",
       "HasTpm                                               1.188425e-02\n",
       "Census_IsVirtualDevice                               1.406706e-02\n",
       "IsSxsPassiveMode                                     1.703332e-02\n",
       "Firewall                                             3.131739e-02\n",
       "Census_IsPenCapable                                  3.662152e-02\n",
       "IsProtected                                          5.568506e-02\n",
       "AVProductsEnabled                                    6.486237e-02\n",
       "Census_IsFlightsDisabled                             7.068563e-02\n",
       "Census_HasOpticalDiskDrive                           7.122941e-02\n",
       "Processor                                            8.311743e-02\n",
       "Census_IsAlwaysOnAlwaysConnectedCapable              8.362488e-02\n",
       "ProductName                                          9.472882e-02\n",
       "Census_IsTouchEnabled                                1.097821e-01\n",
       "Census_GenuineStateName                              1.258529e-01\n",
       "Platform                                             2.321709e-01\n",
       "Census_IsSecureBootEnabled                           2.498047e-01\n",
       "HasDetections                                        2.500000e-01\n",
       "Wdft_IsGamer                                         2.930504e-01\n",
       "AVProductsInstalled                                  3.170938e-01\n",
       "Census_OSArchitecture                                3.321459e-01\n",
       "Census_FlightRing                                    3.400832e-01\n",
       "Census_PrimaryDiskTypeName                           3.891139e-01\n",
       "SkuEdition                                           1.027555e+00\n",
       "Census_ActivationChannel                             1.291412e+00\n",
       "Census_PowerPlatformRoleName                         1.741083e+00\n",
       "OsPlatformSubRelease                                 1.843439e+00\n",
       "Census_OSWUAutoUpdateOptionsName                     1.957277e+00\n",
       "Census_ProcessorCoreCount                            4.316949e+00\n",
       "Census_OSInstallTypeName                             4.565840e+00\n",
       "Census_MDC2FormFactor                                8.971403e+00\n",
       "EngineVersion                                        2.832665e+01\n",
       "Wdft_RegionIdentifier                                3.050766e+01\n",
       "Census_OSBranch                                      3.051255e+01\n",
       "Census_OSSkuName                                     3.443152e+01\n",
       "Census_InternalPrimaryDiagonalDisplaySizeInInches    3.454318e+01\n",
       "Census_OSEdition                                     4.077043e+01\n",
       "RtpStateBitfield                                     4.225327e+01\n",
       "Census_ChassisTypeName                               4.494166e+01\n",
       "Census_ProcessorManufacturerIdentifier               5.201330e+01\n",
       "OsVer                                                5.480572e+01\n",
       "Census_OSInstallLanguageIdentifier                   1.912109e+02\n",
       "AppVersion                                           3.743386e+02\n",
       "Census_OSUILocaleIdentifier                          2.024993e+03\n",
       "IeVerIdentifier                                      2.146024e+03\n",
       "CountryIdentifier                                    3.974932e+03\n",
       "LocaleEnglishNameIdentifier                          4.304398e+03\n",
       "OsBuildLab                                           7.464972e+03\n",
       "GeoNameIdentifier                                    7.979275e+03\n",
       "Census_OSVersion                                     9.157196e+03\n",
       "Census_InternalPrimaryDisplayResolutionVertical      4.582081e+04\n",
       "Census_FirmwareManufacturerIdentifier                5.320869e+04\n",
       "OsSuite                                              6.154600e+04\n",
       "Census_InternalPrimaryDisplayResolutionHorizontal    1.349830e+05\n",
       "Census_ProcessorModelIdentifier                      7.315308e+05\n",
       "AvSigVersion                                         8.419807e+05\n",
       "Census_OEMNameIdentifier                             1.769548e+06\n",
       "Census_OSBuildNumber                                 3.848435e+06\n",
       "OsBuild                                              4.799101e+06\n",
       "Census_OSBuildRevision                               8.596453e+06\n",
       "Census_TotalPhysicalRAM                              2.593537e+07\n",
       "UacLuaenable                                         9.725461e+07\n",
       "AVProductStatesIdentifier                            2.054009e+08\n",
       "Census_FirmwareVersionIdentifier                     4.610058e+08\n",
       "CityIdentifier                                       2.538869e+09\n",
       "Census_OEMModelIdentifier                            5.765549e+09\n",
       "Census_SystemVolumeTotalCapacity                     1.055663e+11\n",
       "Census_InternalBatteryNumberOfCharges                3.493262e+18\n",
       "Census_PrimaryDiskTotalCapacity                      1.969928e+19\n",
       "dtype: float64"
      ]
     },
     "metadata": {},
     "output_type": "display_data"
    }
   ],
   "source": [
    "display_all(variance.sort_values())"
   ]
  },
  {
   "cell_type": "code",
   "execution_count": 40,
   "metadata": {},
   "outputs": [],
   "source": [
    "from sklearn.model_selection import train_test_split\n",
    "\n",
    "X_train, X_test, y_train, y_test = train_test_split(train.iloc[:,:71], train.iloc[:,71], test_size=0.2, train_size=0.8, random_state=42)"
   ]
  },
  {
   "cell_type": "code",
   "execution_count": 42,
   "metadata": {},
   "outputs": [],
   "source": [
    "X_valid = X_test.iloc[:800000,:]\n",
    "y_valid = y_test.iloc[:800000]"
   ]
  },
  {
   "cell_type": "code",
   "execution_count": 43,
   "metadata": {},
   "outputs": [],
   "source": [
    "X_test = X_test.iloc[800000:,:]\n",
    "y_test = y_test.iloc[800000:]"
   ]
  },
  {
   "cell_type": "code",
   "execution_count": 44,
   "metadata": {},
   "outputs": [
    {
     "name": "stdout",
     "output_type": "stream",
     "text": [
      "(800000, 71)\n",
      "(800000,)\n",
      "(984297, 71)\n",
      "(800000,)\n"
     ]
    }
   ],
   "source": [
    "print (X_valid.shape)\n",
    "print (y_valid.shape)\n",
    "print (X_test.shape)\n",
    "print (y_valid.shape)"
   ]
  },
  {
   "cell_type": "code",
   "execution_count": 45,
   "metadata": {},
   "outputs": [
    {
     "name": "stderr",
     "output_type": "stream",
     "text": [
      "[Parallel(n_jobs=-1)]: Done  10 out of  10 | elapsed:  2.8min finished\n"
     ]
    },
    {
     "data": {
      "text/plain": [
       "RandomForestClassifier(bootstrap=True, class_weight=None, criterion='gini',\n",
       "            max_depth=10, max_features='auto', max_leaf_nodes=None,\n",
       "            min_impurity_decrease=0.0, min_impurity_split=None,\n",
       "            min_samples_leaf=1, min_samples_split=2,\n",
       "            min_weight_fraction_leaf=0.0, n_estimators=10, n_jobs=-1,\n",
       "            oob_score=False, random_state=None, verbose=1,\n",
       "            warm_start=False)"
      ]
     },
     "execution_count": 45,
     "metadata": {},
     "output_type": "execute_result"
    }
   ],
   "source": [
    "from sklearn.ensemble import RandomForestClassifier\n",
    "m = RandomForestClassifier(n_jobs=-1, max_depth=10, verbose=1)\n",
    "m.fit(X_train, y_train)"
   ]
  },
  {
   "cell_type": "code",
   "execution_count": 48,
   "metadata": {},
   "outputs": [
    {
     "name": "stderr",
     "output_type": "stream",
     "text": [
      "[Parallel(n_jobs=4)]: Done  10 out of  10 | elapsed:    0.8s finished\n"
     ]
    },
    {
     "data": {
      "text/plain": [
       "0.6116275"
      ]
     },
     "execution_count": 48,
     "metadata": {},
     "output_type": "execute_result"
    }
   ],
   "source": [
    "m.score(X_valid, y_valid)"
   ]
  },
  {
   "cell_type": "code",
   "execution_count": 49,
   "metadata": {},
   "outputs": [
    {
     "name": "stderr",
     "output_type": "stream",
     "text": [
      "[Parallel(n_jobs=-1)]: Done  10 out of  10 | elapsed:  1.3min finished\n"
     ]
    },
    {
     "data": {
      "text/plain": [
       "ExtraTreesClassifier(bootstrap=False, class_weight=None, criterion='gini',\n",
       "           max_depth=10, max_features='auto', max_leaf_nodes=None,\n",
       "           min_impurity_decrease=0.0, min_impurity_split=None,\n",
       "           min_samples_leaf=1, min_samples_split=2,\n",
       "           min_weight_fraction_leaf=0.0, n_estimators=10, n_jobs=-1,\n",
       "           oob_score=False, random_state=None, verbose=1, warm_start=False)"
      ]
     },
     "execution_count": 49,
     "metadata": {},
     "output_type": "execute_result"
    }
   ],
   "source": [
    "from sklearn.ensemble import ExtraTreesClassifier\n",
    "\n",
    "e = ExtraTreesClassifier(n_jobs=-1, max_depth=10, verbose=1)\n",
    "e.fit(X_train, y_train)"
   ]
  },
  {
   "cell_type": "code",
   "execution_count": 50,
   "metadata": {},
   "outputs": [
    {
     "name": "stderr",
     "output_type": "stream",
     "text": [
      "[Parallel(n_jobs=4)]: Done  10 out of  10 | elapsed:    0.7s finished\n"
     ]
    },
    {
     "data": {
      "text/plain": [
       "0.592405"
      ]
     },
     "execution_count": 50,
     "metadata": {},
     "output_type": "execute_result"
    }
   ],
   "source": [
    "e.score(X_valid, y_valid)"
   ]
  },
  {
   "cell_type": "code",
   "execution_count": 51,
   "metadata": {},
   "outputs": [],
   "source": [
    "best_features = m.feature_importances_"
   ]
  },
  {
   "cell_type": "code",
   "execution_count": 52,
   "metadata": {},
   "outputs": [
    {
     "data": {
      "text/plain": [
       "array([1.62762973e-04, 7.16658906e-02, 2.99871272e-02, 1.47237736e-01,\n",
       "       0.00000000e+00, 1.47019062e-02, 6.88970446e-03, 2.10535631e-01,\n",
       "       9.63854162e-02, 2.00503353e-02, 2.10531521e-03, 2.54612025e-03,\n",
       "       5.76950937e-04, 2.21478591e-03, 7.55381036e-03, 1.21784407e-03,\n",
       "       8.88672633e-03, 4.48028970e-04, 4.13517701e-03, 4.63649042e-04,\n",
       "       1.40269768e-03, 7.29576091e-03, 7.74934492e-04, 5.77564140e-03,\n",
       "       4.06730694e-06, 6.63195663e-03, 4.86339157e-04, 1.21896217e-04,\n",
       "       7.33508597e-03, 1.38731425e-05, 2.68884644e-03, 2.07810096e-03,\n",
       "       8.91312040e-03, 1.37680980e-04, 5.84257025e-03, 3.94899054e-02,\n",
       "       1.46097947e-03, 1.10146187e-02, 2.17609283e-04, 3.83649828e-02,\n",
       "       5.18331256e-03, 2.79061762e-02, 1.26354098e-02, 3.05889256e-03,\n",
       "       1.21864968e-02, 1.42601599e-03, 1.52046407e-02, 1.80824593e-02,\n",
       "       2.56365668e-03, 3.77309994e-03, 7.77593878e-03, 6.91469089e-03,\n",
       "       3.87812993e-03, 1.39438531e-02, 3.80896315e-03, 4.91553557e-03,\n",
       "       3.32339328e-03, 0.00000000e+00, 1.67876047e-03, 1.67865953e-02,\n",
       "       9.50920619e-04, 2.46226808e-04, 1.83504361e-03, 1.98479365e-03,\n",
       "       3.06075880e-03, 2.51217366e-02, 6.26595397e-03, 1.02040164e-04,\n",
       "       1.19435287e-02, 7.66904334e-03, 7.95834706e-03])"
      ]
     },
     "execution_count": 52,
     "metadata": {},
     "output_type": "execute_result"
    }
   ],
   "source": [
    "best_features"
   ]
  },
  {
   "cell_type": "code",
   "execution_count": 53,
   "metadata": {},
   "outputs": [
    {
     "name": "stdout",
     "output_type": "stream",
     "text": [
      "CPU times: user 0 ns, sys: 0 ns, total: 0 ns\n",
      "Wall time: 97 µs\n"
     ]
    },
    {
     "name": "stderr",
     "output_type": "stream",
     "text": [
      "[Parallel(n_jobs=-1)]: Done  10 out of  10 | elapsed:  9.7min finished\n"
     ]
    },
    {
     "data": {
      "text/plain": [
       "RandomForestClassifier(bootstrap=True, class_weight=None, criterion='gini',\n",
       "            max_depth=10, max_features=0.5, max_leaf_nodes=None,\n",
       "            min_impurity_decrease=0.0, min_impurity_split=None,\n",
       "            min_samples_leaf=1, min_samples_split=2,\n",
       "            min_weight_fraction_leaf=0.0, n_estimators=10, n_jobs=-1,\n",
       "            oob_score=False, random_state=None, verbose=1,\n",
       "            warm_start=False)"
      ]
     },
     "execution_count": 53,
     "metadata": {},
     "output_type": "execute_result"
    }
   ],
   "source": [
    "from sklearn.ensemble import RandomForestClassifier\n",
    "%time m1 = RandomForestClassifier(n_jobs=-1, max_depth=10, verbose=1, max_features=0.5)\n",
    "m1.fit(X_train, y_train)"
   ]
  },
  {
   "cell_type": "code",
   "execution_count": 54,
   "metadata": {},
   "outputs": [
    {
     "name": "stderr",
     "output_type": "stream",
     "text": [
      "[Parallel(n_jobs=4)]: Done  10 out of  10 | elapsed:    4.1s finished\n"
     ]
    },
    {
     "data": {
      "text/plain": [
       "0.6168188695096358"
      ]
     },
     "execution_count": 54,
     "metadata": {},
     "output_type": "execute_result"
    }
   ],
   "source": [
    "m1.score(X_train, y_train)"
   ]
  },
  {
   "cell_type": "code",
   "execution_count": 55,
   "metadata": {},
   "outputs": [
    {
     "name": "stderr",
     "output_type": "stream",
     "text": [
      "[Parallel(n_jobs=4)]: Done  10 out of  10 | elapsed:    0.8s finished\n"
     ]
    },
    {
     "data": {
      "text/plain": [
       "0.61562625"
      ]
     },
     "execution_count": 55,
     "metadata": {},
     "output_type": "execute_result"
    }
   ],
   "source": [
    "m1.score(X_valid, y_valid)"
   ]
  },
  {
   "cell_type": "code",
   "execution_count": 56,
   "metadata": {},
   "outputs": [],
   "source": [
    "f_imp = pd.Series(index=X_train.columns,data=m1.feature_importances_)\n"
   ]
  },
  {
   "cell_type": "code",
   "execution_count": 60,
   "metadata": {},
   "outputs": [
    {
     "data": {
      "text/plain": [
       "AVProductsInstalled                                  0.191986\n",
       "AVProductStatesIdentifier                            0.184544\n",
       "AvSigVersion                                         0.142930\n",
       "Census_PrimaryDiskTotalCapacity                      0.057659\n",
       "EngineVersion                                        0.056827\n",
       "Census_InternalPrimaryDiagonalDisplaySizeInInches    0.050188\n",
       "AppVersion                                           0.048676\n",
       "Census_TotalPhysicalRAM                              0.045199\n",
       "Census_OSInstallTypeName                             0.039083\n",
       "Census_IsVirtualDevice                               0.013401\n",
       "Census_ActivationChannel                             0.012174\n",
       "Wdft_IsGamer                                         0.011999\n",
       "Census_OSVersion                                     0.010698\n",
       "IeVerIdentifier                                      0.008876\n",
       "Wdft_RegionIdentifier                                0.007384\n",
       "Census_OSUILocaleIdentifier                          0.007268\n",
       "RtpStateBitfield                                     0.006534\n",
       "LocaleEnglishNameIdentifier                          0.006220\n",
       "OsBuildLab                                           0.006210\n",
       "Processor                                            0.005950\n",
       "Census_OSArchitecture                                0.005461\n",
       "Census_InternalPrimaryDisplayResolutionHorizontal    0.005340\n",
       "Census_ChassisTypeName                               0.005181\n",
       "OsBuild                                              0.004651\n",
       "CountryIdentifier                                    0.003843\n",
       "IsProtected                                          0.003696\n",
       "Census_OSSkuName                                     0.003622\n",
       "Census_OSInstallLanguageIdentifier                   0.003516\n",
       "Census_SystemVolumeTotalCapacity                     0.003504\n",
       "Census_OSBuildRevision                               0.003295\n",
       "Census_OEMNameIdentifier                             0.003285\n",
       "Census_ProcessorModelIdentifier                      0.003204\n",
       "Census_OSEdition                                     0.002995\n",
       "AVProductsEnabled                                    0.002743\n",
       "Census_IsTouchEnabled                                0.002721\n",
       "Census_InternalPrimaryDisplayResolutionVertical      0.002590\n",
       "Census_ProcessorCoreCount                            0.002331\n",
       "Census_OEMModelIdentifier                            0.002118\n",
       "Census_IsAlwaysOnAlwaysConnectedCapable              0.002031\n",
       "GeoNameIdentifier                                    0.001772\n",
       "Census_MDC2FormFactor                                0.001770\n",
       "Census_PowerPlatformRoleName                         0.001675\n",
       "Census_FirmwareVersionIdentifier                     0.001461\n",
       "Census_OSWUAutoUpdateOptionsName                     0.001274\n",
       "IsSxsPassiveMode                                     0.001234\n",
       "Census_InternalBatteryNumberOfCharges                0.001221\n",
       "Census_OSBuildNumber                                 0.001188\n",
       "HasTpm                                               0.001068\n",
       "Census_IsSecureBootEnabled                           0.001059\n",
       "SkuEdition                                           0.000789\n",
       "Firewall                                             0.000778\n",
       "Census_GenuineStateName                              0.000751\n",
       "OsSuite                                              0.000693\n",
       "CityIdentifier                                       0.000640\n",
       "Census_PrimaryDiskTypeName                           0.000420\n",
       "Census_FirmwareManufacturerIdentifier                0.000396\n",
       "Census_OSBranch                                      0.000394\n",
       "OsPlatformSubRelease                                 0.000361\n",
       "OsVer                                                0.000313\n",
       "Census_HasOpticalDiskDrive                           0.000157\n",
       "Census_ProcessorManufacturerIdentifier               0.000151\n",
       "Census_IsPenCapable                                  0.000136\n",
       "Census_FlightRing                                    0.000117\n",
       "UacLuaenable                                         0.000093\n",
       "ProductName                                          0.000055\n",
       "Census_IsFlightsDisabled                             0.000053\n",
       "Platform                                             0.000046\n",
       "AutoSampleOptIn                                      0.000000\n",
       "IsBeta                                               0.000000\n",
       "Census_DeviceFamily                                  0.000000\n",
       "Census_IsPortableOperatingSystem                     0.000000\n",
       "dtype: float64"
      ]
     },
     "metadata": {},
     "output_type": "display_data"
    }
   ],
   "source": [
    "display_all(f_imp.sort_values(ascending=False))"
   ]
  },
  {
   "cell_type": "code",
   "execution_count": 61,
   "metadata": {},
   "outputs": [],
   "source": [
    "import seaborn as sns"
   ]
  },
  {
   "cell_type": "code",
   "execution_count": 64,
   "metadata": {},
   "outputs": [
    {
     "data": {
      "text/plain": [
       "<matplotlib.axes._subplots.AxesSubplot at 0x7ff925a1d6d8>"
      ]
     },
     "execution_count": 64,
     "metadata": {},
     "output_type": "execute_result"
    },
    {
     "data": {
      "image/png": "[encoded data removed]",
      "text/plain": [
       "<Figure size 432x288 with 1 Axes>"
      ]
     },
     "metadata": {},
     "output_type": "display_data"
    }
   ],
   "source": [
    "sns.barplot(x=f_imp.index, y=f_imp.values*100)"
   ]
  },
  {
   "cell_type": "code",
   "execution_count": 65,
   "metadata": {},
   "outputs": [],
   "source": [
    "f_imp = f_imp.sort_values(ascending=False)"
   ]
  },
  {
   "cell_type": "code",
   "execution_count": 66,
   "metadata": {},
   "outputs": [
    {
     "data": {
      "text/plain": [
       "AVProductsInstalled                                  0.191986\n",
       "AVProductStatesIdentifier                            0.184544\n",
       "AvSigVersion                                         0.142930\n",
       "Census_PrimaryDiskTotalCapacity                      0.057659\n",
       "EngineVersion                                        0.056827\n",
       "Census_InternalPrimaryDiagonalDisplaySizeInInches    0.050188\n",
       "AppVersion                                           0.048676\n",
       "Census_TotalPhysicalRAM                              0.045199\n",
       "Census_OSInstallTypeName                             0.039083\n",
       "Census_IsVirtualDevice                               0.013401\n",
       "Census_ActivationChannel                             0.012174\n",
       "Wdft_IsGamer                                         0.011999\n",
       "Census_OSVersion                                     0.010698\n",
       "IeVerIdentifier                                      0.008876\n",
       "Wdft_RegionIdentifier                                0.007384\n",
       "Census_OSUILocaleIdentifier                          0.007268\n",
       "RtpStateBitfield                                     0.006534\n",
       "LocaleEnglishNameIdentifier                          0.006220\n",
       "OsBuildLab                                           0.006210\n",
       "Processor                                            0.005950\n",
       "Census_OSArchitecture                                0.005461\n",
       "Census_InternalPrimaryDisplayResolutionHorizontal    0.005340\n",
       "Census_ChassisTypeName                               0.005181\n",
       "OsBuild                                              0.004651\n",
       "CountryIdentifier                                    0.003843\n",
       "IsProtected                                          0.003696\n",
       "Census_OSSkuName                                     0.003622\n",
       "Census_OSInstallLanguageIdentifier                   0.003516\n",
       "Census_SystemVolumeTotalCapacity                     0.003504\n",
       "Census_OSBuildRevision                               0.003295\n",
       "Census_OEMNameIdentifier                             0.003285\n",
       "Census_ProcessorModelIdentifier                      0.003204\n",
       "Census_OSEdition                                     0.002995\n",
       "AVProductsEnabled                                    0.002743\n",
       "Census_IsTouchEnabled                                0.002721\n",
       "Census_InternalPrimaryDisplayResolutionVertical      0.002590\n",
       "Census_ProcessorCoreCount                            0.002331\n",
       "Census_OEMModelIdentifier                            0.002118\n",
       "Census_IsAlwaysOnAlwaysConnectedCapable              0.002031\n",
       "GeoNameIdentifier                                    0.001772\n",
       "Census_MDC2FormFactor                                0.001770\n",
       "Census_PowerPlatformRoleName                         0.001675\n",
       "Census_FirmwareVersionIdentifier                     0.001461\n",
       "Census_OSWUAutoUpdateOptionsName                     0.001274\n",
       "IsSxsPassiveMode                                     0.001234\n",
       "Census_InternalBatteryNumberOfCharges                0.001221\n",
       "Census_OSBuildNumber                                 0.001188\n",
       "HasTpm                                               0.001068\n",
       "Census_IsSecureBootEnabled                           0.001059\n",
       "SkuEdition                                           0.000789\n",
       "Firewall                                             0.000778\n",
       "Census_GenuineStateName                              0.000751\n",
       "OsSuite                                              0.000693\n",
       "CityIdentifier                                       0.000640\n",
       "Census_PrimaryDiskTypeName                           0.000420\n",
       "Census_FirmwareManufacturerIdentifier                0.000396\n",
       "Census_OSBranch                                      0.000394\n",
       "OsPlatformSubRelease                                 0.000361\n",
       "OsVer                                                0.000313\n",
       "Census_HasOpticalDiskDrive                           0.000157\n",
       "Census_ProcessorManufacturerIdentifier               0.000151\n",
       "Census_IsPenCapable                                  0.000136\n",
       "Census_FlightRing                                    0.000117\n",
       "UacLuaenable                                         0.000093\n",
       "ProductName                                          0.000055\n",
       "Census_IsFlightsDisabled                             0.000053\n",
       "Platform                                             0.000046\n",
       "AutoSampleOptIn                                      0.000000\n",
       "IsBeta                                               0.000000\n",
       "Census_DeviceFamily                                  0.000000\n",
       "Census_IsPortableOperatingSystem                     0.000000\n",
       "dtype: float64"
      ]
     },
     "metadata": {},
     "output_type": "display_data"
    }
   ],
   "source": [
    "display_all(f_imp)"
   ]
  },
  {
   "cell_type": "code",
   "execution_count": 68,
   "metadata": {},
   "outputs": [
    {
     "data": {
      "image/png": "[encoded data removed]",
      "text/plain": [
       "<Figure size 432x1080 with 1 Axes>"
      ]
     },
     "metadata": {},
     "output_type": "display_data"
    }
   ],
   "source": [
    "import seaborn as sns\n",
    "import matplotlib.pyplot as plt\n",
    "sns.set(style=\"whitegrid\")\n",
    "\n",
    "# Initialize the matplotlib figure\n",
    "f, ax = plt.subplots(figsize=(6, 15))\n",
    "\n",
    "\n",
    "# Plot the total crashes\n",
    "sns.set_color_codes(\"pastel\")\n",
    "sns.barplot(x=f_imp.values, y=f_imp.index, label=\"Importance\", color=\"b\")\n",
    "\n",
    "sns.despine(left=True, bottom=True)"
   ]
  },
  {
   "cell_type": "code",
   "execution_count": 69,
   "metadata": {},
   "outputs": [],
   "source": [
    "subset = f_imp[f_imp > 0.001675].index"
   ]
  },
  {
   "cell_type": "code",
   "execution_count": 70,
   "metadata": {},
   "outputs": [
    {
     "data": {
      "text/plain": [
       "42"
      ]
     },
     "execution_count": 70,
     "metadata": {},
     "output_type": "execute_result"
    }
   ],
   "source": [
    "len(subset)"
   ]
  },
  {
   "cell_type": "code",
   "execution_count": 74,
   "metadata": {},
   "outputs": [
    {
     "name": "stdout",
     "output_type": "stream",
     "text": [
      "CPU times: user 0 ns, sys: 0 ns, total: 0 ns\n",
      "Wall time: 30.5 µs\n"
     ]
    },
    {
     "name": "stderr",
     "output_type": "stream",
     "text": [
      "[Parallel(n_jobs=-1)]: Done  10 out of  10 | elapsed:  7.3min finished\n"
     ]
    },
    {
     "data": {
      "text/plain": [
       "RandomForestClassifier(bootstrap=True, class_weight=None, criterion='gini',\n",
       "            max_depth=10, max_features=0.5, max_leaf_nodes=None,\n",
       "            min_impurity_decrease=0.0, min_impurity_split=None,\n",
       "            min_samples_leaf=1, min_samples_split=2,\n",
       "            min_weight_fraction_leaf=0.0, n_estimators=10, n_jobs=-1,\n",
       "            oob_score=False, random_state=None, verbose=1,\n",
       "            warm_start=False)"
      ]
     },
     "execution_count": 74,
     "metadata": {},
     "output_type": "execute_result"
    }
   ],
   "source": [
    "from sklearn.ensemble import RandomForestClassifier\n",
    "%time\n",
    "m2 = RandomForestClassifier(n_jobs=-1, max_depth=10, verbose=1, max_features=0.5)\n",
    "m2.fit(X_train[subset], y_train)"
   ]
  },
  {
   "cell_type": "code",
   "execution_count": 75,
   "metadata": {},
   "outputs": [
    {
     "name": "stderr",
     "output_type": "stream",
     "text": [
      "[Parallel(n_jobs=4)]: Done  10 out of  10 | elapsed:    0.8s finished\n"
     ]
    },
    {
     "data": {
      "text/plain": [
       "0.61611375"
      ]
     },
     "execution_count": 75,
     "metadata": {},
     "output_type": "execute_result"
    }
   ],
   "source": [
    "m2.score(X_valid[subset], y_valid)"
   ]
  },
  {
   "cell_type": "code",
   "execution_count": 76,
   "metadata": {},
   "outputs": [],
   "source": [
    "import joblib"
   ]
  },
  {
   "cell_type": "code",
   "execution_count": 77,
   "metadata": {},
   "outputs": [
    {
     "data": {
      "text/plain": [
       "['rf1.dat']"
      ]
     },
     "execution_count": 77,
     "metadata": {},
     "output_type": "execute_result"
    }
   ],
   "source": [
    "joblib.dump(m2, 'rf1.dat')"
   ]
  },
  {
   "cell_type": "code",
   "execution_count": 79,
   "metadata": {},
   "outputs": [
    {
     "data": {
      "text/plain": [
       "279"
      ]
     },
     "execution_count": 79,
     "metadata": {},
     "output_type": "execute_result"
    }
   ],
   "source": [
    "import gc\n",
    "gc.collect()"
   ]
  },
  {
   "cell_type": "code",
   "execution_count": 80,
   "metadata": {},
   "outputs": [],
   "source": [
    "test = pd.read_csv('test_processed.gz')"
   ]
  },
  {
   "cell_type": "code",
   "execution_count": 84,
   "metadata": {},
   "outputs": [
    {
     "name": "stderr",
     "output_type": "stream",
     "text": [
      "[Parallel(n_jobs=4)]: Done  10 out of  10 | elapsed:    3.8s finished\n"
     ]
    }
   ],
   "source": [
    "preds = m2.predict(test[subset])"
   ]
  },
  {
   "cell_type": "code",
   "execution_count": 85,
   "metadata": {},
   "outputs": [],
   "source": [
    "mc = pd.read_csv('test.csv.zip', usecols=['MachineIdentifier'])\n",
    "mc[\"HasDetections\"] = preds\n",
    "mc.to_csv('submission2.csv', compression='gzip',index=False)"
   ]
  },
  {
   "cell_type": "code",
   "execution_count": 86,
   "metadata": {},
   "outputs": [
    {
     "ename": "MemoryError",
     "evalue": "",
     "output_type": "error",
     "traceback": [
      "\u001b[0;31m---------------------------------------------------------------------------\u001b[0m",
      "\u001b[0;31mMemoryError\u001b[0m                               Traceback (most recent call last)",
      "\u001b[0;32m<ipython-input-86-92d8e15e3274>\u001b[0m in \u001b[0;36m<module>\u001b[0;34m()\u001b[0m\n\u001b[1;32m      1\u001b[0m \u001b[0;32mimport\u001b[0m \u001b[0mxgboost\u001b[0m \u001b[0;32mas\u001b[0m \u001b[0mxgb\u001b[0m\u001b[0;34m\u001b[0m\u001b[0m\n\u001b[1;32m      2\u001b[0m \u001b[0mclf\u001b[0m \u001b[0;34m=\u001b[0m \u001b[0mxgb\u001b[0m\u001b[0;34m.\u001b[0m\u001b[0mXGBClassifier\u001b[0m\u001b[0;34m(\u001b[0m\u001b[0mn_jobs\u001b[0m\u001b[0;34m=\u001b[0m\u001b[0;34m-\u001b[0m\u001b[0;36m1\u001b[0m\u001b[0;34m,\u001b[0m \u001b[0mmax_depth\u001b[0m\u001b[0;34m=\u001b[0m\u001b[0;36m7\u001b[0m\u001b[0;34m,\u001b[0m \u001b[0mn_estimators\u001b[0m\u001b[0;34m=\u001b[0m\u001b[0;36m50\u001b[0m\u001b[0;34m,\u001b[0m \u001b[0msilent\u001b[0m\u001b[0;34m=\u001b[0m\u001b[0;32mFalse\u001b[0m\u001b[0;34m,\u001b[0m \u001b[0mcolsample_bytree\u001b[0m\u001b[0;34m=\u001b[0m\u001b[0;36m0.5\u001b[0m\u001b[0;34m)\u001b[0m\u001b[0;34m\u001b[0m\u001b[0m\n\u001b[0;32m----> 3\u001b[0;31m \u001b[0mclf\u001b[0m\u001b[0;34m.\u001b[0m\u001b[0mfit\u001b[0m\u001b[0;34m(\u001b[0m\u001b[0mX_train\u001b[0m\u001b[0;34m,\u001b[0m \u001b[0my_train\u001b[0m\u001b[0;34m)\u001b[0m\u001b[0;34m\u001b[0m\u001b[0m\n\u001b[0m",
      "\u001b[0;32m~/anaconda3/lib/python3.6/site-packages/xgboost/sklearn.py\u001b[0m in \u001b[0;36mfit\u001b[0;34m(self, X, y, sample_weight, eval_set, eval_metric, early_stopping_rounds, verbose, xgb_model, sample_weight_eval_set, callbacks)\u001b[0m\n\u001b[1;32m    691\u001b[0m         \u001b[0;32melse\u001b[0m\u001b[0;34m:\u001b[0m\u001b[0;34m\u001b[0m\u001b[0m\n\u001b[1;32m    692\u001b[0m             train_dmatrix = DMatrix(X, label=training_labels,\n\u001b[0;32m--> 693\u001b[0;31m                                     missing=self.missing, nthread=self.n_jobs)\n\u001b[0m\u001b[1;32m    694\u001b[0m \u001b[0;34m\u001b[0m\u001b[0m\n\u001b[1;32m    695\u001b[0m         self._Booster = train(xgb_options, train_dmatrix, self.n_estimators,\n",
      "\u001b[0;32m~/anaconda3/lib/python3.6/site-packages/xgboost/core.py\u001b[0m in \u001b[0;36m__init__\u001b[0;34m(self, data, label, missing, weight, silent, feature_names, feature_types, nthread)\u001b[0m\n\u001b[1;32m    380\u001b[0m             \u001b[0mself\u001b[0m\u001b[0;34m.\u001b[0m\u001b[0m_init_from_csc\u001b[0m\u001b[0;34m(\u001b[0m\u001b[0mdata\u001b[0m\u001b[0;34m)\u001b[0m\u001b[0;34m\u001b[0m\u001b[0m\n\u001b[1;32m    381\u001b[0m         \u001b[0;32melif\u001b[0m \u001b[0misinstance\u001b[0m\u001b[0;34m(\u001b[0m\u001b[0mdata\u001b[0m\u001b[0;34m,\u001b[0m \u001b[0mnp\u001b[0m\u001b[0;34m.\u001b[0m\u001b[0mndarray\u001b[0m\u001b[0;34m)\u001b[0m\u001b[0;34m:\u001b[0m\u001b[0;34m\u001b[0m\u001b[0m\n\u001b[0;32m--> 382\u001b[0;31m             \u001b[0mself\u001b[0m\u001b[0;34m.\u001b[0m\u001b[0m_init_from_npy2d\u001b[0m\u001b[0;34m(\u001b[0m\u001b[0mdata\u001b[0m\u001b[0;34m,\u001b[0m \u001b[0mmissing\u001b[0m\u001b[0;34m,\u001b[0m \u001b[0mnthread\u001b[0m\u001b[0;34m)\u001b[0m\u001b[0;34m\u001b[0m\u001b[0m\n\u001b[0m\u001b[1;32m    383\u001b[0m         \u001b[0;32melif\u001b[0m \u001b[0misinstance\u001b[0m\u001b[0;34m(\u001b[0m\u001b[0mdata\u001b[0m\u001b[0;34m,\u001b[0m \u001b[0mDataTable\u001b[0m\u001b[0;34m)\u001b[0m\u001b[0;34m:\u001b[0m\u001b[0;34m\u001b[0m\u001b[0m\n\u001b[1;32m    384\u001b[0m             \u001b[0mself\u001b[0m\u001b[0;34m.\u001b[0m\u001b[0m_init_from_dt\u001b[0m\u001b[0;34m(\u001b[0m\u001b[0mdata\u001b[0m\u001b[0;34m,\u001b[0m \u001b[0mnthread\u001b[0m\u001b[0;34m)\u001b[0m\u001b[0;34m\u001b[0m\u001b[0m\n",
      "\u001b[0;32m~/anaconda3/lib/python3.6/site-packages/xgboost/core.py\u001b[0m in \u001b[0;36m_init_from_npy2d\u001b[0;34m(self, mat, missing, nthread)\u001b[0m\n\u001b[1;32m    452\u001b[0m         \u001b[0;31m# we try to avoid data copies if possible (reshape returns a view when possible\u001b[0m\u001b[0;34m\u001b[0m\u001b[0;34m\u001b[0m\u001b[0m\n\u001b[1;32m    453\u001b[0m         \u001b[0;31m# and we explicitly tell np.array to try and avoid copying)\u001b[0m\u001b[0;34m\u001b[0m\u001b[0;34m\u001b[0m\u001b[0m\n\u001b[0;32m--> 454\u001b[0;31m         \u001b[0mdata\u001b[0m \u001b[0;34m=\u001b[0m \u001b[0mnp\u001b[0m\u001b[0;34m.\u001b[0m\u001b[0marray\u001b[0m\u001b[0;34m(\u001b[0m\u001b[0mmat\u001b[0m\u001b[0;34m.\u001b[0m\u001b[0mreshape\u001b[0m\u001b[0;34m(\u001b[0m\u001b[0mmat\u001b[0m\u001b[0;34m.\u001b[0m\u001b[0msize\u001b[0m\u001b[0;34m)\u001b[0m\u001b[0;34m,\u001b[0m \u001b[0mcopy\u001b[0m\u001b[0;34m=\u001b[0m\u001b[0;32mFalse\u001b[0m\u001b[0;34m,\u001b[0m \u001b[0mdtype\u001b[0m\u001b[0;34m=\u001b[0m\u001b[0mnp\u001b[0m\u001b[0;34m.\u001b[0m\u001b[0mfloat32\u001b[0m\u001b[0;34m)\u001b[0m\u001b[0;34m\u001b[0m\u001b[0m\n\u001b[0m\u001b[1;32m    455\u001b[0m         \u001b[0mself\u001b[0m\u001b[0;34m.\u001b[0m\u001b[0mhandle\u001b[0m \u001b[0;34m=\u001b[0m \u001b[0mctypes\u001b[0m\u001b[0;34m.\u001b[0m\u001b[0mc_void_p\u001b[0m\u001b[0;34m(\u001b[0m\u001b[0;34m)\u001b[0m\u001b[0;34m\u001b[0m\u001b[0m\n\u001b[1;32m    456\u001b[0m         \u001b[0mmissing\u001b[0m \u001b[0;34m=\u001b[0m \u001b[0mmissing\u001b[0m \u001b[0;32mif\u001b[0m \u001b[0mmissing\u001b[0m \u001b[0;32mis\u001b[0m \u001b[0;32mnot\u001b[0m \u001b[0;32mNone\u001b[0m \u001b[0;32melse\u001b[0m \u001b[0mnp\u001b[0m\u001b[0;34m.\u001b[0m\u001b[0mnan\u001b[0m\u001b[0;34m\u001b[0m\u001b[0m\n",
      "\u001b[0;31mMemoryError\u001b[0m: "
     ]
    }
   ],
   "source": [
    "import xgboost as xgb\n",
    "clf = xgb.XGBClassifier(n_jobs=-1, max_depth=7, n_estimators=50, silent=False, colsample_bytree=0.5)\n",
    "clf.fit(X_train, y_train)"
   ]
  },
  {
   "cell_type": "code",
   "execution_count": 87,
   "metadata": {},
   "outputs": [
    {
     "data": {
      "text/plain": [
       "75"
      ]
     },
     "execution_count": 87,
     "metadata": {},
     "output_type": "execute_result"
    }
   ],
   "source": [
    "gc.collect()"
   ]
  },
  {
   "cell_type": "code",
   "execution_count": 89,
   "metadata": {},
   "outputs": [],
   "source": [
    "del m2, mc, preds"
   ]
  },
  {
   "cell_type": "markdown",
   "metadata": {},
   "source": [
    "#### XgBoost Section"
   ]
  },
  {
   "cell_type": "code",
   "execution_count": 3,
   "metadata": {},
   "outputs": [],
   "source": [
    "top_attr = [\"AVProductsInstalled\",\n",
    "\"AVProductStatesIdentifier\",\n",
    "\"AvSigVersion\",\n",
    "\"Census_PrimaryDiskTotalCapacity\",\n",
    "\"EngineVersion\",\n",
    "\"Census_InternalPrimaryDiagonalDisplaySizeInInches\",\n",
    "\"AppVersion\",\n",
    "\"Census_TotalPhysicalRAM\",\n",
    "\"Census_OSInstallTypeName\",\n",
    "\"Census_IsVirtualDevice\",\n",
    "\"Census_ActivationChannel\",\n",
    "\"Wdft_IsGamer\",\n",
    "\"Census_OSVersion\",\n",
    "\"IeVerIdentifier\",\n",
    "\"Wdft_RegionIdentifier\",\n",
    "\"Census_OSUILocaleIdentifier\",\n",
    "\"RtpStateBitfield\",\n",
    "\"LocaleEnglishNameIdentifier\",\n",
    "\"OsBuildLab\",\n",
    "\"Processor\",\n",
    "\"Census_OSArchitecture\",\n",
    "\"Census_InternalPrimaryDisplayResolutionHorizontal\",\n",
    "\"Census_ChassisTypeName\",\n",
    "\"OsBuild\",\n",
    "\"CountryIdentifier\",\n",
    "\"IsProtected\",\n",
    "\"Census_OSSkuName\",\n",
    "\"Census_OSInstallLanguageIdentifier\",\n",
    "\"Census_SystemVolumeTotalCapacity\",\n",
    "\"Census_OSBuildRevision\",\n",
    "\"Census_OEMNameIdentifier\",\n",
    "\"Census_ProcessorModelIdentifier\",\n",
    "\"Census_OSEdition\",\n",
    "\"AVProductsEnabled\",\n",
    "\"Census_IsTouchEnabled\",\n",
    "\"Census_InternalPrimaryDisplayResolutionVertical\",\n",
    "\"Census_ProcessorCoreCount\",\n",
    "\"Census_OEMModelIdentifier\",\n",
    "\"Census_IsAlwaysOnAlwaysConnectedCapable\",\n",
    "\"GeoNameIdentifier\",\n",
    "\"Census_MDC2FormFactor\",\n",
    "\"Census_PowerPlatformRoleName\",\n",
    "\"Census_FirmwareVersionIdentifier\",\n",
    "\"Census_OSWUAutoUpdateOptionsName\",\n",
    "\"IsSxsPassiveMode\",\n",
    "\"Census_InternalBatteryNumberOfCharges\",\n",
    "\"Census_OSBuildNumber\",\n",
    "\"HasTpm\",\n",
    "\"Census_IsSecureBootEnabled\",\n",
    "\"SkuEdition\",\n",
    "\"Firewall\",\n",
    "\"Census_GenuineStateName\",\n",
    "\"OsSuite\",\n",
    "\"CityIdentifier\",\n",
    "\"Census_PrimaryDiskTypeName\",\n",
    "\"Census_FirmwareManufacturerIdentifier\",\n",
    "\"Census_OSBranch\",\n",
    "\"OsPlatformSubRelease\",\n",
    "\"OsVer\",\n",
    "\"Census_HasOpticalDiskDrive\",\n",
    "\"Census_ProcessorManufacturerIdentifier\",\n",
    "\"Census_IsPenCapable\",\n",
    "\"Census_FlightRing\",\n",
    "\"UacLuaenable\",\n",
    "\"ProductName\",\n",
    "\"Census_IsFlightsDisabled\",\n",
    "\"Platform\"]"
   ]
  },
  {
   "cell_type": "code",
   "execution_count": 3,
   "metadata": {},
   "outputs": [],
   "source": [
    "train = pd.read_csv('train_processed.csv', usecols=top_attr)"
   ]
  },
  {
   "cell_type": "code",
   "execution_count": 4,
   "metadata": {},
   "outputs": [],
   "source": [
    "def display_all(df):\n",
    "    with pd.option_context(\"display.max_rows\", 1000, \"display.max_columns\", 1000): \n",
    "        display(df)"
   ]
  },
  {
   "cell_type": "code",
   "execution_count": 5,
   "metadata": {},
   "outputs": [
    {
     "data": {
      "text/plain": [
       "ProductName                                            int64\n",
       "EngineVersion                                          int64\n",
       "AppVersion                                             int64\n",
       "AvSigVersion                                           int64\n",
       "RtpStateBitfield                                     float64\n",
       "IsSxsPassiveMode                                       int64\n",
       "AVProductStatesIdentifier                            float64\n",
       "AVProductsInstalled                                  float64\n",
       "AVProductsEnabled                                    float64\n",
       "HasTpm                                                 int64\n",
       "CountryIdentifier                                      int64\n",
       "CityIdentifier                                       float64\n",
       "GeoNameIdentifier                                    float64\n",
       "LocaleEnglishNameIdentifier                            int64\n",
       "Platform                                               int64\n",
       "Processor                                              int64\n",
       "OsVer                                                  int64\n",
       "OsBuild                                                int64\n",
       "OsSuite                                                int64\n",
       "OsPlatformSubRelease                                   int64\n",
       "OsBuildLab                                             int64\n",
       "SkuEdition                                             int64\n",
       "IsProtected                                          float64\n",
       "IeVerIdentifier                                      float64\n",
       "Firewall                                             float64\n",
       "UacLuaenable                                         float64\n",
       "Census_MDC2FormFactor                                  int64\n",
       "Census_OEMNameIdentifier                             float64\n",
       "Census_OEMModelIdentifier                            float64\n",
       "Census_ProcessorCoreCount                            float64\n",
       "Census_ProcessorManufacturerIdentifier               float64\n",
       "Census_ProcessorModelIdentifier                      float64\n",
       "Census_PrimaryDiskTotalCapacity                      float64\n",
       "Census_PrimaryDiskTypeName                            object\n",
       "Census_SystemVolumeTotalCapacity                     float64\n",
       "Census_HasOpticalDiskDrive                             int64\n",
       "Census_TotalPhysicalRAM                              float64\n",
       "Census_ChassisTypeName                                object\n",
       "Census_InternalPrimaryDiagonalDisplaySizeInInches    float64\n",
       "Census_InternalPrimaryDisplayResolutionHorizontal    float64\n",
       "Census_InternalPrimaryDisplayResolutionVertical      float64\n",
       "Census_PowerPlatformRoleName                          object\n",
       "Census_InternalBatteryNumberOfCharges                float64\n",
       "Census_OSVersion                                       int64\n",
       "Census_OSArchitecture                                  int64\n",
       "Census_OSBranch                                        int64\n",
       "Census_OSBuildNumber                                   int64\n",
       "Census_OSBuildRevision                                 int64\n",
       "Census_OSEdition                                       int64\n",
       "Census_OSSkuName                                       int64\n",
       "Census_OSInstallTypeName                               int64\n",
       "Census_OSInstallLanguageIdentifier                   float64\n",
       "Census_OSUILocaleIdentifier                            int64\n",
       "Census_OSWUAutoUpdateOptionsName                       int64\n",
       "Census_GenuineStateName                                int64\n",
       "Census_ActivationChannel                               int64\n",
       "Census_IsFlightsDisabled                             float64\n",
       "Census_FlightRing                                      int64\n",
       "Census_FirmwareManufacturerIdentifier                float64\n",
       "Census_FirmwareVersionIdentifier                     float64\n",
       "Census_IsSecureBootEnabled                             int64\n",
       "Census_IsVirtualDevice                               float64\n",
       "Census_IsTouchEnabled                                  int64\n",
       "Census_IsPenCapable                                    int64\n",
       "Census_IsAlwaysOnAlwaysConnectedCapable              float64\n",
       "Wdft_IsGamer                                         float64\n",
       "Wdft_RegionIdentifier                                float64\n",
       "HasDetections                                          int64\n",
       "dtype: object"
      ]
     },
     "metadata": {},
     "output_type": "display_data"
    }
   ],
   "source": [
    "display_all(train.dtypes)"
   ]
  },
  {
   "cell_type": "code",
   "execution_count": 6,
   "metadata": {},
   "outputs": [],
   "source": [
    "from sklearn.preprocessing import LabelEncoder\n",
    "\n",
    "le = LabelEncoder()\n",
    "train[\"Census_ChassisTypeName\"] = le.fit_transform(train.Census_ChassisTypeName)\n",
    "le = LabelEncoder()\n",
    "train[\"Census_PowerPlatformRoleName\"] = le.fit_transform(train.Census_PowerPlatformRoleName)\n",
    "le = LabelEncoder()\n",
    "train[\"Census_PrimaryDiskTypeName\"] = le.fit_transform(train.Census_PrimaryDiskTypeName)"
   ]
  },
  {
   "cell_type": "code",
   "execution_count": 7,
   "metadata": {},
   "outputs": [
    {
     "data": {
      "text/html": [
       "<div>\n",
       "<style scoped>\n",
       "    .dataframe tbody tr th:only-of-type {\n",
       "        vertical-align: middle;\n",
       "    }\n",
       "\n",
       "    .dataframe tbody tr th {\n",
       "        vertical-align: top;\n",
       "    }\n",
       "\n",
       "    .dataframe thead th {\n",
       "        text-align: right;\n",
       "    }\n",
       "</style>\n",
       "<table border=\"1\" class=\"dataframe\">\n",
       "  <thead>\n",
       "    <tr style=\"text-align: right;\">\n",
       "      <th></th>\n",
       "      <th>ProductName</th>\n",
       "      <th>EngineVersion</th>\n",
       "      <th>AppVersion</th>\n",
       "      <th>AvSigVersion</th>\n",
       "      <th>RtpStateBitfield</th>\n",
       "      <th>IsSxsPassiveMode</th>\n",
       "      <th>AVProductStatesIdentifier</th>\n",
       "      <th>AVProductsInstalled</th>\n",
       "      <th>AVProductsEnabled</th>\n",
       "      <th>HasTpm</th>\n",
       "      <th>...</th>\n",
       "      <th>Census_FirmwareManufacturerIdentifier</th>\n",
       "      <th>Census_FirmwareVersionIdentifier</th>\n",
       "      <th>Census_IsSecureBootEnabled</th>\n",
       "      <th>Census_IsVirtualDevice</th>\n",
       "      <th>Census_IsTouchEnabled</th>\n",
       "      <th>Census_IsPenCapable</th>\n",
       "      <th>Census_IsAlwaysOnAlwaysConnectedCapable</th>\n",
       "      <th>Wdft_IsGamer</th>\n",
       "      <th>Wdft_RegionIdentifier</th>\n",
       "      <th>HasDetections</th>\n",
       "    </tr>\n",
       "  </thead>\n",
       "  <tbody>\n",
       "    <tr>\n",
       "      <th>0</th>\n",
       "      <td>4</td>\n",
       "      <td>65</td>\n",
       "      <td>59</td>\n",
       "      <td>7800</td>\n",
       "      <td>7.0</td>\n",
       "      <td>0</td>\n",
       "      <td>53447.0</td>\n",
       "      <td>1.0</td>\n",
       "      <td>1.0</td>\n",
       "      <td>1</td>\n",
       "      <td>...</td>\n",
       "      <td>628.0</td>\n",
       "      <td>36144.0</td>\n",
       "      <td>0</td>\n",
       "      <td>0.0</td>\n",
       "      <td>0</td>\n",
       "      <td>0</td>\n",
       "      <td>0.0</td>\n",
       "      <td>0.0</td>\n",
       "      <td>10.0</td>\n",
       "      <td>0</td>\n",
       "    </tr>\n",
       "    <tr>\n",
       "      <th>1</th>\n",
       "      <td>4</td>\n",
       "      <td>55</td>\n",
       "      <td>26</td>\n",
       "      <td>6303</td>\n",
       "      <td>7.0</td>\n",
       "      <td>0</td>\n",
       "      <td>53447.0</td>\n",
       "      <td>1.0</td>\n",
       "      <td>1.0</td>\n",
       "      <td>1</td>\n",
       "      <td>...</td>\n",
       "      <td>628.0</td>\n",
       "      <td>57858.0</td>\n",
       "      <td>0</td>\n",
       "      <td>0.0</td>\n",
       "      <td>0</td>\n",
       "      <td>0</td>\n",
       "      <td>0.0</td>\n",
       "      <td>0.0</td>\n",
       "      <td>8.0</td>\n",
       "      <td>0</td>\n",
       "    </tr>\n",
       "    <tr>\n",
       "      <th>2</th>\n",
       "      <td>4</td>\n",
       "      <td>65</td>\n",
       "      <td>59</td>\n",
       "      <td>7671</td>\n",
       "      <td>7.0</td>\n",
       "      <td>0</td>\n",
       "      <td>53447.0</td>\n",
       "      <td>1.0</td>\n",
       "      <td>1.0</td>\n",
       "      <td>1</td>\n",
       "      <td>...</td>\n",
       "      <td>142.0</td>\n",
       "      <td>52682.0</td>\n",
       "      <td>0</td>\n",
       "      <td>0.0</td>\n",
       "      <td>0</td>\n",
       "      <td>0</td>\n",
       "      <td>0.0</td>\n",
       "      <td>0.0</td>\n",
       "      <td>3.0</td>\n",
       "      <td>0</td>\n",
       "    </tr>\n",
       "    <tr>\n",
       "      <th>3</th>\n",
       "      <td>4</td>\n",
       "      <td>65</td>\n",
       "      <td>59</td>\n",
       "      <td>7722</td>\n",
       "      <td>7.0</td>\n",
       "      <td>0</td>\n",
       "      <td>53447.0</td>\n",
       "      <td>1.0</td>\n",
       "      <td>1.0</td>\n",
       "      <td>1</td>\n",
       "      <td>...</td>\n",
       "      <td>355.0</td>\n",
       "      <td>20050.0</td>\n",
       "      <td>0</td>\n",
       "      <td>0.0</td>\n",
       "      <td>0</td>\n",
       "      <td>0</td>\n",
       "      <td>0.0</td>\n",
       "      <td>0.0</td>\n",
       "      <td>3.0</td>\n",
       "      <td>1</td>\n",
       "    </tr>\n",
       "    <tr>\n",
       "      <th>4</th>\n",
       "      <td>4</td>\n",
       "      <td>65</td>\n",
       "      <td>59</td>\n",
       "      <td>7681</td>\n",
       "      <td>7.0</td>\n",
       "      <td>0</td>\n",
       "      <td>53447.0</td>\n",
       "      <td>1.0</td>\n",
       "      <td>1.0</td>\n",
       "      <td>1</td>\n",
       "      <td>...</td>\n",
       "      <td>355.0</td>\n",
       "      <td>19844.0</td>\n",
       "      <td>0</td>\n",
       "      <td>0.0</td>\n",
       "      <td>0</td>\n",
       "      <td>0</td>\n",
       "      <td>0.0</td>\n",
       "      <td>0.0</td>\n",
       "      <td>1.0</td>\n",
       "      <td>1</td>\n",
       "    </tr>\n",
       "  </tbody>\n",
       "</table>\n",
       "<p>5 rows × 68 columns</p>\n",
       "</div>"
      ],
      "text/plain": [
       "   ProductName  EngineVersion  AppVersion  AvSigVersion  RtpStateBitfield  \\\n",
       "0            4             65          59          7800               7.0   \n",
       "1            4             55          26          6303               7.0   \n",
       "2            4             65          59          7671               7.0   \n",
       "3            4             65          59          7722               7.0   \n",
       "4            4             65          59          7681               7.0   \n",
       "\n",
       "   IsSxsPassiveMode  AVProductStatesIdentifier  AVProductsInstalled  \\\n",
       "0                 0                    53447.0                  1.0   \n",
       "1                 0                    53447.0                  1.0   \n",
       "2                 0                    53447.0                  1.0   \n",
       "3                 0                    53447.0                  1.0   \n",
       "4                 0                    53447.0                  1.0   \n",
       "\n",
       "   AVProductsEnabled  HasTpm      ...        \\\n",
       "0                1.0       1      ...         \n",
       "1                1.0       1      ...         \n",
       "2                1.0       1      ...         \n",
       "3                1.0       1      ...         \n",
       "4                1.0       1      ...         \n",
       "\n",
       "   Census_FirmwareManufacturerIdentifier  Census_FirmwareVersionIdentifier  \\\n",
       "0                                  628.0                           36144.0   \n",
       "1                                  628.0                           57858.0   \n",
       "2                                  142.0                           52682.0   \n",
       "3                                  355.0                           20050.0   \n",
       "4                                  355.0                           19844.0   \n",
       "\n",
       "   Census_IsSecureBootEnabled  Census_IsVirtualDevice  Census_IsTouchEnabled  \\\n",
       "0                           0                     0.0                      0   \n",
       "1                           0                     0.0                      0   \n",
       "2                           0                     0.0                      0   \n",
       "3                           0                     0.0                      0   \n",
       "4                           0                     0.0                      0   \n",
       "\n",
       "   Census_IsPenCapable  Census_IsAlwaysOnAlwaysConnectedCapable  Wdft_IsGamer  \\\n",
       "0                    0                                      0.0           0.0   \n",
       "1                    0                                      0.0           0.0   \n",
       "2                    0                                      0.0           0.0   \n",
       "3                    0                                      0.0           0.0   \n",
       "4                    0                                      0.0           0.0   \n",
       "\n",
       "   Wdft_RegionIdentifier  HasDetections  \n",
       "0                   10.0              0  \n",
       "1                    8.0              0  \n",
       "2                    3.0              0  \n",
       "3                    3.0              1  \n",
       "4                    1.0              1  \n",
       "\n",
       "[5 rows x 68 columns]"
      ]
     },
     "execution_count": 7,
     "metadata": {},
     "output_type": "execute_result"
    }
   ],
   "source": [
    "train.head()"
   ]
  },
  {
   "cell_type": "code",
   "execution_count": 8,
   "metadata": {},
   "outputs": [],
   "source": [
    "from sklearn.model_selection import train_test_split\n",
    "\n",
    "X_train, X_test, y_train, y_test = train_test_split(train.iloc[:,:67], train.iloc[:,67], test_size=0.2, train_size=0.8, random_state=42)"
   ]
  },
  {
   "cell_type": "code",
   "execution_count": 9,
   "metadata": {},
   "outputs": [],
   "source": [
    "import xgboost as xgb"
   ]
  },
  {
   "cell_type": "code",
   "execution_count": 12,
   "metadata": {},
   "outputs": [
    {
     "name": "stdout",
     "output_type": "stream",
     "text": [
      "CPU times: user 0 ns, sys: 0 ns, total: 0 ns\n",
      "Wall time: 49.4 µs\n",
      "[15:47:11] Tree method is automatically selected to be 'approx' for faster speed. To use old behavior (exact greedy algorithm on single machine), set tree_method to 'exact'.\n",
      "[15:47:44] /workspace/src/tree/updater_prune.cc:74: tree pruning end, 1 roots, 1948 extra nodes, 0 pruned nodes, max_depth=10\n",
      "[15:48:08] /workspace/src/tree/updater_prune.cc:74: tree pruning end, 1 roots, 1980 extra nodes, 0 pruned nodes, max_depth=10\n",
      "[15:48:33] /workspace/src/tree/updater_prune.cc:74: tree pruning end, 1 roots, 1916 extra nodes, 0 pruned nodes, max_depth=10\n",
      "[15:49:01] /workspace/src/tree/updater_prune.cc:74: tree pruning end, 1 roots, 1952 extra nodes, 0 pruned nodes, max_depth=10\n",
      "[15:49:28] /workspace/src/tree/updater_prune.cc:74: tree pruning end, 1 roots, 1900 extra nodes, 0 pruned nodes, max_depth=10\n",
      "[15:49:50] /workspace/src/tree/updater_prune.cc:74: tree pruning end, 1 roots, 1814 extra nodes, 0 pruned nodes, max_depth=10\n",
      "[15:50:13] /workspace/src/tree/updater_prune.cc:74: tree pruning end, 1 roots, 1982 extra nodes, 0 pruned nodes, max_depth=10\n",
      "[15:50:38] /workspace/src/tree/updater_prune.cc:74: tree pruning end, 1 roots, 1940 extra nodes, 0 pruned nodes, max_depth=10\n",
      "[15:51:01] /workspace/src/tree/updater_prune.cc:74: tree pruning end, 1 roots, 1898 extra nodes, 0 pruned nodes, max_depth=10\n",
      "[15:51:21] /workspace/src/tree/updater_prune.cc:74: tree pruning end, 1 roots, 1856 extra nodes, 0 pruned nodes, max_depth=10\n",
      "[15:51:44] /workspace/src/tree/updater_prune.cc:74: tree pruning end, 1 roots, 1910 extra nodes, 0 pruned nodes, max_depth=10\n",
      "[15:52:10] /workspace/src/tree/updater_prune.cc:74: tree pruning end, 1 roots, 1982 extra nodes, 0 pruned nodes, max_depth=10\n",
      "[15:52:33] /workspace/src/tree/updater_prune.cc:74: tree pruning end, 1 roots, 1932 extra nodes, 0 pruned nodes, max_depth=10\n",
      "[15:52:56] /workspace/src/tree/updater_prune.cc:74: tree pruning end, 1 roots, 1878 extra nodes, 0 pruned nodes, max_depth=10\n",
      "[15:53:18] /workspace/src/tree/updater_prune.cc:74: tree pruning end, 1 roots, 1878 extra nodes, 0 pruned nodes, max_depth=10\n",
      "[15:53:49] /workspace/src/tree/updater_prune.cc:74: tree pruning end, 1 roots, 2008 extra nodes, 0 pruned nodes, max_depth=10\n",
      "[15:54:30] /workspace/src/tree/updater_prune.cc:74: tree pruning end, 1 roots, 1860 extra nodes, 0 pruned nodes, max_depth=10\n",
      "[15:54:57] /workspace/src/tree/updater_prune.cc:74: tree pruning end, 1 roots, 1954 extra nodes, 0 pruned nodes, max_depth=10\n",
      "[15:55:25] /workspace/src/tree/updater_prune.cc:74: tree pruning end, 1 roots, 1958 extra nodes, 0 pruned nodes, max_depth=10\n",
      "[15:55:49] /workspace/src/tree/updater_prune.cc:74: tree pruning end, 1 roots, 1880 extra nodes, 0 pruned nodes, max_depth=10\n",
      "[15:56:14] /workspace/src/tree/updater_prune.cc:74: tree pruning end, 1 roots, 1952 extra nodes, 0 pruned nodes, max_depth=10\n",
      "[15:56:37] /workspace/src/tree/updater_prune.cc:74: tree pruning end, 1 roots, 1942 extra nodes, 0 pruned nodes, max_depth=10\n",
      "[15:56:57] /workspace/src/tree/updater_prune.cc:74: tree pruning end, 1 roots, 1868 extra nodes, 0 pruned nodes, max_depth=10\n",
      "[15:57:22] /workspace/src/tree/updater_prune.cc:74: tree pruning end, 1 roots, 1908 extra nodes, 0 pruned nodes, max_depth=10\n",
      "[15:57:46] /workspace/src/tree/updater_prune.cc:74: tree pruning end, 1 roots, 1816 extra nodes, 0 pruned nodes, max_depth=10\n",
      "[15:58:11] /workspace/src/tree/updater_prune.cc:74: tree pruning end, 1 roots, 1894 extra nodes, 0 pruned nodes, max_depth=10\n",
      "[15:58:39] /workspace/src/tree/updater_prune.cc:74: tree pruning end, 1 roots, 1656 extra nodes, 0 pruned nodes, max_depth=10\n",
      "[15:59:02] /workspace/src/tree/updater_prune.cc:74: tree pruning end, 1 roots, 2004 extra nodes, 0 pruned nodes, max_depth=10\n",
      "[15:59:25] /workspace/src/tree/updater_prune.cc:74: tree pruning end, 1 roots, 1938 extra nodes, 0 pruned nodes, max_depth=10\n",
      "[15:59:48] /workspace/src/tree/updater_prune.cc:74: tree pruning end, 1 roots, 1934 extra nodes, 0 pruned nodes, max_depth=10\n",
      "[16:00:12] /workspace/src/tree/updater_prune.cc:74: tree pruning end, 1 roots, 1776 extra nodes, 0 pruned nodes, max_depth=10\n",
      "[16:00:37] /workspace/src/tree/updater_prune.cc:74: tree pruning end, 1 roots, 1736 extra nodes, 0 pruned nodes, max_depth=10\n",
      "[16:00:59] /workspace/src/tree/updater_prune.cc:74: tree pruning end, 1 roots, 1878 extra nodes, 0 pruned nodes, max_depth=10\n",
      "[16:01:25] /workspace/src/tree/updater_prune.cc:74: tree pruning end, 1 roots, 1832 extra nodes, 0 pruned nodes, max_depth=10\n",
      "[16:01:48] /workspace/src/tree/updater_prune.cc:74: tree pruning end, 1 roots, 1884 extra nodes, 0 pruned nodes, max_depth=10\n",
      "[16:02:15] /workspace/src/tree/updater_prune.cc:74: tree pruning end, 1 roots, 1824 extra nodes, 0 pruned nodes, max_depth=10\n",
      "[16:02:40] /workspace/src/tree/updater_prune.cc:74: tree pruning end, 1 roots, 1878 extra nodes, 0 pruned nodes, max_depth=10\n",
      "[16:03:02] /workspace/src/tree/updater_prune.cc:74: tree pruning end, 1 roots, 1724 extra nodes, 0 pruned nodes, max_depth=10\n",
      "[16:03:24] /workspace/src/tree/updater_prune.cc:74: tree pruning end, 1 roots, 1788 extra nodes, 0 pruned nodes, max_depth=10\n",
      "[16:03:44] /workspace/src/tree/updater_prune.cc:74: tree pruning end, 1 roots, 1742 extra nodes, 0 pruned nodes, max_depth=10\n",
      "[16:04:06] /workspace/src/tree/updater_prune.cc:74: tree pruning end, 1 roots, 1852 extra nodes, 0 pruned nodes, max_depth=10\n",
      "[16:04:27] /workspace/src/tree/updater_prune.cc:74: tree pruning end, 1 roots, 1798 extra nodes, 0 pruned nodes, max_depth=10\n",
      "[16:04:52] /workspace/src/tree/updater_prune.cc:74: tree pruning end, 1 roots, 1822 extra nodes, 0 pruned nodes, max_depth=10\n",
      "[16:05:14] /workspace/src/tree/updater_prune.cc:74: tree pruning end, 1 roots, 1764 extra nodes, 0 pruned nodes, max_depth=10\n",
      "[16:05:40] /workspace/src/tree/updater_prune.cc:74: tree pruning end, 1 roots, 1834 extra nodes, 0 pruned nodes, max_depth=10\n",
      "[16:06:01] /workspace/src/tree/updater_prune.cc:74: tree pruning end, 1 roots, 1814 extra nodes, 0 pruned nodes, max_depth=10\n",
      "[16:06:24] /workspace/src/tree/updater_prune.cc:74: tree pruning end, 1 roots, 1816 extra nodes, 0 pruned nodes, max_depth=10\n",
      "[16:06:46] /workspace/src/tree/updater_prune.cc:74: tree pruning end, 1 roots, 1518 extra nodes, 0 pruned nodes, max_depth=10\n",
      "[16:07:11] /workspace/src/tree/updater_prune.cc:74: tree pruning end, 1 roots, 1796 extra nodes, 0 pruned nodes, max_depth=10\n",
      "[16:07:33] /workspace/src/tree/updater_prune.cc:74: tree pruning end, 1 roots, 1810 extra nodes, 0 pruned nodes, max_depth=10\n"
     ]
    },
    {
     "data": {
      "text/plain": [
       "XGBClassifier(base_score=0.5, booster='gbtree', colsample_bylevel=1,\n",
       "       colsample_bytree=0.5, gamma=0, learning_rate=0.1, max_delta_step=0,\n",
       "       max_depth=10, min_child_weight=1, missing=None, n_estimators=50,\n",
       "       n_jobs=-1, nthread=None, objective='binary:logistic',\n",
       "       random_state=0, reg_alpha=0, reg_lambda=1, scale_pos_weight=1,\n",
       "       seed=None, silent=False, subsample=1)"
      ]
     },
     "execution_count": 12,
     "metadata": {},
     "output_type": "execute_result"
    }
   ],
   "source": [
    "%time clf = xgb.XGBClassifier(n_jobs=-1, max_depth=10, n_estimators=50, silent=False, colsample_bytree=0.5)\n",
    "clf.fit(X_train, y_train)"
   ]
  },
  {
   "cell_type": "code",
   "execution_count": 14,
   "metadata": {},
   "outputs": [
    {
     "name": "stdout",
     "output_type": "stream",
     "text": [
      "0.6372829187069193\n"
     ]
    },
    {
     "name": "stderr",
     "output_type": "stream",
     "text": [
      "/home/pratikv/anaconda3/lib/python3.6/site-packages/sklearn/preprocessing/label.py:151: DeprecationWarning: The truth value of an empty array is ambiguous. Returning False, but in future this will result in an error. Use `array.size > 0` to check that an array is not empty.\n",
      "  if diff:\n"
     ]
    }
   ],
   "source": [
    "from sklearn.metrics import accuracy_score\n",
    "print (accuracy_score(y_true=y_test, y_pred=clf.predict(X_test)))"
   ]
  },
  {
   "cell_type": "code",
   "execution_count": 15,
   "metadata": {},
   "outputs": [
    {
     "data": {
      "text/plain": [
       "229"
      ]
     },
     "execution_count": 15,
     "metadata": {},
     "output_type": "execute_result"
    }
   ],
   "source": [
    "import gc \n",
    "gc.collect()"
   ]
  },
  {
   "cell_type": "code",
   "execution_count": null,
   "metadata": {},
   "outputs": [],
   "source": [
    "%time clf2 = xgb.XGBClassifier(n_jobs=-1, max_depth=10, n_estimators=100, silent=False, colsample_bytree=0.5)\n",
    "clf2.fit(X_train, y_train)"
   ]
  },
  {
   "cell_type": "code",
   "execution_count": 11,
   "metadata": {
    "scrolled": true
   },
   "outputs": [
    {
     "name": "stdout",
     "output_type": "stream",
     "text": [
      "0.643925871085363\n"
     ]
    },
    {
     "name": "stderr",
     "output_type": "stream",
     "text": [
      "/home/pratikv/anaconda3/lib/python3.6/site-packages/sklearn/preprocessing/label.py:151: DeprecationWarning: The truth value of an empty array is ambiguous. Returning False, but in future this will result in an error. Use `array.size > 0` to check that an array is not empty.\n",
      "  if diff:\n"
     ]
    }
   ],
   "source": [
    "from sklearn.metrics import accuracy_score\n",
    "print (accuracy_score(y_true=y_test, y_pred=clf2.predict(X_test)))"
   ]
  },
  {
   "cell_type": "code",
   "execution_count": 1,
   "metadata": {},
   "outputs": [
    {
     "data": {
      "text/plain": [
       "0"
      ]
     },
     "execution_count": 1,
     "metadata": {},
     "output_type": "execute_result"
    }
   ],
   "source": [
    "import gc\n",
    "gc.collect()"
   ]
  },
  {
   "cell_type": "code",
   "execution_count": 1,
   "metadata": {},
   "outputs": [],
   "source": [
    "import joblib"
   ]
  },
  {
   "cell_type": "code",
   "execution_count": 16,
   "metadata": {},
   "outputs": [
    {
     "data": {
      "text/plain": [
       "['xgb_model1.dat']"
      ]
     },
     "execution_count": 16,
     "metadata": {},
     "output_type": "execute_result"
    }
   ],
   "source": [
    "joblib.dump(clf2, 'xgb_model1.dat')"
   ]
  },
  {
   "cell_type": "code",
   "execution_count": 2,
   "metadata": {},
   "outputs": [],
   "source": [
    "clf = joblib.load('xgb_model1.dat')"
   ]
  },
  {
   "cell_type": "code",
   "execution_count": 7,
   "metadata": {
    "scrolled": true
   },
   "outputs": [],
   "source": [
    "test = pd.read_csv('test_processed.gz', usecols=top_attr)"
   ]
  },
  {
   "cell_type": "code",
   "execution_count": 8,
   "metadata": {},
   "outputs": [
    {
     "data": {
      "text/plain": [
       "(7853253, 67)"
      ]
     },
     "execution_count": 8,
     "metadata": {},
     "output_type": "execute_result"
    }
   ],
   "source": [
    "test.shape"
   ]
  },
  {
   "cell_type": "code",
   "execution_count": 9,
   "metadata": {},
   "outputs": [
    {
     "data": {
      "text/plain": [
       "(67,)"
      ]
     },
     "execution_count": 9,
     "metadata": {},
     "output_type": "execute_result"
    }
   ],
   "source": [
    "clf.feature_importances_.shape"
   ]
  },
  {
   "cell_type": "code",
   "execution_count": 11,
   "metadata": {},
   "outputs": [
    {
     "name": "stderr",
     "output_type": "stream",
     "text": [
      "/home/pratikv/anaconda3/lib/python3.6/site-packages/sklearn/preprocessing/label.py:151: DeprecationWarning: The truth value of an empty array is ambiguous. Returning False, but in future this will result in an error. Use `array.size > 0` to check that an array is not empty.\n",
      "  if diff:\n"
     ]
    }
   ],
   "source": [
    "preds = clf.predict(test)"
   ]
  },
  {
   "cell_type": "code",
   "execution_count": 12,
   "metadata": {},
   "outputs": [
    {
     "data": {
      "text/plain": [
       "array([1, 1, 0, ..., 0, 1, 0])"
      ]
     },
     "execution_count": 12,
     "metadata": {},
     "output_type": "execute_result"
    }
   ],
   "source": [
    "preds"
   ]
  },
  {
   "cell_type": "code",
   "execution_count": 13,
   "metadata": {},
   "outputs": [],
   "source": [
    "mc = pd.read_csv('test.csv.zip', usecols=['MachineIdentifier'])"
   ]
  },
  {
   "cell_type": "code",
   "execution_count": 14,
   "metadata": {},
   "outputs": [],
   "source": [
    "mc['HasDetections'] = preds"
   ]
  },
  {
   "cell_type": "code",
   "execution_count": 23,
   "metadata": {},
   "outputs": [],
   "source": [
    "mc.to_csv('submission3.gz', compression='gzip', index=False)"
   ]
  },
  {
   "cell_type": "code",
   "execution_count": 16,
   "metadata": {},
   "outputs": [
    {
     "data": {
      "text/plain": [
       "numpy.ndarray"
      ]
     },
     "execution_count": 16,
     "metadata": {},
     "output_type": "execute_result"
    }
   ],
   "source": [
    "type(preds)"
   ]
  },
  {
   "cell_type": "code",
   "execution_count": 17,
   "metadata": {},
   "outputs": [
    {
     "data": {
      "text/plain": [
       "2836652"
      ]
     },
     "execution_count": 17,
     "metadata": {},
     "output_type": "execute_result"
    }
   ],
   "source": [
    "np.sum(preds)"
   ]
  },
  {
   "cell_type": "code",
   "execution_count": 18,
   "metadata": {},
   "outputs": [
    {
     "data": {
      "text/plain": [
       "7"
      ]
     },
     "execution_count": 18,
     "metadata": {},
     "output_type": "execute_result"
    }
   ],
   "source": [
    "import gc\n",
    "gc.collect()"
   ]
  },
  {
   "cell_type": "code",
   "execution_count": 19,
   "metadata": {},
   "outputs": [],
   "source": [
    "proba = clf.predict_proba(test)"
   ]
  },
  {
   "cell_type": "code",
   "execution_count": 22,
   "metadata": {},
   "outputs": [],
   "source": [
    "mc['HasDetections'] = proba[:,1]"
   ]
  },
  {
   "cell_type": "code",
   "execution_count": null,
   "metadata": {},
   "outputs": [],
   "source": [
    "import joblib\n",
    "joblib.dump()"
   ]
  }
 ],
 "metadata": {
  "kernelspec": {
   "display_name": "Python 3",
   "language": "python",
   "name": "python3"
  },
  "language_info": {
   "codemirror_mode": {
    "name": "ipython",
    "version": 3
   },
   "file_extension": ".py",
   "mimetype": "text/x-python",
   "name": "python",
   "nbconvert_exporter": "python",
   "pygments_lexer": "ipython3",
   "version": "3.6.5"
  }
 },
 "nbformat": 4,
 "nbformat_minor": 2
}
