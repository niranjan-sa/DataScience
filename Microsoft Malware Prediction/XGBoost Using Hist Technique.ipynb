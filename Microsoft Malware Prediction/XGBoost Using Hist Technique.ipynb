{
 "cells": [
  {
   "cell_type": "code",
   "execution_count": 1,
   "metadata": {},
   "outputs": [],
   "source": [
    "import pandas as pd\n",
    "import numpy as np\n",
    "import matplotlib.pyplot as plt\n",
    "import xgboost as xgb\n",
    "import seaborn as sns\n",
    "import gc\n",
    "from sklearn.preprocessing import LabelEncoder\n",
    "from sklearn.model_selection import train_test_split"
   ]
  },
  {
   "cell_type": "code",
   "execution_count": 2,
   "metadata": {},
   "outputs": [],
   "source": [
    "def display_all(df):\n",
    "    with pd.option_context(\"display.max_rows\", 1000, \"display.max_columns\", 1000): \n",
    "        display(df)"
   ]
  },
  {
   "cell_type": "code",
   "execution_count": 3,
   "metadata": {},
   "outputs": [],
   "source": [
    "top_attr = [\"AVProductsInstalled\",\n",
    "\"AVProductStatesIdentifier\",\n",
    "\"AvSigVersion\",\n",
    "\"Census_PrimaryDiskTotalCapacity\",\n",
    "\"EngineVersion\",\n",
    "\"Census_InternalPrimaryDiagonalDisplaySizeInInches\",\n",
    "\"AppVersion\",\n",
    "\"Census_TotalPhysicalRAM\",\n",
    "\"Census_OSInstallTypeName\",\n",
    "\"Census_IsVirtualDevice\",\n",
    "\"Census_ActivationChannel\",\n",
    "\"Wdft_IsGamer\",\n",
    "\"Census_OSVersion\",\n",
    "\"IeVerIdentifier\",\n",
    "\"Wdft_RegionIdentifier\",\n",
    "\"Census_OSUILocaleIdentifier\",\n",
    "\"RtpStateBitfield\",\n",
    "\"LocaleEnglishNameIdentifier\",\n",
    "\"OsBuildLab\",\n",
    "\"Processor\",\n",
    "\"Census_OSArchitecture\",\n",
    "\"Census_InternalPrimaryDisplayResolutionHorizontal\",\n",
    "\"Census_ChassisTypeName\",\n",
    "\"OsBuild\",\n",
    "\"CountryIdentifier\",\n",
    "\"IsProtected\",\n",
    "\"Census_OSSkuName\",\n",
    "\"Census_OSInstallLanguageIdentifier\",\n",
    "\"Census_SystemVolumeTotalCapacity\",\n",
    "\"Census_OSBuildRevision\",\n",
    "\"Census_OEMNameIdentifier\",\n",
    "\"Census_ProcessorModelIdentifier\",\n",
    "\"Census_OSEdition\",\n",
    "\"AVProductsEnabled\",\n",
    "\"Census_IsTouchEnabled\",\n",
    "\"Census_InternalPrimaryDisplayResolutionVertical\",\n",
    "\"Census_ProcessorCoreCount\",\n",
    "\"Census_OEMModelIdentifier\",\n",
    "\"Census_IsAlwaysOnAlwaysConnectedCapable\",\n",
    "\"GeoNameIdentifier\",\n",
    "\"Census_MDC2FormFactor\",\n",
    "\"Census_PowerPlatformRoleName\",\n",
    "\"Census_FirmwareVersionIdentifier\",\n",
    "\"Census_OSWUAutoUpdateOptionsName\",\n",
    "\"IsSxsPassiveMode\",\n",
    "\"Census_InternalBatteryNumberOfCharges\",\n",
    "\"Census_OSBuildNumber\",\n",
    "\"HasTpm\",\n",
    "\"Census_IsSecureBootEnabled\",\n",
    "\"SkuEdition\",\n",
    "\"Firewall\",\n",
    "\"Census_GenuineStateName\",\n",
    "\"OsSuite\",\n",
    "\"CityIdentifier\",\n",
    "\"Census_PrimaryDiskTypeName\",\n",
    "\"Census_FirmwareManufacturerIdentifier\",\n",
    "\"Census_OSBranch\",\n",
    "\"OsPlatformSubRelease\",\n",
    "\"OsVer\",\n",
    "\"Census_HasOpticalDiskDrive\",\n",
    "\"Census_ProcessorManufacturerIdentifier\",\n",
    "\"Census_IsPenCapable\",\n",
    "\"Census_FlightRing\",\n",
    "\"UacLuaenable\",\n",
    "\"ProductName\",\n",
    "\"Census_IsFlightsDisabled\",\n",
    "\"Platform\"]"
   ]
  },
  {
   "cell_type": "code",
   "execution_count": 4,
   "metadata": {},
   "outputs": [],
   "source": [
    "train = pd.read_csv('train_processed.csv', usecols=top_attr)"
   ]
  },
  {
   "cell_type": "code",
   "execution_count": 5,
   "metadata": {},
   "outputs": [
    {
     "data": {
      "text/plain": [
       "(8921483, 68)"
      ]
     },
     "execution_count": 5,
     "metadata": {},
     "output_type": "execute_result"
    }
   ],
   "source": [
    "train.shape"
   ]
  },
  {
   "cell_type": "code",
   "execution_count": 6,
   "metadata": {},
   "outputs": [],
   "source": [
    "from sklearn.preprocessing import LabelEncoder\n",
    "\n",
    "le = LabelEncoder()\n",
    "train[\"Census_ChassisTypeName\"] = le.fit_transform(train.Census_ChassisTypeName)\n",
    "le = LabelEncoder()\n",
    "train[\"Census_PowerPlatformRoleName\"] = le.fit_transform(train.Census_PowerPlatformRoleName)\n",
    "le = LabelEncoder()\n",
    "train[\"Census_PrimaryDiskTypeName\"] = le.fit_transform(train.Census_PrimaryDiskTypeName)"
   ]
  },
  {
   "cell_type": "code",
   "execution_count": 7,
   "metadata": {},
   "outputs": [],
   "source": [
    "from sklearn.model_selection import train_test_split\n",
    "X_train, X_test, y_train, y_test = train_test_split(train.iloc[:,:67], train.iloc[:,67], test_size=0.2, train_size=0.8, random_state=42)"
   ]
  },
  {
   "cell_type": "code",
   "execution_count": 8,
   "metadata": {
    "scrolled": true
   },
   "outputs": [
    {
     "name": "stdout",
     "output_type": "stream",
     "text": [
      "CPU times: user 0 ns, sys: 0 ns, total: 0 ns\n",
      "Wall time: 97.5 µs\n",
      "[21:10:45] Tree method is automatically selected to be 'approx' for faster speed. To use old behavior (exact greedy algorithm on single machine), set tree_method to 'exact'.\n",
      "[21:11:16] /workspace/src/tree/updater_prune.cc:74: tree pruning end, 1 roots, 1948 extra nodes, 0 pruned nodes, max_depth=10\n",
      "[21:11:40] /workspace/src/tree/updater_prune.cc:74: tree pruning end, 1 roots, 1980 extra nodes, 0 pruned nodes, max_depth=10\n",
      "[21:12:00] /workspace/src/tree/updater_prune.cc:74: tree pruning end, 1 roots, 1916 extra nodes, 0 pruned nodes, max_depth=10\n",
      "[21:12:25] /workspace/src/tree/updater_prune.cc:74: tree pruning end, 1 roots, 1952 extra nodes, 0 pruned nodes, max_depth=10\n",
      "[21:12:50] /workspace/src/tree/updater_prune.cc:74: tree pruning end, 1 roots, 1900 extra nodes, 0 pruned nodes, max_depth=10\n",
      "[21:13:12] /workspace/src/tree/updater_prune.cc:74: tree pruning end, 1 roots, 1814 extra nodes, 0 pruned nodes, max_depth=10\n",
      "[21:13:35] /workspace/src/tree/updater_prune.cc:74: tree pruning end, 1 roots, 1982 extra nodes, 0 pruned nodes, max_depth=10\n",
      "[21:14:01] /workspace/src/tree/updater_prune.cc:74: tree pruning end, 1 roots, 1940 extra nodes, 0 pruned nodes, max_depth=10\n",
      "[21:14:25] /workspace/src/tree/updater_prune.cc:74: tree pruning end, 1 roots, 1898 extra nodes, 0 pruned nodes, max_depth=10\n",
      "[21:14:45] /workspace/src/tree/updater_prune.cc:74: tree pruning end, 1 roots, 1856 extra nodes, 0 pruned nodes, max_depth=10\n",
      "[21:15:09] /workspace/src/tree/updater_prune.cc:74: tree pruning end, 1 roots, 1910 extra nodes, 0 pruned nodes, max_depth=10\n",
      "[21:15:35] /workspace/src/tree/updater_prune.cc:74: tree pruning end, 1 roots, 1982 extra nodes, 0 pruned nodes, max_depth=10\n",
      "[21:16:00] /workspace/src/tree/updater_prune.cc:74: tree pruning end, 1 roots, 1932 extra nodes, 0 pruned nodes, max_depth=10\n",
      "[21:16:22] /workspace/src/tree/updater_prune.cc:74: tree pruning end, 1 roots, 1878 extra nodes, 0 pruned nodes, max_depth=10\n",
      "[21:16:44] /workspace/src/tree/updater_prune.cc:74: tree pruning end, 1 roots, 1878 extra nodes, 0 pruned nodes, max_depth=10\n",
      "[21:17:09] /workspace/src/tree/updater_prune.cc:74: tree pruning end, 1 roots, 2008 extra nodes, 0 pruned nodes, max_depth=10\n",
      "[21:17:38] /workspace/src/tree/updater_prune.cc:74: tree pruning end, 1 roots, 1860 extra nodes, 0 pruned nodes, max_depth=10\n",
      "[21:18:01] /workspace/src/tree/updater_prune.cc:74: tree pruning end, 1 roots, 1954 extra nodes, 0 pruned nodes, max_depth=10\n",
      "[21:18:28] /workspace/src/tree/updater_prune.cc:74: tree pruning end, 1 roots, 1958 extra nodes, 0 pruned nodes, max_depth=10\n",
      "[21:18:52] /workspace/src/tree/updater_prune.cc:74: tree pruning end, 1 roots, 1880 extra nodes, 0 pruned nodes, max_depth=10\n",
      "[21:19:16] /workspace/src/tree/updater_prune.cc:74: tree pruning end, 1 roots, 1952 extra nodes, 0 pruned nodes, max_depth=10\n",
      "[21:19:39] /workspace/src/tree/updater_prune.cc:74: tree pruning end, 1 roots, 1942 extra nodes, 0 pruned nodes, max_depth=10\n",
      "[21:19:59] /workspace/src/tree/updater_prune.cc:74: tree pruning end, 1 roots, 1868 extra nodes, 0 pruned nodes, max_depth=10\n",
      "[21:20:24] /workspace/src/tree/updater_prune.cc:74: tree pruning end, 1 roots, 1908 extra nodes, 0 pruned nodes, max_depth=10\n",
      "[21:20:48] /workspace/src/tree/updater_prune.cc:74: tree pruning end, 1 roots, 1816 extra nodes, 0 pruned nodes, max_depth=10\n",
      "[21:21:12] /workspace/src/tree/updater_prune.cc:74: tree pruning end, 1 roots, 1894 extra nodes, 0 pruned nodes, max_depth=10\n",
      "[21:21:40] /workspace/src/tree/updater_prune.cc:74: tree pruning end, 1 roots, 1656 extra nodes, 0 pruned nodes, max_depth=10\n",
      "[21:22:03] /workspace/src/tree/updater_prune.cc:74: tree pruning end, 1 roots, 2004 extra nodes, 0 pruned nodes, max_depth=10\n",
      "[21:22:29] /workspace/src/tree/updater_prune.cc:74: tree pruning end, 1 roots, 1938 extra nodes, 0 pruned nodes, max_depth=10\n",
      "[21:22:55] /workspace/src/tree/updater_prune.cc:74: tree pruning end, 1 roots, 1934 extra nodes, 0 pruned nodes, max_depth=10\n",
      "[21:23:18] /workspace/src/tree/updater_prune.cc:74: tree pruning end, 1 roots, 1776 extra nodes, 0 pruned nodes, max_depth=10\n",
      "[21:23:43] /workspace/src/tree/updater_prune.cc:74: tree pruning end, 1 roots, 1736 extra nodes, 0 pruned nodes, max_depth=10\n",
      "[21:24:08] /workspace/src/tree/updater_prune.cc:74: tree pruning end, 1 roots, 1878 extra nodes, 0 pruned nodes, max_depth=10\n",
      "[21:24:38] /workspace/src/tree/updater_prune.cc:74: tree pruning end, 1 roots, 1832 extra nodes, 0 pruned nodes, max_depth=10\n",
      "[21:25:01] /workspace/src/tree/updater_prune.cc:74: tree pruning end, 1 roots, 1884 extra nodes, 0 pruned nodes, max_depth=10\n",
      "[21:25:28] /workspace/src/tree/updater_prune.cc:74: tree pruning end, 1 roots, 1824 extra nodes, 0 pruned nodes, max_depth=10\n",
      "[21:25:52] /workspace/src/tree/updater_prune.cc:74: tree pruning end, 1 roots, 1878 extra nodes, 0 pruned nodes, max_depth=10\n",
      "[21:26:13] /workspace/src/tree/updater_prune.cc:74: tree pruning end, 1 roots, 1724 extra nodes, 0 pruned nodes, max_depth=10\n",
      "[21:26:35] /workspace/src/tree/updater_prune.cc:74: tree pruning end, 1 roots, 1788 extra nodes, 0 pruned nodes, max_depth=10\n",
      "[21:26:55] /workspace/src/tree/updater_prune.cc:74: tree pruning end, 1 roots, 1742 extra nodes, 0 pruned nodes, max_depth=10\n",
      "[21:27:17] /workspace/src/tree/updater_prune.cc:74: tree pruning end, 1 roots, 1852 extra nodes, 0 pruned nodes, max_depth=10\n",
      "[21:27:37] /workspace/src/tree/updater_prune.cc:74: tree pruning end, 1 roots, 1798 extra nodes, 0 pruned nodes, max_depth=10\n",
      "[21:28:01] /workspace/src/tree/updater_prune.cc:74: tree pruning end, 1 roots, 1822 extra nodes, 0 pruned nodes, max_depth=10\n",
      "[21:28:23] /workspace/src/tree/updater_prune.cc:74: tree pruning end, 1 roots, 1764 extra nodes, 0 pruned nodes, max_depth=10\n",
      "[21:28:48] /workspace/src/tree/updater_prune.cc:74: tree pruning end, 1 roots, 1834 extra nodes, 0 pruned nodes, max_depth=10\n",
      "[21:29:09] /workspace/src/tree/updater_prune.cc:74: tree pruning end, 1 roots, 1814 extra nodes, 0 pruned nodes, max_depth=10\n",
      "[21:29:32] /workspace/src/tree/updater_prune.cc:74: tree pruning end, 1 roots, 1816 extra nodes, 0 pruned nodes, max_depth=10\n",
      "[21:29:54] /workspace/src/tree/updater_prune.cc:74: tree pruning end, 1 roots, 1518 extra nodes, 0 pruned nodes, max_depth=10\n",
      "[21:30:20] /workspace/src/tree/updater_prune.cc:74: tree pruning end, 1 roots, 1796 extra nodes, 0 pruned nodes, max_depth=10\n",
      "[21:30:42] /workspace/src/tree/updater_prune.cc:74: tree pruning end, 1 roots, 1810 extra nodes, 0 pruned nodes, max_depth=10\n",
      "[21:31:04] /workspace/src/tree/updater_prune.cc:74: tree pruning end, 1 roots, 1764 extra nodes, 0 pruned nodes, max_depth=10\n",
      "[21:31:24] /workspace/src/tree/updater_prune.cc:74: tree pruning end, 1 roots, 1698 extra nodes, 0 pruned nodes, max_depth=10\n",
      "[21:31:48] /workspace/src/tree/updater_prune.cc:74: tree pruning end, 1 roots, 1932 extra nodes, 0 pruned nodes, max_depth=10\n",
      "[21:32:14] /workspace/src/tree/updater_prune.cc:74: tree pruning end, 1 roots, 1856 extra nodes, 0 pruned nodes, max_depth=10\n",
      "[21:32:39] /workspace/src/tree/updater_prune.cc:74: tree pruning end, 1 roots, 1864 extra nodes, 0 pruned nodes, max_depth=10\n",
      "[21:32:59] /workspace/src/tree/updater_prune.cc:74: tree pruning end, 1 roots, 1750 extra nodes, 0 pruned nodes, max_depth=10\n",
      "[21:33:23] /workspace/src/tree/updater_prune.cc:74: tree pruning end, 1 roots, 1936 extra nodes, 0 pruned nodes, max_depth=10\n",
      "[21:33:47] /workspace/src/tree/updater_prune.cc:74: tree pruning end, 1 roots, 1508 extra nodes, 0 pruned nodes, max_depth=10\n",
      "[21:34:09] /workspace/src/tree/updater_prune.cc:74: tree pruning end, 1 roots, 1948 extra nodes, 0 pruned nodes, max_depth=10\n",
      "[21:34:30] /workspace/src/tree/updater_prune.cc:74: tree pruning end, 1 roots, 1952 extra nodes, 0 pruned nodes, max_depth=10\n",
      "[21:34:52] /workspace/src/tree/updater_prune.cc:74: tree pruning end, 1 roots, 1842 extra nodes, 0 pruned nodes, max_depth=10\n",
      "[21:35:15] /workspace/src/tree/updater_prune.cc:74: tree pruning end, 1 roots, 1838 extra nodes, 0 pruned nodes, max_depth=10\n",
      "[21:35:38] /workspace/src/tree/updater_prune.cc:74: tree pruning end, 1 roots, 1824 extra nodes, 0 pruned nodes, max_depth=10\n",
      "[21:36:01] /workspace/src/tree/updater_prune.cc:74: tree pruning end, 1 roots, 1772 extra nodes, 0 pruned nodes, max_depth=10\n"
     ]
    },
    {
     "name": "stdout",
     "output_type": "stream",
     "text": [
      "[21:36:23] /workspace/src/tree/updater_prune.cc:74: tree pruning end, 1 roots, 1862 extra nodes, 0 pruned nodes, max_depth=10\n",
      "[21:36:48] /workspace/src/tree/updater_prune.cc:74: tree pruning end, 1 roots, 1876 extra nodes, 0 pruned nodes, max_depth=10\n",
      "[21:37:08] /workspace/src/tree/updater_prune.cc:74: tree pruning end, 1 roots, 1368 extra nodes, 0 pruned nodes, max_depth=10\n",
      "[21:37:32] /workspace/src/tree/updater_prune.cc:74: tree pruning end, 1 roots, 1984 extra nodes, 0 pruned nodes, max_depth=10\n",
      "[21:37:56] /workspace/src/tree/updater_prune.cc:74: tree pruning end, 1 roots, 2002 extra nodes, 0 pruned nodes, max_depth=10\n",
      "[21:38:17] /workspace/src/tree/updater_prune.cc:74: tree pruning end, 1 roots, 1326 extra nodes, 0 pruned nodes, max_depth=10\n",
      "[21:38:41] /workspace/src/tree/updater_prune.cc:74: tree pruning end, 1 roots, 1852 extra nodes, 0 pruned nodes, max_depth=10\n",
      "[21:39:05] /workspace/src/tree/updater_prune.cc:74: tree pruning end, 1 roots, 1330 extra nodes, 0 pruned nodes, max_depth=10\n",
      "[21:39:27] /workspace/src/tree/updater_prune.cc:74: tree pruning end, 1 roots, 1672 extra nodes, 0 pruned nodes, max_depth=10\n",
      "[21:39:52] /workspace/src/tree/updater_prune.cc:74: tree pruning end, 1 roots, 1850 extra nodes, 0 pruned nodes, max_depth=10\n",
      "[21:40:15] /workspace/src/tree/updater_prune.cc:74: tree pruning end, 1 roots, 1350 extra nodes, 0 pruned nodes, max_depth=10\n",
      "[21:40:34] /workspace/src/tree/updater_prune.cc:74: tree pruning end, 1 roots, 1790 extra nodes, 0 pruned nodes, max_depth=10\n",
      "[21:41:00] /workspace/src/tree/updater_prune.cc:74: tree pruning end, 1 roots, 1876 extra nodes, 0 pruned nodes, max_depth=10\n",
      "[21:41:23] /workspace/src/tree/updater_prune.cc:74: tree pruning end, 1 roots, 1248 extra nodes, 0 pruned nodes, max_depth=10\n",
      "[21:41:45] /workspace/src/tree/updater_prune.cc:74: tree pruning end, 1 roots, 1782 extra nodes, 0 pruned nodes, max_depth=10\n",
      "[21:42:06] /workspace/src/tree/updater_prune.cc:74: tree pruning end, 1 roots, 1874 extra nodes, 0 pruned nodes, max_depth=10\n",
      "[21:42:26] /workspace/src/tree/updater_prune.cc:74: tree pruning end, 1 roots, 1206 extra nodes, 0 pruned nodes, max_depth=10\n",
      "[21:42:46] /workspace/src/tree/updater_prune.cc:74: tree pruning end, 1 roots, 1298 extra nodes, 0 pruned nodes, max_depth=10\n",
      "[21:43:07] /workspace/src/tree/updater_prune.cc:74: tree pruning end, 1 roots, 1900 extra nodes, 0 pruned nodes, max_depth=10\n",
      "[21:43:31] /workspace/src/tree/updater_prune.cc:74: tree pruning end, 1 roots, 1788 extra nodes, 0 pruned nodes, max_depth=10\n",
      "[21:43:53] /workspace/src/tree/updater_prune.cc:74: tree pruning end, 1 roots, 1426 extra nodes, 0 pruned nodes, max_depth=10\n",
      "[21:44:15] /workspace/src/tree/updater_prune.cc:74: tree pruning end, 1 roots, 1724 extra nodes, 0 pruned nodes, max_depth=10\n",
      "[21:44:36] /workspace/src/tree/updater_prune.cc:74: tree pruning end, 1 roots, 1724 extra nodes, 0 pruned nodes, max_depth=10\n",
      "[21:44:59] /workspace/src/tree/updater_prune.cc:74: tree pruning end, 1 roots, 1726 extra nodes, 0 pruned nodes, max_depth=10\n",
      "[21:45:25] /workspace/src/tree/updater_prune.cc:74: tree pruning end, 1 roots, 1810 extra nodes, 0 pruned nodes, max_depth=10\n",
      "[21:45:51] /workspace/src/tree/updater_prune.cc:74: tree pruning end, 1 roots, 1652 extra nodes, 0 pruned nodes, max_depth=10\n",
      "[21:46:12] /workspace/src/tree/updater_prune.cc:74: tree pruning end, 1 roots, 1842 extra nodes, 0 pruned nodes, max_depth=10\n",
      "[21:46:36] /workspace/src/tree/updater_prune.cc:74: tree pruning end, 1 roots, 1472 extra nodes, 0 pruned nodes, max_depth=10\n",
      "[21:46:59] /workspace/src/tree/updater_prune.cc:74: tree pruning end, 1 roots, 1710 extra nodes, 0 pruned nodes, max_depth=10\n",
      "[21:47:22] /workspace/src/tree/updater_prune.cc:74: tree pruning end, 1 roots, 1802 extra nodes, 0 pruned nodes, max_depth=10\n",
      "[21:47:45] /workspace/src/tree/updater_prune.cc:74: tree pruning end, 1 roots, 1388 extra nodes, 0 pruned nodes, max_depth=10\n",
      "[21:48:08] /workspace/src/tree/updater_prune.cc:74: tree pruning end, 1 roots, 1622 extra nodes, 0 pruned nodes, max_depth=10\n",
      "[21:48:32] /workspace/src/tree/updater_prune.cc:74: tree pruning end, 1 roots, 1564 extra nodes, 0 pruned nodes, max_depth=10\n",
      "[21:48:57] /workspace/src/tree/updater_prune.cc:74: tree pruning end, 1 roots, 1882 extra nodes, 0 pruned nodes, max_depth=10\n",
      "[21:49:20] /workspace/src/tree/updater_prune.cc:74: tree pruning end, 1 roots, 1736 extra nodes, 0 pruned nodes, max_depth=10\n",
      "[21:49:47] /workspace/src/tree/updater_prune.cc:74: tree pruning end, 1 roots, 1838 extra nodes, 0 pruned nodes, max_depth=10\n",
      "[21:50:11] /workspace/src/tree/updater_prune.cc:74: tree pruning end, 1 roots, 1316 extra nodes, 0 pruned nodes, max_depth=10\n",
      "[21:50:35] /workspace/src/tree/updater_prune.cc:74: tree pruning end, 1 roots, 1680 extra nodes, 0 pruned nodes, max_depth=10\n",
      "[21:50:58] /workspace/src/tree/updater_prune.cc:74: tree pruning end, 1 roots, 1722 extra nodes, 0 pruned nodes, max_depth=10\n",
      "[21:51:20] /workspace/src/tree/updater_prune.cc:74: tree pruning end, 1 roots, 1436 extra nodes, 0 pruned nodes, max_depth=10\n",
      "[21:51:42] /workspace/src/tree/updater_prune.cc:74: tree pruning end, 1 roots, 712 extra nodes, 0 pruned nodes, max_depth=10\n",
      "[21:52:06] /workspace/src/tree/updater_prune.cc:74: tree pruning end, 1 roots, 1850 extra nodes, 0 pruned nodes, max_depth=10\n",
      "[21:52:28] /workspace/src/tree/updater_prune.cc:74: tree pruning end, 1 roots, 1656 extra nodes, 0 pruned nodes, max_depth=10\n",
      "[21:52:52] /workspace/src/tree/updater_prune.cc:74: tree pruning end, 1 roots, 1460 extra nodes, 0 pruned nodes, max_depth=10\n",
      "[21:53:16] /workspace/src/tree/updater_prune.cc:74: tree pruning end, 1 roots, 1696 extra nodes, 0 pruned nodes, max_depth=10\n",
      "[21:53:38] /workspace/src/tree/updater_prune.cc:74: tree pruning end, 1 roots, 1446 extra nodes, 0 pruned nodes, max_depth=10\n",
      "[21:54:02] /workspace/src/tree/updater_prune.cc:74: tree pruning end, 1 roots, 1466 extra nodes, 0 pruned nodes, max_depth=10\n",
      "[21:54:25] /workspace/src/tree/updater_prune.cc:74: tree pruning end, 1 roots, 1756 extra nodes, 0 pruned nodes, max_depth=10\n",
      "[21:54:46] /workspace/src/tree/updater_prune.cc:74: tree pruning end, 1 roots, 1548 extra nodes, 0 pruned nodes, max_depth=10\n",
      "[21:55:05] /workspace/src/tree/updater_prune.cc:74: tree pruning end, 1 roots, 1826 extra nodes, 0 pruned nodes, max_depth=10\n",
      "[21:55:26] /workspace/src/tree/updater_prune.cc:74: tree pruning end, 1 roots, 998 extra nodes, 0 pruned nodes, max_depth=10\n",
      "[21:55:50] /workspace/src/tree/updater_prune.cc:74: tree pruning end, 1 roots, 1736 extra nodes, 0 pruned nodes, max_depth=10\n",
      "[21:56:13] /workspace/src/tree/updater_prune.cc:74: tree pruning end, 1 roots, 1202 extra nodes, 0 pruned nodes, max_depth=10\n",
      "[21:56:35] /workspace/src/tree/updater_prune.cc:74: tree pruning end, 1 roots, 1644 extra nodes, 0 pruned nodes, max_depth=10\n",
      "[21:56:59] /workspace/src/tree/updater_prune.cc:74: tree pruning end, 1 roots, 1478 extra nodes, 0 pruned nodes, max_depth=10\n",
      "[21:57:24] /workspace/src/tree/updater_prune.cc:74: tree pruning end, 1 roots, 1684 extra nodes, 0 pruned nodes, max_depth=10\n",
      "[21:57:46] /workspace/src/tree/updater_prune.cc:74: tree pruning end, 1 roots, 1798 extra nodes, 0 pruned nodes, max_depth=10\n",
      "[21:58:08] /workspace/src/tree/updater_prune.cc:74: tree pruning end, 1 roots, 1102 extra nodes, 0 pruned nodes, max_depth=10\n",
      "[21:58:29] /workspace/src/tree/updater_prune.cc:74: tree pruning end, 1 roots, 1772 extra nodes, 0 pruned nodes, max_depth=10\n",
      "[21:58:54] /workspace/src/tree/updater_prune.cc:74: tree pruning end, 1 roots, 1808 extra nodes, 0 pruned nodes, max_depth=10\n",
      "[21:59:15] /workspace/src/tree/updater_prune.cc:74: tree pruning end, 1 roots, 1504 extra nodes, 0 pruned nodes, max_depth=10\n",
      "[21:59:40] /workspace/src/tree/updater_prune.cc:74: tree pruning end, 1 roots, 1800 extra nodes, 0 pruned nodes, max_depth=10\n",
      "[22:00:07] /workspace/src/tree/updater_prune.cc:74: tree pruning end, 1 roots, 1826 extra nodes, 0 pruned nodes, max_depth=10\n",
      "[22:00:29] /workspace/src/tree/updater_prune.cc:74: tree pruning end, 1 roots, 1072 extra nodes, 0 pruned nodes, max_depth=10\n",
      "[22:00:50] /workspace/src/tree/updater_prune.cc:74: tree pruning end, 1 roots, 1652 extra nodes, 0 pruned nodes, max_depth=10\n",
      "[22:01:12] /workspace/src/tree/updater_prune.cc:74: tree pruning end, 1 roots, 1664 extra nodes, 0 pruned nodes, max_depth=10\n"
     ]
    },
    {
     "name": "stdout",
     "output_type": "stream",
     "text": [
      "[22:01:36] /workspace/src/tree/updater_prune.cc:74: tree pruning end, 1 roots, 1664 extra nodes, 0 pruned nodes, max_depth=10\n",
      "[22:01:59] /workspace/src/tree/updater_prune.cc:74: tree pruning end, 1 roots, 1050 extra nodes, 0 pruned nodes, max_depth=10\n",
      "[22:02:24] /workspace/src/tree/updater_prune.cc:74: tree pruning end, 1 roots, 886 extra nodes, 0 pruned nodes, max_depth=10\n",
      "[22:02:46] /workspace/src/tree/updater_prune.cc:74: tree pruning end, 1 roots, 1640 extra nodes, 0 pruned nodes, max_depth=10\n",
      "[22:03:13] /workspace/src/tree/updater_prune.cc:74: tree pruning end, 1 roots, 932 extra nodes, 0 pruned nodes, max_depth=10\n",
      "[22:03:36] /workspace/src/tree/updater_prune.cc:74: tree pruning end, 1 roots, 1654 extra nodes, 0 pruned nodes, max_depth=10\n",
      "[22:03:58] /workspace/src/tree/updater_prune.cc:74: tree pruning end, 1 roots, 1504 extra nodes, 0 pruned nodes, max_depth=10\n",
      "[22:04:17] /workspace/src/tree/updater_prune.cc:74: tree pruning end, 1 roots, 1786 extra nodes, 0 pruned nodes, max_depth=10\n",
      "[22:04:41] /workspace/src/tree/updater_prune.cc:74: tree pruning end, 1 roots, 1498 extra nodes, 0 pruned nodes, max_depth=10\n",
      "[22:05:05] /workspace/src/tree/updater_prune.cc:74: tree pruning end, 1 roots, 1576 extra nodes, 0 pruned nodes, max_depth=10\n",
      "[22:05:28] /workspace/src/tree/updater_prune.cc:74: tree pruning end, 1 roots, 1544 extra nodes, 0 pruned nodes, max_depth=10\n",
      "[22:05:48] /workspace/src/tree/updater_prune.cc:74: tree pruning end, 1 roots, 1854 extra nodes, 0 pruned nodes, max_depth=10\n",
      "[22:06:13] /workspace/src/tree/updater_prune.cc:74: tree pruning end, 1 roots, 662 extra nodes, 0 pruned nodes, max_depth=10\n",
      "[22:06:37] /workspace/src/tree/updater_prune.cc:74: tree pruning end, 1 roots, 1892 extra nodes, 0 pruned nodes, max_depth=10\n",
      "[22:06:58] /workspace/src/tree/updater_prune.cc:74: tree pruning end, 1 roots, 1880 extra nodes, 0 pruned nodes, max_depth=10\n",
      "[22:07:18] /workspace/src/tree/updater_prune.cc:74: tree pruning end, 1 roots, 828 extra nodes, 0 pruned nodes, max_depth=10\n",
      "[22:07:40] /workspace/src/tree/updater_prune.cc:74: tree pruning end, 1 roots, 1818 extra nodes, 0 pruned nodes, max_depth=10\n",
      "[22:08:05] /workspace/src/tree/updater_prune.cc:74: tree pruning end, 1 roots, 1588 extra nodes, 0 pruned nodes, max_depth=10\n",
      "[22:08:28] /workspace/src/tree/updater_prune.cc:74: tree pruning end, 1 roots, 1658 extra nodes, 0 pruned nodes, max_depth=10\n",
      "[22:08:55] /workspace/src/tree/updater_prune.cc:74: tree pruning end, 1 roots, 1780 extra nodes, 0 pruned nodes, max_depth=10\n"
     ]
    },
    {
     "data": {
      "text/plain": [
       "XGBClassifier(base_score=0.5, booster='gbtree', colsample_bylevel=1,\n",
       "       colsample_bytree=0.5, gamma=0, learning_rate=0.1, max_delta_step=0,\n",
       "       max_depth=10, min_child_weight=1, missing=None, n_estimators=150,\n",
       "       n_jobs=-1, nthread=None, objective='binary:logistic',\n",
       "       random_state=0, reg_alpha=0, reg_lambda=1, scale_pos_weight=1,\n",
       "       seed=None, silent=False, subsample=1)"
      ]
     },
     "execution_count": 8,
     "metadata": {},
     "output_type": "execute_result"
    }
   ],
   "source": [
    "#%time clf2 = xgb.XGBClassifier(n_jobs=-1, max_depth=10, n_estimators=150, silent=False, colsample_bytree=0.5,\\\n",
    "#                              eta = 0.1, tree_method = 'hist', grow_policy = 'lossguide')\n",
    "%time clf2 = xgb.XGBClassifier(n_jobs=-1, max_depth=10, n_estimators=150, silent=False, colsample_bytree=0.5)\n",
    "clf2.fit(X_train, y_train)"
   ]
  },
  {
   "cell_type": "code",
   "execution_count": 9,
   "metadata": {},
   "outputs": [],
   "source": [
    "del train"
   ]
  },
  {
   "cell_type": "code",
   "execution_count": 10,
   "metadata": {},
   "outputs": [
    {
     "data": {
      "text/plain": [
       "21"
      ]
     },
     "execution_count": 10,
     "metadata": {},
     "output_type": "execute_result"
    }
   ],
   "source": [
    "import gc\n",
    "gc.collect()"
   ]
  },
  {
   "cell_type": "code",
   "execution_count": 11,
   "metadata": {},
   "outputs": [],
   "source": [
    "del X_train, y_train"
   ]
  },
  {
   "cell_type": "code",
   "execution_count": 12,
   "metadata": {},
   "outputs": [
    {
     "name": "stdout",
     "output_type": "stream",
     "text": [
      "0.646848030344724\n"
     ]
    },
    {
     "name": "stderr",
     "output_type": "stream",
     "text": [
      "/home/pratikv/anaconda3/lib/python3.6/site-packages/sklearn/preprocessing/label.py:151: DeprecationWarning: The truth value of an empty array is ambiguous. Returning False, but in future this will result in an error. Use `array.size > 0` to check that an array is not empty.\n",
      "  if diff:\n"
     ]
    }
   ],
   "source": [
    "from sklearn.metrics import accuracy_score\n",
    "print (accuracy_score(y_true=y_test, y_pred=clf2.predict(X_test)))"
   ]
  },
  {
   "cell_type": "code",
   "execution_count": 5,
   "metadata": {},
   "outputs": [],
   "source": [
    "import joblib"
   ]
  },
  {
   "cell_type": "code",
   "execution_count": 14,
   "metadata": {},
   "outputs": [
    {
     "data": {
      "text/plain": [
       "['xgb_model5.dat']"
      ]
     },
     "execution_count": 14,
     "metadata": {},
     "output_type": "execute_result"
    }
   ],
   "source": [
    "joblib.dump(clf2, 'xgb_model5.dat')"
   ]
  },
  {
   "cell_type": "code",
   "execution_count": 6,
   "metadata": {},
   "outputs": [],
   "source": [
    "clf = joblib.load('xgb_model5.dat')"
   ]
  },
  {
   "cell_type": "code",
   "execution_count": 7,
   "metadata": {},
   "outputs": [
    {
     "name": "stdout",
     "output_type": "stream",
     "text": [
      "(7853253, 67)\n"
     ]
    }
   ],
   "source": [
    "test = pd.read_csv('test_processed.gz', usecols=top_attr)\n",
    "print (test.shape)\n",
    "mc = pd.read_csv('test.csv.zip', usecols=['MachineIdentifier'])\n",
    "proba = clf.predict_proba(test)\n",
    "mc['HasDetections'] = proba[:,1]"
   ]
  },
  {
   "cell_type": "code",
   "execution_count": 8,
   "metadata": {},
   "outputs": [],
   "source": [
    "mc.to_csv('submission6.gz', compression='gzip', index=False)"
   ]
  },
  {
   "cell_type": "code",
   "execution_count": null,
   "metadata": {},
   "outputs": [],
   "source": []
  }
 ],
 "metadata": {
  "kernelspec": {
   "display_name": "Python 3",
   "language": "python",
   "name": "python3"
  },
  "language_info": {
   "codemirror_mode": {
    "name": "ipython",
    "version": 3
   },
   "file_extension": ".py",
   "mimetype": "text/x-python",
   "name": "python",
   "nbconvert_exporter": "python",
   "pygments_lexer": "ipython3",
   "version": "3.6.5"
  }
 },
 "nbformat": 4,
 "nbformat_minor": 2
}
