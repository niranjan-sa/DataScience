{
 "cells": [
  {
   "cell_type": "code",
   "execution_count": 1,
   "metadata": {},
   "outputs": [],
   "source": [
    "def warn(*args, **kwargs):\n",
    "    pass\n",
    "import warnings\n",
    "warnings.warn = warn"
   ]
  },
  {
   "cell_type": "code",
   "execution_count": 2,
   "metadata": {},
   "outputs": [],
   "source": [
    "import numpy as np # linear algebra\n",
    "import pandas as pd # data processing, CSV file I/O (e.g. pd.read_csv)\n",
    "import os"
   ]
  },
  {
   "cell_type": "code",
   "execution_count": 3,
   "metadata": {},
   "outputs": [],
   "source": [
    "train_dt = pd.read_csv('train_proc_dtypes.csv', header=None)\n",
    "train_dt.columns = ['a', 'b']"
   ]
  },
  {
   "cell_type": "code",
   "execution_count": 4,
   "metadata": {},
   "outputs": [],
   "source": [
    "train = pd.read_csv('train_proc.gz', dtype=train_dt.set_index('a').to_dict()['b'])"
   ]
  },
  {
   "cell_type": "code",
   "execution_count": 5,
   "metadata": {},
   "outputs": [],
   "source": [
    "X = train.iloc[:, :71]\n",
    "y = train.iloc[:, 71]\n",
    "# Splitting the dataset into the Training set and Test set\n",
    "from sklearn.model_selection import train_test_split\n",
    "x_train, x_test, y_train, y_test = train_test_split(X, y, test_size = 0.2, random_state = 0)\n",
    "x_val, x_test, y_val, y_test = train_test_split(x_test, y_test, test_size = 0.5, random_state = 0)"
   ]
  },
  {
   "cell_type": "code",
   "execution_count": 6,
   "metadata": {},
   "outputs": [],
   "source": [
    "def display_all(df):\n",
    "    with pd.option_context(\"display.max_rows\", 1000, \"display.max_columns\", 1000): \n",
    "        display(df)"
   ]
  },
  {
   "cell_type": "code",
   "execution_count": 7,
   "metadata": {},
   "outputs": [],
   "source": [
    "top_56 = ['AVProductStatesIdentifier',\n",
    " 'AvSigVersion',\n",
    " 'CountryIdentifier',\n",
    " 'AppVersion',\n",
    " 'Wdft_RegionIdentifier',\n",
    " 'Census_OSInstallTypeName',\n",
    " 'Census_OSVersion',\n",
    " 'LocaleEnglishNameIdentifier',\n",
    " 'Census_ActivationChannel',\n",
    " 'OsBuildLab',\n",
    " 'Census_OSUILocaleIdentifier',\n",
    " 'GeoNameIdentifier',\n",
    " 'Census_OSBuildRevision',\n",
    " 'EngineVersion',\n",
    " 'Census_SystemVolumeTotalCapacity',\n",
    " 'Census_ProcessorModelIdentifier',\n",
    " 'Wdft_IsGamer',\n",
    " 'Census_InternalPrimaryDiagonalDisplaySizeInInches',\n",
    " 'Census_PrimaryDiskTotalCapacity',\n",
    " 'AVProductsInstalled',\n",
    " 'CityIdentifier',\n",
    " 'IeVerIdentifier',\n",
    " 'Census_OSInstallLanguageIdentifier',\n",
    " 'Census_InternalBatteryNumberOfCharges',\n",
    " 'Census_TotalPhysicalRAM',\n",
    " 'Census_OSWUAutoUpdateOptionsName',\n",
    " 'Census_OEMNameIdentifier',\n",
    " 'Census_FirmwareVersionIdentifier',\n",
    " 'RtpStateBitfield',\n",
    " 'Census_FirmwareManufacturerIdentifier',\n",
    " 'Census_OSEdition',\n",
    " 'OsBuild',\n",
    " 'Census_OEMModelIdentifier',\n",
    " 'Census_GenuineStateName',\n",
    " 'Census_ChassisTypeName',\n",
    " 'Census_InternalPrimaryDisplayResolutionHorizontal',\n",
    " 'SMode',\n",
    " 'Census_InternalPrimaryDisplayResolutionVertical',\n",
    " 'IsSxsPassiveMode',\n",
    " 'Census_PrimaryDiskTypeName',\n",
    " 'OsPlatformSubRelease',\n",
    " 'Census_OSSkuName',\n",
    " 'AVProductsEnabled',\n",
    " 'Census_MDC2FormFactor',\n",
    " 'Census_IsVirtualDevice',\n",
    " 'Census_OSBuildNumber',\n",
    " 'SkuEdition',\n",
    " 'Census_OSBranch',\n",
    " 'OsSuite',\n",
    " 'IsProtected',\n",
    " 'Firewall',\n",
    " 'Census_ProcessorCoreCount',\n",
    " 'Census_PowerPlatformRoleName',\n",
    " 'Census_FlightRing',\n",
    " 'Processor',\n",
    " 'Census_IsSecureBootEnabled']"
   ]
  },
  {
   "cell_type": "code",
   "execution_count": 20,
   "metadata": {},
   "outputs": [],
   "source": [
    "param = {'max_depth': [5, 6, 7, 8, 9, 10, 11, 12], 'eta': [1], 'objective': ['binary:logistic'], 'n_estimators':[26]}\n",
    "param['nthread'] = [4]\n",
    "param['eval_metric'] = ['auc']"
   ]
  },
  {
   "cell_type": "code",
   "execution_count": 8,
   "metadata": {},
   "outputs": [],
   "source": [
    "import xgboost as xgb\n",
    "from sklearn.model_selection import GridSearchCV"
   ]
  },
  {
   "cell_type": "code",
   "execution_count": 22,
   "metadata": {},
   "outputs": [
    {
     "name": "stdout",
     "output_type": "stream",
     "text": [
      "Fitting 2 folds for each of 8 candidates, totalling 16 fits\n",
      "[CV] eta=1, eval_metric=auc, max_depth=5, n_estimators=26, nthread=4, objective=binary:logistic \n"
     ]
    },
    {
     "name": "stderr",
     "output_type": "stream",
     "text": [
      "/home/pratikv/anaconda3/lib/python3.6/site-packages/sklearn/preprocessing/label.py:151: DeprecationWarning: The truth value of an empty array is ambiguous. Returning False, but in future this will result in an error. Use `array.size > 0` to check that an array is not empty.\n",
      "  if diff:\n",
      "/home/pratikv/anaconda3/lib/python3.6/site-packages/sklearn/preprocessing/label.py:151: DeprecationWarning: The truth value of an empty array is ambiguous. Returning False, but in future this will result in an error. Use `array.size > 0` to check that an array is not empty.\n",
      "  if diff:\n"
     ]
    },
    {
     "name": "stdout",
     "output_type": "stream",
     "text": [
      "[CV]  eta=1, eval_metric=auc, max_depth=5, n_estimators=26, nthread=4, objective=binary:logistic, score=0.6133223934475016, total= 3.5min\n",
      "[CV] eta=1, eval_metric=auc, max_depth=5, n_estimators=26, nthread=4, objective=binary:logistic \n"
     ]
    },
    {
     "name": "stderr",
     "output_type": "stream",
     "text": [
      "[Parallel(n_jobs=None)]: Done   1 out of   1 | elapsed:  3.8min remaining:    0.0s\n",
      "/home/pratikv/anaconda3/lib/python3.6/site-packages/sklearn/preprocessing/label.py:151: DeprecationWarning: The truth value of an empty array is ambiguous. Returning False, but in future this will result in an error. Use `array.size > 0` to check that an array is not empty.\n",
      "  if diff:\n",
      "/home/pratikv/anaconda3/lib/python3.6/site-packages/sklearn/preprocessing/label.py:151: DeprecationWarning: The truth value of an empty array is ambiguous. Returning False, but in future this will result in an error. Use `array.size > 0` to check that an array is not empty.\n",
      "  if diff:\n"
     ]
    },
    {
     "name": "stdout",
     "output_type": "stream",
     "text": [
      "[CV]  eta=1, eval_metric=auc, max_depth=5, n_estimators=26, nthread=4, objective=binary:logistic, score=0.6134213119848635, total= 3.5min\n",
      "[CV] eta=1, eval_metric=auc, max_depth=6, n_estimators=26, nthread=4, objective=binary:logistic \n"
     ]
    },
    {
     "name": "stderr",
     "output_type": "stream",
     "text": [
      "[Parallel(n_jobs=None)]: Done   2 out of   2 | elapsed:  7.5min remaining:    0.0s\n",
      "/home/pratikv/anaconda3/lib/python3.6/site-packages/sklearn/preprocessing/label.py:151: DeprecationWarning: The truth value of an empty array is ambiguous. Returning False, but in future this will result in an error. Use `array.size > 0` to check that an array is not empty.\n",
      "  if diff:\n",
      "/home/pratikv/anaconda3/lib/python3.6/site-packages/sklearn/preprocessing/label.py:151: DeprecationWarning: The truth value of an empty array is ambiguous. Returning False, but in future this will result in an error. Use `array.size > 0` to check that an array is not empty.\n",
      "  if diff:\n"
     ]
    },
    {
     "name": "stdout",
     "output_type": "stream",
     "text": [
      "[CV]  eta=1, eval_metric=auc, max_depth=6, n_estimators=26, nthread=4, objective=binary:logistic, score=0.6166606839166024, total= 4.2min\n",
      "[CV] eta=1, eval_metric=auc, max_depth=6, n_estimators=26, nthread=4, objective=binary:logistic \n"
     ]
    },
    {
     "name": "stderr",
     "output_type": "stream",
     "text": [
      "/home/pratikv/anaconda3/lib/python3.6/site-packages/sklearn/preprocessing/label.py:151: DeprecationWarning: The truth value of an empty array is ambiguous. Returning False, but in future this will result in an error. Use `array.size > 0` to check that an array is not empty.\n",
      "  if diff:\n",
      "/home/pratikv/anaconda3/lib/python3.6/site-packages/sklearn/preprocessing/label.py:151: DeprecationWarning: The truth value of an empty array is ambiguous. Returning False, but in future this will result in an error. Use `array.size > 0` to check that an array is not empty.\n",
      "  if diff:\n"
     ]
    },
    {
     "name": "stdout",
     "output_type": "stream",
     "text": [
      "[CV]  eta=1, eval_metric=auc, max_depth=6, n_estimators=26, nthread=4, objective=binary:logistic, score=0.6172499918034923, total= 4.2min\n",
      "[CV] eta=1, eval_metric=auc, max_depth=7, n_estimators=26, nthread=4, objective=binary:logistic \n"
     ]
    },
    {
     "name": "stderr",
     "output_type": "stream",
     "text": [
      "/home/pratikv/anaconda3/lib/python3.6/site-packages/sklearn/preprocessing/label.py:151: DeprecationWarning: The truth value of an empty array is ambiguous. Returning False, but in future this will result in an error. Use `array.size > 0` to check that an array is not empty.\n",
      "  if diff:\n",
      "/home/pratikv/anaconda3/lib/python3.6/site-packages/sklearn/preprocessing/label.py:151: DeprecationWarning: The truth value of an empty array is ambiguous. Returning False, but in future this will result in an error. Use `array.size > 0` to check that an array is not empty.\n",
      "  if diff:\n"
     ]
    },
    {
     "name": "stdout",
     "output_type": "stream",
     "text": [
      "[CV]  eta=1, eval_metric=auc, max_depth=7, n_estimators=26, nthread=4, objective=binary:logistic, score=0.6218044478594225, total= 4.9min\n",
      "[CV] eta=1, eval_metric=auc, max_depth=7, n_estimators=26, nthread=4, objective=binary:logistic \n"
     ]
    },
    {
     "name": "stderr",
     "output_type": "stream",
     "text": [
      "/home/pratikv/anaconda3/lib/python3.6/site-packages/sklearn/preprocessing/label.py:151: DeprecationWarning: The truth value of an empty array is ambiguous. Returning False, but in future this will result in an error. Use `array.size > 0` to check that an array is not empty.\n",
      "  if diff:\n",
      "/home/pratikv/anaconda3/lib/python3.6/site-packages/sklearn/preprocessing/label.py:151: DeprecationWarning: The truth value of an empty array is ambiguous. Returning False, but in future this will result in an error. Use `array.size > 0` to check that an array is not empty.\n",
      "  if diff:\n"
     ]
    },
    {
     "name": "stdout",
     "output_type": "stream",
     "text": [
      "[CV]  eta=1, eval_metric=auc, max_depth=7, n_estimators=26, nthread=4, objective=binary:logistic, score=0.6218397558925884, total= 4.9min\n",
      "[CV] eta=1, eval_metric=auc, max_depth=8, n_estimators=26, nthread=4, objective=binary:logistic \n"
     ]
    },
    {
     "name": "stderr",
     "output_type": "stream",
     "text": [
      "/home/pratikv/anaconda3/lib/python3.6/site-packages/sklearn/preprocessing/label.py:151: DeprecationWarning: The truth value of an empty array is ambiguous. Returning False, but in future this will result in an error. Use `array.size > 0` to check that an array is not empty.\n",
      "  if diff:\n",
      "/home/pratikv/anaconda3/lib/python3.6/site-packages/sklearn/preprocessing/label.py:151: DeprecationWarning: The truth value of an empty array is ambiguous. Returning False, but in future this will result in an error. Use `array.size > 0` to check that an array is not empty.\n",
      "  if diff:\n"
     ]
    },
    {
     "name": "stdout",
     "output_type": "stream",
     "text": [
      "[CV]  eta=1, eval_metric=auc, max_depth=8, n_estimators=26, nthread=4, objective=binary:logistic, score=0.6258993390392236, total= 5.8min\n",
      "[CV] eta=1, eval_metric=auc, max_depth=8, n_estimators=26, nthread=4, objective=binary:logistic \n"
     ]
    },
    {
     "name": "stderr",
     "output_type": "stream",
     "text": [
      "/home/pratikv/anaconda3/lib/python3.6/site-packages/sklearn/preprocessing/label.py:151: DeprecationWarning: The truth value of an empty array is ambiguous. Returning False, but in future this will result in an error. Use `array.size > 0` to check that an array is not empty.\n",
      "  if diff:\n",
      "/home/pratikv/anaconda3/lib/python3.6/site-packages/sklearn/preprocessing/label.py:151: DeprecationWarning: The truth value of an empty array is ambiguous. Returning False, but in future this will result in an error. Use `array.size > 0` to check that an array is not empty.\n",
      "  if diff:\n"
     ]
    },
    {
     "name": "stdout",
     "output_type": "stream",
     "text": [
      "[CV]  eta=1, eval_metric=auc, max_depth=8, n_estimators=26, nthread=4, objective=binary:logistic, score=0.6261815230820662, total= 5.9min\n",
      "[CV] eta=1, eval_metric=auc, max_depth=9, n_estimators=26, nthread=4, objective=binary:logistic \n"
     ]
    },
    {
     "name": "stderr",
     "output_type": "stream",
     "text": [
      "/home/pratikv/anaconda3/lib/python3.6/site-packages/sklearn/preprocessing/label.py:151: DeprecationWarning: The truth value of an empty array is ambiguous. Returning False, but in future this will result in an error. Use `array.size > 0` to check that an array is not empty.\n",
      "  if diff:\n",
      "/home/pratikv/anaconda3/lib/python3.6/site-packages/sklearn/preprocessing/label.py:151: DeprecationWarning: The truth value of an empty array is ambiguous. Returning False, but in future this will result in an error. Use `array.size > 0` to check that an array is not empty.\n",
      "  if diff:\n"
     ]
    },
    {
     "name": "stdout",
     "output_type": "stream",
     "text": [
      "[CV]  eta=1, eval_metric=auc, max_depth=9, n_estimators=26, nthread=4, objective=binary:logistic, score=0.6288114111079632, total= 6.8min\n",
      "[CV] eta=1, eval_metric=auc, max_depth=9, n_estimators=26, nthread=4, objective=binary:logistic \n"
     ]
    },
    {
     "name": "stderr",
     "output_type": "stream",
     "text": [
      "/home/pratikv/anaconda3/lib/python3.6/site-packages/sklearn/preprocessing/label.py:151: DeprecationWarning: The truth value of an empty array is ambiguous. Returning False, but in future this will result in an error. Use `array.size > 0` to check that an array is not empty.\n",
      "  if diff:\n",
      "/home/pratikv/anaconda3/lib/python3.6/site-packages/sklearn/preprocessing/label.py:151: DeprecationWarning: The truth value of an empty array is ambiguous. Returning False, but in future this will result in an error. Use `array.size > 0` to check that an array is not empty.\n",
      "  if diff:\n"
     ]
    },
    {
     "name": "stdout",
     "output_type": "stream",
     "text": [
      "[CV]  eta=1, eval_metric=auc, max_depth=9, n_estimators=26, nthread=4, objective=binary:logistic, score=0.6288240211198083, total= 6.8min\n",
      "[CV] eta=1, eval_metric=auc, max_depth=10, n_estimators=26, nthread=4, objective=binary:logistic \n"
     ]
    },
    {
     "name": "stderr",
     "output_type": "stream",
     "text": [
      "/home/pratikv/anaconda3/lib/python3.6/site-packages/sklearn/preprocessing/label.py:151: DeprecationWarning: The truth value of an empty array is ambiguous. Returning False, but in future this will result in an error. Use `array.size > 0` to check that an array is not empty.\n",
      "  if diff:\n",
      "/home/pratikv/anaconda3/lib/python3.6/site-packages/sklearn/preprocessing/label.py:151: DeprecationWarning: The truth value of an empty array is ambiguous. Returning False, but in future this will result in an error. Use `array.size > 0` to check that an array is not empty.\n",
      "  if diff:\n"
     ]
    },
    {
     "name": "stdout",
     "output_type": "stream",
     "text": [
      "[CV]  eta=1, eval_metric=auc, max_depth=10, n_estimators=26, nthread=4, objective=binary:logistic, score=0.6314258868971608, total= 7.8min\n",
      "[CV] eta=1, eval_metric=auc, max_depth=10, n_estimators=26, nthread=4, objective=binary:logistic \n"
     ]
    },
    {
     "name": "stderr",
     "output_type": "stream",
     "text": [
      "/home/pratikv/anaconda3/lib/python3.6/site-packages/sklearn/preprocessing/label.py:151: DeprecationWarning: The truth value of an empty array is ambiguous. Returning False, but in future this will result in an error. Use `array.size > 0` to check that an array is not empty.\n",
      "  if diff:\n",
      "/home/pratikv/anaconda3/lib/python3.6/site-packages/sklearn/preprocessing/label.py:151: DeprecationWarning: The truth value of an empty array is ambiguous. Returning False, but in future this will result in an error. Use `array.size > 0` to check that an array is not empty.\n",
      "  if diff:\n"
     ]
    },
    {
     "name": "stdout",
     "output_type": "stream",
     "text": [
      "[CV]  eta=1, eval_metric=auc, max_depth=10, n_estimators=26, nthread=4, objective=binary:logistic, score=0.631265879857972, total= 7.8min\n",
      "[CV] eta=1, eval_metric=auc, max_depth=11, n_estimators=26, nthread=4, objective=binary:logistic \n"
     ]
    },
    {
     "name": "stderr",
     "output_type": "stream",
     "text": [
      "/home/pratikv/anaconda3/lib/python3.6/site-packages/sklearn/preprocessing/label.py:151: DeprecationWarning: The truth value of an empty array is ambiguous. Returning False, but in future this will result in an error. Use `array.size > 0` to check that an array is not empty.\n",
      "  if diff:\n",
      "/home/pratikv/anaconda3/lib/python3.6/site-packages/sklearn/preprocessing/label.py:151: DeprecationWarning: The truth value of an empty array is ambiguous. Returning False, but in future this will result in an error. Use `array.size > 0` to check that an array is not empty.\n",
      "  if diff:\n"
     ]
    },
    {
     "name": "stdout",
     "output_type": "stream",
     "text": [
      "[CV]  eta=1, eval_metric=auc, max_depth=11, n_estimators=26, nthread=4, objective=binary:logistic, score=0.6342819144688117, total= 8.8min\n",
      "[CV] eta=1, eval_metric=auc, max_depth=11, n_estimators=26, nthread=4, objective=binary:logistic \n"
     ]
    },
    {
     "name": "stderr",
     "output_type": "stream",
     "text": [
      "/home/pratikv/anaconda3/lib/python3.6/site-packages/sklearn/preprocessing/label.py:151: DeprecationWarning: The truth value of an empty array is ambiguous. Returning False, but in future this will result in an error. Use `array.size > 0` to check that an array is not empty.\n",
      "  if diff:\n",
      "/home/pratikv/anaconda3/lib/python3.6/site-packages/sklearn/preprocessing/label.py:151: DeprecationWarning: The truth value of an empty array is ambiguous. Returning False, but in future this will result in an error. Use `array.size > 0` to check that an array is not empty.\n",
      "  if diff:\n"
     ]
    },
    {
     "name": "stdout",
     "output_type": "stream",
     "text": [
      "[CV]  eta=1, eval_metric=auc, max_depth=11, n_estimators=26, nthread=4, objective=binary:logistic, score=0.6337458488541562, total= 8.9min\n",
      "[CV] eta=1, eval_metric=auc, max_depth=12, n_estimators=26, nthread=4, objective=binary:logistic \n"
     ]
    },
    {
     "name": "stderr",
     "output_type": "stream",
     "text": [
      "/home/pratikv/anaconda3/lib/python3.6/site-packages/sklearn/preprocessing/label.py:151: DeprecationWarning: The truth value of an empty array is ambiguous. Returning False, but in future this will result in an error. Use `array.size > 0` to check that an array is not empty.\n",
      "  if diff:\n",
      "/home/pratikv/anaconda3/lib/python3.6/site-packages/sklearn/preprocessing/label.py:151: DeprecationWarning: The truth value of an empty array is ambiguous. Returning False, but in future this will result in an error. Use `array.size > 0` to check that an array is not empty.\n",
      "  if diff:\n"
     ]
    },
    {
     "name": "stdout",
     "output_type": "stream",
     "text": [
      "[CV]  eta=1, eval_metric=auc, max_depth=12, n_estimators=26, nthread=4, objective=binary:logistic, score=0.6359629691589935, total= 9.8min\n",
      "[CV] eta=1, eval_metric=auc, max_depth=12, n_estimators=26, nthread=4, objective=binary:logistic \n"
     ]
    },
    {
     "name": "stderr",
     "output_type": "stream",
     "text": [
      "/home/pratikv/anaconda3/lib/python3.6/site-packages/sklearn/preprocessing/label.py:151: DeprecationWarning: The truth value of an empty array is ambiguous. Returning False, but in future this will result in an error. Use `array.size > 0` to check that an array is not empty.\n",
      "  if diff:\n",
      "/home/pratikv/anaconda3/lib/python3.6/site-packages/sklearn/preprocessing/label.py:151: DeprecationWarning: The truth value of an empty array is ambiguous. Returning False, but in future this will result in an error. Use `array.size > 0` to check that an array is not empty.\n",
      "  if diff:\n"
     ]
    },
    {
     "name": "stdout",
     "output_type": "stream",
     "text": [
      "[CV]  eta=1, eval_metric=auc, max_depth=12, n_estimators=26, nthread=4, objective=binary:logistic, score=0.6355771027965363, total= 9.8min\n"
     ]
    },
    {
     "name": "stderr",
     "output_type": "stream",
     "text": [
      "[Parallel(n_jobs=None)]: Done  16 out of  16 | elapsed: 108.3min finished\n"
     ]
    },
    {
     "name": "stdout",
     "output_type": "stream",
     "text": [
      "[16:23:38] Tree method is automatically selected to be 'approx' for faster speed. To use old behavior (exact greedy algorithm on single machine), set tree_method to 'exact'.\n"
     ]
    },
    {
     "data": {
      "text/plain": [
       "GridSearchCV(cv=2, error_score='raise',\n",
       "       estimator=XGBClassifier(base_score=0.5, booster='gbtree', colsample_bylevel=1,\n",
       "       colsample_bytree=1, gamma=0, learning_rate=0.1, max_delta_step=0,\n",
       "       max_depth=3, min_child_weight=1, missing=None, n_estimators=100,\n",
       "       n_jobs=1, nthread=None, objective='binary:logistic', random_state=0,\n",
       "       reg_alpha=0, reg_lambda=1, scale_pos_weight=1, seed=None,\n",
       "       silent=True, subsample=1),\n",
       "       fit_params=None, iid=True, n_jobs=None,\n",
       "       param_grid={'max_depth': [5, 6, 7, 8, 9, 10, 11, 12], 'eta': [1], 'objective': ['binary:logistic'], 'n_estimators': [26], 'nthread': [4], 'eval_metric': ['auc']},\n",
       "       pre_dispatch='2*n_jobs', refit=True, return_train_score='warn',\n",
       "       scoring=None, verbose=3)"
      ]
     },
     "execution_count": 22,
     "metadata": {},
     "output_type": "execute_result"
    }
   ],
   "source": [
    "model = xgb.XGBClassifier()\n",
    "grid = GridSearchCV(estimator=model, param_grid=param, verbose=3, n_jobs=None, cv=2)\n",
    "grid.fit(x_train, y_train)"
   ]
  },
  {
   "cell_type": "code",
   "execution_count": 28,
   "metadata": {},
   "outputs": [
    {
     "data": {
      "text/plain": [
       "([mean: 0.61337, std: 0.00005, params: {'eta': 1, 'eval_metric': 'auc', 'max_depth': 5, 'n_estimators': 26, 'nthread': 4, 'objective': 'binary:logistic'},\n",
       "  mean: 0.61696, std: 0.00029, params: {'eta': 1, 'eval_metric': 'auc', 'max_depth': 6, 'n_estimators': 26, 'nthread': 4, 'objective': 'binary:logistic'},\n",
       "  mean: 0.62182, std: 0.00002, params: {'eta': 1, 'eval_metric': 'auc', 'max_depth': 7, 'n_estimators': 26, 'nthread': 4, 'objective': 'binary:logistic'},\n",
       "  mean: 0.62604, std: 0.00014, params: {'eta': 1, 'eval_metric': 'auc', 'max_depth': 8, 'n_estimators': 26, 'nthread': 4, 'objective': 'binary:logistic'},\n",
       "  mean: 0.62882, std: 0.00001, params: {'eta': 1, 'eval_metric': 'auc', 'max_depth': 9, 'n_estimators': 26, 'nthread': 4, 'objective': 'binary:logistic'},\n",
       "  mean: 0.63135, std: 0.00008, params: {'eta': 1, 'eval_metric': 'auc', 'max_depth': 10, 'n_estimators': 26, 'nthread': 4, 'objective': 'binary:logistic'},\n",
       "  mean: 0.63401, std: 0.00027, params: {'eta': 1, 'eval_metric': 'auc', 'max_depth': 11, 'n_estimators': 26, 'nthread': 4, 'objective': 'binary:logistic'},\n",
       "  mean: 0.63577, std: 0.00019, params: {'eta': 1, 'eval_metric': 'auc', 'max_depth': 12, 'n_estimators': 26, 'nthread': 4, 'objective': 'binary:logistic'}],\n",
       " {'eta': 1,\n",
       "  'eval_metric': 'auc',\n",
       "  'max_depth': 12,\n",
       "  'n_estimators': 26,\n",
       "  'nthread': 4,\n",
       "  'objective': 'binary:logistic'},\n",
       " 0.6357700359777649)"
      ]
     },
     "execution_count": 28,
     "metadata": {},
     "output_type": "execute_result"
    }
   ],
   "source": [
    "grid.grid_scores_, grid.best_params_, grid.best_score_"
   ]
  },
  {
   "cell_type": "code",
   "execution_count": 9,
   "metadata": {},
   "outputs": [],
   "source": [
    "param = {'max_depth': 12, 'eta': 1, 'objective': 'binary:logistic'}\n",
    "param['nthread'] = 4\n",
    "param['eval_metric'] = 'auc'"
   ]
  },
  {
   "cell_type": "code",
   "execution_count": 10,
   "metadata": {},
   "outputs": [],
   "source": [
    "Dtrain = xgb.DMatrix(data=x_train, label=y_train)\n",
    "Dval = xgb.DMatrix(data=x_val, label=y_val)"
   ]
  },
  {
   "cell_type": "code",
   "execution_count": 16,
   "metadata": {},
   "outputs": [],
   "source": [
    "(x_train, x_val, y_train, y_val) = (None, None, None, None)"
   ]
  },
  {
   "cell_type": "code",
   "execution_count": 17,
   "metadata": {},
   "outputs": [
    {
     "data": {
      "text/plain": [
       "313"
      ]
     },
     "execution_count": 17,
     "metadata": {},
     "output_type": "execute_result"
    }
   ],
   "source": [
    "import gc\n",
    "gc.collect()"
   ]
  },
  {
   "cell_type": "code",
   "execution_count": 19,
   "metadata": {},
   "outputs": [
    {
     "name": "stdout",
     "output_type": "stream",
     "text": [
      "[20:03:47] Tree method is automatically selected to be 'approx' for faster speed. To use old behavior (exact greedy algorithm on single machine), set tree_method to 'exact'.\n",
      "[20:04:58] /workspace/src/tree/updater_prune.cc:74: tree pruning end, 1 roots, 6922 extra nodes, 0 pruned nodes, max_depth=12\n",
      "[0]\ttrain-auc:0.667466\tval-auc:0.663926\n",
      "Multiple eval metrics have been passed: 'val-auc' will be used for early stopping.\n",
      "\n",
      "Will train until val-auc hasn't improved in 5 rounds.\n",
      "[20:06:02] /workspace/src/tree/updater_prune.cc:74: tree pruning end, 1 roots, 6916 extra nodes, 0 pruned nodes, max_depth=12\n",
      "[1]\ttrain-auc:0.68024\tval-auc:0.673259\n",
      "[20:07:03] /workspace/src/tree/updater_prune.cc:74: tree pruning end, 1 roots, 4908 extra nodes, 0 pruned nodes, max_depth=12\n",
      "[2]\ttrain-auc:0.68907\tval-auc:0.680549\n",
      "[20:08:01] /workspace/src/tree/updater_prune.cc:74: tree pruning end, 1 roots, 5608 extra nodes, 0 pruned nodes, max_depth=12\n",
      "[3]\ttrain-auc:0.693498\tval-auc:0.682445\n",
      "[20:08:58] /workspace/src/tree/updater_prune.cc:74: tree pruning end, 1 roots, 5872 extra nodes, 0 pruned nodes, max_depth=12\n",
      "[4]\ttrain-auc:0.69774\tval-auc:0.684222\n",
      "[20:09:53] /workspace/src/tree/updater_prune.cc:74: tree pruning end, 1 roots, 3284 extra nodes, 0 pruned nodes, max_depth=12\n",
      "[5]\ttrain-auc:0.699341\tval-auc:0.684639\n",
      "[20:10:54] /workspace/src/tree/updater_prune.cc:74: tree pruning end, 1 roots, 5848 extra nodes, 0 pruned nodes, max_depth=12\n",
      "[6]\ttrain-auc:0.702806\tval-auc:0.685494\n",
      "[20:11:53] /workspace/src/tree/updater_prune.cc:74: tree pruning end, 1 roots, 6228 extra nodes, 0 pruned nodes, max_depth=12\n",
      "[7]\ttrain-auc:0.70693\tval-auc:0.687058\n",
      "[20:12:57] /workspace/src/tree/updater_prune.cc:74: tree pruning end, 1 roots, 5168 extra nodes, 0 pruned nodes, max_depth=12\n",
      "[8]\ttrain-auc:0.709346\tval-auc:0.687093\n",
      "[20:13:53] /workspace/src/tree/updater_prune.cc:74: tree pruning end, 1 roots, 4694 extra nodes, 0 pruned nodes, max_depth=12\n",
      "[9]\ttrain-auc:0.711034\tval-auc:0.687193\n",
      "[20:14:51] /workspace/src/tree/updater_prune.cc:74: tree pruning end, 1 roots, 2394 extra nodes, 0 pruned nodes, max_depth=12\n",
      "[10]\ttrain-auc:0.712277\tval-auc:0.687588\n",
      "[20:15:48] /workspace/src/tree/updater_prune.cc:74: tree pruning end, 1 roots, 5540 extra nodes, 0 pruned nodes, max_depth=12\n",
      "[11]\ttrain-auc:0.714618\tval-auc:0.687783\n",
      "[20:16:46] /workspace/src/tree/updater_prune.cc:74: tree pruning end, 1 roots, 4866 extra nodes, 0 pruned nodes, max_depth=12\n",
      "[12]\ttrain-auc:0.716425\tval-auc:0.68776\n",
      "[20:17:46] /workspace/src/tree/updater_prune.cc:74: tree pruning end, 1 roots, 4918 extra nodes, 0 pruned nodes, max_depth=12\n",
      "[13]\ttrain-auc:0.718392\tval-auc:0.687881\n",
      "[20:18:46] /workspace/src/tree/updater_prune.cc:74: tree pruning end, 1 roots, 5356 extra nodes, 0 pruned nodes, max_depth=12\n",
      "[14]\ttrain-auc:0.720393\tval-auc:0.687765\n",
      "[20:19:45] /workspace/src/tree/updater_prune.cc:74: tree pruning end, 1 roots, 3816 extra nodes, 0 pruned nodes, max_depth=12\n",
      "[15]\ttrain-auc:0.721755\tval-auc:0.687713\n",
      "[20:20:48] /workspace/src/tree/updater_prune.cc:74: tree pruning end, 1 roots, 3554 extra nodes, 0 pruned nodes, max_depth=12\n",
      "[16]\ttrain-auc:0.723304\tval-auc:0.687774\n",
      "[20:21:46] /workspace/src/tree/updater_prune.cc:74: tree pruning end, 1 roots, 4352 extra nodes, 0 pruned nodes, max_depth=12\n",
      "[17]\ttrain-auc:0.724666\tval-auc:0.687796\n",
      "[20:22:43] /workspace/src/tree/updater_prune.cc:74: tree pruning end, 1 roots, 4596 extra nodes, 0 pruned nodes, max_depth=12\n",
      "[18]\ttrain-auc:0.726237\tval-auc:0.687551\n",
      "Stopping. Best iteration:\n",
      "[13]\ttrain-auc:0.718392\tval-auc:0.687881\n",
      "\n",
      "CPU times: user 1h 8min 31s, sys: 11.3 s, total: 1h 8min 42s\n",
      "Wall time: 18min 56s\n"
     ]
    }
   ],
   "source": [
    "%%time \n",
    "xgb1 = xgb.train(params=param, dtrain=Dtrain, num_boost_round=1000,evals=((Dtrain, 'train'), (Dval, 'val')), verbose_eval=True, early_stopping_rounds=5)"
   ]
  },
  {
   "cell_type": "code",
   "execution_count": null,
   "metadata": {},
   "outputs": [],
   "source": []
  }
 ],
 "metadata": {
  "kernelspec": {
   "display_name": "Python 3",
   "language": "python",
   "name": "python3"
  },
  "language_info": {
   "codemirror_mode": {
    "name": "ipython",
    "version": 3
   },
   "file_extension": ".py",
   "mimetype": "text/x-python",
   "name": "python",
   "nbconvert_exporter": "python",
   "pygments_lexer": "ipython3",
   "version": "3.6.5"
  }
 },
 "nbformat": 4,
 "nbformat_minor": 2
}
