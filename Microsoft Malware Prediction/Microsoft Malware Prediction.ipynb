{
 "cells": [
  {
   "cell_type": "code",
   "execution_count": 7,
   "metadata": {},
   "outputs": [],
   "source": [
    "import pandas as pd\n",
    "import numpy as np\n",
    "import matplotlib.pyplot as plt"
   ]
  },
  {
   "cell_type": "markdown",
   "metadata": {},
   "source": [
    "### Reading Data and some feature Engineering and EDA\n",
    "Loading all the training data"
   ]
  },
  {
   "cell_type": "code",
   "execution_count": 4,
   "metadata": {},
   "outputs": [],
   "source": [
    "dtypes = {\n",
    "        'ProductName':                                          'category',\n",
    "        'EngineVersion':                                        'category',\n",
    "        'AppVersion':                                           'category',\n",
    "        'AvSigVersion':                                         'category',\n",
    "        'IsBeta':                                               'int8',\n",
    "        'RtpStateBitfield':                                     'float16',\n",
    "        'IsSxsPassiveMode':                                     'int8',\n",
    "        'DefaultBrowsersIdentifier':                            'float16',\n",
    "        'AVProductStatesIdentifier':                            'float32',\n",
    "        'AVProductsInstalled':                                  'float16',\n",
    "        'AVProductsEnabled':                                    'float16',\n",
    "        'HasTpm':                                               'int8',\n",
    "        'CountryIdentifier':                                    'int16',\n",
    "        'CityIdentifier':                                       'float32',\n",
    "        'OrganizationIdentifier':                               'float16',\n",
    "        'GeoNameIdentifier':                                    'float16',\n",
    "        'LocaleEnglishNameIdentifier':                          'int8',\n",
    "        'Platform':                                             'category',\n",
    "        'Processor':                                            'category',\n",
    "        'OsVer':                                                'category',\n",
    "        'OsBuild':                                              'int16',\n",
    "        'OsSuite':                                              'int16',\n",
    "        'OsPlatformSubRelease':                                 'category',\n",
    "        'OsBuildLab':                                           'category',\n",
    "        'SkuEdition':                                           'category',\n",
    "        'IsProtected':                                          'float16',\n",
    "        'AutoSampleOptIn':                                      'int8',\n",
    "        'PuaMode':                                              'category',\n",
    "        'SMode':                                                'float16',\n",
    "        'IeVerIdentifier':                                      'float16',\n",
    "        'SmartScreen':                                          'category',\n",
    "        'Firewall':                                             'float16',\n",
    "        'UacLuaenable':                                         'float32',\n",
    "        'Census_MDC2FormFactor':                                'category',\n",
    "        'Census_DeviceFamily':                                  'category',\n",
    "        'Census_OEMNameIdentifier':                             'float16',\n",
    "        'Census_OEMModelIdentifier':                            'float32',\n",
    "        'Census_ProcessorCoreCount':                            'float16',\n",
    "        'Census_ProcessorManufacturerIdentifier':               'float16',\n",
    "        'Census_ProcessorModelIdentifier':                      'float16',\n",
    "        'Census_ProcessorClass':                                'category',\n",
    "        'Census_PrimaryDiskTotalCapacity':                      'float32',\n",
    "        'Census_PrimaryDiskTypeName':                           'category',\n",
    "        'Census_SystemVolumeTotalCapacity':                     'float32',\n",
    "        'Census_HasOpticalDiskDrive':                           'int8',\n",
    "        'Census_TotalPhysicalRAM':                              'float32',\n",
    "        'Census_ChassisTypeName':                               'category',\n",
    "        'Census_InternalPrimaryDiagonalDisplaySizeInInches':    'float16',\n",
    "        'Census_InternalPrimaryDisplayResolutionHorizontal':    'float16',\n",
    "        'Census_InternalPrimaryDisplayResolutionVertical':      'float16',\n",
    "        'Census_PowerPlatformRoleName':                         'category',\n",
    "        'Census_InternalBatteryType':                           'category',\n",
    "        'Census_InternalBatteryNumberOfCharges':                'float32',\n",
    "        'Census_OSVersion':                                     'category',\n",
    "        'Census_OSArchitecture':                                'category',\n",
    "        'Census_OSBranch':                                      'category',\n",
    "        'Census_OSBuildNumber':                                 'int16',\n",
    "        'Census_OSBuildRevision':                               'int32',\n",
    "        'Census_OSEdition':                                     'category',\n",
    "        'Census_OSSkuName':                                     'category',\n",
    "        'Census_OSInstallTypeName':                             'category',\n",
    "        'Census_OSInstallLanguageIdentifier':                   'float16',\n",
    "        'Census_OSUILocaleIdentifier':                          'int16',\n",
    "        'Census_OSWUAutoUpdateOptionsName':                     'category',\n",
    "        'Census_IsPortableOperatingSystem':                     'int8',\n",
    "        'Census_GenuineStateName':                              'category',\n",
    "        'Census_ActivationChannel':                             'category',\n",
    "        'Census_IsFlightingInternal':                           'float16',\n",
    "        'Census_IsFlightsDisabled':                             'float16',\n",
    "        'Census_FlightRing':                                    'category',\n",
    "        'Census_ThresholdOptIn':                                'float16',\n",
    "        'Census_FirmwareManufacturerIdentifier':                'float16',\n",
    "        'Census_FirmwareVersionIdentifier':                     'float32',\n",
    "        'Census_IsSecureBootEnabled':                           'int8',\n",
    "        'Census_IsWIMBootEnabled':                              'float16',\n",
    "        'Census_IsVirtualDevice':                               'float16',\n",
    "        'Census_IsTouchEnabled':                                'int8',\n",
    "        'Census_IsPenCapable':                                  'int8',\n",
    "        'Census_IsAlwaysOnAlwaysConnectedCapable':              'float16',\n",
    "        'Wdft_IsGamer':                                         'float16',\n",
    "        'Wdft_RegionIdentifier':                                'float16',\n",
    "        'HasDetections':                                        'int8'\n",
    "        }"
   ]
  },
  {
   "cell_type": "code",
   "execution_count": 5,
   "metadata": {},
   "outputs": [],
   "source": [
    "temp = pd.read_csv('train.csv.zip', nrows=2)"
   ]
  },
  {
   "cell_type": "code",
   "execution_count": 6,
   "metadata": {},
   "outputs": [],
   "source": [
    "columns = temp.columns.tolist()"
   ]
  },
  {
   "cell_type": "code",
   "execution_count": 7,
   "metadata": {},
   "outputs": [],
   "source": [
    "columns.remove('MachineIdentifier')"
   ]
  },
  {
   "cell_type": "code",
   "execution_count": 8,
   "metadata": {},
   "outputs": [],
   "source": [
    "train = pd.read_csv('train.csv.zip', usecols=columns, dtype=dtypes)"
   ]
  },
  {
   "cell_type": "code",
   "execution_count": 9,
   "metadata": {},
   "outputs": [
    {
     "data": {
      "text/plain": [
       "(8921483, 82)"
      ]
     },
     "execution_count": 9,
     "metadata": {},
     "output_type": "execute_result"
    }
   ],
   "source": [
    "train.shape"
   ]
  },
  {
   "cell_type": "code",
   "execution_count": 10,
   "metadata": {},
   "outputs": [],
   "source": [
    "def display_all(df):\n",
    "    with pd.option_context(\"display.max_rows\", 1000, \"display.max_columns\", 1000): \n",
    "        display(df)"
   ]
  },
  {
   "cell_type": "markdown",
   "metadata": {},
   "source": [
    "### Taking charge Null value columns in the data set.\n",
    "1) Check for null values all over the data frame and drop columns with high null values.\n"
   ]
  },
  {
   "cell_type": "code",
   "execution_count": 11,
   "metadata": {},
   "outputs": [
    {
     "data": {
      "text/plain": [
       "AVProductStatesIdentifier                             0.405998\n",
       "AVProductsEnabled                                     0.405998\n",
       "AVProductsInstalled                                   0.405998\n",
       "AppVersion                                            0.000000\n",
       "AutoSampleOptIn                                       0.000000\n",
       "AvSigVersion                                          0.000000\n",
       "Census_ActivationChannel                              0.000000\n",
       "Census_ChassisTypeName                                0.006983\n",
       "Census_DeviceFamily                                   0.000000\n",
       "Census_FirmwareManufacturerIdentifier                 2.054109\n",
       "Census_FirmwareVersionIdentifier                      1.794915\n",
       "Census_FlightRing                                     0.000000\n",
       "Census_GenuineStateName                               0.000000\n",
       "Census_HasOpticalDiskDrive                            0.000000\n",
       "Census_InternalBatteryNumberOfCharges                 3.012448\n",
       "Census_InternalBatteryType                           71.046809\n",
       "Census_InternalPrimaryDiagonalDisplaySizeInInches     0.528320\n",
       "Census_InternalPrimaryDisplayResolutionHorizontal     0.526661\n",
       "Census_InternalPrimaryDisplayResolutionVertical       0.526661\n",
       "Census_IsAlwaysOnAlwaysConnectedCapable               0.799676\n",
       "Census_IsFlightingInternal                           83.044030\n",
       "Census_IsFlightsDisabled                              1.799286\n",
       "Census_IsPenCapable                                   0.000000\n",
       "Census_IsPortableOperatingSystem                      0.000000\n",
       "Census_IsSecureBootEnabled                            0.000000\n",
       "Census_IsTouchEnabled                                 0.000000\n",
       "Census_IsVirtualDevice                                0.178816\n",
       "Census_IsWIMBootEnabled                              63.439038\n",
       "Census_MDC2FormFactor                                 0.000000\n",
       "Census_OEMModelIdentifier                             1.145919\n",
       "Census_OEMNameIdentifier                              1.070203\n",
       "Census_OSArchitecture                                 0.000000\n",
       "Census_OSBranch                                       0.000000\n",
       "Census_OSBuildNumber                                  0.000000\n",
       "Census_OSBuildRevision                                0.000000\n",
       "Census_OSEdition                                      0.000000\n",
       "Census_OSInstallLanguageIdentifier                    0.673475\n",
       "Census_OSInstallTypeName                              0.000000\n",
       "Census_OSSkuName                                      0.000000\n",
       "Census_OSUILocaleIdentifier                           0.000000\n",
       "Census_OSVersion                                      0.000000\n",
       "Census_OSWUAutoUpdateOptionsName                      0.000000\n",
       "Census_PowerPlatformRoleName                          0.000616\n",
       "Census_PrimaryDiskTotalCapacity                       0.594251\n",
       "Census_PrimaryDiskTypeName                            0.143967\n",
       "Census_ProcessorClass                                99.589407\n",
       "Census_ProcessorCoreCount                             0.462995\n",
       "Census_ProcessorManufacturerIdentifier                0.463073\n",
       "Census_ProcessorModelIdentifier                       0.463410\n",
       "Census_SystemVolumeTotalCapacity                      0.594094\n",
       "Census_ThresholdOptIn                                63.524472\n",
       "Census_TotalPhysicalRAM                               0.902686\n",
       "CityIdentifier                                        3.647477\n",
       "CountryIdentifier                                     0.000000\n",
       "DefaultBrowsersIdentifier                            95.141637\n",
       "EngineVersion                                         0.000000\n",
       "Firewall                                              1.023933\n",
       "GeoNameIdentifier                                     0.002387\n",
       "HasDetections                                         0.000000\n",
       "HasTpm                                                0.000000\n",
       "IeVerIdentifier                                       0.660137\n",
       "IsBeta                                                0.000000\n",
       "IsProtected                                           0.404014\n",
       "IsSxsPassiveMode                                      0.000000\n",
       "LocaleEnglishNameIdentifier                           0.000000\n",
       "OrganizationIdentifier                               30.841487\n",
       "OsBuild                                               0.000000\n",
       "OsBuildLab                                            0.000235\n",
       "OsPlatformSubRelease                                  0.000000\n",
       "OsSuite                                               0.000000\n",
       "OsVer                                                 0.000000\n",
       "Platform                                              0.000000\n",
       "Processor                                             0.000000\n",
       "ProductName                                           0.000000\n",
       "PuaMode                                              99.974119\n",
       "RtpStateBitfield                                      0.362249\n",
       "SMode                                                 6.027686\n",
       "SkuEdition                                            0.000000\n",
       "SmartScreen                                          35.610795\n",
       "UacLuaenable                                          0.121482\n",
       "Wdft_IsGamer                                          3.401352\n",
       "Wdft_RegionIdentifier                                 3.401352\n",
       "dtype: float64"
      ]
     },
     "metadata": {},
     "output_type": "display_data"
    }
   ],
   "source": [
    "null_cols = train.isnull().sum().sort_index()*100/len(train)\n",
    "display_all(null_cols)"
   ]
  },
  {
   "cell_type": "code",
   "execution_count": 12,
   "metadata": {},
   "outputs": [],
   "source": [
    "meta_data = pd.DataFrame(index=null_cols.index)\n",
    "meta_data['null_percent'] = null_cols.values\n",
    "meta_data['data_type'] = train.dtypes"
   ]
  },
  {
   "cell_type": "code",
   "execution_count": 13,
   "metadata": {},
   "outputs": [
    {
     "data": {
      "text/html": [
       "<div>\n",
       "<style scoped>\n",
       "    .dataframe tbody tr th:only-of-type {\n",
       "        vertical-align: middle;\n",
       "    }\n",
       "\n",
       "    .dataframe tbody tr th {\n",
       "        vertical-align: top;\n",
       "    }\n",
       "\n",
       "    .dataframe thead th {\n",
       "        text-align: right;\n",
       "    }\n",
       "</style>\n",
       "<table border=\"1\" class=\"dataframe\">\n",
       "  <thead>\n",
       "    <tr style=\"text-align: right;\">\n",
       "      <th></th>\n",
       "      <th>null_percent</th>\n",
       "      <th>data_type</th>\n",
       "    </tr>\n",
       "  </thead>\n",
       "  <tbody>\n",
       "    <tr>\n",
       "      <th>AVProductStatesIdentifier</th>\n",
       "      <td>0.405998</td>\n",
       "      <td>float32</td>\n",
       "    </tr>\n",
       "    <tr>\n",
       "      <th>AVProductsEnabled</th>\n",
       "      <td>0.405998</td>\n",
       "      <td>float16</td>\n",
       "    </tr>\n",
       "    <tr>\n",
       "      <th>AVProductsInstalled</th>\n",
       "      <td>0.405998</td>\n",
       "      <td>float16</td>\n",
       "    </tr>\n",
       "    <tr>\n",
       "      <th>AppVersion</th>\n",
       "      <td>0.000000</td>\n",
       "      <td>category</td>\n",
       "    </tr>\n",
       "    <tr>\n",
       "      <th>AutoSampleOptIn</th>\n",
       "      <td>0.000000</td>\n",
       "      <td>int8</td>\n",
       "    </tr>\n",
       "    <tr>\n",
       "      <th>AvSigVersion</th>\n",
       "      <td>0.000000</td>\n",
       "      <td>category</td>\n",
       "    </tr>\n",
       "    <tr>\n",
       "      <th>Census_ActivationChannel</th>\n",
       "      <td>0.000000</td>\n",
       "      <td>category</td>\n",
       "    </tr>\n",
       "    <tr>\n",
       "      <th>Census_ChassisTypeName</th>\n",
       "      <td>0.006983</td>\n",
       "      <td>category</td>\n",
       "    </tr>\n",
       "    <tr>\n",
       "      <th>Census_DeviceFamily</th>\n",
       "      <td>0.000000</td>\n",
       "      <td>category</td>\n",
       "    </tr>\n",
       "    <tr>\n",
       "      <th>Census_FirmwareManufacturerIdentifier</th>\n",
       "      <td>2.054109</td>\n",
       "      <td>float16</td>\n",
       "    </tr>\n",
       "    <tr>\n",
       "      <th>Census_FirmwareVersionIdentifier</th>\n",
       "      <td>1.794915</td>\n",
       "      <td>float32</td>\n",
       "    </tr>\n",
       "    <tr>\n",
       "      <th>Census_FlightRing</th>\n",
       "      <td>0.000000</td>\n",
       "      <td>category</td>\n",
       "    </tr>\n",
       "    <tr>\n",
       "      <th>Census_GenuineStateName</th>\n",
       "      <td>0.000000</td>\n",
       "      <td>category</td>\n",
       "    </tr>\n",
       "    <tr>\n",
       "      <th>Census_HasOpticalDiskDrive</th>\n",
       "      <td>0.000000</td>\n",
       "      <td>int8</td>\n",
       "    </tr>\n",
       "    <tr>\n",
       "      <th>Census_InternalBatteryNumberOfCharges</th>\n",
       "      <td>3.012448</td>\n",
       "      <td>float32</td>\n",
       "    </tr>\n",
       "    <tr>\n",
       "      <th>Census_InternalBatteryType</th>\n",
       "      <td>71.046809</td>\n",
       "      <td>category</td>\n",
       "    </tr>\n",
       "    <tr>\n",
       "      <th>Census_InternalPrimaryDiagonalDisplaySizeInInches</th>\n",
       "      <td>0.528320</td>\n",
       "      <td>float16</td>\n",
       "    </tr>\n",
       "    <tr>\n",
       "      <th>Census_InternalPrimaryDisplayResolutionHorizontal</th>\n",
       "      <td>0.526661</td>\n",
       "      <td>float16</td>\n",
       "    </tr>\n",
       "    <tr>\n",
       "      <th>Census_InternalPrimaryDisplayResolutionVertical</th>\n",
       "      <td>0.526661</td>\n",
       "      <td>float16</td>\n",
       "    </tr>\n",
       "    <tr>\n",
       "      <th>Census_IsAlwaysOnAlwaysConnectedCapable</th>\n",
       "      <td>0.799676</td>\n",
       "      <td>float16</td>\n",
       "    </tr>\n",
       "    <tr>\n",
       "      <th>Census_IsFlightingInternal</th>\n",
       "      <td>83.044030</td>\n",
       "      <td>float16</td>\n",
       "    </tr>\n",
       "    <tr>\n",
       "      <th>Census_IsFlightsDisabled</th>\n",
       "      <td>1.799286</td>\n",
       "      <td>float16</td>\n",
       "    </tr>\n",
       "    <tr>\n",
       "      <th>Census_IsPenCapable</th>\n",
       "      <td>0.000000</td>\n",
       "      <td>int8</td>\n",
       "    </tr>\n",
       "    <tr>\n",
       "      <th>Census_IsPortableOperatingSystem</th>\n",
       "      <td>0.000000</td>\n",
       "      <td>int8</td>\n",
       "    </tr>\n",
       "    <tr>\n",
       "      <th>Census_IsSecureBootEnabled</th>\n",
       "      <td>0.000000</td>\n",
       "      <td>int8</td>\n",
       "    </tr>\n",
       "    <tr>\n",
       "      <th>Census_IsTouchEnabled</th>\n",
       "      <td>0.000000</td>\n",
       "      <td>int8</td>\n",
       "    </tr>\n",
       "    <tr>\n",
       "      <th>Census_IsVirtualDevice</th>\n",
       "      <td>0.178816</td>\n",
       "      <td>float16</td>\n",
       "    </tr>\n",
       "    <tr>\n",
       "      <th>Census_IsWIMBootEnabled</th>\n",
       "      <td>63.439038</td>\n",
       "      <td>float16</td>\n",
       "    </tr>\n",
       "    <tr>\n",
       "      <th>Census_MDC2FormFactor</th>\n",
       "      <td>0.000000</td>\n",
       "      <td>category</td>\n",
       "    </tr>\n",
       "    <tr>\n",
       "      <th>Census_OEMModelIdentifier</th>\n",
       "      <td>1.145919</td>\n",
       "      <td>float32</td>\n",
       "    </tr>\n",
       "    <tr>\n",
       "      <th>Census_OEMNameIdentifier</th>\n",
       "      <td>1.070203</td>\n",
       "      <td>float16</td>\n",
       "    </tr>\n",
       "    <tr>\n",
       "      <th>Census_OSArchitecture</th>\n",
       "      <td>0.000000</td>\n",
       "      <td>category</td>\n",
       "    </tr>\n",
       "    <tr>\n",
       "      <th>Census_OSBranch</th>\n",
       "      <td>0.000000</td>\n",
       "      <td>category</td>\n",
       "    </tr>\n",
       "    <tr>\n",
       "      <th>Census_OSBuildNumber</th>\n",
       "      <td>0.000000</td>\n",
       "      <td>int16</td>\n",
       "    </tr>\n",
       "    <tr>\n",
       "      <th>Census_OSBuildRevision</th>\n",
       "      <td>0.000000</td>\n",
       "      <td>int32</td>\n",
       "    </tr>\n",
       "    <tr>\n",
       "      <th>Census_OSEdition</th>\n",
       "      <td>0.000000</td>\n",
       "      <td>category</td>\n",
       "    </tr>\n",
       "    <tr>\n",
       "      <th>Census_OSInstallLanguageIdentifier</th>\n",
       "      <td>0.673475</td>\n",
       "      <td>float16</td>\n",
       "    </tr>\n",
       "    <tr>\n",
       "      <th>Census_OSInstallTypeName</th>\n",
       "      <td>0.000000</td>\n",
       "      <td>category</td>\n",
       "    </tr>\n",
       "    <tr>\n",
       "      <th>Census_OSSkuName</th>\n",
       "      <td>0.000000</td>\n",
       "      <td>category</td>\n",
       "    </tr>\n",
       "    <tr>\n",
       "      <th>Census_OSUILocaleIdentifier</th>\n",
       "      <td>0.000000</td>\n",
       "      <td>int16</td>\n",
       "    </tr>\n",
       "    <tr>\n",
       "      <th>Census_OSVersion</th>\n",
       "      <td>0.000000</td>\n",
       "      <td>category</td>\n",
       "    </tr>\n",
       "    <tr>\n",
       "      <th>Census_OSWUAutoUpdateOptionsName</th>\n",
       "      <td>0.000000</td>\n",
       "      <td>category</td>\n",
       "    </tr>\n",
       "    <tr>\n",
       "      <th>Census_PowerPlatformRoleName</th>\n",
       "      <td>0.000616</td>\n",
       "      <td>category</td>\n",
       "    </tr>\n",
       "    <tr>\n",
       "      <th>Census_PrimaryDiskTotalCapacity</th>\n",
       "      <td>0.594251</td>\n",
       "      <td>float32</td>\n",
       "    </tr>\n",
       "    <tr>\n",
       "      <th>Census_PrimaryDiskTypeName</th>\n",
       "      <td>0.143967</td>\n",
       "      <td>category</td>\n",
       "    </tr>\n",
       "    <tr>\n",
       "      <th>Census_ProcessorClass</th>\n",
       "      <td>99.589407</td>\n",
       "      <td>category</td>\n",
       "    </tr>\n",
       "    <tr>\n",
       "      <th>Census_ProcessorCoreCount</th>\n",
       "      <td>0.462995</td>\n",
       "      <td>float16</td>\n",
       "    </tr>\n",
       "    <tr>\n",
       "      <th>Census_ProcessorManufacturerIdentifier</th>\n",
       "      <td>0.463073</td>\n",
       "      <td>float16</td>\n",
       "    </tr>\n",
       "    <tr>\n",
       "      <th>Census_ProcessorModelIdentifier</th>\n",
       "      <td>0.463410</td>\n",
       "      <td>float16</td>\n",
       "    </tr>\n",
       "    <tr>\n",
       "      <th>Census_SystemVolumeTotalCapacity</th>\n",
       "      <td>0.594094</td>\n",
       "      <td>float32</td>\n",
       "    </tr>\n",
       "    <tr>\n",
       "      <th>Census_ThresholdOptIn</th>\n",
       "      <td>63.524472</td>\n",
       "      <td>float16</td>\n",
       "    </tr>\n",
       "    <tr>\n",
       "      <th>Census_TotalPhysicalRAM</th>\n",
       "      <td>0.902686</td>\n",
       "      <td>float32</td>\n",
       "    </tr>\n",
       "    <tr>\n",
       "      <th>CityIdentifier</th>\n",
       "      <td>3.647477</td>\n",
       "      <td>float32</td>\n",
       "    </tr>\n",
       "    <tr>\n",
       "      <th>CountryIdentifier</th>\n",
       "      <td>0.000000</td>\n",
       "      <td>int16</td>\n",
       "    </tr>\n",
       "    <tr>\n",
       "      <th>DefaultBrowsersIdentifier</th>\n",
       "      <td>95.141637</td>\n",
       "      <td>float16</td>\n",
       "    </tr>\n",
       "    <tr>\n",
       "      <th>EngineVersion</th>\n",
       "      <td>0.000000</td>\n",
       "      <td>category</td>\n",
       "    </tr>\n",
       "    <tr>\n",
       "      <th>Firewall</th>\n",
       "      <td>1.023933</td>\n",
       "      <td>float16</td>\n",
       "    </tr>\n",
       "    <tr>\n",
       "      <th>GeoNameIdentifier</th>\n",
       "      <td>0.002387</td>\n",
       "      <td>float16</td>\n",
       "    </tr>\n",
       "    <tr>\n",
       "      <th>HasDetections</th>\n",
       "      <td>0.000000</td>\n",
       "      <td>int8</td>\n",
       "    </tr>\n",
       "    <tr>\n",
       "      <th>HasTpm</th>\n",
       "      <td>0.000000</td>\n",
       "      <td>int8</td>\n",
       "    </tr>\n",
       "    <tr>\n",
       "      <th>IeVerIdentifier</th>\n",
       "      <td>0.660137</td>\n",
       "      <td>float16</td>\n",
       "    </tr>\n",
       "    <tr>\n",
       "      <th>IsBeta</th>\n",
       "      <td>0.000000</td>\n",
       "      <td>int8</td>\n",
       "    </tr>\n",
       "    <tr>\n",
       "      <th>IsProtected</th>\n",
       "      <td>0.404014</td>\n",
       "      <td>float16</td>\n",
       "    </tr>\n",
       "    <tr>\n",
       "      <th>IsSxsPassiveMode</th>\n",
       "      <td>0.000000</td>\n",
       "      <td>int8</td>\n",
       "    </tr>\n",
       "    <tr>\n",
       "      <th>LocaleEnglishNameIdentifier</th>\n",
       "      <td>0.000000</td>\n",
       "      <td>int8</td>\n",
       "    </tr>\n",
       "    <tr>\n",
       "      <th>OrganizationIdentifier</th>\n",
       "      <td>30.841487</td>\n",
       "      <td>float16</td>\n",
       "    </tr>\n",
       "    <tr>\n",
       "      <th>OsBuild</th>\n",
       "      <td>0.000000</td>\n",
       "      <td>int16</td>\n",
       "    </tr>\n",
       "    <tr>\n",
       "      <th>OsBuildLab</th>\n",
       "      <td>0.000235</td>\n",
       "      <td>category</td>\n",
       "    </tr>\n",
       "    <tr>\n",
       "      <th>OsPlatformSubRelease</th>\n",
       "      <td>0.000000</td>\n",
       "      <td>category</td>\n",
       "    </tr>\n",
       "    <tr>\n",
       "      <th>OsSuite</th>\n",
       "      <td>0.000000</td>\n",
       "      <td>int16</td>\n",
       "    </tr>\n",
       "    <tr>\n",
       "      <th>OsVer</th>\n",
       "      <td>0.000000</td>\n",
       "      <td>category</td>\n",
       "    </tr>\n",
       "    <tr>\n",
       "      <th>Platform</th>\n",
       "      <td>0.000000</td>\n",
       "      <td>category</td>\n",
       "    </tr>\n",
       "    <tr>\n",
       "      <th>Processor</th>\n",
       "      <td>0.000000</td>\n",
       "      <td>category</td>\n",
       "    </tr>\n",
       "    <tr>\n",
       "      <th>ProductName</th>\n",
       "      <td>0.000000</td>\n",
       "      <td>category</td>\n",
       "    </tr>\n",
       "    <tr>\n",
       "      <th>PuaMode</th>\n",
       "      <td>99.974119</td>\n",
       "      <td>category</td>\n",
       "    </tr>\n",
       "    <tr>\n",
       "      <th>RtpStateBitfield</th>\n",
       "      <td>0.362249</td>\n",
       "      <td>float16</td>\n",
       "    </tr>\n",
       "    <tr>\n",
       "      <th>SMode</th>\n",
       "      <td>6.027686</td>\n",
       "      <td>float16</td>\n",
       "    </tr>\n",
       "    <tr>\n",
       "      <th>SkuEdition</th>\n",
       "      <td>0.000000</td>\n",
       "      <td>category</td>\n",
       "    </tr>\n",
       "    <tr>\n",
       "      <th>SmartScreen</th>\n",
       "      <td>35.610795</td>\n",
       "      <td>category</td>\n",
       "    </tr>\n",
       "    <tr>\n",
       "      <th>UacLuaenable</th>\n",
       "      <td>0.121482</td>\n",
       "      <td>float32</td>\n",
       "    </tr>\n",
       "    <tr>\n",
       "      <th>Wdft_IsGamer</th>\n",
       "      <td>3.401352</td>\n",
       "      <td>float16</td>\n",
       "    </tr>\n",
       "    <tr>\n",
       "      <th>Wdft_RegionIdentifier</th>\n",
       "      <td>3.401352</td>\n",
       "      <td>float16</td>\n",
       "    </tr>\n",
       "  </tbody>\n",
       "</table>\n",
       "</div>"
      ],
      "text/plain": [
       "                                                   null_percent data_type\n",
       "AVProductStatesIdentifier                              0.405998   float32\n",
       "AVProductsEnabled                                      0.405998   float16\n",
       "AVProductsInstalled                                    0.405998   float16\n",
       "AppVersion                                             0.000000  category\n",
       "AutoSampleOptIn                                        0.000000      int8\n",
       "AvSigVersion                                           0.000000  category\n",
       "Census_ActivationChannel                               0.000000  category\n",
       "Census_ChassisTypeName                                 0.006983  category\n",
       "Census_DeviceFamily                                    0.000000  category\n",
       "Census_FirmwareManufacturerIdentifier                  2.054109   float16\n",
       "Census_FirmwareVersionIdentifier                       1.794915   float32\n",
       "Census_FlightRing                                      0.000000  category\n",
       "Census_GenuineStateName                                0.000000  category\n",
       "Census_HasOpticalDiskDrive                             0.000000      int8\n",
       "Census_InternalBatteryNumberOfCharges                  3.012448   float32\n",
       "Census_InternalBatteryType                            71.046809  category\n",
       "Census_InternalPrimaryDiagonalDisplaySizeInInches      0.528320   float16\n",
       "Census_InternalPrimaryDisplayResolutionHorizontal      0.526661   float16\n",
       "Census_InternalPrimaryDisplayResolutionVertical        0.526661   float16\n",
       "Census_IsAlwaysOnAlwaysConnectedCapable                0.799676   float16\n",
       "Census_IsFlightingInternal                            83.044030   float16\n",
       "Census_IsFlightsDisabled                               1.799286   float16\n",
       "Census_IsPenCapable                                    0.000000      int8\n",
       "Census_IsPortableOperatingSystem                       0.000000      int8\n",
       "Census_IsSecureBootEnabled                             0.000000      int8\n",
       "Census_IsTouchEnabled                                  0.000000      int8\n",
       "Census_IsVirtualDevice                                 0.178816   float16\n",
       "Census_IsWIMBootEnabled                               63.439038   float16\n",
       "Census_MDC2FormFactor                                  0.000000  category\n",
       "Census_OEMModelIdentifier                              1.145919   float32\n",
       "Census_OEMNameIdentifier                               1.070203   float16\n",
       "Census_OSArchitecture                                  0.000000  category\n",
       "Census_OSBranch                                        0.000000  category\n",
       "Census_OSBuildNumber                                   0.000000     int16\n",
       "Census_OSBuildRevision                                 0.000000     int32\n",
       "Census_OSEdition                                       0.000000  category\n",
       "Census_OSInstallLanguageIdentifier                     0.673475   float16\n",
       "Census_OSInstallTypeName                               0.000000  category\n",
       "Census_OSSkuName                                       0.000000  category\n",
       "Census_OSUILocaleIdentifier                            0.000000     int16\n",
       "Census_OSVersion                                       0.000000  category\n",
       "Census_OSWUAutoUpdateOptionsName                       0.000000  category\n",
       "Census_PowerPlatformRoleName                           0.000616  category\n",
       "Census_PrimaryDiskTotalCapacity                        0.594251   float32\n",
       "Census_PrimaryDiskTypeName                             0.143967  category\n",
       "Census_ProcessorClass                                 99.589407  category\n",
       "Census_ProcessorCoreCount                              0.462995   float16\n",
       "Census_ProcessorManufacturerIdentifier                 0.463073   float16\n",
       "Census_ProcessorModelIdentifier                        0.463410   float16\n",
       "Census_SystemVolumeTotalCapacity                       0.594094   float32\n",
       "Census_ThresholdOptIn                                 63.524472   float16\n",
       "Census_TotalPhysicalRAM                                0.902686   float32\n",
       "CityIdentifier                                         3.647477   float32\n",
       "CountryIdentifier                                      0.000000     int16\n",
       "DefaultBrowsersIdentifier                             95.141637   float16\n",
       "EngineVersion                                          0.000000  category\n",
       "Firewall                                               1.023933   float16\n",
       "GeoNameIdentifier                                      0.002387   float16\n",
       "HasDetections                                          0.000000      int8\n",
       "HasTpm                                                 0.000000      int8\n",
       "IeVerIdentifier                                        0.660137   float16\n",
       "IsBeta                                                 0.000000      int8\n",
       "IsProtected                                            0.404014   float16\n",
       "IsSxsPassiveMode                                       0.000000      int8\n",
       "LocaleEnglishNameIdentifier                            0.000000      int8\n",
       "OrganizationIdentifier                                30.841487   float16\n",
       "OsBuild                                                0.000000     int16\n",
       "OsBuildLab                                             0.000235  category\n",
       "OsPlatformSubRelease                                   0.000000  category\n",
       "OsSuite                                                0.000000     int16\n",
       "OsVer                                                  0.000000  category\n",
       "Platform                                               0.000000  category\n",
       "Processor                                              0.000000  category\n",
       "ProductName                                            0.000000  category\n",
       "PuaMode                                               99.974119  category\n",
       "RtpStateBitfield                                       0.362249   float16\n",
       "SMode                                                  6.027686   float16\n",
       "SkuEdition                                             0.000000  category\n",
       "SmartScreen                                           35.610795  category\n",
       "UacLuaenable                                           0.121482   float32\n",
       "Wdft_IsGamer                                           3.401352   float16\n",
       "Wdft_RegionIdentifier                                  3.401352   float16"
      ]
     },
     "metadata": {},
     "output_type": "display_data"
    }
   ],
   "source": [
    "display_all(meta_data)"
   ]
  },
  {
   "cell_type": "markdown",
   "metadata": {},
   "source": [
    "#### Treatment of columns with high no of null values.\n",
    "Column wise analysis. \n",
    "Dropping the following columns for now :- \n",
    "1. Census_InternalBatteryType\n",
    "2. Census_IsFlightingInternal - (Delete for now) we create a third class called 'missing' for the \"NaN\". Change the data type and perform the operations.\n",
    "3. Census_ProcessorClass\n",
    "4. Census_ThresholdOptIn\n",
    "5. DefaultBrowsersIdentifier\n",
    "6. OrganizationIdentifier\n",
    "7. PuaMode\n",
    "8. SmartScreen\n",
    "9. Census_IsWIMBootEnabled\n",
    "10. SMode\n",
    "\n",
    "[Repeat the same process on the same attributes on the test set too]"
   ]
  },
  {
   "cell_type": "code",
   "execution_count": 14,
   "metadata": {},
   "outputs": [
    {
     "name": "stdout",
     "output_type": "stream",
     "text": [
      "(8921483, 73)\n"
     ]
    }
   ],
   "source": [
    "train.drop(axis=1, columns=[\"Census_IsWIMBootEnabled\",\"Census_InternalBatteryType\",\"Census_IsFlightingInternal\",\"Census_ProcessorClass\",\"Census_ThresholdOptIn\",\"DefaultBrowsersIdentifier\",\"OrganizationIdentifier\",\"PuaMode\",\"SmartScreen\"], inplace=True)\n",
    "print (train.shape)"
   ]
  },
  {
   "cell_type": "code",
   "execution_count": 15,
   "metadata": {},
   "outputs": [
    {
     "data": {
      "text/plain": [
       "AVProductStatesIdentifier                            0.405998\n",
       "AVProductsEnabled                                    0.405998\n",
       "AVProductsInstalled                                  0.405998\n",
       "AppVersion                                           0.000000\n",
       "AutoSampleOptIn                                      0.000000\n",
       "AvSigVersion                                         0.000000\n",
       "Census_ActivationChannel                             0.000000\n",
       "Census_ChassisTypeName                               0.006983\n",
       "Census_DeviceFamily                                  0.000000\n",
       "Census_FirmwareManufacturerIdentifier                2.054109\n",
       "Census_FirmwareVersionIdentifier                     1.794915\n",
       "Census_FlightRing                                    0.000000\n",
       "Census_GenuineStateName                              0.000000\n",
       "Census_HasOpticalDiskDrive                           0.000000\n",
       "Census_InternalBatteryNumberOfCharges                3.012448\n",
       "Census_InternalPrimaryDiagonalDisplaySizeInInches    0.528320\n",
       "Census_InternalPrimaryDisplayResolutionHorizontal    0.526661\n",
       "Census_InternalPrimaryDisplayResolutionVertical      0.526661\n",
       "Census_IsAlwaysOnAlwaysConnectedCapable              0.799676\n",
       "Census_IsFlightsDisabled                             1.799286\n",
       "Census_IsPenCapable                                  0.000000\n",
       "Census_IsPortableOperatingSystem                     0.000000\n",
       "Census_IsSecureBootEnabled                           0.000000\n",
       "Census_IsTouchEnabled                                0.000000\n",
       "Census_IsVirtualDevice                               0.178816\n",
       "Census_MDC2FormFactor                                0.000000\n",
       "Census_OEMModelIdentifier                            1.145919\n",
       "Census_OEMNameIdentifier                             1.070203\n",
       "Census_OSArchitecture                                0.000000\n",
       "Census_OSBranch                                      0.000000\n",
       "Census_OSBuildNumber                                 0.000000\n",
       "Census_OSBuildRevision                               0.000000\n",
       "Census_OSEdition                                     0.000000\n",
       "Census_OSInstallLanguageIdentifier                   0.673475\n",
       "Census_OSInstallTypeName                             0.000000\n",
       "Census_OSSkuName                                     0.000000\n",
       "Census_OSUILocaleIdentifier                          0.000000\n",
       "Census_OSVersion                                     0.000000\n",
       "Census_OSWUAutoUpdateOptionsName                     0.000000\n",
       "Census_PowerPlatformRoleName                         0.000616\n",
       "Census_PrimaryDiskTotalCapacity                      0.594251\n",
       "Census_PrimaryDiskTypeName                           0.143967\n",
       "Census_ProcessorCoreCount                            0.462995\n",
       "Census_ProcessorManufacturerIdentifier               0.463073\n",
       "Census_ProcessorModelIdentifier                      0.463410\n",
       "Census_SystemVolumeTotalCapacity                     0.594094\n",
       "Census_TotalPhysicalRAM                              0.902686\n",
       "CityIdentifier                                       3.647477\n",
       "CountryIdentifier                                    0.000000\n",
       "EngineVersion                                        0.000000\n",
       "Firewall                                             1.023933\n",
       "GeoNameIdentifier                                    0.002387\n",
       "HasDetections                                        0.000000\n",
       "HasTpm                                               0.000000\n",
       "IeVerIdentifier                                      0.660137\n",
       "IsBeta                                               0.000000\n",
       "IsProtected                                          0.404014\n",
       "IsSxsPassiveMode                                     0.000000\n",
       "LocaleEnglishNameIdentifier                          0.000000\n",
       "OsBuild                                              0.000000\n",
       "OsBuildLab                                           0.000235\n",
       "OsPlatformSubRelease                                 0.000000\n",
       "OsSuite                                              0.000000\n",
       "OsVer                                                0.000000\n",
       "Platform                                             0.000000\n",
       "Processor                                            0.000000\n",
       "ProductName                                          0.000000\n",
       "RtpStateBitfield                                     0.362249\n",
       "SMode                                                6.027686\n",
       "SkuEdition                                           0.000000\n",
       "UacLuaenable                                         0.121482\n",
       "Wdft_IsGamer                                         3.401352\n",
       "Wdft_RegionIdentifier                                3.401352\n",
       "dtype: float64"
      ]
     },
     "metadata": {},
     "output_type": "display_data"
    },
    {
     "data": {
      "text/html": [
       "<div>\n",
       "<style scoped>\n",
       "    .dataframe tbody tr th:only-of-type {\n",
       "        vertical-align: middle;\n",
       "    }\n",
       "\n",
       "    .dataframe tbody tr th {\n",
       "        vertical-align: top;\n",
       "    }\n",
       "\n",
       "    .dataframe thead th {\n",
       "        text-align: right;\n",
       "    }\n",
       "</style>\n",
       "<table border=\"1\" class=\"dataframe\">\n",
       "  <thead>\n",
       "    <tr style=\"text-align: right;\">\n",
       "      <th></th>\n",
       "      <th>null_percent</th>\n",
       "      <th>data_type</th>\n",
       "    </tr>\n",
       "  </thead>\n",
       "  <tbody>\n",
       "    <tr>\n",
       "      <th>AVProductStatesIdentifier</th>\n",
       "      <td>0.405998</td>\n",
       "      <td>float32</td>\n",
       "    </tr>\n",
       "    <tr>\n",
       "      <th>AVProductsEnabled</th>\n",
       "      <td>0.405998</td>\n",
       "      <td>float16</td>\n",
       "    </tr>\n",
       "    <tr>\n",
       "      <th>AVProductsInstalled</th>\n",
       "      <td>0.405998</td>\n",
       "      <td>float16</td>\n",
       "    </tr>\n",
       "    <tr>\n",
       "      <th>AppVersion</th>\n",
       "      <td>0.000000</td>\n",
       "      <td>category</td>\n",
       "    </tr>\n",
       "    <tr>\n",
       "      <th>AutoSampleOptIn</th>\n",
       "      <td>0.000000</td>\n",
       "      <td>int8</td>\n",
       "    </tr>\n",
       "    <tr>\n",
       "      <th>AvSigVersion</th>\n",
       "      <td>0.000000</td>\n",
       "      <td>category</td>\n",
       "    </tr>\n",
       "    <tr>\n",
       "      <th>Census_ActivationChannel</th>\n",
       "      <td>0.000000</td>\n",
       "      <td>category</td>\n",
       "    </tr>\n",
       "    <tr>\n",
       "      <th>Census_ChassisTypeName</th>\n",
       "      <td>0.006983</td>\n",
       "      <td>category</td>\n",
       "    </tr>\n",
       "    <tr>\n",
       "      <th>Census_DeviceFamily</th>\n",
       "      <td>0.000000</td>\n",
       "      <td>category</td>\n",
       "    </tr>\n",
       "    <tr>\n",
       "      <th>Census_FirmwareManufacturerIdentifier</th>\n",
       "      <td>2.054109</td>\n",
       "      <td>float16</td>\n",
       "    </tr>\n",
       "    <tr>\n",
       "      <th>Census_FirmwareVersionIdentifier</th>\n",
       "      <td>1.794915</td>\n",
       "      <td>float32</td>\n",
       "    </tr>\n",
       "    <tr>\n",
       "      <th>Census_FlightRing</th>\n",
       "      <td>0.000000</td>\n",
       "      <td>category</td>\n",
       "    </tr>\n",
       "    <tr>\n",
       "      <th>Census_GenuineStateName</th>\n",
       "      <td>0.000000</td>\n",
       "      <td>category</td>\n",
       "    </tr>\n",
       "    <tr>\n",
       "      <th>Census_HasOpticalDiskDrive</th>\n",
       "      <td>0.000000</td>\n",
       "      <td>int8</td>\n",
       "    </tr>\n",
       "    <tr>\n",
       "      <th>Census_InternalBatteryNumberOfCharges</th>\n",
       "      <td>3.012448</td>\n",
       "      <td>float32</td>\n",
       "    </tr>\n",
       "    <tr>\n",
       "      <th>Census_InternalPrimaryDiagonalDisplaySizeInInches</th>\n",
       "      <td>0.528320</td>\n",
       "      <td>float16</td>\n",
       "    </tr>\n",
       "    <tr>\n",
       "      <th>Census_InternalPrimaryDisplayResolutionHorizontal</th>\n",
       "      <td>0.526661</td>\n",
       "      <td>float16</td>\n",
       "    </tr>\n",
       "    <tr>\n",
       "      <th>Census_InternalPrimaryDisplayResolutionVertical</th>\n",
       "      <td>0.526661</td>\n",
       "      <td>float16</td>\n",
       "    </tr>\n",
       "    <tr>\n",
       "      <th>Census_IsAlwaysOnAlwaysConnectedCapable</th>\n",
       "      <td>0.799676</td>\n",
       "      <td>float16</td>\n",
       "    </tr>\n",
       "    <tr>\n",
       "      <th>Census_IsFlightsDisabled</th>\n",
       "      <td>1.799286</td>\n",
       "      <td>float16</td>\n",
       "    </tr>\n",
       "    <tr>\n",
       "      <th>Census_IsPenCapable</th>\n",
       "      <td>0.000000</td>\n",
       "      <td>int8</td>\n",
       "    </tr>\n",
       "    <tr>\n",
       "      <th>Census_IsPortableOperatingSystem</th>\n",
       "      <td>0.000000</td>\n",
       "      <td>int8</td>\n",
       "    </tr>\n",
       "    <tr>\n",
       "      <th>Census_IsSecureBootEnabled</th>\n",
       "      <td>0.000000</td>\n",
       "      <td>int8</td>\n",
       "    </tr>\n",
       "    <tr>\n",
       "      <th>Census_IsTouchEnabled</th>\n",
       "      <td>0.000000</td>\n",
       "      <td>int8</td>\n",
       "    </tr>\n",
       "    <tr>\n",
       "      <th>Census_IsVirtualDevice</th>\n",
       "      <td>0.178816</td>\n",
       "      <td>float16</td>\n",
       "    </tr>\n",
       "    <tr>\n",
       "      <th>Census_MDC2FormFactor</th>\n",
       "      <td>0.000000</td>\n",
       "      <td>category</td>\n",
       "    </tr>\n",
       "    <tr>\n",
       "      <th>Census_OEMModelIdentifier</th>\n",
       "      <td>1.145919</td>\n",
       "      <td>float32</td>\n",
       "    </tr>\n",
       "    <tr>\n",
       "      <th>Census_OEMNameIdentifier</th>\n",
       "      <td>1.070203</td>\n",
       "      <td>float16</td>\n",
       "    </tr>\n",
       "    <tr>\n",
       "      <th>Census_OSArchitecture</th>\n",
       "      <td>0.000000</td>\n",
       "      <td>category</td>\n",
       "    </tr>\n",
       "    <tr>\n",
       "      <th>Census_OSBranch</th>\n",
       "      <td>0.000000</td>\n",
       "      <td>category</td>\n",
       "    </tr>\n",
       "    <tr>\n",
       "      <th>Census_OSBuildNumber</th>\n",
       "      <td>0.000000</td>\n",
       "      <td>int16</td>\n",
       "    </tr>\n",
       "    <tr>\n",
       "      <th>Census_OSBuildRevision</th>\n",
       "      <td>0.000000</td>\n",
       "      <td>int32</td>\n",
       "    </tr>\n",
       "    <tr>\n",
       "      <th>Census_OSEdition</th>\n",
       "      <td>0.000000</td>\n",
       "      <td>category</td>\n",
       "    </tr>\n",
       "    <tr>\n",
       "      <th>Census_OSInstallLanguageIdentifier</th>\n",
       "      <td>0.673475</td>\n",
       "      <td>float16</td>\n",
       "    </tr>\n",
       "    <tr>\n",
       "      <th>Census_OSInstallTypeName</th>\n",
       "      <td>0.000000</td>\n",
       "      <td>category</td>\n",
       "    </tr>\n",
       "    <tr>\n",
       "      <th>Census_OSSkuName</th>\n",
       "      <td>0.000000</td>\n",
       "      <td>category</td>\n",
       "    </tr>\n",
       "    <tr>\n",
       "      <th>Census_OSUILocaleIdentifier</th>\n",
       "      <td>0.000000</td>\n",
       "      <td>int16</td>\n",
       "    </tr>\n",
       "    <tr>\n",
       "      <th>Census_OSVersion</th>\n",
       "      <td>0.000000</td>\n",
       "      <td>category</td>\n",
       "    </tr>\n",
       "    <tr>\n",
       "      <th>Census_OSWUAutoUpdateOptionsName</th>\n",
       "      <td>0.000000</td>\n",
       "      <td>category</td>\n",
       "    </tr>\n",
       "    <tr>\n",
       "      <th>Census_PowerPlatformRoleName</th>\n",
       "      <td>0.000616</td>\n",
       "      <td>category</td>\n",
       "    </tr>\n",
       "    <tr>\n",
       "      <th>Census_PrimaryDiskTotalCapacity</th>\n",
       "      <td>0.594251</td>\n",
       "      <td>float32</td>\n",
       "    </tr>\n",
       "    <tr>\n",
       "      <th>Census_PrimaryDiskTypeName</th>\n",
       "      <td>0.143967</td>\n",
       "      <td>category</td>\n",
       "    </tr>\n",
       "    <tr>\n",
       "      <th>Census_ProcessorCoreCount</th>\n",
       "      <td>0.462995</td>\n",
       "      <td>float16</td>\n",
       "    </tr>\n",
       "    <tr>\n",
       "      <th>Census_ProcessorManufacturerIdentifier</th>\n",
       "      <td>0.463073</td>\n",
       "      <td>float16</td>\n",
       "    </tr>\n",
       "    <tr>\n",
       "      <th>Census_ProcessorModelIdentifier</th>\n",
       "      <td>0.463410</td>\n",
       "      <td>float16</td>\n",
       "    </tr>\n",
       "    <tr>\n",
       "      <th>Census_SystemVolumeTotalCapacity</th>\n",
       "      <td>0.594094</td>\n",
       "      <td>float32</td>\n",
       "    </tr>\n",
       "    <tr>\n",
       "      <th>Census_TotalPhysicalRAM</th>\n",
       "      <td>0.902686</td>\n",
       "      <td>float32</td>\n",
       "    </tr>\n",
       "    <tr>\n",
       "      <th>CityIdentifier</th>\n",
       "      <td>3.647477</td>\n",
       "      <td>float32</td>\n",
       "    </tr>\n",
       "    <tr>\n",
       "      <th>CountryIdentifier</th>\n",
       "      <td>0.000000</td>\n",
       "      <td>int16</td>\n",
       "    </tr>\n",
       "    <tr>\n",
       "      <th>EngineVersion</th>\n",
       "      <td>0.000000</td>\n",
       "      <td>category</td>\n",
       "    </tr>\n",
       "    <tr>\n",
       "      <th>Firewall</th>\n",
       "      <td>1.023933</td>\n",
       "      <td>float16</td>\n",
       "    </tr>\n",
       "    <tr>\n",
       "      <th>GeoNameIdentifier</th>\n",
       "      <td>0.002387</td>\n",
       "      <td>float16</td>\n",
       "    </tr>\n",
       "    <tr>\n",
       "      <th>HasDetections</th>\n",
       "      <td>0.000000</td>\n",
       "      <td>int8</td>\n",
       "    </tr>\n",
       "    <tr>\n",
       "      <th>HasTpm</th>\n",
       "      <td>0.000000</td>\n",
       "      <td>int8</td>\n",
       "    </tr>\n",
       "    <tr>\n",
       "      <th>IeVerIdentifier</th>\n",
       "      <td>0.660137</td>\n",
       "      <td>float16</td>\n",
       "    </tr>\n",
       "    <tr>\n",
       "      <th>IsBeta</th>\n",
       "      <td>0.000000</td>\n",
       "      <td>int8</td>\n",
       "    </tr>\n",
       "    <tr>\n",
       "      <th>IsProtected</th>\n",
       "      <td>0.404014</td>\n",
       "      <td>float16</td>\n",
       "    </tr>\n",
       "    <tr>\n",
       "      <th>IsSxsPassiveMode</th>\n",
       "      <td>0.000000</td>\n",
       "      <td>int8</td>\n",
       "    </tr>\n",
       "    <tr>\n",
       "      <th>LocaleEnglishNameIdentifier</th>\n",
       "      <td>0.000000</td>\n",
       "      <td>int8</td>\n",
       "    </tr>\n",
       "    <tr>\n",
       "      <th>OsBuild</th>\n",
       "      <td>0.000000</td>\n",
       "      <td>int16</td>\n",
       "    </tr>\n",
       "    <tr>\n",
       "      <th>OsBuildLab</th>\n",
       "      <td>0.000235</td>\n",
       "      <td>category</td>\n",
       "    </tr>\n",
       "    <tr>\n",
       "      <th>OsPlatformSubRelease</th>\n",
       "      <td>0.000000</td>\n",
       "      <td>category</td>\n",
       "    </tr>\n",
       "    <tr>\n",
       "      <th>OsSuite</th>\n",
       "      <td>0.000000</td>\n",
       "      <td>int16</td>\n",
       "    </tr>\n",
       "    <tr>\n",
       "      <th>OsVer</th>\n",
       "      <td>0.000000</td>\n",
       "      <td>category</td>\n",
       "    </tr>\n",
       "    <tr>\n",
       "      <th>Platform</th>\n",
       "      <td>0.000000</td>\n",
       "      <td>category</td>\n",
       "    </tr>\n",
       "    <tr>\n",
       "      <th>Processor</th>\n",
       "      <td>0.000000</td>\n",
       "      <td>category</td>\n",
       "    </tr>\n",
       "    <tr>\n",
       "      <th>ProductName</th>\n",
       "      <td>0.000000</td>\n",
       "      <td>category</td>\n",
       "    </tr>\n",
       "    <tr>\n",
       "      <th>RtpStateBitfield</th>\n",
       "      <td>0.362249</td>\n",
       "      <td>float16</td>\n",
       "    </tr>\n",
       "    <tr>\n",
       "      <th>SMode</th>\n",
       "      <td>6.027686</td>\n",
       "      <td>float16</td>\n",
       "    </tr>\n",
       "    <tr>\n",
       "      <th>SkuEdition</th>\n",
       "      <td>0.000000</td>\n",
       "      <td>category</td>\n",
       "    </tr>\n",
       "    <tr>\n",
       "      <th>UacLuaenable</th>\n",
       "      <td>0.121482</td>\n",
       "      <td>float32</td>\n",
       "    </tr>\n",
       "    <tr>\n",
       "      <th>Wdft_IsGamer</th>\n",
       "      <td>3.401352</td>\n",
       "      <td>float16</td>\n",
       "    </tr>\n",
       "    <tr>\n",
       "      <th>Wdft_RegionIdentifier</th>\n",
       "      <td>3.401352</td>\n",
       "      <td>float16</td>\n",
       "    </tr>\n",
       "  </tbody>\n",
       "</table>\n",
       "</div>"
      ],
      "text/plain": [
       "                                                   null_percent data_type\n",
       "AVProductStatesIdentifier                              0.405998   float32\n",
       "AVProductsEnabled                                      0.405998   float16\n",
       "AVProductsInstalled                                    0.405998   float16\n",
       "AppVersion                                             0.000000  category\n",
       "AutoSampleOptIn                                        0.000000      int8\n",
       "AvSigVersion                                           0.000000  category\n",
       "Census_ActivationChannel                               0.000000  category\n",
       "Census_ChassisTypeName                                 0.006983  category\n",
       "Census_DeviceFamily                                    0.000000  category\n",
       "Census_FirmwareManufacturerIdentifier                  2.054109   float16\n",
       "Census_FirmwareVersionIdentifier                       1.794915   float32\n",
       "Census_FlightRing                                      0.000000  category\n",
       "Census_GenuineStateName                                0.000000  category\n",
       "Census_HasOpticalDiskDrive                             0.000000      int8\n",
       "Census_InternalBatteryNumberOfCharges                  3.012448   float32\n",
       "Census_InternalPrimaryDiagonalDisplaySizeInInches      0.528320   float16\n",
       "Census_InternalPrimaryDisplayResolutionHorizontal      0.526661   float16\n",
       "Census_InternalPrimaryDisplayResolutionVertical        0.526661   float16\n",
       "Census_IsAlwaysOnAlwaysConnectedCapable                0.799676   float16\n",
       "Census_IsFlightsDisabled                               1.799286   float16\n",
       "Census_IsPenCapable                                    0.000000      int8\n",
       "Census_IsPortableOperatingSystem                       0.000000      int8\n",
       "Census_IsSecureBootEnabled                             0.000000      int8\n",
       "Census_IsTouchEnabled                                  0.000000      int8\n",
       "Census_IsVirtualDevice                                 0.178816   float16\n",
       "Census_MDC2FormFactor                                  0.000000  category\n",
       "Census_OEMModelIdentifier                              1.145919   float32\n",
       "Census_OEMNameIdentifier                               1.070203   float16\n",
       "Census_OSArchitecture                                  0.000000  category\n",
       "Census_OSBranch                                        0.000000  category\n",
       "Census_OSBuildNumber                                   0.000000     int16\n",
       "Census_OSBuildRevision                                 0.000000     int32\n",
       "Census_OSEdition                                       0.000000  category\n",
       "Census_OSInstallLanguageIdentifier                     0.673475   float16\n",
       "Census_OSInstallTypeName                               0.000000  category\n",
       "Census_OSSkuName                                       0.000000  category\n",
       "Census_OSUILocaleIdentifier                            0.000000     int16\n",
       "Census_OSVersion                                       0.000000  category\n",
       "Census_OSWUAutoUpdateOptionsName                       0.000000  category\n",
       "Census_PowerPlatformRoleName                           0.000616  category\n",
       "Census_PrimaryDiskTotalCapacity                        0.594251   float32\n",
       "Census_PrimaryDiskTypeName                             0.143967  category\n",
       "Census_ProcessorCoreCount                              0.462995   float16\n",
       "Census_ProcessorManufacturerIdentifier                 0.463073   float16\n",
       "Census_ProcessorModelIdentifier                        0.463410   float16\n",
       "Census_SystemVolumeTotalCapacity                       0.594094   float32\n",
       "Census_TotalPhysicalRAM                                0.902686   float32\n",
       "CityIdentifier                                         3.647477   float32\n",
       "CountryIdentifier                                      0.000000     int16\n",
       "EngineVersion                                          0.000000  category\n",
       "Firewall                                               1.023933   float16\n",
       "GeoNameIdentifier                                      0.002387   float16\n",
       "HasDetections                                          0.000000      int8\n",
       "HasTpm                                                 0.000000      int8\n",
       "IeVerIdentifier                                        0.660137   float16\n",
       "IsBeta                                                 0.000000      int8\n",
       "IsProtected                                            0.404014   float16\n",
       "IsSxsPassiveMode                                       0.000000      int8\n",
       "LocaleEnglishNameIdentifier                            0.000000      int8\n",
       "OsBuild                                                0.000000     int16\n",
       "OsBuildLab                                             0.000235  category\n",
       "OsPlatformSubRelease                                   0.000000  category\n",
       "OsSuite                                                0.000000     int16\n",
       "OsVer                                                  0.000000  category\n",
       "Platform                                               0.000000  category\n",
       "Processor                                              0.000000  category\n",
       "ProductName                                            0.000000  category\n",
       "RtpStateBitfield                                       0.362249   float16\n",
       "SMode                                                  6.027686   float16\n",
       "SkuEdition                                             0.000000  category\n",
       "UacLuaenable                                           0.121482   float32\n",
       "Wdft_IsGamer                                           3.401352   float16\n",
       "Wdft_RegionIdentifier                                  3.401352   float16"
      ]
     },
     "metadata": {},
     "output_type": "display_data"
    }
   ],
   "source": [
    "null_cols = train.isnull().sum().sort_index()*100/len(train)\n",
    "display_all(null_cols)\n",
    "meta_data = pd.DataFrame(index=null_cols.index)\n",
    "meta_data['null_percent'] = null_cols.values\n",
    "meta_data['data_type'] = train.dtypes\n",
    "display_all(meta_data)"
   ]
  },
  {
   "cell_type": "markdown",
   "metadata": {},
   "source": [
    "#### Fixing the missing values in the float columns\n",
    "1. Wdft_RegionIdentifier [replaced with -10]\n",
    "2. Wdft_IsGamer [replaced with 2]  \n",
    "3. UacLuaenable [replaced with -100]\n",
    "4. RtpStateBitfield [replaced with -100] (has low variance although)\n",
    "5. OsBuildLab [replaced nas with 'missing' category]\n",
    "6. IsProtected [replaced with 2] \n",
    "7. IeVerIdentifier [replaced with -100]\n",
    "8. GeoNameIdentifier [replaced with -100]\n",
    "9. Firewall [replaced with 2] \n",
    "10. Census_ProcessorCoreCount [replaced with 4]\n",
    "11. Census_ProcessorManufacturerIdentifier [replaced with -100]\n",
    "12. Census_ProcessorModelIdentifier [replaced with -100]\n",
    "13. CityIdentifier [replaced with -100]\n",
    "14. Census_TotalPhysicalRAM [replacing with mean  6115.266]\n",
    "15. Census_SystemVolumeTotalCapacity [replacing with mean  377368.25]\n",
    "16. Census_PrimaryDiskTypeName [replaced all other with UNKNOWN]\n",
    "17. Census_PrimaryDiskTotalCapacity [replaced nan with 3089054.5 ]\n",
    "18. Census_PowerPlatformRoleName [replaced all other with UNKNOWN]\n",
    "19. Census_OSInstallLanguageIdentifier [replaced with -100]\n",
    "20. Census_OEMModelIdentifier [replaced with -100]\n",
    "21. Census_OEMNameIdentifier [replaced with -100]\n",
    "22. Census_IsVirtualDevice [replaced with 2] \n",
    "23. Census_IsFlightsDisabled [replaced with 2] \n",
    "24. Census_IsAlwaysOnAlwaysConnectedCapable [replaced with 2] \n",
    "25. Census_InternalPrimaryDisplayResolutionVertical --\n",
    "26. AVProductsInstalled\n",
    "27. Census_InternalBatteryNumberOfCharges [replaced wiht min 0.0]\n",
    "28. Census_InternalPrimaryDiagonalDisplaySizeInInches\n",
    "29. Census_InternalPrimaryDisplayResolutionHorizontal\n",
    "30. Census_InternalPrimaryDisplayResolutionVertical\n",
    "  \n",
    "[\"Census_ProcessorCoreCount\", \"Census_ProcessorManufacturerIdentifier\", \"Census_ProcessorCoreCount\", \"CityIdentifier\", \n",
    "\n"
   ]
  },
  {
   "cell_type": "code",
   "execution_count": 16,
   "metadata": {},
   "outputs": [
    {
     "data": {
      "text/plain": [
       "Notebook               5248812\n",
       "Desktop                1872125\n",
       "Laptop                  685581\n",
       "Portable                360903\n",
       "AllinOne                204295\n",
       "MiniTower                85127\n",
       "Convertible              84472\n",
       "Other                    75782\n",
       "UNKNOWN                  67212\n",
       "Detachable               51466\n",
       "LowProfileDesktop        50072\n",
       "HandHeld                 46009\n",
       "SpaceSaving              29070\n",
       "Tablet                   13630\n",
       "Tower                    12549\n",
       "Unknown                  10011\n",
       "MainServerChassis         9545\n",
       "MiniPC                    4433\n",
       "LunchBox                  3971\n",
       "RackMountChassis          3410\n",
       "SubNotebook                807\n",
       "BusExpansionChassis        720\n",
       "NaN                        623\n",
       "30                         243\n",
       "StickPC                    142\n",
       "0                          133\n",
       "MultisystemChassis          61\n",
       "Blade                       52\n",
       "35                          50\n",
       "PizzaBox                    46\n",
       "SealedCasePC                39\n",
       "SubChassis                  16\n",
       "ExpansionChassis            12\n",
       "31                          11\n",
       "88                           8\n",
       "32                           8\n",
       "127                          7\n",
       "25                           6\n",
       "44                           4\n",
       "36                           3\n",
       "DockingStation               2\n",
       "CompactPCI                   2\n",
       "BladeEnclosure               2\n",
       "81                           2\n",
       "39                           1\n",
       "28                           1\n",
       "82                           1\n",
       "76                           1\n",
       "45                           1\n",
       "49                           1\n",
       "112                          1\n",
       "EmbeddedPC                   1\n",
       "IoTGateway                   1\n",
       "Name: Census_ChassisTypeName, dtype: int64"
      ]
     },
     "metadata": {},
     "output_type": "display_data"
    }
   ],
   "source": [
    "display_all(train.Census_ChassisTypeName.value_counts(dropna=False))"
   ]
  },
  {
   "cell_type": "code",
   "execution_count": 17,
   "metadata": {},
   "outputs": [],
   "source": [
    "train.Wdft_RegionIdentifier.fillna(-10, inplace=True)\n",
    "train.Wdft_IsGamer.fillna(2, inplace=True)"
   ]
  },
  {
   "cell_type": "code",
   "execution_count": 18,
   "metadata": {},
   "outputs": [],
   "source": [
    "train.UacLuaenable.fillna(-100, inplace=True)"
   ]
  },
  {
   "cell_type": "code",
   "execution_count": 19,
   "metadata": {},
   "outputs": [],
   "source": [
    "train.drop(columns=['SMode'], inplace=True, axis=1)"
   ]
  },
  {
   "cell_type": "code",
   "execution_count": 20,
   "metadata": {},
   "outputs": [],
   "source": [
    "train.RtpStateBitfield.fillna(-100, inplace=True)"
   ]
  },
  {
   "cell_type": "code",
   "execution_count": 21,
   "metadata": {},
   "outputs": [],
   "source": [
    "train[\"OsBuildLab\"] = train.OsBuildLab.cat.add_categories('missing').fillna('missing')"
   ]
  },
  {
   "cell_type": "code",
   "execution_count": 22,
   "metadata": {},
   "outputs": [],
   "source": [
    "train.IsProtected.fillna(2, inplace=True)"
   ]
  },
  {
   "cell_type": "code",
   "execution_count": 23,
   "metadata": {},
   "outputs": [],
   "source": [
    "train.IeVerIdentifier.fillna(-100, inplace=True)"
   ]
  },
  {
   "cell_type": "code",
   "execution_count": 24,
   "metadata": {},
   "outputs": [],
   "source": [
    "train.GeoNameIdentifier.fillna(-100, inplace=True)"
   ]
  },
  {
   "cell_type": "code",
   "execution_count": 25,
   "metadata": {},
   "outputs": [],
   "source": [
    "train.Firewall.fillna(2, inplace=True)"
   ]
  },
  {
   "cell_type": "code",
   "execution_count": 26,
   "metadata": {},
   "outputs": [],
   "source": [
    "train.Census_ProcessorCoreCount.fillna(4, inplace=True)"
   ]
  },
  {
   "cell_type": "code",
   "execution_count": 27,
   "metadata": {},
   "outputs": [],
   "source": [
    "train.Census_ProcessorManufacturerIdentifier.fillna(-100,inplace=True)"
   ]
  },
  {
   "cell_type": "code",
   "execution_count": 28,
   "metadata": {},
   "outputs": [],
   "source": [
    "train.Census_ProcessorModelIdentifier.fillna(-100,inplace=True)"
   ]
  },
  {
   "cell_type": "code",
   "execution_count": 29,
   "metadata": {},
   "outputs": [],
   "source": [
    "train.CityIdentifier.fillna(-100,inplace=True)"
   ]
  },
  {
   "cell_type": "code",
   "execution_count": 30,
   "metadata": {},
   "outputs": [],
   "source": [
    "train.Census_TotalPhysicalRAM.fillna(6115.266, inplace=True)"
   ]
  },
  {
   "cell_type": "code",
   "execution_count": 31,
   "metadata": {},
   "outputs": [],
   "source": [
    "train.Census_SystemVolumeTotalCapacity.fillna(377368.25, inplace=True)"
   ]
  },
  {
   "cell_type": "code",
   "execution_count": 32,
   "metadata": {},
   "outputs": [],
   "source": [
    "train[\"Census_PrimaryDiskTypeName\"] = train.Census_PrimaryDiskTypeName.str.replace('Unspecified', 'UNKNOWN')\n",
    "train.Census_PrimaryDiskTypeName.fillna(\"UNKNOWN\", inplace=True)"
   ]
  },
  {
   "cell_type": "code",
   "execution_count": 33,
   "metadata": {},
   "outputs": [],
   "source": [
    "train.Census_PrimaryDiskTotalCapacity.fillna(3089054.5, inplace=True)"
   ]
  },
  {
   "cell_type": "code",
   "execution_count": 34,
   "metadata": {},
   "outputs": [],
   "source": [
    "train[\"Census_PowerPlatformRoleName\"] = train.Census_PowerPlatformRoleName.str.replace('Unspecified', 'UNKNOWN')\n",
    "train.Census_PowerPlatformRoleName.fillna(\"UNKNOWN\", inplace=True)"
   ]
  },
  {
   "cell_type": "code",
   "execution_count": 35,
   "metadata": {},
   "outputs": [],
   "source": [
    "train.Census_OSInstallLanguageIdentifier.fillna(-100,inplace=True)"
   ]
  },
  {
   "cell_type": "code",
   "execution_count": 36,
   "metadata": {},
   "outputs": [],
   "source": [
    "train.Census_OEMModelIdentifier.fillna(-100,inplace=True)"
   ]
  },
  {
   "cell_type": "code",
   "execution_count": 37,
   "metadata": {},
   "outputs": [],
   "source": [
    "train.Census_OEMNameIdentifier.fillna(-100,inplace=True)"
   ]
  },
  {
   "cell_type": "code",
   "execution_count": 38,
   "metadata": {},
   "outputs": [],
   "source": [
    "train.Census_IsVirtualDevice.fillna(2, inplace=True)"
   ]
  },
  {
   "cell_type": "code",
   "execution_count": 39,
   "metadata": {},
   "outputs": [],
   "source": [
    "train.Census_IsFlightsDisabled.fillna(2, inplace=True)\n",
    "train.Census_IsAlwaysOnAlwaysConnectedCapable.fillna(2, inplace=True)"
   ]
  },
  {
   "cell_type": "code",
   "execution_count": 40,
   "metadata": {},
   "outputs": [],
   "source": [
    "train.Census_FirmwareVersionIdentifier.fillna(-100,inplace=True)\n",
    "train.Census_FirmwareManufacturerIdentifier.fillna(-100,inplace=True)\n",
    "train.AVProductStatesIdentifier.fillna(-100,inplace=True)"
   ]
  },
  {
   "cell_type": "code",
   "execution_count": 41,
   "metadata": {},
   "outputs": [],
   "source": [
    "train.AVProductsInstalled.fillna(-2, inplace=True)\n",
    "train.AVProductsEnabled.fillna(-2, inplace=True) "
   ]
  },
  {
   "cell_type": "code",
   "execution_count": 42,
   "metadata": {},
   "outputs": [],
   "source": [
    "train.Census_InternalBatteryNumberOfCharges.fillna(0.0, inplace=True)"
   ]
  },
  {
   "cell_type": "code",
   "execution_count": 43,
   "metadata": {},
   "outputs": [],
   "source": [
    "train.Census_InternalPrimaryDisplayResolutionVertical.fillna(897.5707, inplace=True)\n",
    "train.Census_InternalPrimaryDiagonalDisplaySizeInInches.fillna(16.6760, inplace=True)\n",
    "train.Census_InternalPrimaryDisplayResolutionHorizontal.fillna(1547.716, inplace=True)"
   ]
  },
  {
   "cell_type": "code",
   "execution_count": 44,
   "metadata": {},
   "outputs": [],
   "source": [
    "import re\n",
    "exp = re.compile('[0-9]+')\n",
    "\n",
    "train[\"Census_ChassisTypeName\"] = train.Census_ChassisTypeName.str.replace(exp, 'Unknown')\n",
    "train[\"Census_ChassisTypeName\"] = train.Census_ChassisTypeName.str.replace('Other', 'Unknown')\n",
    "train[\"Census_ChassisTypeName\"] = train.Census_ChassisTypeName.str.replace('UNKNOWN', 'Unknown')\n",
    "train.Census_ChassisTypeName.fillna('Unknown', inplace=True)"
   ]
  },
  {
   "cell_type": "code",
   "execution_count": 45,
   "metadata": {},
   "outputs": [],
   "source": [
    "train.CityIdentifier.fillna(-100,inplace=True)"
   ]
  },
  {
   "cell_type": "markdown",
   "metadata": {},
   "source": [
    "##### All the necessary modifications and gapfilling is done for the NA values\n",
    "Let's convert the data types now\n",
    "Below are some plots that I drew while understanding some of the variables"
   ]
  },
  {
   "cell_type": "code",
   "execution_count": 149,
   "metadata": {},
   "outputs": [
    {
     "data": {
      "text/plain": [
       "<matplotlib.axes._subplots.AxesSubplot at 0x7fa97d901470>"
      ]
     },
     "execution_count": 149,
     "metadata": {},
     "output_type": "execute_result"
    },
    {
     "data": {
      "image/png": "[encoded data removed]",
      "text/plain": [
       "<Figure size 432x288 with 1 Axes>"
      ]
     },
     "metadata": {},
     "output_type": "display_data"
    }
   ],
   "source": [
    "sns.set()\n",
    "sns.distplot(temp, axlabel=\"Physical Memory\", bins=4, hist=False)"
   ]
  },
  {
   "cell_type": "code",
   "execution_count": 154,
   "metadata": {},
   "outputs": [
    {
     "name": "stderr",
     "output_type": "stream",
     "text": [
      "/home/pratikv/anaconda3/lib/python3.6/site-packages/matplotlib/axes/_axes.py:6462: UserWarning: The 'normed' kwarg is deprecated, and has been replaced by the 'density' kwarg.\n",
      "  warnings.warn(\"The 'normed' kwarg is deprecated, and has been \"\n"
     ]
    },
    {
     "data": {
      "text/plain": [
       "<matplotlib.axes._subplots.AxesSubplot at 0x7fa983f83dd8>"
      ]
     },
     "execution_count": 154,
     "metadata": {},
     "output_type": "execute_result"
    },
    {
     "data": {
      "image/png": "[encoded data removed]",
      "text/plain": [
       "<Figure size 432x288 with 1 Axes>"
      ]
     },
     "metadata": {},
     "output_type": "display_data"
    }
   ],
   "source": [
    "temp = train.Census_SystemVolumeTotalCapacity.values\n",
    "temp = temp[~ np.isnan(temp)]\n",
    "sns.distplot(temp, axlabel=\"Census_SystemVolumeTotalCapacity\", bins=4)"
   ]
  },
  {
   "cell_type": "code",
   "execution_count": 167,
   "metadata": {
    "scrolled": false
   },
   "outputs": [
    {
     "name": "stderr",
     "output_type": "stream",
     "text": [
      "/home/pratikv/anaconda3/lib/python3.6/site-packages/matplotlib/axes/_axes.py:6462: UserWarning: The 'normed' kwarg is deprecated, and has been replaced by the 'density' kwarg.\n",
      "  warnings.warn(\"The 'normed' kwarg is deprecated, and has been \"\n"
     ]
    },
    {
     "data": {
      "text/plain": [
       "<matplotlib.axes._subplots.AxesSubplot at 0x7fa97d79a550>"
      ]
     },
     "execution_count": 167,
     "metadata": {},
     "output_type": "execute_result"
    },
    {
     "data": {
      "image/png": "[encoded data removed]",
      "text/plain": [
       "<Figure size 432x288 with 1 Axes>"
      ]
     },
     "metadata": {},
     "output_type": "display_data"
    }
   ],
   "source": [
    "temp = train.Census_PrimaryDiskTotalCapacity.values\n",
    "temp = temp[~ np.isnan(temp)]\n",
    "sns.distplot(temp, axlabel=\"Census_PrimaryDiskTotalCapacity\", bins=4)"
   ]
  },
  {
   "cell_type": "markdown",
   "metadata": {},
   "source": [
    "### Let's convert the categorical using label encoder!!\n",
    "\n",
    "First selecting all the columns with a categorical data type!!\n",
    "\n",
    "#### Later let's split our data set into train, test and validation set.\n",
    "We will keep the ratio - 70% (train) 10% (validation) 20% (test)"
   ]
  },
  {
   "cell_type": "code",
   "execution_count": 70,
   "metadata": {},
   "outputs": [],
   "source": [
    "cat_vars = list(train.select_dtypes(include=['object']).columns)"
   ]
  },
  {
   "cell_type": "code",
   "execution_count": 71,
   "metadata": {},
   "outputs": [
    {
     "data": {
      "text/plain": [
       "['Census_PrimaryDiskTypeName', 'Census_ChassisTypeName']"
      ]
     },
     "execution_count": 71,
     "metadata": {},
     "output_type": "execute_result"
    }
   ],
   "source": [
    "cat_vars"
   ]
  },
  {
   "cell_type": "code",
   "execution_count": null,
   "metadata": {},
   "outputs": [],
   "source": [
    "from sklearn.preprocessing import LabelEncoder\n",
    "for a in cat_vars:\n",
    "    le = LabelEncoder()\n",
    "    train[a] = le.fit_transform(train[a].astype(str))"
   ]
  },
  {
   "cell_type": "code",
   "execution_count": null,
   "metadata": {},
   "outputs": [],
   "source": [
    "le = LabelEncoder()\n",
    "train[\"Census_PowerPlatformRoleName\"] = le.fit_transform(train[\"Census_PowerPlatformRoleName\"].astype(str))"
   ]
  },
  {
   "cell_type": "code",
   "execution_count": 74,
   "metadata": {},
   "outputs": [],
   "source": [
    "le = LabelEncoder()\n",
    "train[\"Census_PrimaryDiskTypeName\"] = le.fit_transform(train[\"Census_PrimaryDiskTypeName\"].astype(str))\n",
    "le = LabelEncoder()\n",
    "train[\"Census_ChassisTypeName\"] = le.fit_transform(train[\"Census_ChassisTypeName\"].astype(str))"
   ]
  },
  {
   "cell_type": "code",
   "execution_count": 75,
   "metadata": {},
   "outputs": [],
   "source": [
    "from sklearn.model_selection import train_test_split\n",
    "\n",
    "X_train, X_test, y_train, y_test = train_test_split(train.iloc[:,:71], train.iloc[:,71], test_size=0.2, train_size=0.8, random_state=42)"
   ]
  },
  {
   "cell_type": "code",
   "execution_count": 49,
   "metadata": {},
   "outputs": [],
   "source": [
    "train.to_csv('train_processed.csv', index=False)"
   ]
  },
  {
   "cell_type": "markdown",
   "metadata": {},
   "source": [
    "### Building a basic Random Forest Model"
   ]
  },
  {
   "cell_type": "code",
   "execution_count": 80,
   "metadata": {},
   "outputs": [
    {
     "name": "stderr",
     "output_type": "stream",
     "text": [
      "[Parallel(n_jobs=-1)]: Done  10 out of  10 | elapsed:  6.8min finished\n"
     ]
    },
    {
     "data": {
      "text/plain": [
       "RandomForestClassifier(bootstrap=True, class_weight=None, criterion='gini',\n",
       "            max_depth=None, max_features='auto', max_leaf_nodes=None,\n",
       "            min_impurity_decrease=0.0, min_impurity_split=None,\n",
       "            min_samples_leaf=1, min_samples_split=2,\n",
       "            min_weight_fraction_leaf=0.0, n_estimators=10, n_jobs=-1,\n",
       "            oob_score=False, random_state=None, verbose=1,\n",
       "            warm_start=False)"
      ]
     },
     "execution_count": 80,
     "metadata": {},
     "output_type": "execute_result"
    }
   ],
   "source": [
    "from sklearn.ensemble import RandomForestClassifier\n",
    "m = RandomForestClassifier(n_jobs=-1, verbose=1)\n",
    "m.fit(X_train, y_train)"
   ]
  },
  {
   "cell_type": "code",
   "execution_count": 81,
   "metadata": {},
   "outputs": [
    {
     "name": "stderr",
     "output_type": "stream",
     "text": [
      "[Parallel(n_jobs=4)]: Done  10 out of  10 | elapsed:   39.1s finished\n"
     ]
    },
    {
     "data": {
      "text/plain": [
       "0.9851051941199235"
      ]
     },
     "execution_count": 81,
     "metadata": {},
     "output_type": "execute_result"
    }
   ],
   "source": [
    "m.score(X_train, y_train)"
   ]
  },
  {
   "cell_type": "code",
   "execution_count": 83,
   "metadata": {},
   "outputs": [
    {
     "name": "stderr",
     "output_type": "stream",
     "text": [
      "[Parallel(n_jobs=4)]: Done  10 out of  10 | elapsed:   10.0s finished\n"
     ]
    },
    {
     "data": {
      "text/plain": [
       "0.6002789894283295"
      ]
     },
     "execution_count": 83,
     "metadata": {},
     "output_type": "execute_result"
    }
   ],
   "source": [
    "m.score(X_test, y_test)"
   ]
  },
  {
   "cell_type": "code",
   "execution_count": 84,
   "metadata": {},
   "outputs": [
    {
     "name": "stderr",
     "output_type": "stream",
     "text": [
      "[Parallel(n_jobs=-1)]: Done  10 out of  10 | elapsed:  2.1min finished\n"
     ]
    },
    {
     "data": {
      "text/plain": [
       "RandomForestClassifier(bootstrap=True, class_weight=None, criterion='gini',\n",
       "            max_depth=7, max_features='auto', max_leaf_nodes=None,\n",
       "            min_impurity_decrease=0.0, min_impurity_split=None,\n",
       "            min_samples_leaf=1, min_samples_split=2,\n",
       "            min_weight_fraction_leaf=0.0, n_estimators=10, n_jobs=-1,\n",
       "            oob_score=False, random_state=None, verbose=1,\n",
       "            warm_start=False)"
      ]
     },
     "execution_count": 84,
     "metadata": {},
     "output_type": "execute_result"
    }
   ],
   "source": [
    "from sklearn.ensemble import RandomForestClassifier\n",
    "m = RandomForestClassifier(n_jobs=-1, max_depth=7, verbose=1)\n",
    "m.fit(X_train, y_train)"
   ]
  },
  {
   "cell_type": "code",
   "execution_count": 85,
   "metadata": {},
   "outputs": [
    {
     "name": "stderr",
     "output_type": "stream",
     "text": [
      "[Parallel(n_jobs=4)]: Done  10 out of  10 | elapsed:    0.8s finished\n"
     ]
    },
    {
     "data": {
      "text/plain": [
       "0.604430764609255"
      ]
     },
     "execution_count": 85,
     "metadata": {},
     "output_type": "execute_result"
    }
   ],
   "source": [
    "m.score(X_test, y_test)"
   ]
  },
  {
   "cell_type": "code",
   "execution_count": 87,
   "metadata": {},
   "outputs": [
    {
     "name": "stdout",
     "output_type": "stream",
     "text": [
      "Collecting xgboost\n",
      "\u001b[?25l  Downloading https://files.pythonhosted.org/packages/54/21/8b2ec99862903a6d3aed62ce156d21d114b8666e669c46d9e54041df9496/xgboost-0.81-py2.py3-none-manylinux1_x86_64.whl (16.6MB)\n",
      "\u001b[K    100% |████████████████████████████████| 16.6MB 2.0MB/s eta 0:00:01\n",
      "\u001b[?25hRequirement already satisfied: scipy in /home/pratikv/anaconda3/lib/python3.6/site-packages (from xgboost) (1.1.0)\n",
      "Requirement already satisfied: numpy in /home/pratikv/anaconda3/lib/python3.6/site-packages (from xgboost) (1.14.3)\n",
      "Installing collected packages: xgboost\n",
      "Successfully installed xgboost-0.81\n",
      "\u001b[33mYou are using pip version 10.0.1, however version 19.0.1 is available.\n",
      "You should consider upgrading via the 'pip install --upgrade pip' command.\u001b[0m\n"
     ]
    }
   ],
   "source": [
    "!pip install xgboost"
   ]
  },
  {
   "cell_type": "code",
   "execution_count": 4,
   "metadata": {},
   "outputs": [],
   "source": [
    "import xgboost as xgb"
   ]
  },
  {
   "cell_type": "code",
   "execution_count": 92,
   "metadata": {},
   "outputs": [
    {
     "name": "stdout",
     "output_type": "stream",
     "text": [
      "[21:25:54] Tree method is automatically selected to be 'approx' for faster speed. To use old behavior (exact greedy algorithm on single machine), set tree_method to 'exact'.\n",
      "[21:26:21] /workspace/src/tree/updater_prune.cc:74: tree pruning end, 1 roots, 254 extra nodes, 0 pruned nodes, max_depth=7\n",
      "[21:26:39] /workspace/src/tree/updater_prune.cc:74: tree pruning end, 1 roots, 254 extra nodes, 0 pruned nodes, max_depth=7\n",
      "[21:26:55] /workspace/src/tree/updater_prune.cc:74: tree pruning end, 1 roots, 254 extra nodes, 0 pruned nodes, max_depth=7\n",
      "[21:27:12] /workspace/src/tree/updater_prune.cc:74: tree pruning end, 1 roots, 254 extra nodes, 0 pruned nodes, max_depth=7\n",
      "[21:27:30] /workspace/src/tree/updater_prune.cc:74: tree pruning end, 1 roots, 254 extra nodes, 0 pruned nodes, max_depth=7\n",
      "[21:27:46] /workspace/src/tree/updater_prune.cc:74: tree pruning end, 1 roots, 254 extra nodes, 0 pruned nodes, max_depth=7\n",
      "[21:28:03] /workspace/src/tree/updater_prune.cc:74: tree pruning end, 1 roots, 254 extra nodes, 0 pruned nodes, max_depth=7\n",
      "[21:28:23] /workspace/src/tree/updater_prune.cc:74: tree pruning end, 1 roots, 248 extra nodes, 0 pruned nodes, max_depth=7\n",
      "[21:28:40] /workspace/src/tree/updater_prune.cc:74: tree pruning end, 1 roots, 248 extra nodes, 0 pruned nodes, max_depth=7\n",
      "[21:28:58] /workspace/src/tree/updater_prune.cc:74: tree pruning end, 1 roots, 254 extra nodes, 0 pruned nodes, max_depth=7\n",
      "[21:29:15] /workspace/src/tree/updater_prune.cc:74: tree pruning end, 1 roots, 254 extra nodes, 0 pruned nodes, max_depth=7\n",
      "[21:29:32] /workspace/src/tree/updater_prune.cc:74: tree pruning end, 1 roots, 254 extra nodes, 0 pruned nodes, max_depth=7\n",
      "[21:29:49] /workspace/src/tree/updater_prune.cc:74: tree pruning end, 1 roots, 254 extra nodes, 0 pruned nodes, max_depth=7\n",
      "[21:30:05] /workspace/src/tree/updater_prune.cc:74: tree pruning end, 1 roots, 254 extra nodes, 0 pruned nodes, max_depth=7\n",
      "[21:30:23] /workspace/src/tree/updater_prune.cc:74: tree pruning end, 1 roots, 254 extra nodes, 0 pruned nodes, max_depth=7\n",
      "[21:30:42] /workspace/src/tree/updater_prune.cc:74: tree pruning end, 1 roots, 254 extra nodes, 0 pruned nodes, max_depth=7\n",
      "[21:30:57] /workspace/src/tree/updater_prune.cc:74: tree pruning end, 1 roots, 252 extra nodes, 0 pruned nodes, max_depth=7\n",
      "[21:31:12] /workspace/src/tree/updater_prune.cc:74: tree pruning end, 1 roots, 254 extra nodes, 0 pruned nodes, max_depth=7\n",
      "[21:31:26] /workspace/src/tree/updater_prune.cc:74: tree pruning end, 1 roots, 254 extra nodes, 0 pruned nodes, max_depth=7\n",
      "[21:31:43] /workspace/src/tree/updater_prune.cc:74: tree pruning end, 1 roots, 254 extra nodes, 0 pruned nodes, max_depth=7\n",
      "[21:32:00] /workspace/src/tree/updater_prune.cc:74: tree pruning end, 1 roots, 254 extra nodes, 0 pruned nodes, max_depth=7\n",
      "[21:32:17] /workspace/src/tree/updater_prune.cc:74: tree pruning end, 1 roots, 254 extra nodes, 0 pruned nodes, max_depth=7\n",
      "[21:32:33] /workspace/src/tree/updater_prune.cc:74: tree pruning end, 1 roots, 254 extra nodes, 0 pruned nodes, max_depth=7\n",
      "[21:32:48] /workspace/src/tree/updater_prune.cc:74: tree pruning end, 1 roots, 254 extra nodes, 0 pruned nodes, max_depth=7\n",
      "[21:33:03] /workspace/src/tree/updater_prune.cc:74: tree pruning end, 1 roots, 254 extra nodes, 0 pruned nodes, max_depth=7\n",
      "[21:33:21] /workspace/src/tree/updater_prune.cc:74: tree pruning end, 1 roots, 254 extra nodes, 0 pruned nodes, max_depth=7\n",
      "[21:33:38] /workspace/src/tree/updater_prune.cc:74: tree pruning end, 1 roots, 254 extra nodes, 0 pruned nodes, max_depth=7\n",
      "[21:33:54] /workspace/src/tree/updater_prune.cc:74: tree pruning end, 1 roots, 254 extra nodes, 0 pruned nodes, max_depth=7\n",
      "[21:34:13] /workspace/src/tree/updater_prune.cc:74: tree pruning end, 1 roots, 254 extra nodes, 0 pruned nodes, max_depth=7\n",
      "[21:34:28] /workspace/src/tree/updater_prune.cc:74: tree pruning end, 1 roots, 254 extra nodes, 0 pruned nodes, max_depth=7\n",
      "[21:34:43] /workspace/src/tree/updater_prune.cc:74: tree pruning end, 1 roots, 254 extra nodes, 0 pruned nodes, max_depth=7\n",
      "[21:35:00] /workspace/src/tree/updater_prune.cc:74: tree pruning end, 1 roots, 254 extra nodes, 0 pruned nodes, max_depth=7\n",
      "[21:35:16] /workspace/src/tree/updater_prune.cc:74: tree pruning end, 1 roots, 250 extra nodes, 0 pruned nodes, max_depth=7\n",
      "[21:35:34] /workspace/src/tree/updater_prune.cc:74: tree pruning end, 1 roots, 250 extra nodes, 0 pruned nodes, max_depth=7\n",
      "[21:35:50] /workspace/src/tree/updater_prune.cc:74: tree pruning end, 1 roots, 252 extra nodes, 0 pruned nodes, max_depth=7\n",
      "[21:36:09] /workspace/src/tree/updater_prune.cc:74: tree pruning end, 1 roots, 254 extra nodes, 0 pruned nodes, max_depth=7\n",
      "[21:36:26] /workspace/src/tree/updater_prune.cc:74: tree pruning end, 1 roots, 254 extra nodes, 0 pruned nodes, max_depth=7\n",
      "[21:36:42] /workspace/src/tree/updater_prune.cc:74: tree pruning end, 1 roots, 254 extra nodes, 0 pruned nodes, max_depth=7\n",
      "[21:36:58] /workspace/src/tree/updater_prune.cc:74: tree pruning end, 1 roots, 250 extra nodes, 0 pruned nodes, max_depth=7\n",
      "[21:37:14] /workspace/src/tree/updater_prune.cc:74: tree pruning end, 1 roots, 254 extra nodes, 0 pruned nodes, max_depth=7\n",
      "[21:37:31] /workspace/src/tree/updater_prune.cc:74: tree pruning end, 1 roots, 250 extra nodes, 0 pruned nodes, max_depth=7\n",
      "[21:37:50] /workspace/src/tree/updater_prune.cc:74: tree pruning end, 1 roots, 254 extra nodes, 0 pruned nodes, max_depth=7\n",
      "[21:38:06] /workspace/src/tree/updater_prune.cc:74: tree pruning end, 1 roots, 254 extra nodes, 0 pruned nodes, max_depth=7\n",
      "[21:38:24] /workspace/src/tree/updater_prune.cc:74: tree pruning end, 1 roots, 248 extra nodes, 0 pruned nodes, max_depth=7\n",
      "[21:38:40] /workspace/src/tree/updater_prune.cc:74: tree pruning end, 1 roots, 252 extra nodes, 0 pruned nodes, max_depth=7\n",
      "[21:38:55] /workspace/src/tree/updater_prune.cc:74: tree pruning end, 1 roots, 254 extra nodes, 0 pruned nodes, max_depth=7\n",
      "[21:39:13] /workspace/src/tree/updater_prune.cc:74: tree pruning end, 1 roots, 254 extra nodes, 0 pruned nodes, max_depth=7\n",
      "[21:39:28] /workspace/src/tree/updater_prune.cc:74: tree pruning end, 1 roots, 254 extra nodes, 0 pruned nodes, max_depth=7\n",
      "[21:39:44] /workspace/src/tree/updater_prune.cc:74: tree pruning end, 1 roots, 254 extra nodes, 0 pruned nodes, max_depth=7\n",
      "[21:40:00] /workspace/src/tree/updater_prune.cc:74: tree pruning end, 1 roots, 254 extra nodes, 0 pruned nodes, max_depth=7\n"
     ]
    },
    {
     "data": {
      "text/plain": [
       "XGBClassifier(base_score=0.5, booster='gbtree', colsample_bylevel=1,\n",
       "       colsample_bytree=0.5, gamma=0, learning_rate=0.1, max_delta_step=0,\n",
       "       max_depth=7, min_child_weight=1, missing=None, n_estimators=50,\n",
       "       n_jobs=-1, nthread=None, objective='binary:logistic',\n",
       "       random_state=0, reg_alpha=0, reg_lambda=1, scale_pos_weight=1,\n",
       "       seed=None, silent=False, subsample=1)"
      ]
     },
     "execution_count": 92,
     "metadata": {},
     "output_type": "execute_result"
    }
   ],
   "source": [
    "clf = xgb.XGBClassifier(n_jobs=-1, max_depth=7, n_estimators=50, silent=False, colsample_bytree=0.5)\n",
    "clf.fit(X_train, y_train)"
   ]
  },
  {
   "cell_type": "code",
   "execution_count": 93,
   "metadata": {},
   "outputs": [
    {
     "data": {
      "text/plain": [
       "<bound method ClassifierMixin.score of XGBClassifier(base_score=0.5, booster='gbtree', colsample_bylevel=1,\n",
       "       colsample_bytree=0.5, gamma=0, learning_rate=0.1, max_delta_step=0,\n",
       "       max_depth=7, min_child_weight=1, missing=None, n_estimators=50,\n",
       "       n_jobs=-1, nthread=None, objective='binary:logistic',\n",
       "       random_state=0, reg_alpha=0, reg_lambda=1, scale_pos_weight=1,\n",
       "       seed=None, silent=False, subsample=1)>"
      ]
     },
     "execution_count": 93,
     "metadata": {},
     "output_type": "execute_result"
    }
   ],
   "source": [
    "clf.score"
   ]
  },
  {
   "cell_type": "code",
   "execution_count": 101,
   "metadata": {},
   "outputs": [
    {
     "data": {
      "text/plain": [
       "138"
      ]
     },
     "execution_count": 101,
     "metadata": {},
     "output_type": "execute_result"
    }
   ],
   "source": [
    "import gc\n",
    "gc.collect()"
   ]
  },
  {
   "cell_type": "code",
   "execution_count": 3,
   "metadata": {},
   "outputs": [],
   "source": [
    "from sklearn.metrics import accuracy_score"
   ]
  },
  {
   "cell_type": "code",
   "execution_count": 98,
   "metadata": {},
   "outputs": [
    {
     "name": "stdout",
     "output_type": "stream",
     "text": [
      "0.6282233282911982\n"
     ]
    },
    {
     "name": "stderr",
     "output_type": "stream",
     "text": [
      "/home/pratikv/anaconda3/lib/python3.6/site-packages/sklearn/preprocessing/label.py:151: DeprecationWarning: The truth value of an empty array is ambiguous. Returning False, but in future this will result in an error. Use `array.size > 0` to check that an array is not empty.\n",
      "  if diff:\n"
     ]
    }
   ],
   "source": [
    "print (accuracy_score(y_true=y_test, y_pred=clf.predict(X_test)))"
   ]
  },
  {
   "cell_type": "code",
   "execution_count": 100,
   "metadata": {},
   "outputs": [
    {
     "name": "stdout",
     "output_type": "stream",
     "text": [
      "0.604430764609255\n"
     ]
    },
    {
     "name": "stderr",
     "output_type": "stream",
     "text": [
      "[Parallel(n_jobs=4)]: Done  10 out of  10 | elapsed:    0.6s finished\n"
     ]
    }
   ],
   "source": [
    "print (accuracy_score(y_true=y_test, y_pred=m.predict(X_test)))"
   ]
  },
  {
   "cell_type": "markdown",
   "metadata": {},
   "source": [
    "#### Preparing the test Set by doing the same transformations."
   ]
  },
  {
   "cell_type": "code",
   "execution_count": 5,
   "metadata": {},
   "outputs": [],
   "source": [
    "dtypes = {\n",
    "        'ProductName':                                          'category',\n",
    "        'EngineVersion':                                        'category',\n",
    "        'AppVersion':                                           'category',\n",
    "        'AvSigVersion':                                         'category',\n",
    "        'IsBeta':                                               'int8',\n",
    "        'RtpStateBitfield':                                     'float16',\n",
    "        'IsSxsPassiveMode':                                     'int8',\n",
    "        'DefaultBrowsersIdentifier':                            'float16',\n",
    "        'AVProductStatesIdentifier':                            'float32',\n",
    "        'AVProductsInstalled':                                  'float16',\n",
    "        'AVProductsEnabled':                                    'float16',\n",
    "        'HasTpm':                                               'int8',\n",
    "        'CountryIdentifier':                                    'int16',\n",
    "        'CityIdentifier':                                       'float32',\n",
    "        'OrganizationIdentifier':                               'float16',\n",
    "        'GeoNameIdentifier':                                    'float16',\n",
    "        'LocaleEnglishNameIdentifier':                          'int8',\n",
    "        'Platform':                                             'category',\n",
    "        'Processor':                                            'category',\n",
    "        'OsVer':                                                'category',\n",
    "        'OsBuild':                                              'int16',\n",
    "        'OsSuite':                                              'int16',\n",
    "        'OsPlatformSubRelease':                                 'category',\n",
    "        'OsBuildLab':                                           'category',\n",
    "        'SkuEdition':                                           'category',\n",
    "        'IsProtected':                                          'float16',\n",
    "        'AutoSampleOptIn':                                      'int8',\n",
    "        'PuaMode':                                              'category',\n",
    "        'SMode':                                                'float16',\n",
    "        'IeVerIdentifier':                                      'float16',\n",
    "        'SmartScreen':                                          'category',\n",
    "        'Firewall':                                             'float16',\n",
    "        'UacLuaenable':                                         'float32',\n",
    "        'Census_MDC2FormFactor':                                'category',\n",
    "        'Census_DeviceFamily':                                  'category',\n",
    "        'Census_OEMNameIdentifier':                             'float16',\n",
    "        'Census_OEMModelIdentifier':                            'float32',\n",
    "        'Census_ProcessorCoreCount':                            'float16',\n",
    "        'Census_ProcessorManufacturerIdentifier':               'float16',\n",
    "        'Census_ProcessorModelIdentifier':                      'float16',\n",
    "        'Census_ProcessorClass':                                'category',\n",
    "        'Census_PrimaryDiskTotalCapacity':                      'float32',\n",
    "        'Census_PrimaryDiskTypeName':                           'category',\n",
    "        'Census_SystemVolumeTotalCapacity':                     'float32',\n",
    "        'Census_HasOpticalDiskDrive':                           'int8',\n",
    "        'Census_TotalPhysicalRAM':                              'float32',\n",
    "        'Census_ChassisTypeName':                               'category',\n",
    "        'Census_InternalPrimaryDiagonalDisplaySizeInInches':    'float16',\n",
    "        'Census_InternalPrimaryDisplayResolutionHorizontal':    'float16',\n",
    "        'Census_InternalPrimaryDisplayResolutionVertical':      'float16',\n",
    "        'Census_PowerPlatformRoleName':                         'category',\n",
    "        'Census_InternalBatteryType':                           'category',\n",
    "        'Census_InternalBatteryNumberOfCharges':                'float32',\n",
    "        'Census_OSVersion':                                     'category',\n",
    "        'Census_OSArchitecture':                                'category',\n",
    "        'Census_OSBranch':                                      'category',\n",
    "        'Census_OSBuildNumber':                                 'int16',\n",
    "        'Census_OSBuildRevision':                               'int32',\n",
    "        'Census_OSEdition':                                     'category',\n",
    "        'Census_OSSkuName':                                     'category',\n",
    "        'Census_OSInstallTypeName':                             'category',\n",
    "        'Census_OSInstallLanguageIdentifier':                   'float16',\n",
    "        'Census_OSUILocaleIdentifier':                          'int16',\n",
    "        'Census_OSWUAutoUpdateOptionsName':                     'category',\n",
    "        'Census_IsPortableOperatingSystem':                     'int8',\n",
    "        'Census_GenuineStateName':                              'category',\n",
    "        'Census_ActivationChannel':                             'category',\n",
    "        'Census_IsFlightingInternal':                           'float16',\n",
    "        'Census_IsFlightsDisabled':                             'float16',\n",
    "        'Census_FlightRing':                                    'category',\n",
    "        'Census_ThresholdOptIn':                                'float16',\n",
    "        'Census_FirmwareManufacturerIdentifier':                'float16',\n",
    "        'Census_FirmwareVersionIdentifier':                     'float32',\n",
    "        'Census_IsSecureBootEnabled':                           'int8',\n",
    "        'Census_IsWIMBootEnabled':                              'float16',\n",
    "        'Census_IsVirtualDevice':                               'float16',\n",
    "        'Census_IsTouchEnabled':                                'int8',\n",
    "        'Census_IsPenCapable':                                  'int8',\n",
    "        'Census_IsAlwaysOnAlwaysConnectedCapable':              'float16',\n",
    "        'Wdft_IsGamer':                                         'float16',\n",
    "        'Wdft_RegionIdentifier':                                'float16',\n",
    "        }\n"
   ]
  },
  {
   "cell_type": "code",
   "execution_count": 8,
   "metadata": {},
   "outputs": [],
   "source": [
    "tmp = pd.read_csv('test.csv.zip', nrows=10)\n",
    "columns_all = tmp.columns.tolist()\n",
    "columns_all.remove('MachineIdentifier')"
   ]
  },
  {
   "cell_type": "code",
   "execution_count": 9,
   "metadata": {},
   "outputs": [],
   "source": [
    "test = pd.read_csv('test.csv.zip', usecols=columns_all, dtype=dtypes)"
   ]
  },
  {
   "cell_type": "code",
   "execution_count": 10,
   "metadata": {},
   "outputs": [],
   "source": [
    "test.drop(axis=1, columns=[\"Census_IsWIMBootEnabled\",\"Census_InternalBatteryType\",\"Census_IsFlightingInternal\",\"Census_ProcessorClass\",\"Census_ThresholdOptIn\",\"DefaultBrowsersIdentifier\",\"OrganizationIdentifier\",\"PuaMode\",\"SmartScreen\"], inplace=True)"
   ]
  },
  {
   "cell_type": "code",
   "execution_count": 11,
   "metadata": {},
   "outputs": [
    {
     "name": "stdout",
     "output_type": "stream",
     "text": [
      "(7853253, 72)\n"
     ]
    }
   ],
   "source": [
    "print (test.shape)"
   ]
  },
  {
   "cell_type": "code",
   "execution_count": 12,
   "metadata": {},
   "outputs": [],
   "source": [
    "test.Wdft_RegionIdentifier.fillna(-10, inplace=True)\n",
    "test.Wdft_IsGamer.fillna(2, inplace=True)\n",
    "\n",
    "test.UacLuaenable.fillna(-100, inplace=True)\n",
    "\n",
    "test.drop(columns=['SMode'], inplace=True, axis=1)\n",
    "\n",
    "test.RtpStateBitfield.fillna(-100, inplace=True)\n",
    "\n",
    "test[\"OsBuildLab\"] = test.OsBuildLab.cat.add_categories('missing').fillna('missing')\n",
    "\n",
    "test.IsProtected.fillna(2, inplace=True)\n",
    "\n",
    "test.IeVerIdentifier.fillna(-100, inplace=True)\n",
    "\n",
    "test.GeoNameIdentifier.fillna(-100, inplace=True)\n",
    "\n",
    "test.Firewall.fillna(2, inplace=True)\n",
    "\n",
    "test.Census_ProcessorCoreCount.fillna(4, inplace=True)\n",
    "\n",
    "test.Census_ProcessorManufacturerIdentifier.fillna(-100,inplace=True)\n",
    "\n",
    "test.Census_ProcessorModelIdentifier.fillna(-100,inplace=True)\n",
    "\n",
    "test.CityIdentifier.fillna(-100,inplace=True)\n",
    "\n",
    "test.Census_TotalPhysicalRAM.fillna(6115.266, inplace=True)\n",
    "\n",
    "test.Census_SystemVolumeTotalCapacity.fillna(377368.25, inplace=True)\n",
    "\n",
    "test[\"Census_PrimaryDiskTypeName\"] = test.Census_PrimaryDiskTypeName.str.replace('Unspecified', 'UNKNOWN')\n",
    "test.Census_PrimaryDiskTypeName.fillna(\"UNKNOWN\", inplace=True)\n",
    "\n",
    "test.Census_PrimaryDiskTotalCapacity.fillna(3089054.5, inplace=True)\n",
    "\n",
    "test[\"Census_PowerPlatformRoleName\"] = test.Census_PowerPlatformRoleName.str.replace('Unspecified', 'UNKNOWN')\n",
    "test.Census_PowerPlatformRoleName.fillna(\"UNKNOWN\", inplace=True)\n",
    "\n",
    "test.Census_OSInstallLanguageIdentifier.fillna(-100,inplace=True)\n",
    "\n",
    "test.Census_OEMModelIdentifier.fillna(-100,inplace=True)\n",
    "\n",
    "test.Census_OEMNameIdentifier.fillna(-100,inplace=True)\n",
    "\n",
    "test.Census_IsVirtualDevice.fillna(2, inplace=True)\n",
    "\n",
    "test.Census_IsFlightsDisabled.fillna(2, inplace=True)\n",
    "test.Census_IsAlwaysOnAlwaysConnectedCapable.fillna(2, inplace=True)\n",
    "\n",
    "test.Census_FirmwareVersionIdentifier.fillna(-100,inplace=True)\n",
    "test.Census_FirmwareManufacturerIdentifier.fillna(-100,inplace=True)\n",
    "test.AVProductStatesIdentifier.fillna(-100,inplace=True)\n",
    "\n",
    "test.AVProductsInstalled.fillna(-2, inplace=True)\n",
    "test.AVProductsEnabled.fillna(-2, inplace=True) \n",
    "\n",
    "test.Census_InternalBatteryNumberOfCharges.fillna(0.0, inplace=True)\n",
    "\n",
    "test.Census_InternalPrimaryDisplayResolutionVertical.fillna(897.5707, inplace=True)\n",
    "test.Census_InternalPrimaryDiagonalDisplaySizeInInches.fillna(16.6760, inplace=True)\n",
    "test.Census_InternalPrimaryDisplayResolutionHorizontal.fillna(1547.716, inplace=True)\n",
    "\n",
    "import re\n",
    "exp = re.compile('[0-9]+')\n",
    "\n",
    "test[\"Census_ChassisTypeName\"] = test.Census_ChassisTypeName.str.replace(exp, 'Unknown')\n",
    "test[\"Census_ChassisTypeName\"] = test.Census_ChassisTypeName.str.replace('Other', 'Unknown')\n",
    "test[\"Census_ChassisTypeName\"] = test.Census_ChassisTypeName.str.replace('UNKNOWN', 'Unknown')\n",
    "test.Census_ChassisTypeName.fillna('Unknown', inplace=True)\n",
    "\n",
    "test.CityIdentifier.fillna(-100,inplace=True)"
   ]
  },
  {
   "cell_type": "code",
   "execution_count": 13,
   "metadata": {},
   "outputs": [
    {
     "data": {
      "text/plain": [
       "(7853253, 71)"
      ]
     },
     "execution_count": 13,
     "metadata": {},
     "output_type": "execute_result"
    }
   ],
   "source": [
    "test.shape"
   ]
  },
  {
   "cell_type": "code",
   "execution_count": 14,
   "metadata": {},
   "outputs": [
    {
     "name": "stdout",
     "output_type": "stream",
     "text": [
      "['ProductName', 'EngineVersion', 'AppVersion', 'AvSigVersion', 'Platform', 'Processor', 'OsVer', 'OsPlatformSubRelease', 'OsBuildLab', 'SkuEdition', 'Census_MDC2FormFactor', 'Census_DeviceFamily', 'Census_PrimaryDiskTypeName', 'Census_ChassisTypeName', 'Census_PowerPlatformRoleName', 'Census_OSVersion', 'Census_OSArchitecture', 'Census_OSBranch', 'Census_OSEdition', 'Census_OSSkuName', 'Census_OSInstallTypeName', 'Census_OSWUAutoUpdateOptionsName', 'Census_GenuineStateName', 'Census_ActivationChannel', 'Census_FlightRing']\n"
     ]
    }
   ],
   "source": [
    "cat_vars_test = list(test.select_dtypes(include=['object', 'category']).columns)\n",
    "print (cat_vars_test)"
   ]
  },
  {
   "cell_type": "code",
   "execution_count": 16,
   "metadata": {},
   "outputs": [],
   "source": [
    "from sklearn.preprocessing import LabelEncoder\n",
    "for a in cat_vars_test:\n",
    "    le = LabelEncoder()\n",
    "    test[a] = le.fit_transform(test[a].astype(str))"
   ]
  },
  {
   "cell_type": "code",
   "execution_count": 17,
   "metadata": {},
   "outputs": [
    {
     "ename": "NameError",
     "evalue": "name 'display_all' is not defined",
     "output_type": "error",
     "traceback": [
      "\u001b[0;31m---------------------------------------------------------------------------\u001b[0m",
      "\u001b[0;31mNameError\u001b[0m                                 Traceback (most recent call last)",
      "\u001b[0;32m<ipython-input-17-5774ef17d816>\u001b[0m in \u001b[0;36m<module>\u001b[0;34m()\u001b[0m\n\u001b[0;32m----> 1\u001b[0;31m \u001b[0mdisplay_all\u001b[0m\u001b[0;34m(\u001b[0m\u001b[0mtest\u001b[0m\u001b[0;34m.\u001b[0m\u001b[0mdtypes\u001b[0m\u001b[0;34m)\u001b[0m\u001b[0;34m\u001b[0m\u001b[0m\n\u001b[0m",
      "\u001b[0;31mNameError\u001b[0m: name 'display_all' is not defined"
     ]
    }
   ],
   "source": [
    "display_all(test.dtypes)"
   ]
  },
  {
   "cell_type": "code",
   "execution_count": null,
   "metadata": {},
   "outputs": [],
   "source": [
    "gc.collect()"
   ]
  },
  {
   "cell_type": "code",
   "execution_count": 128,
   "metadata": {},
   "outputs": [
    {
     "ename": "MemoryError",
     "evalue": "",
     "output_type": "error",
     "traceback": [
      "\u001b[0;31m---------------------------------------------------------------------------\u001b[0m",
      "\u001b[0;31mMemoryError\u001b[0m                               Traceback (most recent call last)",
      "\u001b[0;32m<ipython-input-128-5403427851a4>\u001b[0m in \u001b[0;36m<module>\u001b[0;34m()\u001b[0m\n\u001b[0;32m----> 1\u001b[0;31m \u001b[0mpreds\u001b[0m \u001b[0;34m=\u001b[0m \u001b[0mclf\u001b[0m\u001b[0;34m.\u001b[0m\u001b[0mpredict\u001b[0m\u001b[0;34m(\u001b[0m\u001b[0mtest\u001b[0m\u001b[0;34m)\u001b[0m\u001b[0;34m\u001b[0m\u001b[0m\n\u001b[0m",
      "\u001b[0;32m~/anaconda3/lib/python3.6/site-packages/xgboost/sklearn.py\u001b[0m in \u001b[0;36mpredict\u001b[0;34m(self, data, output_margin, ntree_limit, validate_features)\u001b[0m\n\u001b[1;32m    751\u001b[0m         \u001b[0mprediction\u001b[0m \u001b[0;34m:\u001b[0m \u001b[0mnumpy\u001b[0m \u001b[0marray\u001b[0m\u001b[0;34m\u001b[0m\u001b[0m\n\u001b[1;32m    752\u001b[0m         \"\"\"\n\u001b[0;32m--> 753\u001b[0;31m         \u001b[0mtest_dmatrix\u001b[0m \u001b[0;34m=\u001b[0m \u001b[0mDMatrix\u001b[0m\u001b[0;34m(\u001b[0m\u001b[0mdata\u001b[0m\u001b[0;34m,\u001b[0m \u001b[0mmissing\u001b[0m\u001b[0;34m=\u001b[0m\u001b[0mself\u001b[0m\u001b[0;34m.\u001b[0m\u001b[0mmissing\u001b[0m\u001b[0;34m,\u001b[0m \u001b[0mnthread\u001b[0m\u001b[0;34m=\u001b[0m\u001b[0mself\u001b[0m\u001b[0;34m.\u001b[0m\u001b[0mn_jobs\u001b[0m\u001b[0;34m)\u001b[0m\u001b[0;34m\u001b[0m\u001b[0m\n\u001b[0m\u001b[1;32m    754\u001b[0m         \u001b[0;32mif\u001b[0m \u001b[0mntree_limit\u001b[0m \u001b[0;32mis\u001b[0m \u001b[0;32mNone\u001b[0m\u001b[0;34m:\u001b[0m\u001b[0;34m\u001b[0m\u001b[0m\n\u001b[1;32m    755\u001b[0m             \u001b[0mntree_limit\u001b[0m \u001b[0;34m=\u001b[0m \u001b[0mgetattr\u001b[0m\u001b[0;34m(\u001b[0m\u001b[0mself\u001b[0m\u001b[0;34m,\u001b[0m \u001b[0;34m\"best_ntree_limit\"\u001b[0m\u001b[0;34m,\u001b[0m \u001b[0;36m0\u001b[0m\u001b[0;34m)\u001b[0m\u001b[0;34m\u001b[0m\u001b[0m\n",
      "\u001b[0;32m~/anaconda3/lib/python3.6/site-packages/xgboost/core.py\u001b[0m in \u001b[0;36m__init__\u001b[0;34m(self, data, label, missing, weight, silent, feature_names, feature_types, nthread)\u001b[0m\n\u001b[1;32m    380\u001b[0m             \u001b[0mself\u001b[0m\u001b[0;34m.\u001b[0m\u001b[0m_init_from_csc\u001b[0m\u001b[0;34m(\u001b[0m\u001b[0mdata\u001b[0m\u001b[0;34m)\u001b[0m\u001b[0;34m\u001b[0m\u001b[0m\n\u001b[1;32m    381\u001b[0m         \u001b[0;32melif\u001b[0m \u001b[0misinstance\u001b[0m\u001b[0;34m(\u001b[0m\u001b[0mdata\u001b[0m\u001b[0;34m,\u001b[0m \u001b[0mnp\u001b[0m\u001b[0;34m.\u001b[0m\u001b[0mndarray\u001b[0m\u001b[0;34m)\u001b[0m\u001b[0;34m:\u001b[0m\u001b[0;34m\u001b[0m\u001b[0m\n\u001b[0;32m--> 382\u001b[0;31m             \u001b[0mself\u001b[0m\u001b[0;34m.\u001b[0m\u001b[0m_init_from_npy2d\u001b[0m\u001b[0;34m(\u001b[0m\u001b[0mdata\u001b[0m\u001b[0;34m,\u001b[0m \u001b[0mmissing\u001b[0m\u001b[0;34m,\u001b[0m \u001b[0mnthread\u001b[0m\u001b[0;34m)\u001b[0m\u001b[0;34m\u001b[0m\u001b[0m\n\u001b[0m\u001b[1;32m    383\u001b[0m         \u001b[0;32melif\u001b[0m \u001b[0misinstance\u001b[0m\u001b[0;34m(\u001b[0m\u001b[0mdata\u001b[0m\u001b[0;34m,\u001b[0m \u001b[0mDataTable\u001b[0m\u001b[0;34m)\u001b[0m\u001b[0;34m:\u001b[0m\u001b[0;34m\u001b[0m\u001b[0m\n\u001b[1;32m    384\u001b[0m             \u001b[0mself\u001b[0m\u001b[0;34m.\u001b[0m\u001b[0m_init_from_dt\u001b[0m\u001b[0;34m(\u001b[0m\u001b[0mdata\u001b[0m\u001b[0;34m,\u001b[0m \u001b[0mnthread\u001b[0m\u001b[0;34m)\u001b[0m\u001b[0;34m\u001b[0m\u001b[0m\n",
      "\u001b[0;32m~/anaconda3/lib/python3.6/site-packages/xgboost/core.py\u001b[0m in \u001b[0;36m_init_from_npy2d\u001b[0;34m(self, mat, missing, nthread)\u001b[0m\n\u001b[1;32m    452\u001b[0m         \u001b[0;31m# we try to avoid data copies if possible (reshape returns a view when possible\u001b[0m\u001b[0;34m\u001b[0m\u001b[0;34m\u001b[0m\u001b[0m\n\u001b[1;32m    453\u001b[0m         \u001b[0;31m# and we explicitly tell np.array to try and avoid copying)\u001b[0m\u001b[0;34m\u001b[0m\u001b[0;34m\u001b[0m\u001b[0m\n\u001b[0;32m--> 454\u001b[0;31m         \u001b[0mdata\u001b[0m \u001b[0;34m=\u001b[0m \u001b[0mnp\u001b[0m\u001b[0;34m.\u001b[0m\u001b[0marray\u001b[0m\u001b[0;34m(\u001b[0m\u001b[0mmat\u001b[0m\u001b[0;34m.\u001b[0m\u001b[0mreshape\u001b[0m\u001b[0;34m(\u001b[0m\u001b[0mmat\u001b[0m\u001b[0;34m.\u001b[0m\u001b[0msize\u001b[0m\u001b[0;34m)\u001b[0m\u001b[0;34m,\u001b[0m \u001b[0mcopy\u001b[0m\u001b[0;34m=\u001b[0m\u001b[0;32mFalse\u001b[0m\u001b[0;34m,\u001b[0m \u001b[0mdtype\u001b[0m\u001b[0;34m=\u001b[0m\u001b[0mnp\u001b[0m\u001b[0;34m.\u001b[0m\u001b[0mfloat32\u001b[0m\u001b[0;34m)\u001b[0m\u001b[0;34m\u001b[0m\u001b[0m\n\u001b[0m\u001b[1;32m    455\u001b[0m         \u001b[0mself\u001b[0m\u001b[0;34m.\u001b[0m\u001b[0mhandle\u001b[0m \u001b[0;34m=\u001b[0m \u001b[0mctypes\u001b[0m\u001b[0;34m.\u001b[0m\u001b[0mc_void_p\u001b[0m\u001b[0;34m(\u001b[0m\u001b[0;34m)\u001b[0m\u001b[0;34m\u001b[0m\u001b[0m\n\u001b[1;32m    456\u001b[0m         \u001b[0mmissing\u001b[0m \u001b[0;34m=\u001b[0m \u001b[0mmissing\u001b[0m \u001b[0;32mif\u001b[0m \u001b[0mmissing\u001b[0m \u001b[0;32mis\u001b[0m \u001b[0;32mnot\u001b[0m \u001b[0;32mNone\u001b[0m \u001b[0;32melse\u001b[0m \u001b[0mnp\u001b[0m\u001b[0;34m.\u001b[0m\u001b[0mnan\u001b[0m\u001b[0;34m\u001b[0m\u001b[0m\n",
      "\u001b[0;31mMemoryError\u001b[0m: "
     ]
    }
   ],
   "source": [
    "preds = clf.predict(test)"
   ]
  },
  {
   "cell_type": "code",
   "execution_count": 126,
   "metadata": {},
   "outputs": [],
   "source": [
    "del y_train, y_test"
   ]
  },
  {
   "cell_type": "code",
   "execution_count": 136,
   "metadata": {},
   "outputs": [
    {
     "data": {
      "text/plain": [
       "189"
      ]
     },
     "execution_count": 136,
     "metadata": {},
     "output_type": "execute_result"
    }
   ],
   "source": [
    "gc.collect()"
   ]
  },
  {
   "cell_type": "code",
   "execution_count": 134,
   "metadata": {},
   "outputs": [
    {
     "name": "stdout",
     "output_type": "stream",
     "text": [
      "Variable                 Type             Data/Info\n",
      "---------------------------------------------------\n",
      "LabelEncoder             type             <class 'sklearn.preproces<...>sing.label.LabelEncoder'>\n",
      "RandomForestClassifier   ABCMeta          <class 'sklearn.ensemble.<...>.RandomForestClassifier'>\n",
      "a                        str              Census_FlightRing\n",
      "accuracy_score           function         <function accuracy_score at 0x7f93d4163268>\n",
      "cat_vars                 list             n=2\n",
      "cat_vars_test            list             n=25\n",
      "clf                      XGBClassifier    XGBClassifier(base_score=<...>ilent=False, subsample=1)\n",
      "columns                  list             n=82\n",
      "columns_all              list             n=81\n",
      "display_all              function         <function display_all at 0x7f93b91ed598>\n",
      "dtypes                   dict             n=81\n",
      "exp                      SRE_Pattern      re.compile('[0-9]+')\n",
      "gc                       module           <module 'gc' (built-in)>\n",
      "le                       LabelEncoder     LabelEncoder()\n",
      "meta_data                DataFrame                                 <...>\\n\\n[73 rows x 2 columns]\n",
      "np                       module           <module 'numpy' from '/ho<...>kages/numpy/__init__.py'>\n",
      "null_cols                Series           AVProductStatesIdentifier<...>ength: 73, dtype: float64\n",
      "pd                       module           <module 'pandas' from '/h<...>ages/pandas/__init__.py'>\n",
      "plt                      module           <module 'matplotlib.pyplo<...>es/matplotlib/pyplot.py'>\n",
      "re                       module           <module 're' from '/home/<...>da3/lib/python3.6/re.py'>\n",
      "temp                     DataFrame                          Machine<...>\\n\\n[2 rows x 83 columns]\n",
      "test                     DataFrame                 ProductName  Eng<...>853253 rows x 71 columns]\n",
      "tmp                      DataFrame                          Machine<...>n\\n[10 rows x 82 columns]\n",
      "train_test_split         function         <function train_test_split at 0x7f93c8017378>\n",
      "xgb                      module           <module 'xgboost' from '/<...>ges/xgboost/__init__.py'>\n"
     ]
    }
   ],
   "source": [
    "%whos"
   ]
  },
  {
   "cell_type": "code",
   "execution_count": 135,
   "metadata": {},
   "outputs": [],
   "source": [
    "del temp, tmp, meta_data"
   ]
  },
  {
   "cell_type": "code",
   "execution_count": 138,
   "metadata": {},
   "outputs": [
    {
     "name": "stdout",
     "output_type": "stream",
     "text": [
      "Collecting joblib\n",
      "\u001b[?25l  Downloading https://files.pythonhosted.org/packages/49/d9/4ea194a4c1d0148f9446054b9135f47218c23ccc6f649aeb09fab4c0925c/joblib-0.13.1-py2.py3-none-any.whl (278kB)\n",
      "\u001b[K    100% |████████████████████████████████| 286kB 816kB/s ta 0:00:011\n",
      "\u001b[?25hInstalling collected packages: joblib\n",
      "Successfully installed joblib-0.13.1\n",
      "\u001b[33mYou are using pip version 10.0.1, however version 19.0.1 is available.\n",
      "You should consider upgrading via the 'pip install --upgrade pip' command.\u001b[0m\n"
     ]
    }
   ],
   "source": [
    "!pip install joblib"
   ]
  },
  {
   "cell_type": "code",
   "execution_count": 18,
   "metadata": {},
   "outputs": [],
   "source": [
    "import joblib"
   ]
  },
  {
   "cell_type": "code",
   "execution_count": 140,
   "metadata": {},
   "outputs": [],
   "source": [
    "joblib.dump(clf, 'xgb_model.dat')\n",
    "del clf"
   ]
  },
  {
   "cell_type": "code",
   "execution_count": 19,
   "metadata": {},
   "outputs": [],
   "source": [
    "#load saved model\n",
    "clf1 = joblib.load('xgb_model.dat')"
   ]
  },
  {
   "cell_type": "code",
   "execution_count": 20,
   "metadata": {},
   "outputs": [
    {
     "name": "stderr",
     "output_type": "stream",
     "text": [
      "/home/pratikv/anaconda3/lib/python3.6/site-packages/sklearn/preprocessing/label.py:151: DeprecationWarning: The truth value of an empty array is ambiguous. Returning False, but in future this will result in an error. Use `array.size > 0` to check that an array is not empty.\n",
      "  if diff:\n"
     ]
    }
   ],
   "source": [
    "preds = clf1.predict(test)"
   ]
  },
  {
   "cell_type": "code",
   "execution_count": 21,
   "metadata": {},
   "outputs": [
    {
     "data": {
      "text/plain": [
       "array([1, 1, 0, ..., 0, 1, 0], dtype=int8)"
      ]
     },
     "execution_count": 21,
     "metadata": {},
     "output_type": "execute_result"
    }
   ],
   "source": [
    "preds"
   ]
  },
  {
   "cell_type": "code",
   "execution_count": 23,
   "metadata": {},
   "outputs": [],
   "source": [
    "mc = pd.read_csv('test.csv.zip', usecols=['MachineIdentifier'])"
   ]
  },
  {
   "cell_type": "code",
   "execution_count": 25,
   "metadata": {},
   "outputs": [],
   "source": [
    "mc[\"HasDetections\"] = preds"
   ]
  },
  {
   "cell_type": "code",
   "execution_count": 30,
   "metadata": {},
   "outputs": [],
   "source": [
    "mc.to_csv('submission1.csv', compression='gzip',index=False)"
   ]
  },
  {
   "cell_type": "code",
   "execution_count": 29,
   "metadata": {},
   "outputs": [
    {
     "data": {
      "text/plain": [
       "(7853253, 2)"
      ]
     },
     "execution_count": 29,
     "metadata": {},
     "output_type": "execute_result"
    }
   ],
   "source": [
    "mc.shape"
   ]
  },
  {
   "cell_type": "code",
   "execution_count": 31,
   "metadata": {},
   "outputs": [],
   "source": [
    "test.to_csv('test_processed.csv', compression='gzip',index=False)"
   ]
  },
  {
   "cell_type": "code",
   "execution_count": 32,
   "metadata": {},
   "outputs": [
    {
     "data": {
      "text/plain": [
       "ProductName                                            int64\n",
       "EngineVersion                                          int64\n",
       "AppVersion                                             int64\n",
       "AvSigVersion                                           int64\n",
       "IsBeta                                                  int8\n",
       "RtpStateBitfield                                     float16\n",
       "IsSxsPassiveMode                                        int8\n",
       "AVProductStatesIdentifier                            float32\n",
       "AVProductsInstalled                                  float16\n",
       "AVProductsEnabled                                    float16\n",
       "HasTpm                                                  int8\n",
       "CountryIdentifier                                      int16\n",
       "CityIdentifier                                       float32\n",
       "GeoNameIdentifier                                    float16\n",
       "LocaleEnglishNameIdentifier                             int8\n",
       "Platform                                               int64\n",
       "Processor                                              int64\n",
       "OsVer                                                  int64\n",
       "OsBuild                                                int16\n",
       "OsSuite                                                int16\n",
       "OsPlatformSubRelease                                   int64\n",
       "OsBuildLab                                             int64\n",
       "SkuEdition                                             int64\n",
       "IsProtected                                          float16\n",
       "AutoSampleOptIn                                         int8\n",
       "IeVerIdentifier                                      float16\n",
       "Firewall                                             float16\n",
       "UacLuaenable                                         float32\n",
       "Census_MDC2FormFactor                                  int64\n",
       "Census_DeviceFamily                                    int64\n",
       "                                                      ...   \n",
       "Census_InternalPrimaryDiagonalDisplaySizeInInches    float16\n",
       "Census_InternalPrimaryDisplayResolutionHorizontal    float16\n",
       "Census_InternalPrimaryDisplayResolutionVertical      float16\n",
       "Census_PowerPlatformRoleName                           int64\n",
       "Census_InternalBatteryNumberOfCharges                float32\n",
       "Census_OSVersion                                       int64\n",
       "Census_OSArchitecture                                  int64\n",
       "Census_OSBranch                                        int64\n",
       "Census_OSBuildNumber                                   int16\n",
       "Census_OSBuildRevision                                 int32\n",
       "Census_OSEdition                                       int64\n",
       "Census_OSSkuName                                       int64\n",
       "Census_OSInstallTypeName                               int64\n",
       "Census_OSInstallLanguageIdentifier                   float16\n",
       "Census_OSUILocaleIdentifier                            int16\n",
       "Census_OSWUAutoUpdateOptionsName                       int64\n",
       "Census_IsPortableOperatingSystem                        int8\n",
       "Census_GenuineStateName                                int64\n",
       "Census_ActivationChannel                               int64\n",
       "Census_IsFlightsDisabled                             float16\n",
       "Census_FlightRing                                      int64\n",
       "Census_FirmwareManufacturerIdentifier                float16\n",
       "Census_FirmwareVersionIdentifier                     float32\n",
       "Census_IsSecureBootEnabled                              int8\n",
       "Census_IsVirtualDevice                               float16\n",
       "Census_IsTouchEnabled                                   int8\n",
       "Census_IsPenCapable                                     int8\n",
       "Census_IsAlwaysOnAlwaysConnectedCapable              float16\n",
       "Wdft_IsGamer                                         float16\n",
       "Wdft_RegionIdentifier                                float16\n",
       "Length: 71, dtype: object"
      ]
     },
     "execution_count": 32,
     "metadata": {},
     "output_type": "execute_result"
    }
   ],
   "source": [
    "test.dtypes"
   ]
  },
  {
   "cell_type": "code",
   "execution_count": null,
   "metadata": {},
   "outputs": [],
   "source": []
  }
 ],
 "metadata": {
  "kernelspec": {
   "display_name": "Python 3",
   "language": "python",
   "name": "python3"
  },
  "language_info": {
   "codemirror_mode": {
    "name": "ipython",
    "version": 3
   },
   "file_extension": ".py",
   "mimetype": "text/x-python",
   "name": "python",
   "nbconvert_exporter": "python",
   "pygments_lexer": "ipython3",
   "version": "3.6.5"
  }
 },
 "nbformat": 4,
 "nbformat_minor": 2
}
