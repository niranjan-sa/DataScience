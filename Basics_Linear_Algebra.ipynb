{
  "nbformat": 4,
  "nbformat_minor": 0,
  "metadata": {
    "colab": {
      "name": "Basics Linear Algebra.ipynb",
      "version": "0.3.2",
      "provenance": [],
      "include_colab_link": true
    },
    "kernelspec": {
      "name": "python3",
      "display_name": "Python 3"
    }
  },
  "cells": [
    {
      "cell_type": "markdown",
      "metadata": {
        "id": "view-in-github",
        "colab_type": "text"
      },
      "source": [
        "<a href=\"https://colab.research.google.com/github/niranjan-sa/DataScience/blob/master/Basics_Linear_Algebra.ipynb\" target=\"_parent\"><img src=\"https://colab.research.google.com/assets/colab-badge.svg\" alt=\"Open In Colab\"/></a>"
      ]
    },
    {
      "cell_type": "markdown",
      "metadata": {
        "id": "0Qf5Ggac321m",
        "colab_type": "text"
      },
      "source": [
        "# Hi,\n",
        "I'll be trying to maintain the basics of the Linear Algebra at one place, here in this notebook.   \n",
        "Please feel free to add new concepts to this notebook."
      ]
    },
    {
      "cell_type": "markdown",
      "metadata": {
        "id": "Fv2X6oo24ijZ",
        "colab_type": "text"
      },
      "source": [
        "# Measures of Magnitude\n",
        "A list of most commonly used norms and their library function equivalents.   \n",
        "Norm ? - a way of measuring things. (esp. distance travelled by a vector when it goes from one end to another...)  \n",
        "Axioms of norms  \n",
        "\n",
        "1.   They are non-negative (i.e.) ||v|| >= 0\n",
        "2.   Distances multiply with scaler multiplication. (i.e.) if 'a' is a scaler and has to be multiplied to a vector 'v' then the norm would be |a| * ||v||. (even if a is negative, norm would be positive)\n",
        "3.   (Triangle inequality) Please follow the image below.\n",
        "\n",
        "      ![alt text](https://upload.wikimedia.org/wikipedia/commons/thumb/2/2c/Vector_triangle_inequality.PNG/220px-Vector_triangle_inequality.PNG)\n",
        "\n",
        "\n",
        "### Different Norms\n",
        "Consider following vectors for example.\n",
        "\n",
        "$\\vec V =\n",
        " \\begin{pmatrix}\n",
        "  a_{1}  \\\\\n",
        "  a_{2}  \\\\\n",
        "  a_{3} \n",
        " \\end{pmatrix}$\n",
        "\n",
        "1.   Euclidean Norm  \n",
        "     The Euclidean Norm or L-2 norm of the vector is nothing but the following.   \n",
        "    $ ||\\vec V|| = \\sqrt{a_1^2 + a_2^2+a_3^2}$\n",
        "      In numpy using the norm function using 'default' parameters gives L2 norms.\n",
        "\n",
        "\n",
        "\n",
        "\n",
        "\n",
        "\n",
        "\n",
        "\n"
      ]
    },
    {
      "cell_type": "code",
      "metadata": {
        "id": "u8xlcmj13m_3",
        "colab_type": "code",
        "colab": {}
      },
      "source": [
        "## Euclidean Norm\n",
        "import numpy as np\n",
        "\n",
        "V = np.array((1,2,3))"
      ],
      "execution_count": 0,
      "outputs": []
    },
    {
      "cell_type": "code",
      "metadata": {
        "id": "-zljqENCCj1o",
        "colab_type": "code",
        "colab": {
          "base_uri": "https://localhost:8080/",
          "height": 36
        },
        "outputId": "3a1ccfea-96fd-4be6-f640-4fc4695a5a39"
      },
      "source": [
        "V"
      ],
      "execution_count": 36,
      "outputs": [
        {
          "output_type": "execute_result",
          "data": {
            "text/plain": [
              "array([1, 2, 3])"
            ]
          },
          "metadata": {
            "tags": []
          },
          "execution_count": 36
        }
      ]
    },
    {
      "cell_type": "code",
      "metadata": {
        "id": "htdHVotgCljX",
        "colab_type": "code",
        "colab": {
          "base_uri": "https://localhost:8080/",
          "height": 36
        },
        "outputId": "9c81d643-487a-485a-d4a3-27ff3dad6079"
      },
      "source": [
        "np.linalg.norm(V)"
      ],
      "execution_count": 37,
      "outputs": [
        {
          "output_type": "execute_result",
          "data": {
            "text/plain": [
              "3.7416573867739413"
            ]
          },
          "metadata": {
            "tags": []
          },
          "execution_count": 37
        }
      ]
    },
    {
      "cell_type": "markdown",
      "metadata": {
        "id": "efFnT5o9FDh-",
        "colab_type": "text"
      },
      "source": [
        "Another interesting example (Two matrices same numbers but different shape)"
      ]
    },
    {
      "cell_type": "code",
      "metadata": {
        "id": "xz06-inwFC9P",
        "colab_type": "code",
        "colab": {}
      },
      "source": [
        "## Creating vectors.\n",
        "a = np.arange(9) - 2\n",
        "b = a.reshape((3,3))"
      ],
      "execution_count": 0,
      "outputs": []
    },
    {
      "cell_type": "code",
      "metadata": {
        "id": "30CRrYPqDIT3",
        "colab_type": "code",
        "colab": {
          "base_uri": "https://localhost:8080/",
          "height": 36
        },
        "outputId": "a5e9230c-0c85-412c-eabd-f2b02d258730"
      },
      "source": [
        "a"
      ],
      "execution_count": 39,
      "outputs": [
        {
          "output_type": "execute_result",
          "data": {
            "text/plain": [
              "array([-2, -1,  0,  1,  2,  3,  4,  5,  6])"
            ]
          },
          "metadata": {
            "tags": []
          },
          "execution_count": 39
        }
      ]
    },
    {
      "cell_type": "code",
      "metadata": {
        "id": "WRzXs_cvFTOG",
        "colab_type": "code",
        "colab": {
          "base_uri": "https://localhost:8080/",
          "height": 73
        },
        "outputId": "2a2546c9-acba-426b-c3ce-3bd911ad8269"
      },
      "source": [
        "b"
      ],
      "execution_count": 40,
      "outputs": [
        {
          "output_type": "execute_result",
          "data": {
            "text/plain": [
              "array([[-2, -1,  0],\n",
              "       [ 1,  2,  3],\n",
              "       [ 4,  5,  6]])"
            ]
          },
          "metadata": {
            "tags": []
          },
          "execution_count": 40
        }
      ]
    },
    {
      "cell_type": "code",
      "metadata": {
        "id": "yiGlL85oFT01",
        "colab_type": "code",
        "colab": {
          "base_uri": "https://localhost:8080/",
          "height": 54
        },
        "outputId": "db716bba-7987-408c-8102-841eb01b698b"
      },
      "source": [
        "## Printing 2-norm or euclidean norm (They are exactly the same. Even if the shapes of the matrices are different.)\n",
        "print (np.linalg.norm(a))\n",
        "print (np.linalg.norm(b))"
      ],
      "execution_count": 41,
      "outputs": [
        {
          "output_type": "stream",
          "text": [
            "9.797958971132712\n",
            "9.797958971132712\n"
          ],
          "name": "stdout"
        }
      ]
    },
    {
      "cell_type": "markdown",
      "metadata": {
        "id": "alFuMJBeFvsg",
        "colab_type": "text"
      },
      "source": [
        "2.   L1 Norm\n",
        "      $ ||\\vec V|| = \\sum_{i=0}^n |v_i|$ is also know as **Manhattan Norm or Taxi Cab Metric**    \n",
        "        So for our vectors a and b, the L-1 norm looks like this.\n",
        "\n"
      ]
    },
    {
      "cell_type": "code",
      "metadata": {
        "id": "Pgjwc24xFvWq",
        "colab_type": "code",
        "colab": {
          "base_uri": "https://localhost:8080/",
          "height": 54
        },
        "outputId": "1a408f37-03b6-4b47-c80e-349f9a42f692"
      },
      "source": [
        "print (a)\n",
        "np.linalg.norm(a, ord = 1)"
      ],
      "execution_count": 42,
      "outputs": [
        {
          "output_type": "stream",
          "text": [
            "[-2 -1  0  1  2  3  4  5  6]\n"
          ],
          "name": "stdout"
        },
        {
          "output_type": "execute_result",
          "data": {
            "text/plain": [
              "24.0"
            ]
          },
          "metadata": {
            "tags": []
          },
          "execution_count": 42
        }
      ]
    },
    {
      "cell_type": "markdown",
      "metadata": {
        "id": "DLay4VMVx-ci",
        "colab_type": "text"
      },
      "source": [
        "3.  $||V||_\\infty$ Norm is nothing but the approximately the max element in the given array.  \n",
        "  Therefore $||V||_\\infty = max_i |v_i|$  \n",
        "  "
      ]
    },
    {
      "cell_type": "code",
      "metadata": {
        "id": "-ln8rergvL7X",
        "colab_type": "code",
        "colab": {
          "base_uri": "https://localhost:8080/",
          "height": 36
        },
        "outputId": "915288a3-83db-445f-e4f4-e41dd680078b"
      },
      "source": [
        "print (a)"
      ],
      "execution_count": 43,
      "outputs": [
        {
          "output_type": "stream",
          "text": [
            "[-2 -1  0  1  2  3  4  5  6]\n"
          ],
          "name": "stdout"
        }
      ]
    },
    {
      "cell_type": "code",
      "metadata": {
        "id": "ZU95A5VqxYsu",
        "colab_type": "code",
        "colab": {
          "base_uri": "https://localhost:8080/",
          "height": 36
        },
        "outputId": "71509159-f859-4f30-dfce-15b435ad3b4e"
      },
      "source": [
        "np.linalg.norm(a, ord=np.Inf)"
      ],
      "execution_count": 44,
      "outputs": [
        {
          "output_type": "execute_result",
          "data": {
            "text/plain": [
              "6.0"
            ]
          },
          "metadata": {
            "tags": []
          },
          "execution_count": 44
        }
      ]
    },
    {
      "cell_type": "markdown",
      "metadata": {
        "id": "-2sDfC5703QS",
        "colab_type": "text"
      },
      "source": [
        "Acknowledgements - \n",
        "\n",
        "Numpy docs  \n",
        "Json Brown Lee"
      ]
    },
    {
      "cell_type": "code",
      "metadata": {
        "id": "fDQGQyDo0-m3",
        "colab_type": "code",
        "colab": {}
      },
      "source": [
        ""
      ],
      "execution_count": 0,
      "outputs": []
    }
  ]
}